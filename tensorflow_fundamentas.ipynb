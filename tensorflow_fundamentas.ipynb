{
  "nbformat": 4,
  "nbformat_minor": 0,
  "metadata": {
    "colab": {
      "provenance": [],
      "authorship_tag": "ABX9TyPr1C31dGVnb4R6HOqPwpNb",
      "include_colab_link": true
    },
    "kernelspec": {
      "name": "python3",
      "display_name": "Python 3"
    },
    "language_info": {
      "name": "python"
    }
  },
  "cells": [
    {
      "cell_type": "markdown",
      "metadata": {
        "id": "view-in-github",
        "colab_type": "text"
      },
      "source": [
        "<a href=\"https://colab.research.google.com/github/nika-va/practice/blob/main/tensorflow_fundamentas.ipynb\" target=\"_parent\"><img src=\"https://colab.research.google.com/assets/colab-badge.svg\" alt=\"Open In Colab\"/></a>"
      ]
    },
    {
      "cell_type": "markdown",
      "source": [
        "* Introduction to tensors (creating tensors)\n",
        "* Getting information from tensors (tensor attributes)\n",
        "* Manipulating tensors (tensor operations)\n",
        "* Tensors and NumPy\n",
        "* Using @tf.function (a way to speed up your regular Python functions)\n",
        "* Using GPUs with TensorFlow\n",
        "* Exercises to try"
      ],
      "metadata": {
        "id": "Q7CrS1Ad37KV"
      }
    },
    {
      "cell_type": "code",
      "execution_count": 1,
      "metadata": {
        "colab": {
          "base_uri": "https://localhost:8080/"
        },
        "id": "hD5D9PfW1RY7",
        "outputId": "530ed9ea-57f6-4932-feb1-49549b4c3458"
      },
      "outputs": [
        {
          "output_type": "stream",
          "name": "stdout",
          "text": [
            "2.12.0\n"
          ]
        }
      ],
      "source": [
        "import tensorflow as tf\n",
        "print(tf.__version__)"
      ]
    },
    {
      "cell_type": "code",
      "source": [
        "a = tf.constant([[2,5,20]], dtype=tf.float32)"
      ],
      "metadata": {
        "id": "ZDFExY7U4WCT"
      },
      "execution_count": 2,
      "outputs": []
    },
    {
      "cell_type": "code",
      "source": [
        "a.ndim"
      ],
      "metadata": {
        "colab": {
          "base_uri": "https://localhost:8080/"
        },
        "id": "_OuP9n9p4un7",
        "outputId": "5b8f54ee-5d33-4d77-a264-4171a4ad59d4"
      },
      "execution_count": 3,
      "outputs": [
        {
          "output_type": "execute_result",
          "data": {
            "text/plain": [
              "2"
            ]
          },
          "metadata": {},
          "execution_count": 3
        }
      ]
    },
    {
      "cell_type": "code",
      "source": [
        "a"
      ],
      "metadata": {
        "colab": {
          "base_uri": "https://localhost:8080/"
        },
        "id": "qo3daL4n5GW6",
        "outputId": "84cc4f05-300d-4333-f648-7b3db9dd0af7"
      },
      "execution_count": 4,
      "outputs": [
        {
          "output_type": "execute_result",
          "data": {
            "text/plain": [
              "<tf.Tensor: shape=(1, 3), dtype=float32, numpy=array([[ 2.,  5., 20.]], dtype=float32)>"
            ]
          },
          "metadata": {},
          "execution_count": 4
        }
      ]
    },
    {
      "cell_type": "code",
      "source": [
        "# scalar 0\n",
        "# vector 1\n",
        "# matrix 2\n",
        "# tensor n+"
      ],
      "metadata": {
        "id": "VSmQBNVh6O62"
      },
      "execution_count": 5,
      "outputs": []
    },
    {
      "cell_type": "code",
      "source": [
        "# tensors with tf.Variable\n",
        "changeable_tensor = tf.Variable([10,7])\n",
        "unchangeable_tensor = tf.constant([10,7])\n",
        "changeable_tensor, unchangeable_tensor"
      ],
      "metadata": {
        "id": "iTwzjVzQ7Y0e",
        "colab": {
          "base_uri": "https://localhost:8080/"
        },
        "outputId": "9937f831-02c2-44e8-f672-ea008e0899cd"
      },
      "execution_count": 6,
      "outputs": [
        {
          "output_type": "execute_result",
          "data": {
            "text/plain": [
              "(<tf.Variable 'Variable:0' shape=(2,) dtype=int32, numpy=array([10,  7], dtype=int32)>,\n",
              " <tf.Tensor: shape=(2,), dtype=int32, numpy=array([10,  7], dtype=int32)>)"
            ]
          },
          "metadata": {},
          "execution_count": 6
        }
      ]
    },
    {
      "cell_type": "code",
      "source": [
        "changeable_tensor[0].assign(2)"
      ],
      "metadata": {
        "colab": {
          "base_uri": "https://localhost:8080/"
        },
        "id": "H-INikGQNrUX",
        "outputId": "abac8504-bcc1-46ef-b555-f078ff6824b1"
      },
      "execution_count": 7,
      "outputs": [
        {
          "output_type": "execute_result",
          "data": {
            "text/plain": [
              "<tf.Variable 'UnreadVariable' shape=(2,) dtype=int32, numpy=array([2, 7], dtype=int32)>"
            ]
          },
          "metadata": {},
          "execution_count": 7
        }
      ]
    },
    {
      "cell_type": "code",
      "source": [],
      "metadata": {
        "id": "KivVqONzN0GI"
      },
      "execution_count": 7,
      "outputs": []
    },
    {
      "cell_type": "markdown",
      "source": [
        "### Random Tensors"
      ],
      "metadata": {
        "id": "ogtwhw6tOyg9"
      }
    },
    {
      "cell_type": "code",
      "source": [
        "random_2 = tf.random.Generator.from_seed(42)\n",
        "random_2 = random_2.normal([2,3])\n",
        "random_2"
      ],
      "metadata": {
        "colab": {
          "base_uri": "https://localhost:8080/"
        },
        "id": "reXtGCG4QsgY",
        "outputId": "37646545-579d-4ab6-b4b9-458de43cacd6"
      },
      "execution_count": 8,
      "outputs": [
        {
          "output_type": "execute_result",
          "data": {
            "text/plain": [
              "<tf.Tensor: shape=(2, 3), dtype=float32, numpy=\n",
              "array([[-0.7565803 , -0.06854702,  0.07595026],\n",
              "       [-1.2573844 , -0.23193763, -1.8107855 ]], dtype=float32)>"
            ]
          },
          "metadata": {},
          "execution_count": 8
        }
      ]
    },
    {
      "cell_type": "code",
      "source": [
        "not_shuffled = tf.random.Generator.from_seed(7).normal([3,2])\n",
        "not_shuffled\n"
      ],
      "metadata": {
        "colab": {
          "base_uri": "https://localhost:8080/"
        },
        "id": "6aMGOKl7Rf3f",
        "outputId": "28c2899b-b362-4a31-fb87-b285d5008076"
      },
      "execution_count": 9,
      "outputs": [
        {
          "output_type": "execute_result",
          "data": {
            "text/plain": [
              "<tf.Tensor: shape=(3, 2), dtype=float32, numpy=\n",
              "array([[-1.3240396 ,  0.28785667],\n",
              "       [-0.8757901 , -0.08857018],\n",
              "       [ 0.69211644,  0.84215707]], dtype=float32)>"
            ]
          },
          "metadata": {},
          "execution_count": 9
        }
      ]
    },
    {
      "cell_type": "code",
      "source": [
        "tf.random.set_seed(32)\n",
        "tf.random.shuffle(not_shuffled, seed=3)"
      ],
      "metadata": {
        "colab": {
          "base_uri": "https://localhost:8080/"
        },
        "id": "4MFgRPNmYodM",
        "outputId": "31e743be-a017-4a4c-f84e-9722d57ea5ab"
      },
      "execution_count": 10,
      "outputs": [
        {
          "output_type": "execute_result",
          "data": {
            "text/plain": [
              "<tf.Tensor: shape=(3, 2), dtype=float32, numpy=\n",
              "array([[-0.8757901 , -0.08857018],\n",
              "       [-1.3240396 ,  0.28785667],\n",
              "       [ 0.69211644,  0.84215707]], dtype=float32)>"
            ]
          },
          "metadata": {},
          "execution_count": 10
        }
      ]
    },
    {
      "cell_type": "code",
      "source": [
        "\n",
        "# Set the random seed\n",
        "tf.random.set_seed(42)\n",
        "\n",
        "# Generate some random numbers\n",
        "a = tf.random.normal([1])\n",
        "b = tf.random.normal([1])\n",
        "\n",
        "# Check that the results are the same every time\n",
        "print(a)\n",
        "print(b)"
      ],
      "metadata": {
        "colab": {
          "base_uri": "https://localhost:8080/"
        },
        "id": "MAtn3q6tfE-c",
        "outputId": "481a0927-d5a1-4807-c8d5-55e1004ed485"
      },
      "execution_count": 11,
      "outputs": [
        {
          "output_type": "stream",
          "name": "stdout",
          "text": [
            "tf.Tensor([0.3274685], shape=(1,), dtype=float32)\n",
            "tf.Tensor([0.08422458], shape=(1,), dtype=float32)\n"
          ]
        }
      ]
    },
    {
      "cell_type": "code",
      "source": [
        "tf.random.set_seed(42)\n",
        "# Generate some random numbers with a specific seed\n",
        "a = tf.random.normal([1])\n",
        "\n",
        "# Check that the results are the same every time\n",
        "print(a)\n"
      ],
      "metadata": {
        "colab": {
          "base_uri": "https://localhost:8080/"
        },
        "id": "ljIR0WM1fWKN",
        "outputId": "389d4afb-8a91-467d-f35f-87b681766bdf"
      },
      "execution_count": 12,
      "outputs": [
        {
          "output_type": "stream",
          "name": "stdout",
          "text": [
            "tf.Tensor([0.3274685], shape=(1,), dtype=float32)\n"
          ]
        }
      ]
    },
    {
      "cell_type": "code",
      "source": [
        "\n",
        "b = tf.random.normal([1])\n",
        "print(b)"
      ],
      "metadata": {
        "colab": {
          "base_uri": "https://localhost:8080/"
        },
        "id": "dngN5AYPf4Xc",
        "outputId": "b6cd7db5-32cb-425e-a5dd-6daecba4e477"
      },
      "execution_count": 13,
      "outputs": [
        {
          "output_type": "stream",
          "name": "stdout",
          "text": [
            "tf.Tensor([0.08422458], shape=(1,), dtype=float32)\n"
          ]
        }
      ]
    },
    {
      "cell_type": "code",
      "source": [
        "random_1 = tf.random.Generator.from_seed(42)\n",
        "random_1 = random_1.normal([4,5])\n",
        "print(random_1)\n",
        "tf.random.shuffle(random_1)"
      ],
      "metadata": {
        "colab": {
          "base_uri": "https://localhost:8080/"
        },
        "id": "Fr1tfG4kh6a1",
        "outputId": "b285c5d7-deb4-4196-b7e2-d4c7790fe12b"
      },
      "execution_count": 14,
      "outputs": [
        {
          "output_type": "stream",
          "name": "stdout",
          "text": [
            "tf.Tensor(\n",
            "[[-0.7565803  -0.06854702  0.07595026 -1.2573844  -0.23193763]\n",
            " [-1.8107855   0.09988727 -0.50998646 -0.7535805  -0.57166284]\n",
            " [ 0.1480774  -0.23362993 -0.3522796   0.40621263 -1.0523509 ]\n",
            " [ 1.2054597   1.6874489  -0.4462975  -2.3410842   0.99009085]], shape=(4, 5), dtype=float32)\n"
          ]
        },
        {
          "output_type": "execute_result",
          "data": {
            "text/plain": [
              "<tf.Tensor: shape=(4, 5), dtype=float32, numpy=\n",
              "array([[-0.7565803 , -0.06854702,  0.07595026, -1.2573844 , -0.23193763],\n",
              "       [ 1.2054597 ,  1.6874489 , -0.4462975 , -2.3410842 ,  0.99009085],\n",
              "       [-1.8107855 ,  0.09988727, -0.50998646, -0.7535805 , -0.57166284],\n",
              "       [ 0.1480774 , -0.23362993, -0.3522796 ,  0.40621263, -1.0523509 ]],\n",
              "      dtype=float32)>"
            ]
          },
          "metadata": {},
          "execution_count": 14
        }
      ]
    },
    {
      "cell_type": "code",
      "source": [
        "tf.ones([10,7])\n",
        "tf.zeros([10,7])"
      ],
      "metadata": {
        "colab": {
          "base_uri": "https://localhost:8080/"
        },
        "id": "RpwW5BisKMva",
        "outputId": "f79d10a1-b29d-47a1-f2b9-a2be74a89fc0"
      },
      "execution_count": 15,
      "outputs": [
        {
          "output_type": "execute_result",
          "data": {
            "text/plain": [
              "<tf.Tensor: shape=(10, 7), dtype=float32, numpy=\n",
              "array([[0., 0., 0., 0., 0., 0., 0.],\n",
              "       [0., 0., 0., 0., 0., 0., 0.],\n",
              "       [0., 0., 0., 0., 0., 0., 0.],\n",
              "       [0., 0., 0., 0., 0., 0., 0.],\n",
              "       [0., 0., 0., 0., 0., 0., 0.],\n",
              "       [0., 0., 0., 0., 0., 0., 0.],\n",
              "       [0., 0., 0., 0., 0., 0., 0.],\n",
              "       [0., 0., 0., 0., 0., 0., 0.],\n",
              "       [0., 0., 0., 0., 0., 0., 0.],\n",
              "       [0., 0., 0., 0., 0., 0., 0.]], dtype=float32)>"
            ]
          },
          "metadata": {},
          "execution_count": 15
        }
      ]
    },
    {
      "cell_type": "code",
      "source": [
        "import numpy as np\n",
        "np.ones([10,7])"
      ],
      "metadata": {
        "colab": {
          "base_uri": "https://localhost:8080/"
        },
        "id": "HpyaJQ6YLjb0",
        "outputId": "5740deb4-2a67-42a9-fb66-5f30db7eb41a"
      },
      "execution_count": 16,
      "outputs": [
        {
          "output_type": "execute_result",
          "data": {
            "text/plain": [
              "array([[1., 1., 1., 1., 1., 1., 1.],\n",
              "       [1., 1., 1., 1., 1., 1., 1.],\n",
              "       [1., 1., 1., 1., 1., 1., 1.],\n",
              "       [1., 1., 1., 1., 1., 1., 1.],\n",
              "       [1., 1., 1., 1., 1., 1., 1.],\n",
              "       [1., 1., 1., 1., 1., 1., 1.],\n",
              "       [1., 1., 1., 1., 1., 1., 1.],\n",
              "       [1., 1., 1., 1., 1., 1., 1.],\n",
              "       [1., 1., 1., 1., 1., 1., 1.],\n",
              "       [1., 1., 1., 1., 1., 1., 1.]])"
            ]
          },
          "metadata": {},
          "execution_count": 16
        }
      ]
    },
    {
      "cell_type": "code",
      "source": [
        "numpy = np.arange(1,25)\n",
        "numpy"
      ],
      "metadata": {
        "colab": {
          "base_uri": "https://localhost:8080/"
        },
        "id": "rP-PQbUQLyOQ",
        "outputId": "310e259a-3e86-4e36-ad06-db6f520a0105"
      },
      "execution_count": 17,
      "outputs": [
        {
          "output_type": "execute_result",
          "data": {
            "text/plain": [
              "array([ 1,  2,  3,  4,  5,  6,  7,  8,  9, 10, 11, 12, 13, 14, 15, 16, 17,\n",
              "       18, 19, 20, 21, 22, 23, 24])"
            ]
          },
          "metadata": {},
          "execution_count": 17
        }
      ]
    },
    {
      "cell_type": "code",
      "source": [
        "tf.constant(numpy, shape = (2,3,4))"
      ],
      "metadata": {
        "colab": {
          "base_uri": "https://localhost:8080/"
        },
        "id": "QmNbFZ3BMcYB",
        "outputId": "c55755c2-1677-4593-9d11-b6e8e124290c"
      },
      "execution_count": 18,
      "outputs": [
        {
          "output_type": "execute_result",
          "data": {
            "text/plain": [
              "<tf.Tensor: shape=(2, 3, 4), dtype=int64, numpy=\n",
              "array([[[ 1,  2,  3,  4],\n",
              "        [ 5,  6,  7,  8],\n",
              "        [ 9, 10, 11, 12]],\n",
              "\n",
              "       [[13, 14, 15, 16],\n",
              "        [17, 18, 19, 20],\n",
              "        [21, 22, 23, 24]]])>"
            ]
          },
          "metadata": {},
          "execution_count": 18
        }
      ]
    },
    {
      "cell_type": "code",
      "source": [
        "a = np.arange(1,61, dtype=np.int32)\n",
        "a"
      ],
      "metadata": {
        "colab": {
          "base_uri": "https://localhost:8080/"
        },
        "id": "o3sZlRywMevw",
        "outputId": "82208c53-77cd-4183-e447-1864563d36f2"
      },
      "execution_count": 19,
      "outputs": [
        {
          "output_type": "execute_result",
          "data": {
            "text/plain": [
              "array([ 1,  2,  3,  4,  5,  6,  7,  8,  9, 10, 11, 12, 13, 14, 15, 16, 17,\n",
              "       18, 19, 20, 21, 22, 23, 24, 25, 26, 27, 28, 29, 30, 31, 32, 33, 34,\n",
              "       35, 36, 37, 38, 39, 40, 41, 42, 43, 44, 45, 46, 47, 48, 49, 50, 51,\n",
              "       52, 53, 54, 55, 56, 57, 58, 59, 60], dtype=int32)"
            ]
          },
          "metadata": {},
          "execution_count": 19
        }
      ]
    },
    {
      "cell_type": "code",
      "source": [
        "b = tf.constant(a, shape=(5,6,2))\n",
        "b"
      ],
      "metadata": {
        "colab": {
          "base_uri": "https://localhost:8080/"
        },
        "id": "P2yAu7yRNVvj",
        "outputId": "7ecbc68d-b96b-4d21-e4e0-468daaa49850"
      },
      "execution_count": 20,
      "outputs": [
        {
          "output_type": "execute_result",
          "data": {
            "text/plain": [
              "<tf.Tensor: shape=(5, 6, 2), dtype=int32, numpy=\n",
              "array([[[ 1,  2],\n",
              "        [ 3,  4],\n",
              "        [ 5,  6],\n",
              "        [ 7,  8],\n",
              "        [ 9, 10],\n",
              "        [11, 12]],\n",
              "\n",
              "       [[13, 14],\n",
              "        [15, 16],\n",
              "        [17, 18],\n",
              "        [19, 20],\n",
              "        [21, 22],\n",
              "        [23, 24]],\n",
              "\n",
              "       [[25, 26],\n",
              "        [27, 28],\n",
              "        [29, 30],\n",
              "        [31, 32],\n",
              "        [33, 34],\n",
              "        [35, 36]],\n",
              "\n",
              "       [[37, 38],\n",
              "        [39, 40],\n",
              "        [41, 42],\n",
              "        [43, 44],\n",
              "        [45, 46],\n",
              "        [47, 48]],\n",
              "\n",
              "       [[49, 50],\n",
              "        [51, 52],\n",
              "        [53, 54],\n",
              "        [55, 56],\n",
              "        [57, 58],\n",
              "        [59, 60]]], dtype=int32)>"
            ]
          },
          "metadata": {},
          "execution_count": 20
        }
      ]
    },
    {
      "cell_type": "code",
      "source": [
        "a.shape\n"
      ],
      "metadata": {
        "colab": {
          "base_uri": "https://localhost:8080/"
        },
        "id": "fI2wOFL3NZDV",
        "outputId": "70332a01-dc8c-4c0a-bd9d-2591a30c3175"
      },
      "execution_count": 21,
      "outputs": [
        {
          "output_type": "execute_result",
          "data": {
            "text/plain": [
              "(60,)"
            ]
          },
          "metadata": {},
          "execution_count": 21
        }
      ]
    },
    {
      "cell_type": "code",
      "source": [
        "b[0, :2]"
      ],
      "metadata": {
        "id": "tSB96aDSPa0a",
        "outputId": "700a2650-4cbf-447e-da42-eca5b6030370",
        "colab": {
          "base_uri": "https://localhost:8080/"
        }
      },
      "execution_count": 22,
      "outputs": [
        {
          "output_type": "execute_result",
          "data": {
            "text/plain": [
              "<tf.Tensor: shape=(2, 2), dtype=int32, numpy=\n",
              "array([[1, 2],\n",
              "       [3, 4]], dtype=int32)>"
            ]
          },
          "metadata": {},
          "execution_count": 22
        }
      ]
    },
    {
      "cell_type": "code",
      "source": [
        "tensor = tf.random.uniform((2,4,3), minval=2, maxval=12, dtype=tf.int64)\n",
        "tensor"
      ],
      "metadata": {
        "id": "W3jab6N2RnQL",
        "colab": {
          "base_uri": "https://localhost:8080/"
        },
        "outputId": "de882fca-4129-4f59-c1d9-8e032b9adca4"
      },
      "execution_count": 23,
      "outputs": [
        {
          "output_type": "execute_result",
          "data": {
            "text/plain": [
              "<tf.Tensor: shape=(2, 4, 3), dtype=int64, numpy=\n",
              "array([[[ 6, 10,  4],\n",
              "        [ 6,  2,  3],\n",
              "        [ 3,  5,  6],\n",
              "        [ 9,  8, 10]],\n",
              "\n",
              "       [[ 2, 10, 11],\n",
              "        [ 3,  2,  9],\n",
              "        [ 7,  7,  2],\n",
              "        [ 3,  3,  4]]])>"
            ]
          },
          "metadata": {},
          "execution_count": 23
        }
      ]
    },
    {
      "cell_type": "code",
      "source": [
        "tensor[:, -1]"
      ],
      "metadata": {
        "colab": {
          "base_uri": "https://localhost:8080/"
        },
        "id": "oUEwY9pZgKXc",
        "outputId": "5afe4535-7e0a-42d7-c663-4ec4fd93ab72"
      },
      "execution_count": 24,
      "outputs": [
        {
          "output_type": "execute_result",
          "data": {
            "text/plain": [
              "<tf.Tensor: shape=(2, 3), dtype=int64, numpy=\n",
              "array([[ 9,  8, 10],\n",
              "       [ 3,  3,  4]])>"
            ]
          },
          "metadata": {},
          "execution_count": 24
        }
      ]
    },
    {
      "cell_type": "code",
      "source": [
        "# Adding extra dimention to our rank 2 tensor\n",
        "tensor = tensor[:, tf.newaxis, :]\n",
        "tensor"
      ],
      "metadata": {
        "colab": {
          "base_uri": "https://localhost:8080/"
        },
        "id": "BE4vjCkjhj2D",
        "outputId": "62fd580a-b752-4134-b2b7-a88de0a43291"
      },
      "execution_count": 25,
      "outputs": [
        {
          "output_type": "execute_result",
          "data": {
            "text/plain": [
              "<tf.Tensor: shape=(2, 1, 4, 3), dtype=int64, numpy=\n",
              "array([[[[ 6, 10,  4],\n",
              "         [ 6,  2,  3],\n",
              "         [ 3,  5,  6],\n",
              "         [ 9,  8, 10]]],\n",
              "\n",
              "\n",
              "       [[[ 2, 10, 11],\n",
              "         [ 3,  2,  9],\n",
              "         [ 7,  7,  2],\n",
              "         [ 3,  3,  4]]]])>"
            ]
          },
          "metadata": {},
          "execution_count": 25
        }
      ]
    },
    {
      "cell_type": "code",
      "source": [
        "# a = tf.expand_dims(tensor, axis=-1)\n",
        "# a = tf.tile(a, multiples=[2,2,2,2])\n",
        "# a.shape"
      ],
      "metadata": {
        "id": "yQ59fZGwh5Xv"
      },
      "execution_count": 26,
      "outputs": []
    },
    {
      "cell_type": "code",
      "source": [
        "tf.expand_dims(tensor, axis=0)"
      ],
      "metadata": {
        "colab": {
          "base_uri": "https://localhost:8080/"
        },
        "id": "j5xCvB3zjAHV",
        "outputId": "98020742-6a13-4aaa-dc2a-42b29ecdf39f"
      },
      "execution_count": 27,
      "outputs": [
        {
          "output_type": "execute_result",
          "data": {
            "text/plain": [
              "<tf.Tensor: shape=(1, 2, 1, 4, 3), dtype=int64, numpy=\n",
              "array([[[[[ 6, 10,  4],\n",
              "          [ 6,  2,  3],\n",
              "          [ 3,  5,  6],\n",
              "          [ 9,  8, 10]]],\n",
              "\n",
              "\n",
              "        [[[ 2, 10, 11],\n",
              "          [ 3,  2,  9],\n",
              "          [ 7,  7,  2],\n",
              "          [ 3,  3,  4]]]]])>"
            ]
          },
          "metadata": {},
          "execution_count": 27
        }
      ]
    },
    {
      "cell_type": "code",
      "source": [
        "tensor *= 10\n",
        "tensor"
      ],
      "metadata": {
        "colab": {
          "base_uri": "https://localhost:8080/"
        },
        "id": "BePBFauljHgk",
        "outputId": "f16a7dea-4a97-4d43-97b8-c9921d35ce71"
      },
      "execution_count": 28,
      "outputs": [
        {
          "output_type": "execute_result",
          "data": {
            "text/plain": [
              "<tf.Tensor: shape=(2, 1, 4, 3), dtype=int64, numpy=\n",
              "array([[[[ 60, 100,  40],\n",
              "         [ 60,  20,  30],\n",
              "         [ 30,  50,  60],\n",
              "         [ 90,  80, 100]]],\n",
              "\n",
              "\n",
              "       [[[ 20, 100, 110],\n",
              "         [ 30,  20,  90],\n",
              "         [ 70,  70,  20],\n",
              "         [ 30,  30,  40]]]])>"
            ]
          },
          "metadata": {},
          "execution_count": 28
        }
      ]
    },
    {
      "cell_type": "code",
      "source": [
        "print(tensor)\n",
        "\n",
        "tf.subtract(tensor, 10)"
      ],
      "metadata": {
        "colab": {
          "base_uri": "https://localhost:8080/"
        },
        "id": "eQe90W7Sni88",
        "outputId": "0165c0a6-df36-4b00-c454-6e9a2b7d99ac"
      },
      "execution_count": 29,
      "outputs": [
        {
          "output_type": "stream",
          "name": "stdout",
          "text": [
            "tf.Tensor(\n",
            "[[[[ 60 100  40]\n",
            "   [ 60  20  30]\n",
            "   [ 30  50  60]\n",
            "   [ 90  80 100]]]\n",
            "\n",
            "\n",
            " [[[ 20 100 110]\n",
            "   [ 30  20  90]\n",
            "   [ 70  70  20]\n",
            "   [ 30  30  40]]]], shape=(2, 1, 4, 3), dtype=int64)\n"
          ]
        },
        {
          "output_type": "execute_result",
          "data": {
            "text/plain": [
              "<tf.Tensor: shape=(2, 1, 4, 3), dtype=int64, numpy=\n",
              "array([[[[ 50,  90,  30],\n",
              "         [ 50,  10,  20],\n",
              "         [ 20,  40,  50],\n",
              "         [ 80,  70,  90]]],\n",
              "\n",
              "\n",
              "       [[[ 10,  90, 100],\n",
              "         [ 20,  10,  80],\n",
              "         [ 60,  60,  10],\n",
              "         [ 20,  20,  30]]]])>"
            ]
          },
          "metadata": {},
          "execution_count": 29
        }
      ]
    },
    {
      "cell_type": "code",
      "source": [
        "# a = tf.reshape(tensor, shape=(3,1,2))\n",
        "# a\n",
        "# tf.matmul(tensor, a)"
      ],
      "metadata": {
        "id": "513HKDkGoSNn"
      },
      "execution_count": 30,
      "outputs": []
    },
    {
      "cell_type": "code",
      "source": [
        "tensor.shape"
      ],
      "metadata": {
        "colab": {
          "base_uri": "https://localhost:8080/"
        },
        "id": "PUV-cbEWqK_H",
        "outputId": "d2213675-56a7-4928-872f-91a5b2f688a2"
      },
      "execution_count": 31,
      "outputs": [
        {
          "output_type": "execute_result",
          "data": {
            "text/plain": [
              "TensorShape([2, 1, 4, 3])"
            ]
          },
          "metadata": {},
          "execution_count": 31
        }
      ]
    },
    {
      "cell_type": "code",
      "source": [
        "tensor1 = tf.random.uniform((2,3,6), minval=1, maxval=10, dtype=tf.int64)\n",
        "tf.matmul(tensor, tensor1)"
      ],
      "metadata": {
        "colab": {
          "base_uri": "https://localhost:8080/"
        },
        "id": "AL_NJKauqro_",
        "outputId": "10c29c76-c004-4381-dacb-0e6adb79d045"
      },
      "execution_count": 32,
      "outputs": [
        {
          "output_type": "execute_result",
          "data": {
            "text/plain": [
              "<tf.Tensor: shape=(2, 2, 4, 6), dtype=int64, numpy=\n",
              "array([[[[ 740,  940,  940, 1500,  780, 1400],\n",
              "         [ 350,  700,  730,  930,  620,  670],\n",
              "         [ 650,  790,  670, 1110,  710, 1060],\n",
              "         [1110, 1590, 1470, 2190, 1420, 1900]],\n",
              "\n",
              "        [[1140,  200, 1260,  720, 1020, 1700],\n",
              "         [ 500,  110,  510,  450,  510,  900],\n",
              "         [ 890,  140,  750,  480,  630, 1170],\n",
              "         [1540,  270, 1380,  990, 1230, 2240]]],\n",
              "\n",
              "\n",
              "       [[[1190, 1220,  930, 1770, 1100, 1870],\n",
              "         [ 740,  970,  760, 1200,  920, 1090],\n",
              "         [ 490,  790,  870, 1230,  650, 1020],\n",
              "         [ 430,  590,  530,  810,  530,  720]],\n",
              "\n",
              "        [[1620,  230, 1310,  730, 1030, 1940],\n",
              "         [ 920,  140,  570,  480,  540, 1140],\n",
              "         [ 790,  160,  970,  620,  830, 1350],\n",
              "         [ 590,  100,  510,  360,  450,  830]]]])>"
            ]
          },
          "metadata": {},
          "execution_count": 32
        }
      ]
    },
    {
      "cell_type": "code",
      "source": [
        "tensor_A = tf.random.uniform((3,3), minval=1, maxval=8, dtype=tf.int32)\n",
        "tensor_B = tf.constant([[3,5],\n",
        "                        [-6,7],\n",
        "                        [1,8]])\n",
        "\n",
        "tensor_A"
      ],
      "metadata": {
        "colab": {
          "base_uri": "https://localhost:8080/"
        },
        "id": "g4ayjT-Wxh4K",
        "outputId": "31cab893-02ea-4993-d376-681474c0bee0"
      },
      "execution_count": 33,
      "outputs": [
        {
          "output_type": "execute_result",
          "data": {
            "text/plain": [
              "<tf.Tensor: shape=(3, 3), dtype=int32, numpy=\n",
              "array([[5, 1, 1],\n",
              "       [6, 5, 6],\n",
              "       [5, 3, 4]], dtype=int32)>"
            ]
          },
          "metadata": {},
          "execution_count": 33
        }
      ]
    },
    {
      "cell_type": "code",
      "source": [
        "# 3 different methods:\n",
        "\n",
        "# tf.matmul(tensor_A, tensor_B)\n",
        "# tf.tensordot(tensor_A, tensor_B, axes=1)\n",
        "# tensor_A @ tensor_B"
      ],
      "metadata": {
        "id": "vs6AIVewyBfS"
      },
      "execution_count": 34,
      "outputs": []
    },
    {
      "cell_type": "code",
      "source": [
        "tensor_B = tf.cast(tensor_B, dtype=tf.float64)"
      ],
      "metadata": {
        "id": "C7ywKOWtFkC-"
      },
      "execution_count": 35,
      "outputs": []
    },
    {
      "cell_type": "code",
      "source": [
        "tf.abs(tensor_A)"
      ],
      "metadata": {
        "colab": {
          "base_uri": "https://localhost:8080/"
        },
        "id": "S24ioreKHb4Q",
        "outputId": "1e3ae43e-3866-45d2-e463-b6f9f13c714c"
      },
      "execution_count": 36,
      "outputs": [
        {
          "output_type": "execute_result",
          "data": {
            "text/plain": [
              "<tf.Tensor: shape=(3, 3), dtype=int32, numpy=\n",
              "array([[5, 1, 1],\n",
              "       [6, 5, 6],\n",
              "       [5, 3, 4]], dtype=int32)>"
            ]
          },
          "metadata": {},
          "execution_count": 36
        }
      ]
    },
    {
      "cell_type": "code",
      "source": [
        "tf.math.reduce_std(tensor_B)"
      ],
      "metadata": {
        "id": "au5Y_yV1I5i8",
        "outputId": "2a454ce4-4672-4342-dc73-8991daa38cd5",
        "colab": {
          "base_uri": "https://localhost:8080/"
        }
      },
      "execution_count": 37,
      "outputs": [
        {
          "output_type": "execute_result",
          "data": {
            "text/plain": [
              "<tf.Tensor: shape=(), dtype=float64, numpy=4.654746681256314>"
            ]
          },
          "metadata": {},
          "execution_count": 37
        }
      ]
    },
    {
      "cell_type": "code",
      "source": [
        "tf.math.argmin(tensor_B, axis=1).numpy()"
      ],
      "metadata": {
        "id": "-f7eNeybJWxO",
        "colab": {
          "base_uri": "https://localhost:8080/"
        },
        "outputId": "434429eb-5109-4f53-8019-e9545cae3bc1"
      },
      "execution_count": 44,
      "outputs": [
        {
          "output_type": "execute_result",
          "data": {
            "text/plain": [
              "array([0, 0, 0])"
            ]
          },
          "metadata": {},
          "execution_count": 44
        }
      ]
    },
    {
      "cell_type": "code",
      "source": [
        "tensor_B"
      ],
      "metadata": {
        "colab": {
          "base_uri": "https://localhost:8080/"
        },
        "id": "xUQwegpBddY4",
        "outputId": "36f68bbb-cab2-4333-bd06-af6ab98f2bbc"
      },
      "execution_count": 42,
      "outputs": [
        {
          "output_type": "execute_result",
          "data": {
            "text/plain": [
              "<tf.Tensor: shape=(3, 2), dtype=float64, numpy=\n",
              "array([[ 3.,  5.],\n",
              "       [-6.,  7.],\n",
              "       [ 1.,  8.]])>"
            ]
          },
          "metadata": {},
          "execution_count": 42
        }
      ]
    },
    {
      "cell_type": "code",
      "source": [
        "tf.random.set_seed(42)\n",
        "f = tf.random.uniform([50])\n",
        "f"
      ],
      "metadata": {
        "colab": {
          "base_uri": "https://localhost:8080/"
        },
        "id": "IoSzTwb_d1Uk",
        "outputId": "7801f13e-26c8-4e09-a234-653ba561401a"
      },
      "execution_count": 46,
      "outputs": [
        {
          "output_type": "execute_result",
          "data": {
            "text/plain": [
              "<tf.Tensor: shape=(50,), dtype=float32, numpy=\n",
              "array([0.6645621 , 0.44100678, 0.3528825 , 0.46448255, 0.03366041,\n",
              "       0.68467236, 0.74011743, 0.8724445 , 0.22632635, 0.22319686,\n",
              "       0.3103881 , 0.7223358 , 0.13318717, 0.5480639 , 0.5746088 ,\n",
              "       0.8996835 , 0.00946367, 0.5212307 , 0.6345445 , 0.1993283 ,\n",
              "       0.72942245, 0.54583454, 0.10756552, 0.6767061 , 0.6602763 ,\n",
              "       0.33695042, 0.60141766, 0.21062577, 0.8527372 , 0.44062173,\n",
              "       0.9485276 , 0.23752594, 0.81179297, 0.5263394 , 0.494308  ,\n",
              "       0.21612847, 0.8457197 , 0.8718841 , 0.3083862 , 0.6868038 ,\n",
              "       0.23764038, 0.7817228 , 0.9671384 , 0.06870162, 0.79873943,\n",
              "       0.66028714, 0.5871513 , 0.16461694, 0.7381023 , 0.32054043],\n",
              "      dtype=float32)>"
            ]
          },
          "metadata": {},
          "execution_count": 46
        }
      ]
    },
    {
      "cell_type": "code",
      "source": [
        "a = tf.random.uniform([3,4], maxval=20, dtype=tf.int32)\n",
        "a"
      ],
      "metadata": {
        "colab": {
          "base_uri": "https://localhost:8080/"
        },
        "id": "HVF8qRa6gASU",
        "outputId": "47f273e8-ec43-40b5-e6ce-0a4d9e399b46"
      },
      "execution_count": 58,
      "outputs": [
        {
          "output_type": "execute_result",
          "data": {
            "text/plain": [
              "<tf.Tensor: shape=(3, 4), dtype=int32, numpy=\n",
              "array([[ 9,  7,  2,  9],\n",
              "       [ 2,  2, 18, 13],\n",
              "       [ 0,  1, 18, 19]], dtype=int32)>"
            ]
          },
          "metadata": {},
          "execution_count": 58
        }
      ]
    },
    {
      "cell_type": "code",
      "source": [
        "tf.argmax(a)"
      ],
      "metadata": {
        "colab": {
          "base_uri": "https://localhost:8080/"
        },
        "id": "GvvOstxLhFGE",
        "outputId": "b1f646d6-7951-4e60-8187-1cc0c3c72157"
      },
      "execution_count": 59,
      "outputs": [
        {
          "output_type": "execute_result",
          "data": {
            "text/plain": [
              "<tf.Tensor: shape=(4,), dtype=int64, numpy=array([0, 0, 1, 2])>"
            ]
          },
          "metadata": {},
          "execution_count": 59
        }
      ]
    },
    {
      "cell_type": "code",
      "source": [
        "tf.reduce_max(a).numpy()"
      ],
      "metadata": {
        "colab": {
          "base_uri": "https://localhost:8080/"
        },
        "id": "zm_tHLt2kvYX",
        "outputId": "169da53d-bf85-4de1-8ddb-f2b698d42371"
      },
      "execution_count": 61,
      "outputs": [
        {
          "output_type": "execute_result",
          "data": {
            "text/plain": [
              "19"
            ]
          },
          "metadata": {},
          "execution_count": 61
        }
      ]
    },
    {
      "cell_type": "code",
      "source": [
        "b = tf.random.uniform([1,1,1,1,50])\n",
        "b"
      ],
      "metadata": {
        "colab": {
          "base_uri": "https://localhost:8080/"
        },
        "id": "OTmgTR4Bk4dW",
        "outputId": "9133d754-dc88-4810-fd6e-2ad36885ac93"
      },
      "execution_count": 65,
      "outputs": [
        {
          "output_type": "execute_result",
          "data": {
            "text/plain": [
              "<tf.Tensor: shape=(1, 1, 1, 1, 50), dtype=float32, numpy=\n",
              "array([[[[[1.27802730e-01, 8.62301230e-01, 4.15632963e-01,\n",
              "           1.00286722e-01, 6.07836485e-01, 7.90521741e-01,\n",
              "           6.06833696e-02, 8.56746435e-01, 7.20012665e-01,\n",
              "           6.80043340e-01, 3.18007350e-01, 9.15518522e-01,\n",
              "           9.83233213e-01, 9.49099660e-01, 9.27690983e-01,\n",
              "           4.26432252e-01, 1.65649414e-01, 5.96877337e-02,\n",
              "           1.01531982e-01, 3.48368764e-01, 1.06096268e-05,\n",
              "           5.53984642e-01, 1.04559660e-02, 1.70157075e-01,\n",
              "           5.35020947e-01, 3.53641510e-02, 5.11248112e-02,\n",
              "           3.47512603e-01, 4.17755604e-01, 4.66669559e-01,\n",
              "           9.22843099e-01, 6.48598909e-01, 3.84631276e-01,\n",
              "           7.53028631e-01, 9.17651892e-01, 5.70779085e-01,\n",
              "           9.69477892e-02, 4.58525062e-01, 2.72809863e-01,\n",
              "           7.18811393e-01, 6.84959650e-01, 9.46360826e-01,\n",
              "           6.96492195e-02, 1.22516274e-01, 5.67929626e-01,\n",
              "           6.14467025e-01, 2.55180240e-01, 7.69669652e-01,\n",
              "           3.94763947e-01, 6.69542074e-01]]]]], dtype=float32)>"
            ]
          },
          "metadata": {},
          "execution_count": 65
        }
      ]
    },
    {
      "cell_type": "code",
      "source": [
        "b_squeezed = tf.squeeze(b)\n",
        "b_squeezed"
      ],
      "metadata": {
        "colab": {
          "base_uri": "https://localhost:8080/"
        },
        "id": "Fe7PLZnAlOjS",
        "outputId": "6415f724-d835-4693-82eb-2f399483b5bf"
      },
      "execution_count": 67,
      "outputs": [
        {
          "output_type": "execute_result",
          "data": {
            "text/plain": [
              "<tf.Tensor: shape=(50,), dtype=float32, numpy=\n",
              "array([1.27802730e-01, 8.62301230e-01, 4.15632963e-01, 1.00286722e-01,\n",
              "       6.07836485e-01, 7.90521741e-01, 6.06833696e-02, 8.56746435e-01,\n",
              "       7.20012665e-01, 6.80043340e-01, 3.18007350e-01, 9.15518522e-01,\n",
              "       9.83233213e-01, 9.49099660e-01, 9.27690983e-01, 4.26432252e-01,\n",
              "       1.65649414e-01, 5.96877337e-02, 1.01531982e-01, 3.48368764e-01,\n",
              "       1.06096268e-05, 5.53984642e-01, 1.04559660e-02, 1.70157075e-01,\n",
              "       5.35020947e-01, 3.53641510e-02, 5.11248112e-02, 3.47512603e-01,\n",
              "       4.17755604e-01, 4.66669559e-01, 9.22843099e-01, 6.48598909e-01,\n",
              "       3.84631276e-01, 7.53028631e-01, 9.17651892e-01, 5.70779085e-01,\n",
              "       9.69477892e-02, 4.58525062e-01, 2.72809863e-01, 7.18811393e-01,\n",
              "       6.84959650e-01, 9.46360826e-01, 6.96492195e-02, 1.22516274e-01,\n",
              "       5.67929626e-01, 6.14467025e-01, 2.55180240e-01, 7.69669652e-01,\n",
              "       3.94763947e-01, 6.69542074e-01], dtype=float32)>"
            ]
          },
          "metadata": {},
          "execution_count": 67
        }
      ]
    },
    {
      "cell_type": "markdown",
      "source": [
        "#One Hot encoding tensors"
      ],
      "metadata": {
        "id": "B9uZIJ1QljF8"
      }
    },
    {
      "cell_type": "code",
      "source": [
        "some_list = [0,1,6,3,7]\n",
        "tf.one_hot(some_list, depth=8)"
      ],
      "metadata": {
        "id": "iVSBCBg7mC4J",
        "outputId": "c86015a7-9a45-49e0-ceb7-98af8e38c36c",
        "colab": {
          "base_uri": "https://localhost:8080/"
        }
      },
      "execution_count": 77,
      "outputs": [
        {
          "output_type": "execute_result",
          "data": {
            "text/plain": [
              "<tf.Tensor: shape=(5, 8), dtype=float32, numpy=\n",
              "array([[1., 0., 0., 0., 0., 0., 0., 0.],\n",
              "       [0., 1., 0., 0., 0., 0., 0., 0.],\n",
              "       [0., 0., 0., 0., 0., 0., 1., 0.],\n",
              "       [0., 0., 0., 1., 0., 0., 0., 0.],\n",
              "       [0., 0., 0., 0., 0., 0., 0., 1.]], dtype=float32)>"
            ]
          },
          "metadata": {},
          "execution_count": 77
        }
      ]
    },
    {
      "cell_type": "code",
      "source": [],
      "metadata": {
        "id": "xXuXwlOGmvEP"
      },
      "execution_count": null,
      "outputs": []
    }
  ]
}
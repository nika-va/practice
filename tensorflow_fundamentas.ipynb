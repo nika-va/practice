{
  "nbformat": 4,
  "nbformat_minor": 0,
  "metadata": {
    "colab": {
      "provenance": [],
      "authorship_tag": "ABX9TyMGVQcf8IOxxQPHoLxTOCzA",
      "include_colab_link": true
    },
    "kernelspec": {
      "name": "python3",
      "display_name": "Python 3"
    },
    "language_info": {
      "name": "python"
    }
  },
  "cells": [
    {
      "cell_type": "markdown",
      "metadata": {
        "id": "view-in-github",
        "colab_type": "text"
      },
      "source": [
        "<a href=\"https://colab.research.google.com/github/nika-va/practice/blob/main/tensorflow_fundamentas.ipynb\" target=\"_parent\"><img src=\"https://colab.research.google.com/assets/colab-badge.svg\" alt=\"Open In Colab\"/></a>"
      ]
    },
    {
      "cell_type": "markdown",
      "source": [
        "* Introduction to tensors (creating tensors)\n",
        "* Getting information from tensors (tensor attributes)\n",
        "* Manipulating tensors (tensor operations)\n",
        "* Tensors and NumPy\n",
        "* Using @tf.function (a way to speed up your regular Python functions)\n",
        "* Using GPUs with TensorFlow\n",
        "* Exercises to try"
      ],
      "metadata": {
        "id": "Q7CrS1Ad37KV"
      }
    },
    {
      "cell_type": "code",
      "execution_count": 74,
      "metadata": {
        "colab": {
          "base_uri": "https://localhost:8080/"
        },
        "id": "hD5D9PfW1RY7",
        "outputId": "260b32ca-d234-48bf-8172-89db9b4d7fe7"
      },
      "outputs": [
        {
          "output_type": "stream",
          "name": "stdout",
          "text": [
            "2.12.0\n"
          ]
        }
      ],
      "source": [
        "import tensorflow as tf\n",
        "print(tf.__version__)"
      ]
    },
    {
      "cell_type": "code",
      "source": [
        "a = tf.constant([[2,5,20]], dtype=tf.float32)"
      ],
      "metadata": {
        "id": "ZDFExY7U4WCT"
      },
      "execution_count": 75,
      "outputs": []
    },
    {
      "cell_type": "code",
      "source": [
        "a.ndim"
      ],
      "metadata": {
        "colab": {
          "base_uri": "https://localhost:8080/"
        },
        "id": "_OuP9n9p4un7",
        "outputId": "9f36f71f-d838-4e7d-d620-e2e309f9c1af"
      },
      "execution_count": 76,
      "outputs": [
        {
          "output_type": "execute_result",
          "data": {
            "text/plain": [
              "2"
            ]
          },
          "metadata": {},
          "execution_count": 76
        }
      ]
    },
    {
      "cell_type": "code",
      "source": [
        "a"
      ],
      "metadata": {
        "colab": {
          "base_uri": "https://localhost:8080/"
        },
        "id": "qo3daL4n5GW6",
        "outputId": "18537925-ace5-4cfc-ac76-eee334bb32e8"
      },
      "execution_count": 77,
      "outputs": [
        {
          "output_type": "execute_result",
          "data": {
            "text/plain": [
              "<tf.Tensor: shape=(1, 3), dtype=float32, numpy=array([[ 2.,  5., 20.]], dtype=float32)>"
            ]
          },
          "metadata": {},
          "execution_count": 77
        }
      ]
    },
    {
      "cell_type": "code",
      "source": [
        "# scalar 0\n",
        "# vector 1\n",
        "# matrix 2\n",
        "# tensor n+"
      ],
      "metadata": {
        "id": "VSmQBNVh6O62"
      },
      "execution_count": 78,
      "outputs": []
    },
    {
      "cell_type": "code",
      "source": [
        "# tensors with tf.Variable\n",
        "changeable_tensor = tf.Variable([10,7])\n",
        "unchangeable_tensor = tf.constant([10,7])\n",
        "changeable_tensor, unchangeable_tensor"
      ],
      "metadata": {
        "id": "iTwzjVzQ7Y0e",
        "colab": {
          "base_uri": "https://localhost:8080/"
        },
        "outputId": "fad554a7-3646-49c5-8368-a8cbf43334d2"
      },
      "execution_count": 79,
      "outputs": [
        {
          "output_type": "execute_result",
          "data": {
            "text/plain": [
              "(<tf.Variable 'Variable:0' shape=(2,) dtype=int32, numpy=array([10,  7], dtype=int32)>,\n",
              " <tf.Tensor: shape=(2,), dtype=int32, numpy=array([10,  7], dtype=int32)>)"
            ]
          },
          "metadata": {},
          "execution_count": 79
        }
      ]
    },
    {
      "cell_type": "code",
      "source": [
        "changeable_tensor[0].assign(2)"
      ],
      "metadata": {
        "colab": {
          "base_uri": "https://localhost:8080/"
        },
        "id": "H-INikGQNrUX",
        "outputId": "4a798712-ace0-4771-948d-4a5a201bea53"
      },
      "execution_count": 80,
      "outputs": [
        {
          "output_type": "execute_result",
          "data": {
            "text/plain": [
              "<tf.Variable 'UnreadVariable' shape=(2,) dtype=int32, numpy=array([2, 7], dtype=int32)>"
            ]
          },
          "metadata": {},
          "execution_count": 80
        }
      ]
    },
    {
      "cell_type": "code",
      "source": [],
      "metadata": {
        "id": "KivVqONzN0GI"
      },
      "execution_count": 80,
      "outputs": []
    },
    {
      "cell_type": "markdown",
      "source": [
        "### Random Tensors"
      ],
      "metadata": {
        "id": "ogtwhw6tOyg9"
      }
    },
    {
      "cell_type": "code",
      "source": [
        "random_2 = tf.random.Generator.from_seed(42)\n",
        "random_2 = random_2.normal([2,3])\n",
        "random_2"
      ],
      "metadata": {
        "colab": {
          "base_uri": "https://localhost:8080/"
        },
        "id": "reXtGCG4QsgY",
        "outputId": "2b1f85ec-2962-4b6f-94a3-eb930bf86047"
      },
      "execution_count": 81,
      "outputs": [
        {
          "output_type": "execute_result",
          "data": {
            "text/plain": [
              "<tf.Tensor: shape=(2, 3), dtype=float32, numpy=\n",
              "array([[-0.7565803 , -0.06854702,  0.07595026],\n",
              "       [-1.2573844 , -0.23193763, -1.8107855 ]], dtype=float32)>"
            ]
          },
          "metadata": {},
          "execution_count": 81
        }
      ]
    },
    {
      "cell_type": "code",
      "source": [
        "not_shuffled = tf.random.Generator.from_seed(7).normal([3,2])\n",
        "not_shuffled\n"
      ],
      "metadata": {
        "colab": {
          "base_uri": "https://localhost:8080/"
        },
        "id": "6aMGOKl7Rf3f",
        "outputId": "46c9e59a-50e4-4b73-9c3f-8fba56d7e649"
      },
      "execution_count": 82,
      "outputs": [
        {
          "output_type": "execute_result",
          "data": {
            "text/plain": [
              "<tf.Tensor: shape=(3, 2), dtype=float32, numpy=\n",
              "array([[-1.3240396 ,  0.28785667],\n",
              "       [-0.8757901 , -0.08857018],\n",
              "       [ 0.69211644,  0.84215707]], dtype=float32)>"
            ]
          },
          "metadata": {},
          "execution_count": 82
        }
      ]
    },
    {
      "cell_type": "code",
      "source": [
        "tf.random.set_seed(32)\n",
        "tf.random.shuffle(not_shuffled, seed=3)"
      ],
      "metadata": {
        "colab": {
          "base_uri": "https://localhost:8080/"
        },
        "id": "4MFgRPNmYodM",
        "outputId": "eb9f06ae-cd63-46d3-c888-853c9823cbb9"
      },
      "execution_count": 83,
      "outputs": [
        {
          "output_type": "execute_result",
          "data": {
            "text/plain": [
              "<tf.Tensor: shape=(3, 2), dtype=float32, numpy=\n",
              "array([[-0.8757901 , -0.08857018],\n",
              "       [-1.3240396 ,  0.28785667],\n",
              "       [ 0.69211644,  0.84215707]], dtype=float32)>"
            ]
          },
          "metadata": {},
          "execution_count": 83
        }
      ]
    },
    {
      "cell_type": "code",
      "source": [
        "\n",
        "# Set the random seed\n",
        "tf.random.set_seed(42)\n",
        "\n",
        "# Generate some random numbers\n",
        "a = tf.random.normal([1])\n",
        "b = tf.random.normal([1])\n",
        "\n",
        "# Check that the results are the same every time\n",
        "print(a)\n",
        "print(b)"
      ],
      "metadata": {
        "colab": {
          "base_uri": "https://localhost:8080/"
        },
        "id": "MAtn3q6tfE-c",
        "outputId": "f3d55491-8fad-4e80-d7a9-f03ad49a96f8"
      },
      "execution_count": 84,
      "outputs": [
        {
          "output_type": "stream",
          "name": "stdout",
          "text": [
            "tf.Tensor([0.3274685], shape=(1,), dtype=float32)\n",
            "tf.Tensor([0.08422458], shape=(1,), dtype=float32)\n"
          ]
        }
      ]
    },
    {
      "cell_type": "code",
      "source": [
        "tf.random.set_seed(42)\n",
        "# Generate some random numbers with a specific seed\n",
        "a = tf.random.normal([1])\n",
        "\n",
        "# Check that the results are the same every time\n",
        "print(a)\n"
      ],
      "metadata": {
        "colab": {
          "base_uri": "https://localhost:8080/"
        },
        "id": "ljIR0WM1fWKN",
        "outputId": "633848bc-e1b9-47f0-d5d0-34717be7f715"
      },
      "execution_count": 85,
      "outputs": [
        {
          "output_type": "stream",
          "name": "stdout",
          "text": [
            "tf.Tensor([0.3274685], shape=(1,), dtype=float32)\n"
          ]
        }
      ]
    },
    {
      "cell_type": "code",
      "source": [
        "\n",
        "b = tf.random.normal([1])\n",
        "print(b)"
      ],
      "metadata": {
        "colab": {
          "base_uri": "https://localhost:8080/"
        },
        "id": "dngN5AYPf4Xc",
        "outputId": "50432bbb-9418-4761-ef9a-af0d61a03386"
      },
      "execution_count": 86,
      "outputs": [
        {
          "output_type": "stream",
          "name": "stdout",
          "text": [
            "tf.Tensor([0.08422458], shape=(1,), dtype=float32)\n"
          ]
        }
      ]
    },
    {
      "cell_type": "code",
      "source": [
        "random_1 = tf.random.Generator.from_seed(42)\n",
        "random_1 = random_1.normal([4,5])\n",
        "print(random_1)\n",
        "tf.random.shuffle(random_1)"
      ],
      "metadata": {
        "colab": {
          "base_uri": "https://localhost:8080/"
        },
        "id": "Fr1tfG4kh6a1",
        "outputId": "e73b81c0-514d-4fe5-fc63-223e5c8999be"
      },
      "execution_count": 87,
      "outputs": [
        {
          "output_type": "stream",
          "name": "stdout",
          "text": [
            "tf.Tensor(\n",
            "[[-0.7565803  -0.06854702  0.07595026 -1.2573844  -0.23193763]\n",
            " [-1.8107855   0.09988727 -0.50998646 -0.7535805  -0.57166284]\n",
            " [ 0.1480774  -0.23362993 -0.3522796   0.40621263 -1.0523509 ]\n",
            " [ 1.2054597   1.6874489  -0.4462975  -2.3410842   0.99009085]], shape=(4, 5), dtype=float32)\n"
          ]
        },
        {
          "output_type": "execute_result",
          "data": {
            "text/plain": [
              "<tf.Tensor: shape=(4, 5), dtype=float32, numpy=\n",
              "array([[-0.7565803 , -0.06854702,  0.07595026, -1.2573844 , -0.23193763],\n",
              "       [ 1.2054597 ,  1.6874489 , -0.4462975 , -2.3410842 ,  0.99009085],\n",
              "       [-1.8107855 ,  0.09988727, -0.50998646, -0.7535805 , -0.57166284],\n",
              "       [ 0.1480774 , -0.23362993, -0.3522796 ,  0.40621263, -1.0523509 ]],\n",
              "      dtype=float32)>"
            ]
          },
          "metadata": {},
          "execution_count": 87
        }
      ]
    },
    {
      "cell_type": "code",
      "source": [
        "tf.ones([10,7])\n",
        "tf.zeros([10,7])"
      ],
      "metadata": {
        "colab": {
          "base_uri": "https://localhost:8080/"
        },
        "id": "RpwW5BisKMva",
        "outputId": "f9d833a2-ceaa-4207-c495-893708721629"
      },
      "execution_count": 88,
      "outputs": [
        {
          "output_type": "execute_result",
          "data": {
            "text/plain": [
              "<tf.Tensor: shape=(10, 7), dtype=float32, numpy=\n",
              "array([[0., 0., 0., 0., 0., 0., 0.],\n",
              "       [0., 0., 0., 0., 0., 0., 0.],\n",
              "       [0., 0., 0., 0., 0., 0., 0.],\n",
              "       [0., 0., 0., 0., 0., 0., 0.],\n",
              "       [0., 0., 0., 0., 0., 0., 0.],\n",
              "       [0., 0., 0., 0., 0., 0., 0.],\n",
              "       [0., 0., 0., 0., 0., 0., 0.],\n",
              "       [0., 0., 0., 0., 0., 0., 0.],\n",
              "       [0., 0., 0., 0., 0., 0., 0.],\n",
              "       [0., 0., 0., 0., 0., 0., 0.]], dtype=float32)>"
            ]
          },
          "metadata": {},
          "execution_count": 88
        }
      ]
    },
    {
      "cell_type": "code",
      "source": [
        "import numpy as np\n",
        "np.ones([10,7])"
      ],
      "metadata": {
        "colab": {
          "base_uri": "https://localhost:8080/"
        },
        "id": "HpyaJQ6YLjb0",
        "outputId": "2d2fabc6-d9ac-4c9b-9320-62e4e70552dc"
      },
      "execution_count": 89,
      "outputs": [
        {
          "output_type": "execute_result",
          "data": {
            "text/plain": [
              "array([[1., 1., 1., 1., 1., 1., 1.],\n",
              "       [1., 1., 1., 1., 1., 1., 1.],\n",
              "       [1., 1., 1., 1., 1., 1., 1.],\n",
              "       [1., 1., 1., 1., 1., 1., 1.],\n",
              "       [1., 1., 1., 1., 1., 1., 1.],\n",
              "       [1., 1., 1., 1., 1., 1., 1.],\n",
              "       [1., 1., 1., 1., 1., 1., 1.],\n",
              "       [1., 1., 1., 1., 1., 1., 1.],\n",
              "       [1., 1., 1., 1., 1., 1., 1.],\n",
              "       [1., 1., 1., 1., 1., 1., 1.]])"
            ]
          },
          "metadata": {},
          "execution_count": 89
        }
      ]
    },
    {
      "cell_type": "code",
      "source": [
        "numpy = np.arange(1,25)\n",
        "numpy"
      ],
      "metadata": {
        "colab": {
          "base_uri": "https://localhost:8080/"
        },
        "id": "rP-PQbUQLyOQ",
        "outputId": "c5920ea2-1091-49c5-ec79-07d38697ec65"
      },
      "execution_count": 90,
      "outputs": [
        {
          "output_type": "execute_result",
          "data": {
            "text/plain": [
              "array([ 1,  2,  3,  4,  5,  6,  7,  8,  9, 10, 11, 12, 13, 14, 15, 16, 17,\n",
              "       18, 19, 20, 21, 22, 23, 24])"
            ]
          },
          "metadata": {},
          "execution_count": 90
        }
      ]
    },
    {
      "cell_type": "code",
      "source": [
        "tf.constant(numpy, shape = (2,3,4))"
      ],
      "metadata": {
        "colab": {
          "base_uri": "https://localhost:8080/"
        },
        "id": "QmNbFZ3BMcYB",
        "outputId": "8f7a3e46-ded3-4885-ae1b-fc3aea8b21d1"
      },
      "execution_count": 91,
      "outputs": [
        {
          "output_type": "execute_result",
          "data": {
            "text/plain": [
              "<tf.Tensor: shape=(2, 3, 4), dtype=int64, numpy=\n",
              "array([[[ 1,  2,  3,  4],\n",
              "        [ 5,  6,  7,  8],\n",
              "        [ 9, 10, 11, 12]],\n",
              "\n",
              "       [[13, 14, 15, 16],\n",
              "        [17, 18, 19, 20],\n",
              "        [21, 22, 23, 24]]])>"
            ]
          },
          "metadata": {},
          "execution_count": 91
        }
      ]
    },
    {
      "cell_type": "code",
      "source": [
        "a = np.arange(1,61, dtype=np.int32)\n",
        "a"
      ],
      "metadata": {
        "colab": {
          "base_uri": "https://localhost:8080/"
        },
        "id": "o3sZlRywMevw",
        "outputId": "0db5ba66-6dd9-4bd8-c9bb-0259f9b2ef66"
      },
      "execution_count": 92,
      "outputs": [
        {
          "output_type": "execute_result",
          "data": {
            "text/plain": [
              "array([ 1,  2,  3,  4,  5,  6,  7,  8,  9, 10, 11, 12, 13, 14, 15, 16, 17,\n",
              "       18, 19, 20, 21, 22, 23, 24, 25, 26, 27, 28, 29, 30, 31, 32, 33, 34,\n",
              "       35, 36, 37, 38, 39, 40, 41, 42, 43, 44, 45, 46, 47, 48, 49, 50, 51,\n",
              "       52, 53, 54, 55, 56, 57, 58, 59, 60], dtype=int32)"
            ]
          },
          "metadata": {},
          "execution_count": 92
        }
      ]
    },
    {
      "cell_type": "code",
      "source": [
        "b = tf.constant(a, shape=(5,6,2))\n",
        "b"
      ],
      "metadata": {
        "colab": {
          "base_uri": "https://localhost:8080/"
        },
        "id": "P2yAu7yRNVvj",
        "outputId": "31a59d7d-c181-4e99-aa71-25ecffc988ee"
      },
      "execution_count": 93,
      "outputs": [
        {
          "output_type": "execute_result",
          "data": {
            "text/plain": [
              "<tf.Tensor: shape=(5, 6, 2), dtype=int32, numpy=\n",
              "array([[[ 1,  2],\n",
              "        [ 3,  4],\n",
              "        [ 5,  6],\n",
              "        [ 7,  8],\n",
              "        [ 9, 10],\n",
              "        [11, 12]],\n",
              "\n",
              "       [[13, 14],\n",
              "        [15, 16],\n",
              "        [17, 18],\n",
              "        [19, 20],\n",
              "        [21, 22],\n",
              "        [23, 24]],\n",
              "\n",
              "       [[25, 26],\n",
              "        [27, 28],\n",
              "        [29, 30],\n",
              "        [31, 32],\n",
              "        [33, 34],\n",
              "        [35, 36]],\n",
              "\n",
              "       [[37, 38],\n",
              "        [39, 40],\n",
              "        [41, 42],\n",
              "        [43, 44],\n",
              "        [45, 46],\n",
              "        [47, 48]],\n",
              "\n",
              "       [[49, 50],\n",
              "        [51, 52],\n",
              "        [53, 54],\n",
              "        [55, 56],\n",
              "        [57, 58],\n",
              "        [59, 60]]], dtype=int32)>"
            ]
          },
          "metadata": {},
          "execution_count": 93
        }
      ]
    },
    {
      "cell_type": "code",
      "source": [
        "a.shape\n"
      ],
      "metadata": {
        "colab": {
          "base_uri": "https://localhost:8080/"
        },
        "id": "fI2wOFL3NZDV",
        "outputId": "ecc83e66-0c20-4f5d-b076-56d18cb90e6c"
      },
      "execution_count": 94,
      "outputs": [
        {
          "output_type": "execute_result",
          "data": {
            "text/plain": [
              "(60,)"
            ]
          },
          "metadata": {},
          "execution_count": 94
        }
      ]
    },
    {
      "cell_type": "code",
      "source": [
        "b[0, :2]"
      ],
      "metadata": {
        "id": "tSB96aDSPa0a",
        "outputId": "8ea95dd1-cdca-4cee-89aa-6100fe070062",
        "colab": {
          "base_uri": "https://localhost:8080/"
        }
      },
      "execution_count": 95,
      "outputs": [
        {
          "output_type": "execute_result",
          "data": {
            "text/plain": [
              "<tf.Tensor: shape=(2, 2), dtype=int32, numpy=\n",
              "array([[1, 2],\n",
              "       [3, 4]], dtype=int32)>"
            ]
          },
          "metadata": {},
          "execution_count": 95
        }
      ]
    },
    {
      "cell_type": "code",
      "source": [
        "tensor = tf.random.uniform((2,4,3), minval=2, maxval=12, dtype=tf.int64)\n",
        "tensor"
      ],
      "metadata": {
        "id": "W3jab6N2RnQL",
        "colab": {
          "base_uri": "https://localhost:8080/"
        },
        "outputId": "4af4fa4a-cd26-4986-b096-487ec2370674"
      },
      "execution_count": 96,
      "outputs": [
        {
          "output_type": "execute_result",
          "data": {
            "text/plain": [
              "<tf.Tensor: shape=(2, 4, 3), dtype=int64, numpy=\n",
              "array([[[ 6, 10,  4],\n",
              "        [ 6,  2,  3],\n",
              "        [ 3,  5,  6],\n",
              "        [ 9,  8, 10]],\n",
              "\n",
              "       [[ 2, 10, 11],\n",
              "        [ 3,  2,  9],\n",
              "        [ 7,  7,  2],\n",
              "        [ 3,  3,  4]]])>"
            ]
          },
          "metadata": {},
          "execution_count": 96
        }
      ]
    },
    {
      "cell_type": "code",
      "source": [
        "tensor[:, -1]"
      ],
      "metadata": {
        "colab": {
          "base_uri": "https://localhost:8080/"
        },
        "id": "oUEwY9pZgKXc",
        "outputId": "07cdae65-4d8c-49ee-b970-da6b3b1e2386"
      },
      "execution_count": 97,
      "outputs": [
        {
          "output_type": "execute_result",
          "data": {
            "text/plain": [
              "<tf.Tensor: shape=(2, 3), dtype=int64, numpy=\n",
              "array([[ 9,  8, 10],\n",
              "       [ 3,  3,  4]])>"
            ]
          },
          "metadata": {},
          "execution_count": 97
        }
      ]
    },
    {
      "cell_type": "code",
      "source": [
        "# Adding extra dimention to our rank 2 tensor\n",
        "tensor = tensor[:, tf.newaxis, :]\n",
        "tensor"
      ],
      "metadata": {
        "colab": {
          "base_uri": "https://localhost:8080/"
        },
        "id": "BE4vjCkjhj2D",
        "outputId": "92e880ce-fc42-4133-9b8f-2b14a2323e7c"
      },
      "execution_count": 100,
      "outputs": [
        {
          "output_type": "execute_result",
          "data": {
            "text/plain": [
              "<tf.Tensor: shape=(2, 1, 1, 4, 3), dtype=int64, numpy=\n",
              "array([[[[[ 6, 10,  4],\n",
              "          [ 6,  2,  3],\n",
              "          [ 3,  5,  6],\n",
              "          [ 9,  8, 10]]]],\n",
              "\n",
              "\n",
              "\n",
              "       [[[[ 2, 10, 11],\n",
              "          [ 3,  2,  9],\n",
              "          [ 7,  7,  2],\n",
              "          [ 3,  3,  4]]]]])>"
            ]
          },
          "metadata": {},
          "execution_count": 100
        }
      ]
    },
    {
      "cell_type": "code",
      "source": [
        "# a = tf.expand_dims(tensor, axis=-1)\n",
        "# a = tf.tile(a, multiples=[2,2,2,2])\n",
        "# a.shape"
      ],
      "metadata": {
        "id": "yQ59fZGwh5Xv"
      },
      "execution_count": 101,
      "outputs": []
    },
    {
      "cell_type": "code",
      "source": [
        "tf.expand_dims(tensor, axis=0)"
      ],
      "metadata": {
        "colab": {
          "base_uri": "https://localhost:8080/"
        },
        "id": "j5xCvB3zjAHV",
        "outputId": "1eb1277d-ed40-42c9-8469-cce4b5c08202"
      },
      "execution_count": 102,
      "outputs": [
        {
          "output_type": "execute_result",
          "data": {
            "text/plain": [
              "<tf.Tensor: shape=(1, 2, 1, 1, 4, 3), dtype=int64, numpy=\n",
              "array([[[[[[ 6, 10,  4],\n",
              "           [ 6,  2,  3],\n",
              "           [ 3,  5,  6],\n",
              "           [ 9,  8, 10]]]],\n",
              "\n",
              "\n",
              "\n",
              "        [[[[ 2, 10, 11],\n",
              "           [ 3,  2,  9],\n",
              "           [ 7,  7,  2],\n",
              "           [ 3,  3,  4]]]]]])>"
            ]
          },
          "metadata": {},
          "execution_count": 102
        }
      ]
    },
    {
      "cell_type": "code",
      "source": [
        "tensor *= 10\n",
        "tensor"
      ],
      "metadata": {
        "colab": {
          "base_uri": "https://localhost:8080/"
        },
        "id": "BePBFauljHgk",
        "outputId": "e54aaa35-bdc7-43f0-84a0-c0883239e646"
      },
      "execution_count": 103,
      "outputs": [
        {
          "output_type": "execute_result",
          "data": {
            "text/plain": [
              "<tf.Tensor: shape=(2, 1, 1, 4, 3), dtype=int64, numpy=\n",
              "array([[[[[ 60, 100,  40],\n",
              "          [ 60,  20,  30],\n",
              "          [ 30,  50,  60],\n",
              "          [ 90,  80, 100]]]],\n",
              "\n",
              "\n",
              "\n",
              "       [[[[ 20, 100, 110],\n",
              "          [ 30,  20,  90],\n",
              "          [ 70,  70,  20],\n",
              "          [ 30,  30,  40]]]]])>"
            ]
          },
          "metadata": {},
          "execution_count": 103
        }
      ]
    },
    {
      "cell_type": "code",
      "source": [
        "print(tensor)\n",
        "\n",
        "tf.subtract(tensor, 10)"
      ],
      "metadata": {
        "colab": {
          "base_uri": "https://localhost:8080/"
        },
        "id": "eQe90W7Sni88",
        "outputId": "4e752cd1-965c-4f65-cf5f-71ac044e5e8f"
      },
      "execution_count": 106,
      "outputs": [
        {
          "output_type": "stream",
          "name": "stdout",
          "text": [
            "tf.Tensor(\n",
            "[[[[[ 60 100  40]\n",
            "    [ 60  20  30]\n",
            "    [ 30  50  60]\n",
            "    [ 90  80 100]]]]\n",
            "\n",
            "\n",
            "\n",
            " [[[[ 20 100 110]\n",
            "    [ 30  20  90]\n",
            "    [ 70  70  20]\n",
            "    [ 30  30  40]]]]], shape=(2, 1, 1, 4, 3), dtype=int64)\n"
          ]
        },
        {
          "output_type": "execute_result",
          "data": {
            "text/plain": [
              "<tf.Tensor: shape=(2, 1, 1, 4, 3), dtype=int64, numpy=\n",
              "array([[[[[ 50,  90,  30],\n",
              "          [ 50,  10,  20],\n",
              "          [ 20,  40,  50],\n",
              "          [ 80,  70,  90]]]],\n",
              "\n",
              "\n",
              "\n",
              "       [[[[ 10,  90, 100],\n",
              "          [ 20,  10,  80],\n",
              "          [ 60,  60,  10],\n",
              "          [ 20,  20,  30]]]]])>"
            ]
          },
          "metadata": {},
          "execution_count": 106
        }
      ]
    },
    {
      "cell_type": "code",
      "source": [
        "# a = tf.reshape(tensor, shape=(3,1,2))\n",
        "# a\n",
        "# tf.matmul(tensor, a)"
      ],
      "metadata": {
        "id": "513HKDkGoSNn"
      },
      "execution_count": 107,
      "outputs": []
    },
    {
      "cell_type": "code",
      "source": [
        "tensor.shape"
      ],
      "metadata": {
        "colab": {
          "base_uri": "https://localhost:8080/"
        },
        "id": "PUV-cbEWqK_H",
        "outputId": "084ad8a8-e04e-477a-94c7-dafa3f8ef718"
      },
      "execution_count": 108,
      "outputs": [
        {
          "output_type": "execute_result",
          "data": {
            "text/plain": [
              "TensorShape([2, 1, 1, 4, 3])"
            ]
          },
          "metadata": {},
          "execution_count": 108
        }
      ]
    },
    {
      "cell_type": "code",
      "source": [
        "tensor1 = tf.random.uniform((2,3,6), minval=1, maxval=10, dtype=tf.int64)\n",
        "tf.matmul(tensor, tensor1)"
      ],
      "metadata": {
        "colab": {
          "base_uri": "https://localhost:8080/"
        },
        "id": "AL_NJKauqro_",
        "outputId": "aca14594-e7cd-4cdf-fd4a-9cb9afbafae6"
      },
      "execution_count": 109,
      "outputs": [
        {
          "output_type": "execute_result",
          "data": {
            "text/plain": [
              "<tf.Tensor: shape=(2, 1, 2, 4, 6), dtype=int64, numpy=\n",
              "array([[[[[ 740,  940,  940, 1500,  780, 1400],\n",
              "          [ 350,  700,  730,  930,  620,  670],\n",
              "          [ 650,  790,  670, 1110,  710, 1060],\n",
              "          [1110, 1590, 1470, 2190, 1420, 1900]],\n",
              "\n",
              "         [[1140,  200, 1260,  720, 1020, 1700],\n",
              "          [ 500,  110,  510,  450,  510,  900],\n",
              "          [ 890,  140,  750,  480,  630, 1170],\n",
              "          [1540,  270, 1380,  990, 1230, 2240]]]],\n",
              "\n",
              "\n",
              "\n",
              "       [[[[1190, 1220,  930, 1770, 1100, 1870],\n",
              "          [ 740,  970,  760, 1200,  920, 1090],\n",
              "          [ 490,  790,  870, 1230,  650, 1020],\n",
              "          [ 430,  590,  530,  810,  530,  720]],\n",
              "\n",
              "         [[1620,  230, 1310,  730, 1030, 1940],\n",
              "          [ 920,  140,  570,  480,  540, 1140],\n",
              "          [ 790,  160,  970,  620,  830, 1350],\n",
              "          [ 590,  100,  510,  360,  450,  830]]]]])>"
            ]
          },
          "metadata": {},
          "execution_count": 109
        }
      ]
    },
    {
      "cell_type": "code",
      "source": [
        "tensor_A = tf.random.uniform((3,3), minval=1, maxval=8, dtype=tf.int32)\n",
        "tensor_B = tf.constant([[3,5],\n",
        "                        [6,7],\n",
        "                        [1,8]])\n",
        "\n",
        "tensor_A"
      ],
      "metadata": {
        "colab": {
          "base_uri": "https://localhost:8080/"
        },
        "id": "g4ayjT-Wxh4K",
        "outputId": "34050b2b-cdd0-49cd-8440-b34c33f636e4"
      },
      "execution_count": 124,
      "outputs": [
        {
          "output_type": "execute_result",
          "data": {
            "text/plain": [
              "<tf.Tensor: shape=(3, 3), dtype=int32, numpy=\n",
              "array([[3, 6, 2],\n",
              "       [7, 6, 1],\n",
              "       [7, 3, 6]], dtype=int32)>"
            ]
          },
          "metadata": {},
          "execution_count": 124
        }
      ]
    },
    {
      "cell_type": "code",
      "source": [
        "# 3 different methods:\n",
        "\n",
        "# tf.matmul(tensor_A, tensor_B)\n",
        "# tf.tensordot(tensor_A, tensor_B, axes=1)\n",
        "# tensor_A @ tensor_B"
      ],
      "metadata": {
        "colab": {
          "base_uri": "https://localhost:8080/"
        },
        "id": "vs6AIVewyBfS",
        "outputId": "632d2048-2d3b-435d-9ed0-44a30515eca7"
      },
      "execution_count": 127,
      "outputs": [
        {
          "output_type": "execute_result",
          "data": {
            "text/plain": [
              "<tf.Tensor: shape=(3, 2), dtype=int32, numpy=\n",
              "array([[ 47,  73],\n",
              "       [ 58,  85],\n",
              "       [ 45, 104]], dtype=int32)>"
            ]
          },
          "metadata": {},
          "execution_count": 127
        }
      ]
    },
    {
      "cell_type": "code",
      "source": [
        "tf.cast(tensor_A, dtype=tf.float16)"
      ],
      "metadata": {
        "colab": {
          "base_uri": "https://localhost:8080/"
        },
        "id": "C7ywKOWtFkC-",
        "outputId": "ae8f3723-94f3-49d5-cfea-a3a30f479378"
      },
      "execution_count": 132,
      "outputs": [
        {
          "output_type": "execute_result",
          "data": {
            "text/plain": [
              "<tf.Tensor: shape=(3, 3), dtype=float16, numpy=\n",
              "array([[3., 6., 2.],\n",
              "       [7., 6., 1.],\n",
              "       [7., 3., 6.]], dtype=float16)>"
            ]
          },
          "metadata": {},
          "execution_count": 132
        }
      ]
    },
    {
      "cell_type": "code",
      "source": [],
      "metadata": {
        "id": "S24ioreKHb4Q"
      },
      "execution_count": null,
      "outputs": []
    }
  ]
}
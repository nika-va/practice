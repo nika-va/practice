{
  "nbformat": 4,
  "nbformat_minor": 0,
  "metadata": {
    "colab": {
      "provenance": [],
      "authorship_tag": "ABX9TyMvbLs1rA4euGpX0FvR9zdP",
      "include_colab_link": true
    },
    "kernelspec": {
      "name": "python3",
      "display_name": "Python 3"
    },
    "language_info": {
      "name": "python"
    }
  },
  "cells": [
    {
      "cell_type": "markdown",
      "metadata": {
        "id": "view-in-github",
        "colab_type": "text"
      },
      "source": [
        "<a href=\"https://colab.research.google.com/github/nika-va/practice/blob/main/1_neural_network_regression.ipynb\" target=\"_parent\"><img src=\"https://colab.research.google.com/assets/colab-badge.svg\" alt=\"Open In Colab\"/></a>"
      ]
    },
    {
      "cell_type": "code",
      "execution_count": 2,
      "metadata": {
        "colab": {
          "base_uri": "https://localhost:8080/"
        },
        "id": "Do2NzmAaHgnn",
        "outputId": "7b1b74c6-4a9b-40fb-d317-270a71220d55"
      },
      "outputs": [
        {
          "output_type": "stream",
          "name": "stdout",
          "text": [
            "2.12.0\n"
          ]
        }
      ],
      "source": [
        "import tensorflow as tf\n",
        "print(tf.__version__)"
      ]
    },
    {
      "cell_type": "code",
      "source": [
        "import numpy as np\n",
        "import matplotlib.pyplot as plt\n",
        "\n",
        "x = np.array([-7., -4., -1., 2., 5., 8., 11., 14.,])\n",
        "y = np.array([3., 6., 9., 12., 15., 18., 21., 24.])\n",
        "plt.scatter(x,y)"
      ],
      "metadata": {
        "colab": {
          "base_uri": "https://localhost:8080/",
          "height": 452
        },
        "id": "k5dM2wsgIEXv",
        "outputId": "23aa6367-1633-422c-c0a4-db3e681c16bd"
      },
      "execution_count": 3,
      "outputs": [
        {
          "output_type": "execute_result",
          "data": {
            "text/plain": [
              "<matplotlib.collections.PathCollection at 0x7afb8f9c0790>"
            ]
          },
          "metadata": {},
          "execution_count": 3
        },
        {
          "output_type": "display_data",
          "data": {
            "text/plain": [
              "<Figure size 640x480 with 1 Axes>"
            ],
            "image/png": "[encoded data removed]"
          },
          "metadata": {}
        }
      ]
    },
    {
      "cell_type": "code",
      "source": [
        "x = tf.constant(x)\n",
        "y = tf.constant(y)\n",
        "x, y"
      ],
      "metadata": {
        "colab": {
          "base_uri": "https://localhost:8080/"
        },
        "id": "ZcamlTKlIpA1",
        "outputId": "56e52cd7-5e5d-4095-e225-2fb4bd08bb96"
      },
      "execution_count": 4,
      "outputs": [
        {
          "output_type": "execute_result",
          "data": {
            "text/plain": [
              "(<tf.Tensor: shape=(8,), dtype=float64, numpy=array([-7., -4., -1.,  2.,  5.,  8., 11., 14.])>,\n",
              " <tf.Tensor: shape=(8,), dtype=float64, numpy=array([ 3.,  6.,  9., 12., 15., 18., 21., 24.])>)"
            ]
          },
          "metadata": {},
          "execution_count": 4
        }
      ]
    },
    {
      "cell_type": "code",
      "source": [
        "tf.random.set_seed(42)\n",
        "model = tf.keras.Sequential([\n",
        "    tf.keras.layers.Dense(1)\n",
        "])\n",
        "\n",
        "# model = tf.keras.Sequential()\n",
        "# model.add(tf.keras.layers.Dense(1))\n",
        "\n",
        "model.compile(loss = tf.keras.losses.mae,\n",
        "              optimizer = tf.keras.optimizers.SGD(), #[\"sgd\"]\n",
        "              metrics = ['mae'])\n",
        "\n",
        "model.fit(tf.expand_dims(x, axis=-1), y, epochs=5)"
      ],
      "metadata": {
        "colab": {
          "base_uri": "https://localhost:8080/"
        },
        "id": "MMbQdZqZK_eS",
        "outputId": "6bdefd8b-4968-4f68-9882-f3e4c3e0fdea"
      },
      "execution_count": 5,
      "outputs": [
        {
          "output_type": "stream",
          "name": "stdout",
          "text": [
            "Epoch 1/5\n",
            "1/1 [==============================] - 1s 1s/step - loss: 8.3551 - mae: 8.3551\n",
            "Epoch 2/5\n",
            "1/1 [==============================] - 0s 22ms/step - loss: 8.2226 - mae: 8.2226\n",
            "Epoch 3/5\n",
            "1/1 [==============================] - 0s 28ms/step - loss: 8.0901 - mae: 8.0901\n",
            "Epoch 4/5\n",
            "1/1 [==============================] - 0s 15ms/step - loss: 7.9576 - mae: 7.9576\n",
            "Epoch 5/5\n",
            "1/1 [==============================] - 0s 25ms/step - loss: 7.8251 - mae: 7.8251\n"
          ]
        },
        {
          "output_type": "execute_result",
          "data": {
            "text/plain": [
              "<keras.callbacks.History at 0x7afb8a79bf10>"
            ]
          },
          "metadata": {},
          "execution_count": 5
        }
      ]
    },
    {
      "cell_type": "code",
      "source": [
        "model.predict([27.])"
      ],
      "metadata": {
        "colab": {
          "base_uri": "https://localhost:8080/"
        },
        "id": "FHMankaQPWAe",
        "outputId": "eb9218f9-9242-4410-933d-972114025cdf"
      },
      "execution_count": 6,
      "outputs": [
        {
          "output_type": "stream",
          "name": "stdout",
          "text": [
            "1/1 [==============================] - 0s 382ms/step\n"
          ]
        },
        {
          "output_type": "execute_result",
          "data": {
            "text/plain": [
              "array([[44.46401]], dtype=float32)"
            ]
          },
          "metadata": {},
          "execution_count": 6
        }
      ]
    },
    {
      "cell_type": "markdown",
      "source": [
        "#Improving our model"
      ],
      "metadata": {
        "id": "Fm17lkVhRyca"
      }
    },
    {
      "cell_type": "code",
      "source": [
        "model = tf.keras.Sequential([\n",
        "    tf.keras.layers.Dense(1)\n",
        "])\n",
        "\n",
        "model.compile(loss = tf.keras.losses.mae,\n",
        "              optimizer = tf.keras.optimizers.SGD(),\n",
        "              metrics = ['mae'])\n",
        "\n",
        "model.fit(tf.expand_dims(x, axis=-1), y, epochs=100)"
      ],
      "metadata": {
        "id": "1aLn_oTVSLbD",
        "colab": {
          "base_uri": "https://localhost:8080/"
        },
        "outputId": "5ae44477-7fb7-4b75-9295-89fce4fab900"
      },
      "execution_count": 16,
      "outputs": [
        {
          "output_type": "stream",
          "name": "stdout",
          "text": [
            "Epoch 1/100\n",
            "1/1 [==============================] - 0s 389ms/step - loss: 9.0728 - mae: 9.0728\n",
            "Epoch 2/100\n",
            "1/1 [==============================] - 0s 12ms/step - loss: 8.9403 - mae: 8.9403\n",
            "Epoch 3/100\n",
            "1/1 [==============================] - 0s 11ms/step - loss: 8.8078 - mae: 8.8078\n",
            "Epoch 4/100\n",
            "1/1 [==============================] - 0s 11ms/step - loss: 8.6753 - mae: 8.6753\n",
            "Epoch 5/100\n",
            "1/1 [==============================] - 0s 9ms/step - loss: 8.5428 - mae: 8.5428\n",
            "Epoch 6/100\n",
            "1/1 [==============================] - 0s 11ms/step - loss: 8.4103 - mae: 8.4103\n",
            "Epoch 7/100\n",
            "1/1 [==============================] - 0s 13ms/step - loss: 8.2778 - mae: 8.2778\n",
            "Epoch 8/100\n",
            "1/1 [==============================] - 0s 10ms/step - loss: 8.1453 - mae: 8.1453\n",
            "Epoch 9/100\n",
            "1/1 [==============================] - 0s 10ms/step - loss: 8.0128 - mae: 8.0128\n",
            "Epoch 10/100\n",
            "1/1 [==============================] - 0s 10ms/step - loss: 7.8803 - mae: 7.8803\n",
            "Epoch 11/100\n",
            "1/1 [==============================] - 0s 13ms/step - loss: 7.7478 - mae: 7.7478\n",
            "Epoch 12/100\n",
            "1/1 [==============================] - 0s 11ms/step - loss: 7.6153 - mae: 7.6153\n",
            "Epoch 13/100\n",
            "1/1 [==============================] - 0s 11ms/step - loss: 7.4828 - mae: 7.4828\n",
            "Epoch 14/100\n",
            "1/1 [==============================] - 0s 14ms/step - loss: 7.4025 - mae: 7.4025\n",
            "Epoch 15/100\n",
            "1/1 [==============================] - 0s 11ms/step - loss: 7.3969 - mae: 7.3969\n",
            "Epoch 16/100\n",
            "1/1 [==============================] - 0s 10ms/step - loss: 7.3912 - mae: 7.3912\n",
            "Epoch 17/100\n",
            "1/1 [==============================] - 0s 11ms/step - loss: 7.3856 - mae: 7.3856\n",
            "Epoch 18/100\n",
            "1/1 [==============================] - 0s 10ms/step - loss: 7.3800 - mae: 7.3800\n",
            "Epoch 19/100\n",
            "1/1 [==============================] - 0s 11ms/step - loss: 7.3744 - mae: 7.3744\n",
            "Epoch 20/100\n",
            "1/1 [==============================] - 0s 10ms/step - loss: 7.3688 - mae: 7.3688\n",
            "Epoch 21/100\n",
            "1/1 [==============================] - 0s 10ms/step - loss: 7.3631 - mae: 7.3631\n",
            "Epoch 22/100\n",
            "1/1 [==============================] - 0s 12ms/step - loss: 7.3575 - mae: 7.3575\n",
            "Epoch 23/100\n",
            "1/1 [==============================] - 0s 11ms/step - loss: 7.3519 - mae: 7.3519\n",
            "Epoch 24/100\n",
            "1/1 [==============================] - 0s 11ms/step - loss: 7.3463 - mae: 7.3463\n",
            "Epoch 25/100\n",
            "1/1 [==============================] - 0s 11ms/step - loss: 7.3406 - mae: 7.3406\n",
            "Epoch 26/100\n",
            "1/1 [==============================] - 0s 10ms/step - loss: 7.3350 - mae: 7.3350\n",
            "Epoch 27/100\n",
            "1/1 [==============================] - 0s 12ms/step - loss: 7.3294 - mae: 7.3294\n",
            "Epoch 28/100\n",
            "1/1 [==============================] - 0s 11ms/step - loss: 7.3238 - mae: 7.3238\n",
            "Epoch 29/100\n",
            "1/1 [==============================] - 0s 11ms/step - loss: 7.3181 - mae: 7.3181\n",
            "Epoch 30/100\n",
            "1/1 [==============================] - 0s 11ms/step - loss: 7.3125 - mae: 7.3125\n",
            "Epoch 31/100\n",
            "1/1 [==============================] - 0s 11ms/step - loss: 7.3069 - mae: 7.3069\n",
            "Epoch 32/100\n",
            "1/1 [==============================] - 0s 10ms/step - loss: 7.3013 - mae: 7.3013\n",
            "Epoch 33/100\n",
            "1/1 [==============================] - 0s 10ms/step - loss: 7.2956 - mae: 7.2956\n",
            "Epoch 34/100\n",
            "1/1 [==============================] - 0s 10ms/step - loss: 7.2900 - mae: 7.2900\n",
            "Epoch 35/100\n",
            "1/1 [==============================] - 0s 11ms/step - loss: 7.2844 - mae: 7.2844\n",
            "Epoch 36/100\n",
            "1/1 [==============================] - 0s 11ms/step - loss: 7.2787 - mae: 7.2787\n",
            "Epoch 37/100\n",
            "1/1 [==============================] - 0s 11ms/step - loss: 7.2731 - mae: 7.2731\n",
            "Epoch 38/100\n",
            "1/1 [==============================] - 0s 10ms/step - loss: 7.2675 - mae: 7.2675\n",
            "Epoch 39/100\n",
            "1/1 [==============================] - 0s 11ms/step - loss: 7.2619 - mae: 7.2619\n",
            "Epoch 40/100\n",
            "1/1 [==============================] - 0s 13ms/step - loss: 7.2563 - mae: 7.2563\n",
            "Epoch 41/100\n",
            "1/1 [==============================] - 0s 10ms/step - loss: 7.2506 - mae: 7.2506\n",
            "Epoch 42/100\n",
            "1/1 [==============================] - 0s 10ms/step - loss: 7.2450 - mae: 7.2450\n",
            "Epoch 43/100\n",
            "1/1 [==============================] - 0s 10ms/step - loss: 7.2394 - mae: 7.2394\n",
            "Epoch 44/100\n",
            "1/1 [==============================] - 0s 10ms/step - loss: 7.2338 - mae: 7.2338\n",
            "Epoch 45/100\n",
            "1/1 [==============================] - 0s 13ms/step - loss: 7.2281 - mae: 7.2281\n",
            "Epoch 46/100\n",
            "1/1 [==============================] - 0s 14ms/step - loss: 7.2225 - mae: 7.2225\n",
            "Epoch 47/100\n",
            "1/1 [==============================] - 0s 10ms/step - loss: 7.2169 - mae: 7.2169\n",
            "Epoch 48/100\n",
            "1/1 [==============================] - 0s 11ms/step - loss: 7.2112 - mae: 7.2112\n",
            "Epoch 49/100\n",
            "1/1 [==============================] - 0s 10ms/step - loss: 7.2056 - mae: 7.2056\n",
            "Epoch 50/100\n",
            "1/1 [==============================] - 0s 11ms/step - loss: 7.2000 - mae: 7.2000\n",
            "Epoch 51/100\n",
            "1/1 [==============================] - 0s 13ms/step - loss: 7.1944 - mae: 7.1944\n",
            "Epoch 52/100\n",
            "1/1 [==============================] - 0s 11ms/step - loss: 7.1887 - mae: 7.1887\n",
            "Epoch 53/100\n",
            "1/1 [==============================] - 0s 11ms/step - loss: 7.1831 - mae: 7.1831\n",
            "Epoch 54/100\n",
            "1/1 [==============================] - 0s 13ms/step - loss: 7.1775 - mae: 7.1775\n",
            "Epoch 55/100\n",
            "1/1 [==============================] - 0s 13ms/step - loss: 7.1719 - mae: 7.1719\n",
            "Epoch 56/100\n",
            "1/1 [==============================] - 0s 10ms/step - loss: 7.1663 - mae: 7.1663\n",
            "Epoch 57/100\n",
            "1/1 [==============================] - 0s 14ms/step - loss: 7.1606 - mae: 7.1606\n",
            "Epoch 58/100\n",
            "1/1 [==============================] - 0s 11ms/step - loss: 7.1550 - mae: 7.1550\n",
            "Epoch 59/100\n",
            "1/1 [==============================] - 0s 9ms/step - loss: 7.1494 - mae: 7.1494\n",
            "Epoch 60/100\n",
            "1/1 [==============================] - 0s 10ms/step - loss: 7.1438 - mae: 7.1438\n",
            "Epoch 61/100\n",
            "1/1 [==============================] - 0s 11ms/step - loss: 7.1381 - mae: 7.1381\n",
            "Epoch 62/100\n",
            "1/1 [==============================] - 0s 12ms/step - loss: 7.1325 - mae: 7.1325\n",
            "Epoch 63/100\n",
            "1/1 [==============================] - 0s 11ms/step - loss: 7.1269 - mae: 7.1269\n",
            "Epoch 64/100\n",
            "1/1 [==============================] - 0s 9ms/step - loss: 7.1213 - mae: 7.1213\n",
            "Epoch 65/100\n",
            "1/1 [==============================] - 0s 13ms/step - loss: 7.1156 - mae: 7.1156\n",
            "Epoch 66/100\n",
            "1/1 [==============================] - 0s 10ms/step - loss: 7.1100 - mae: 7.1100\n",
            "Epoch 67/100\n",
            "1/1 [==============================] - 0s 11ms/step - loss: 7.1044 - mae: 7.1044\n",
            "Epoch 68/100\n",
            "1/1 [==============================] - 0s 10ms/step - loss: 7.0988 - mae: 7.0988\n",
            "Epoch 69/100\n",
            "1/1 [==============================] - 0s 11ms/step - loss: 7.0931 - mae: 7.0931\n",
            "Epoch 70/100\n",
            "1/1 [==============================] - 0s 12ms/step - loss: 7.0875 - mae: 7.0875\n",
            "Epoch 71/100\n",
            "1/1 [==============================] - 0s 11ms/step - loss: 7.0819 - mae: 7.0819\n",
            "Epoch 72/100\n",
            "1/1 [==============================] - 0s 11ms/step - loss: 7.0763 - mae: 7.0763\n",
            "Epoch 73/100\n",
            "1/1 [==============================] - 0s 11ms/step - loss: 7.0706 - mae: 7.0706\n",
            "Epoch 74/100\n",
            "1/1 [==============================] - 0s 11ms/step - loss: 7.0650 - mae: 7.0650\n",
            "Epoch 75/100\n",
            "1/1 [==============================] - 0s 10ms/step - loss: 7.0594 - mae: 7.0594\n",
            "Epoch 76/100\n",
            "1/1 [==============================] - 0s 10ms/step - loss: 7.0538 - mae: 7.0538\n",
            "Epoch 77/100\n",
            "1/1 [==============================] - 0s 11ms/step - loss: 7.0481 - mae: 7.0481\n",
            "Epoch 78/100\n",
            "1/1 [==============================] - 0s 11ms/step - loss: 7.0425 - mae: 7.0425\n",
            "Epoch 79/100\n",
            "1/1 [==============================] - 0s 11ms/step - loss: 7.0369 - mae: 7.0369\n",
            "Epoch 80/100\n",
            "1/1 [==============================] - 0s 12ms/step - loss: 7.0312 - mae: 7.0312\n",
            "Epoch 81/100\n",
            "1/1 [==============================] - 0s 11ms/step - loss: 7.0256 - mae: 7.0256\n",
            "Epoch 82/100\n",
            "1/1 [==============================] - 0s 11ms/step - loss: 7.0200 - mae: 7.0200\n",
            "Epoch 83/100\n",
            "1/1 [==============================] - 0s 11ms/step - loss: 7.0144 - mae: 7.0144\n",
            "Epoch 84/100\n",
            "1/1 [==============================] - 0s 10ms/step - loss: 7.0087 - mae: 7.0087\n",
            "Epoch 85/100\n",
            "1/1 [==============================] - 0s 11ms/step - loss: 7.0031 - mae: 7.0031\n",
            "Epoch 86/100\n",
            "1/1 [==============================] - 0s 11ms/step - loss: 6.9975 - mae: 6.9975\n",
            "Epoch 87/100\n",
            "1/1 [==============================] - 0s 11ms/step - loss: 6.9919 - mae: 6.9919\n",
            "Epoch 88/100\n",
            "1/1 [==============================] - 0s 11ms/step - loss: 6.9863 - mae: 6.9863\n",
            "Epoch 89/100\n",
            "1/1 [==============================] - 0s 10ms/step - loss: 6.9806 - mae: 6.9806\n",
            "Epoch 90/100\n",
            "1/1 [==============================] - 0s 11ms/step - loss: 6.9750 - mae: 6.9750\n",
            "Epoch 91/100\n",
            "1/1 [==============================] - 0s 11ms/step - loss: 6.9694 - mae: 6.9694\n",
            "Epoch 92/100\n",
            "1/1 [==============================] - 0s 11ms/step - loss: 6.9638 - mae: 6.9638\n",
            "Epoch 93/100\n",
            "1/1 [==============================] - 0s 10ms/step - loss: 6.9581 - mae: 6.9581\n",
            "Epoch 94/100\n",
            "1/1 [==============================] - 0s 11ms/step - loss: 6.9525 - mae: 6.9525\n",
            "Epoch 95/100\n",
            "1/1 [==============================] - 0s 11ms/step - loss: 6.9469 - mae: 6.9469\n",
            "Epoch 96/100\n",
            "1/1 [==============================] - 0s 11ms/step - loss: 6.9413 - mae: 6.9413\n",
            "Epoch 97/100\n",
            "1/1 [==============================] - 0s 13ms/step - loss: 6.9356 - mae: 6.9356\n",
            "Epoch 98/100\n",
            "1/1 [==============================] - 0s 11ms/step - loss: 6.9300 - mae: 6.9300\n",
            "Epoch 99/100\n",
            "1/1 [==============================] - 0s 10ms/step - loss: 6.9244 - mae: 6.9244\n",
            "Epoch 100/100\n",
            "1/1 [==============================] - 0s 10ms/step - loss: 6.9188 - mae: 6.9188\n"
          ]
        },
        {
          "output_type": "execute_result",
          "data": {
            "text/plain": [
              "<keras.callbacks.History at 0x7afb89294970>"
            ]
          },
          "metadata": {},
          "execution_count": 16
        }
      ]
    },
    {
      "cell_type": "code",
      "source": [
        "model.predict([17.])"
      ],
      "metadata": {
        "colab": {
          "base_uri": "https://localhost:8080/"
        },
        "id": "5rcTTC_tJyMv",
        "outputId": "25b2a512-2ce6-454d-dd0a-1cb0d5411c51"
      },
      "execution_count": 15,
      "outputs": [
        {
          "output_type": "stream",
          "name": "stdout",
          "text": [
            "1/1 [==============================] - 0s 93ms/step\n"
          ]
        },
        {
          "output_type": "execute_result",
          "data": {
            "text/plain": [
              "array([[29.547356]], dtype=float32)"
            ]
          },
          "metadata": {},
          "execution_count": 15
        }
      ]
    },
    {
      "cell_type": "code",
      "source": [
        "model = tf.keras.Sequential([\n",
        "    tf.keras.layers.Dense(200, activation='relu'),\n",
        "    tf.keras.layers.Dense(200, activation='relu'),\n",
        "    tf.keras.layers.Dense(200, activation='relu'),\n",
        "    tf.keras.layers.Dense(1)\n",
        "])\n",
        "\n",
        "model.compile(loss = tf.keras.losses.mae,\n",
        "              optimizer = tf.keras.optimizers.Adam())\n",
        "\n",
        "model.fit(tf.expand_dims(x, axis=-1), y, epochs = 100)"
      ],
      "metadata": {
        "colab": {
          "base_uri": "https://localhost:8080/"
        },
        "id": "T1uJ3XPAK3aG",
        "outputId": "7c0ea998-c612-4bf7-a47c-ee6d3ea8ff2c"
      },
      "execution_count": 20,
      "outputs": [
        {
          "output_type": "stream",
          "name": "stdout",
          "text": [
            "Epoch 1/100\n",
            "1/1 [==============================] - 2s 2s/step - loss: 13.4749\n",
            "Epoch 2/100\n",
            "1/1 [==============================] - 0s 29ms/step - loss: 12.8932\n",
            "Epoch 3/100\n",
            "1/1 [==============================] - 0s 17ms/step - loss: 12.3622\n",
            "Epoch 4/100\n",
            "1/1 [==============================] - 0s 19ms/step - loss: 11.8529\n",
            "Epoch 5/100\n",
            "1/1 [==============================] - 0s 35ms/step - loss: 11.3317\n",
            "Epoch 6/100\n",
            "1/1 [==============================] - 0s 27ms/step - loss: 10.8176\n",
            "Epoch 7/100\n",
            "1/1 [==============================] - 0s 17ms/step - loss: 10.3914\n",
            "Epoch 8/100\n",
            "1/1 [==============================] - 0s 12ms/step - loss: 9.9233\n",
            "Epoch 9/100\n",
            "1/1 [==============================] - 0s 13ms/step - loss: 9.4103\n",
            "Epoch 10/100\n",
            "1/1 [==============================] - 0s 23ms/step - loss: 8.8433\n",
            "Epoch 11/100\n",
            "1/1 [==============================] - 0s 27ms/step - loss: 8.2169\n",
            "Epoch 12/100\n",
            "1/1 [==============================] - 0s 26ms/step - loss: 7.5214\n",
            "Epoch 13/100\n",
            "1/1 [==============================] - 0s 14ms/step - loss: 6.7513\n",
            "Epoch 14/100\n",
            "1/1 [==============================] - 0s 15ms/step - loss: 5.9106\n",
            "Epoch 15/100\n",
            "1/1 [==============================] - 0s 16ms/step - loss: 4.9888\n",
            "Epoch 16/100\n",
            "1/1 [==============================] - 0s 19ms/step - loss: 4.1532\n",
            "Epoch 17/100\n",
            "1/1 [==============================] - 0s 14ms/step - loss: 4.0192\n",
            "Epoch 18/100\n",
            "1/1 [==============================] - 0s 17ms/step - loss: 4.2314\n",
            "Epoch 19/100\n",
            "1/1 [==============================] - 0s 16ms/step - loss: 4.6091\n",
            "Epoch 20/100\n",
            "1/1 [==============================] - 0s 14ms/step - loss: 4.9304\n",
            "Epoch 21/100\n",
            "1/1 [==============================] - 0s 17ms/step - loss: 5.0833\n",
            "Epoch 22/100\n",
            "1/1 [==============================] - 0s 23ms/step - loss: 5.0899\n",
            "Epoch 23/100\n",
            "1/1 [==============================] - 0s 17ms/step - loss: 4.9752\n",
            "Epoch 24/100\n",
            "1/1 [==============================] - 0s 18ms/step - loss: 4.7647\n",
            "Epoch 25/100\n",
            "1/1 [==============================] - 0s 20ms/step - loss: 4.4824\n",
            "Epoch 26/100\n",
            "1/1 [==============================] - 0s 22ms/step - loss: 4.1646\n",
            "Epoch 27/100\n",
            "1/1 [==============================] - 0s 17ms/step - loss: 4.0334\n",
            "Epoch 28/100\n",
            "1/1 [==============================] - 0s 21ms/step - loss: 3.9047\n",
            "Epoch 29/100\n",
            "1/1 [==============================] - 0s 34ms/step - loss: 3.7798\n",
            "Epoch 30/100\n",
            "1/1 [==============================] - 0s 20ms/step - loss: 3.8427\n",
            "Epoch 31/100\n",
            "1/1 [==============================] - 0s 22ms/step - loss: 3.9681\n",
            "Epoch 32/100\n",
            "1/1 [==============================] - 0s 25ms/step - loss: 4.0199\n",
            "Epoch 33/100\n",
            "1/1 [==============================] - 0s 24ms/step - loss: 4.1374\n",
            "Epoch 34/100\n",
            "1/1 [==============================] - 0s 22ms/step - loss: 4.0952\n",
            "Epoch 35/100\n",
            "1/1 [==============================] - 0s 19ms/step - loss: 3.9520\n",
            "Epoch 36/100\n",
            "1/1 [==============================] - 0s 27ms/step - loss: 3.8724\n",
            "Epoch 37/100\n",
            "1/1 [==============================] - 0s 21ms/step - loss: 3.7789\n",
            "Epoch 38/100\n",
            "1/1 [==============================] - 0s 23ms/step - loss: 3.6713\n",
            "Epoch 39/100\n",
            "1/1 [==============================] - 0s 44ms/step - loss: 3.7370\n",
            "Epoch 40/100\n",
            "1/1 [==============================] - 0s 38ms/step - loss: 3.7872\n",
            "Epoch 41/100\n",
            "1/1 [==============================] - 0s 28ms/step - loss: 3.8200\n",
            "Epoch 42/100\n",
            "1/1 [==============================] - 0s 45ms/step - loss: 3.8355\n",
            "Epoch 43/100\n",
            "1/1 [==============================] - 0s 42ms/step - loss: 3.8344\n",
            "Epoch 44/100\n",
            "1/1 [==============================] - 0s 37ms/step - loss: 3.8185\n",
            "Epoch 45/100\n",
            "1/1 [==============================] - 0s 38ms/step - loss: 3.7892\n",
            "Epoch 46/100\n",
            "1/1 [==============================] - 0s 47ms/step - loss: 3.7485\n",
            "Epoch 47/100\n",
            "1/1 [==============================] - 0s 28ms/step - loss: 3.6997\n",
            "Epoch 48/100\n",
            "1/1 [==============================] - 0s 29ms/step - loss: 3.6403\n",
            "Epoch 49/100\n",
            "1/1 [==============================] - 0s 26ms/step - loss: 3.6125\n",
            "Epoch 50/100\n",
            "1/1 [==============================] - 0s 27ms/step - loss: 3.5229\n",
            "Epoch 51/100\n",
            "1/1 [==============================] - 0s 24ms/step - loss: 3.4688\n",
            "Epoch 52/100\n",
            "1/1 [==============================] - 0s 27ms/step - loss: 3.5016\n",
            "Epoch 53/100\n",
            "1/1 [==============================] - 0s 25ms/step - loss: 3.5020\n",
            "Epoch 54/100\n",
            "1/1 [==============================] - 0s 27ms/step - loss: 3.4716\n",
            "Epoch 55/100\n",
            "1/1 [==============================] - 0s 30ms/step - loss: 3.4126\n",
            "Epoch 56/100\n",
            "1/1 [==============================] - 0s 33ms/step - loss: 3.4059\n",
            "Epoch 57/100\n",
            "1/1 [==============================] - 0s 29ms/step - loss: 3.4078\n",
            "Epoch 58/100\n",
            "1/1 [==============================] - 0s 30ms/step - loss: 3.3950\n",
            "Epoch 59/100\n",
            "1/1 [==============================] - 0s 21ms/step - loss: 3.3632\n",
            "Epoch 60/100\n",
            "1/1 [==============================] - 0s 20ms/step - loss: 3.3186\n",
            "Epoch 61/100\n",
            "1/1 [==============================] - 0s 18ms/step - loss: 3.2541\n",
            "Epoch 62/100\n",
            "1/1 [==============================] - 0s 19ms/step - loss: 3.1866\n",
            "Epoch 63/100\n",
            "1/1 [==============================] - 0s 24ms/step - loss: 3.2041\n",
            "Epoch 64/100\n",
            "1/1 [==============================] - 0s 31ms/step - loss: 3.1752\n",
            "Epoch 65/100\n",
            "1/1 [==============================] - 0s 25ms/step - loss: 3.0987\n",
            "Epoch 66/100\n",
            "1/1 [==============================] - 0s 24ms/step - loss: 3.0336\n",
            "Epoch 67/100\n",
            "1/1 [==============================] - 0s 19ms/step - loss: 3.0109\n",
            "Epoch 68/100\n",
            "1/1 [==============================] - 0s 21ms/step - loss: 3.0053\n",
            "Epoch 69/100\n",
            "1/1 [==============================] - 0s 20ms/step - loss: 2.9103\n",
            "Epoch 70/100\n",
            "1/1 [==============================] - 0s 19ms/step - loss: 2.8462\n",
            "Epoch 71/100\n",
            "1/1 [==============================] - 0s 16ms/step - loss: 2.7929\n",
            "Epoch 72/100\n",
            "1/1 [==============================] - 0s 25ms/step - loss: 2.7355\n",
            "Epoch 73/100\n",
            "1/1 [==============================] - 0s 13ms/step - loss: 2.6766\n",
            "Epoch 74/100\n",
            "1/1 [==============================] - 0s 16ms/step - loss: 2.6200\n",
            "Epoch 75/100\n",
            "1/1 [==============================] - 0s 15ms/step - loss: 2.5482\n",
            "Epoch 76/100\n",
            "1/1 [==============================] - 0s 19ms/step - loss: 2.4533\n",
            "Epoch 77/100\n",
            "1/1 [==============================] - 0s 19ms/step - loss: 2.3847\n",
            "Epoch 78/100\n",
            "1/1 [==============================] - 0s 20ms/step - loss: 2.2756\n",
            "Epoch 79/100\n",
            "1/1 [==============================] - 0s 21ms/step - loss: 2.2155\n",
            "Epoch 80/100\n",
            "1/1 [==============================] - 0s 20ms/step - loss: 2.1285\n",
            "Epoch 81/100\n",
            "1/1 [==============================] - 0s 21ms/step - loss: 2.0334\n",
            "Epoch 82/100\n",
            "1/1 [==============================] - 0s 24ms/step - loss: 1.9058\n",
            "Epoch 83/100\n",
            "1/1 [==============================] - 0s 24ms/step - loss: 1.7695\n",
            "Epoch 84/100\n",
            "1/1 [==============================] - 0s 23ms/step - loss: 1.6537\n",
            "Epoch 85/100\n",
            "1/1 [==============================] - 0s 18ms/step - loss: 1.5164\n",
            "Epoch 86/100\n",
            "1/1 [==============================] - 0s 12ms/step - loss: 1.4040\n",
            "Epoch 87/100\n",
            "1/1 [==============================] - 0s 33ms/step - loss: 1.2448\n",
            "Epoch 88/100\n",
            "1/1 [==============================] - 0s 36ms/step - loss: 1.1055\n",
            "Epoch 89/100\n",
            "1/1 [==============================] - 0s 28ms/step - loss: 0.9275\n",
            "Epoch 90/100\n",
            "1/1 [==============================] - 0s 20ms/step - loss: 0.7335\n",
            "Epoch 91/100\n",
            "1/1 [==============================] - 0s 23ms/step - loss: 0.7002\n",
            "Epoch 92/100\n",
            "1/1 [==============================] - 0s 27ms/step - loss: 0.5929\n",
            "Epoch 93/100\n",
            "1/1 [==============================] - 0s 22ms/step - loss: 0.5368\n",
            "Epoch 94/100\n",
            "1/1 [==============================] - 0s 23ms/step - loss: 0.5794\n",
            "Epoch 95/100\n",
            "1/1 [==============================] - 0s 18ms/step - loss: 0.5507\n",
            "Epoch 96/100\n",
            "1/1 [==============================] - 0s 22ms/step - loss: 0.3497\n",
            "Epoch 97/100\n",
            "1/1 [==============================] - 0s 22ms/step - loss: 0.6627\n",
            "Epoch 98/100\n",
            "1/1 [==============================] - 0s 18ms/step - loss: 0.6188\n",
            "Epoch 99/100\n",
            "1/1 [==============================] - 0s 19ms/step - loss: 0.6441\n",
            "Epoch 100/100\n",
            "1/1 [==============================] - 0s 21ms/step - loss: 0.5448\n"
          ]
        },
        {
          "output_type": "execute_result",
          "data": {
            "text/plain": [
              "<keras.callbacks.History at 0x7afb884bf490>"
            ]
          },
          "metadata": {},
          "execution_count": 20
        }
      ]
    },
    {
      "cell_type": "code",
      "source": [],
      "metadata": {
        "id": "AIWbm2w6LvDG"
      },
      "execution_count": null,
      "outputs": []
    }
  ]
}
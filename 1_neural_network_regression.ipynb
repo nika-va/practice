{
  "nbformat": 4,
  "nbformat_minor": 0,
  "metadata": {
    "colab": {
      "provenance": [],
      "authorship_tag": "ABX9TyP95eViCUg593uNaUQ/7rvH",
      "include_colab_link": true
    },
    "kernelspec": {
      "name": "python3",
      "display_name": "Python 3"
    },
    "language_info": {
      "name": "python"
    }
  },
  "cells": [
    {
      "cell_type": "markdown",
      "metadata": {
        "id": "view-in-github",
        "colab_type": "text"
      },
      "source": [
        "<a href=\"https://colab.research.google.com/github/nika-va/practice/blob/main/1_neural_network_regression.ipynb\" target=\"_parent\"><img src=\"https://colab.research.google.com/assets/colab-badge.svg\" alt=\"Open In Colab\"/></a>"
      ]
    },
    {
      "cell_type": "code",
      "execution_count": 1,
      "metadata": {
        "colab": {
          "base_uri": "https://localhost:8080/"
        },
        "id": "Do2NzmAaHgnn",
        "outputId": "15681686-9478-467e-8d2c-6f2d04cdf183"
      },
      "outputs": [
        {
          "output_type": "stream",
          "name": "stdout",
          "text": [
            "2.12.0\n"
          ]
        }
      ],
      "source": [
        "import tensorflow as tf\n",
        "print(tf.__version__)"
      ]
    },
    {
      "cell_type": "code",
      "source": [
        "import numpy as np\n",
        "import matplotlib.pyplot as plt\n",
        "\n",
        "x = np.array([-7., -4., -1., 2., 5., 8., 11., 14.,])\n",
        "y = np.array([3., 6., 9., 12., 15., 18., 21., 24.])\n",
        "plt.scatter(x,y)"
      ],
      "metadata": {
        "colab": {
          "base_uri": "https://localhost:8080/",
          "height": 452
        },
        "id": "k5dM2wsgIEXv",
        "outputId": "78d89529-7837-4b0f-de66-d5aab46ed582"
      },
      "execution_count": 2,
      "outputs": [
        {
          "output_type": "execute_result",
          "data": {
            "text/plain": [
              "<matplotlib.collections.PathCollection at 0x785efcfa2140>"
            ]
          },
          "metadata": {},
          "execution_count": 2
        },
        {
          "output_type": "display_data",
          "data": {
            "text/plain": [
              "<Figure size 640x480 with 1 Axes>"
            ],
            "image/png": "[encoded data removed]"
          },
          "metadata": {}
        }
      ]
    },
    {
      "cell_type": "code",
      "source": [
        "x = tf.constant(x)\n",
        "y = tf.constant(y)\n",
        "x, y"
      ],
      "metadata": {
        "colab": {
          "base_uri": "https://localhost:8080/"
        },
        "id": "ZcamlTKlIpA1",
        "outputId": "20635198-d80a-4fc0-e691-397a862aafa1"
      },
      "execution_count": 3,
      "outputs": [
        {
          "output_type": "execute_result",
          "data": {
            "text/plain": [
              "(<tf.Tensor: shape=(8,), dtype=float64, numpy=array([-7., -4., -1.,  2.,  5.,  8., 11., 14.])>,\n",
              " <tf.Tensor: shape=(8,), dtype=float64, numpy=array([ 3.,  6.,  9., 12., 15., 18., 21., 24.])>)"
            ]
          },
          "metadata": {},
          "execution_count": 3
        }
      ]
    },
    {
      "cell_type": "code",
      "source": [
        "tf.random.set_seed(42)\n",
        "model = tf.keras.Sequential([\n",
        "    tf.keras.layers.Dense(1)\n",
        "])\n",
        "\n",
        "# model = tf.keras.Sequential()\n",
        "# model.add(tf.keras.layers.Dense(1))\n",
        "\n",
        "model.compile(loss = tf.keras.losses.mae,\n",
        "              optimizer = tf.keras.optimizers.SGD(), #[\"sgd\"]\n",
        "              metrics = ['mae'])\n",
        "\n",
        "model.fit(tf.expand_dims(x, axis=-1), y, epochs=5)"
      ],
      "metadata": {
        "colab": {
          "base_uri": "https://localhost:8080/"
        },
        "id": "MMbQdZqZK_eS",
        "outputId": "7b2c80d3-dd9d-439c-a2ab-96bf1c58dc99"
      },
      "execution_count": 4,
      "outputs": [
        {
          "output_type": "stream",
          "name": "stdout",
          "text": [
            "Epoch 1/5\n",
            "1/1 [==============================] - 1s 1s/step - loss: 8.4115 - mae: 8.4115\n",
            "Epoch 2/5\n",
            "1/1 [==============================] - 0s 21ms/step - loss: 8.2790 - mae: 8.2790\n",
            "Epoch 3/5\n",
            "1/1 [==============================] - 0s 20ms/step - loss: 8.1465 - mae: 8.1465\n",
            "Epoch 4/5\n",
            "1/1 [==============================] - 0s 15ms/step - loss: 8.0140 - mae: 8.0140\n",
            "Epoch 5/5\n",
            "1/1 [==============================] - 0s 29ms/step - loss: 7.8815 - mae: 7.8815\n"
          ]
        },
        {
          "output_type": "execute_result",
          "data": {
            "text/plain": [
              "<keras.callbacks.History at 0x785ef85ee200>"
            ]
          },
          "metadata": {},
          "execution_count": 4
        }
      ]
    },
    {
      "cell_type": "code",
      "source": [
        "model.predict([27.])"
      ],
      "metadata": {
        "colab": {
          "base_uri": "https://localhost:8080/"
        },
        "id": "FHMankaQPWAe",
        "outputId": "0103d023-da80-46eb-cdd1-e04910de1614"
      },
      "execution_count": 5,
      "outputs": [
        {
          "output_type": "stream",
          "name": "stdout",
          "text": [
            "1/1 [==============================] - 0s 185ms/step\n"
          ]
        },
        {
          "output_type": "execute_result",
          "data": {
            "text/plain": [
              "array([[44.029285]], dtype=float32)"
            ]
          },
          "metadata": {},
          "execution_count": 5
        }
      ]
    },
    {
      "cell_type": "markdown",
      "source": [
        "#Improving our model"
      ],
      "metadata": {
        "id": "Fm17lkVhRyca"
      }
    },
    {
      "cell_type": "code",
      "source": [
        "model = tf.keras.Sequential([\n",
        "    tf.keras.layers.Dense(1)\n",
        "])\n",
        "\n",
        "model.compile(loss = tf.keras.losses.mae,\n",
        "              optimizer = tf.keras.optimizers.SGD(),\n",
        "              metrics = ['mae'])\n",
        "\n",
        "model.fit(tf.expand_dims(x, axis=-1), y, epochs=100)"
      ],
      "metadata": {
        "id": "1aLn_oTVSLbD",
        "colab": {
          "base_uri": "https://localhost:8080/"
        },
        "outputId": "3f9340a3-f24f-499a-921a-6d04cd566c62"
      },
      "execution_count": 6,
      "outputs": [
        {
          "output_type": "stream",
          "name": "stdout",
          "text": [
            "Epoch 1/100\n",
            "1/1 [==============================] - 1s 581ms/step - loss: 8.2461 - mae: 8.2461\n",
            "Epoch 2/100\n",
            "1/1 [==============================] - 0s 30ms/step - loss: 8.1136 - mae: 8.1136\n",
            "Epoch 3/100\n",
            "1/1 [==============================] - 0s 20ms/step - loss: 7.9811 - mae: 7.9811\n",
            "Epoch 4/100\n",
            "1/1 [==============================] - 0s 15ms/step - loss: 7.8486 - mae: 7.8486\n",
            "Epoch 5/100\n",
            "1/1 [==============================] - 0s 19ms/step - loss: 7.7161 - mae: 7.7161\n",
            "Epoch 6/100\n",
            "1/1 [==============================] - 0s 19ms/step - loss: 7.5836 - mae: 7.5836\n",
            "Epoch 7/100\n",
            "1/1 [==============================] - 0s 19ms/step - loss: 7.4550 - mae: 7.4550\n",
            "Epoch 8/100\n",
            "1/1 [==============================] - 0s 13ms/step - loss: 7.4494 - mae: 7.4494\n",
            "Epoch 9/100\n",
            "1/1 [==============================] - 0s 12ms/step - loss: 7.4437 - mae: 7.4437\n",
            "Epoch 10/100\n",
            "1/1 [==============================] - 0s 10ms/step - loss: 7.4381 - mae: 7.4381\n",
            "Epoch 11/100\n",
            "1/1 [==============================] - 0s 22ms/step - loss: 7.4325 - mae: 7.4325\n",
            "Epoch 12/100\n",
            "1/1 [==============================] - 0s 16ms/step - loss: 7.4269 - mae: 7.4269\n",
            "Epoch 13/100\n",
            "1/1 [==============================] - 0s 25ms/step - loss: 7.4213 - mae: 7.4213\n",
            "Epoch 14/100\n",
            "1/1 [==============================] - 0s 22ms/step - loss: 7.4156 - mae: 7.4156\n",
            "Epoch 15/100\n",
            "1/1 [==============================] - 0s 17ms/step - loss: 7.4100 - mae: 7.4100\n",
            "Epoch 16/100\n",
            "1/1 [==============================] - 0s 36ms/step - loss: 7.4044 - mae: 7.4044\n",
            "Epoch 17/100\n",
            "1/1 [==============================] - 0s 26ms/step - loss: 7.3988 - mae: 7.3988\n",
            "Epoch 18/100\n",
            "1/1 [==============================] - 0s 30ms/step - loss: 7.3931 - mae: 7.3931\n",
            "Epoch 19/100\n",
            "1/1 [==============================] - 0s 18ms/step - loss: 7.3875 - mae: 7.3875\n",
            "Epoch 20/100\n",
            "1/1 [==============================] - 0s 15ms/step - loss: 7.3819 - mae: 7.3819\n",
            "Epoch 21/100\n",
            "1/1 [==============================] - 0s 20ms/step - loss: 7.3763 - mae: 7.3763\n",
            "Epoch 22/100\n",
            "1/1 [==============================] - 0s 18ms/step - loss: 7.3706 - mae: 7.3706\n",
            "Epoch 23/100\n",
            "1/1 [==============================] - 0s 18ms/step - loss: 7.3650 - mae: 7.3650\n",
            "Epoch 24/100\n",
            "1/1 [==============================] - 0s 12ms/step - loss: 7.3594 - mae: 7.3594\n",
            "Epoch 25/100\n",
            "1/1 [==============================] - 0s 11ms/step - loss: 7.3538 - mae: 7.3538\n",
            "Epoch 26/100\n",
            "1/1 [==============================] - 0s 11ms/step - loss: 7.3481 - mae: 7.3481\n",
            "Epoch 27/100\n",
            "1/1 [==============================] - 0s 12ms/step - loss: 7.3425 - mae: 7.3425\n",
            "Epoch 28/100\n",
            "1/1 [==============================] - 0s 11ms/step - loss: 7.3369 - mae: 7.3369\n",
            "Epoch 29/100\n",
            "1/1 [==============================] - 0s 12ms/step - loss: 7.3313 - mae: 7.3313\n",
            "Epoch 30/100\n",
            "1/1 [==============================] - 0s 10ms/step - loss: 7.3256 - mae: 7.3256\n",
            "Epoch 31/100\n",
            "1/1 [==============================] - 0s 11ms/step - loss: 7.3200 - mae: 7.3200\n",
            "Epoch 32/100\n",
            "1/1 [==============================] - 0s 10ms/step - loss: 7.3144 - mae: 7.3144\n",
            "Epoch 33/100\n",
            "1/1 [==============================] - 0s 10ms/step - loss: 7.3088 - mae: 7.3088\n",
            "Epoch 34/100\n",
            "1/1 [==============================] - 0s 10ms/step - loss: 7.3031 - mae: 7.3031\n",
            "Epoch 35/100\n",
            "1/1 [==============================] - 0s 11ms/step - loss: 7.2975 - mae: 7.2975\n",
            "Epoch 36/100\n",
            "1/1 [==============================] - 0s 10ms/step - loss: 7.2919 - mae: 7.2919\n",
            "Epoch 37/100\n",
            "1/1 [==============================] - 0s 39ms/step - loss: 7.2863 - mae: 7.2863\n",
            "Epoch 38/100\n",
            "1/1 [==============================] - 0s 20ms/step - loss: 7.2806 - mae: 7.2806\n",
            "Epoch 39/100\n",
            "1/1 [==============================] - 0s 14ms/step - loss: 7.2750 - mae: 7.2750\n",
            "Epoch 40/100\n",
            "1/1 [==============================] - 0s 11ms/step - loss: 7.2694 - mae: 7.2694\n",
            "Epoch 41/100\n",
            "1/1 [==============================] - 0s 11ms/step - loss: 7.2638 - mae: 7.2638\n",
            "Epoch 42/100\n",
            "1/1 [==============================] - 0s 16ms/step - loss: 7.2581 - mae: 7.2581\n",
            "Epoch 43/100\n",
            "1/1 [==============================] - 0s 17ms/step - loss: 7.2525 - mae: 7.2525\n",
            "Epoch 44/100\n",
            "1/1 [==============================] - 0s 17ms/step - loss: 7.2469 - mae: 7.2469\n",
            "Epoch 45/100\n",
            "1/1 [==============================] - 0s 16ms/step - loss: 7.2413 - mae: 7.2413\n",
            "Epoch 46/100\n",
            "1/1 [==============================] - 0s 17ms/step - loss: 7.2356 - mae: 7.2356\n",
            "Epoch 47/100\n",
            "1/1 [==============================] - 0s 22ms/step - loss: 7.2300 - mae: 7.2300\n",
            "Epoch 48/100\n",
            "1/1 [==============================] - 0s 21ms/step - loss: 7.2244 - mae: 7.2244\n",
            "Epoch 49/100\n",
            "1/1 [==============================] - 0s 18ms/step - loss: 7.2188 - mae: 7.2188\n",
            "Epoch 50/100\n",
            "1/1 [==============================] - 0s 16ms/step - loss: 7.2131 - mae: 7.2131\n",
            "Epoch 51/100\n",
            "1/1 [==============================] - 0s 14ms/step - loss: 7.2075 - mae: 7.2075\n",
            "Epoch 52/100\n",
            "1/1 [==============================] - 0s 15ms/step - loss: 7.2019 - mae: 7.2019\n",
            "Epoch 53/100\n",
            "1/1 [==============================] - 0s 16ms/step - loss: 7.1963 - mae: 7.1963\n",
            "Epoch 54/100\n",
            "1/1 [==============================] - 0s 29ms/step - loss: 7.1906 - mae: 7.1906\n",
            "Epoch 55/100\n",
            "1/1 [==============================] - 0s 26ms/step - loss: 7.1850 - mae: 7.1850\n",
            "Epoch 56/100\n",
            "1/1 [==============================] - 0s 25ms/step - loss: 7.1794 - mae: 7.1794\n",
            "Epoch 57/100\n",
            "1/1 [==============================] - 0s 12ms/step - loss: 7.1737 - mae: 7.1737\n",
            "Epoch 58/100\n",
            "1/1 [==============================] - 0s 34ms/step - loss: 7.1681 - mae: 7.1681\n",
            "Epoch 59/100\n",
            "1/1 [==============================] - 0s 22ms/step - loss: 7.1625 - mae: 7.1625\n",
            "Epoch 60/100\n",
            "1/1 [==============================] - 0s 23ms/step - loss: 7.1569 - mae: 7.1569\n",
            "Epoch 61/100\n",
            "1/1 [==============================] - 0s 24ms/step - loss: 7.1512 - mae: 7.1512\n",
            "Epoch 62/100\n",
            "1/1 [==============================] - 0s 27ms/step - loss: 7.1456 - mae: 7.1456\n",
            "Epoch 63/100\n",
            "1/1 [==============================] - 0s 21ms/step - loss: 7.1400 - mae: 7.1400\n",
            "Epoch 64/100\n",
            "1/1 [==============================] - 0s 22ms/step - loss: 7.1344 - mae: 7.1344\n",
            "Epoch 65/100\n",
            "1/1 [==============================] - 0s 14ms/step - loss: 7.1288 - mae: 7.1288\n",
            "Epoch 66/100\n",
            "1/1 [==============================] - 0s 31ms/step - loss: 7.1231 - mae: 7.1231\n",
            "Epoch 67/100\n",
            "1/1 [==============================] - 0s 13ms/step - loss: 7.1175 - mae: 7.1175\n",
            "Epoch 68/100\n",
            "1/1 [==============================] - 0s 12ms/step - loss: 7.1119 - mae: 7.1119\n",
            "Epoch 69/100\n",
            "1/1 [==============================] - 0s 11ms/step - loss: 7.1062 - mae: 7.1062\n",
            "Epoch 70/100\n",
            "1/1 [==============================] - 0s 16ms/step - loss: 7.1006 - mae: 7.1006\n",
            "Epoch 71/100\n",
            "1/1 [==============================] - 0s 19ms/step - loss: 7.0950 - mae: 7.0950\n",
            "Epoch 72/100\n",
            "1/1 [==============================] - 0s 18ms/step - loss: 7.0894 - mae: 7.0894\n",
            "Epoch 73/100\n",
            "1/1 [==============================] - 0s 15ms/step - loss: 7.0838 - mae: 7.0838\n",
            "Epoch 74/100\n",
            "1/1 [==============================] - 0s 19ms/step - loss: 7.0781 - mae: 7.0781\n",
            "Epoch 75/100\n",
            "1/1 [==============================] - 0s 19ms/step - loss: 7.0725 - mae: 7.0725\n",
            "Epoch 76/100\n",
            "1/1 [==============================] - 0s 20ms/step - loss: 7.0669 - mae: 7.0669\n",
            "Epoch 77/100\n",
            "1/1 [==============================] - 0s 19ms/step - loss: 7.0613 - mae: 7.0613\n",
            "Epoch 78/100\n",
            "1/1 [==============================] - 0s 15ms/step - loss: 7.0556 - mae: 7.0556\n",
            "Epoch 79/100\n",
            "1/1 [==============================] - 0s 12ms/step - loss: 7.0500 - mae: 7.0500\n",
            "Epoch 80/100\n",
            "1/1 [==============================] - 0s 34ms/step - loss: 7.0444 - mae: 7.0444\n",
            "Epoch 81/100\n",
            "1/1 [==============================] - 0s 18ms/step - loss: 7.0388 - mae: 7.0388\n",
            "Epoch 82/100\n",
            "1/1 [==============================] - 0s 16ms/step - loss: 7.0331 - mae: 7.0331\n",
            "Epoch 83/100\n",
            "1/1 [==============================] - 0s 35ms/step - loss: 7.0275 - mae: 7.0275\n",
            "Epoch 84/100\n",
            "1/1 [==============================] - 0s 19ms/step - loss: 7.0219 - mae: 7.0219\n",
            "Epoch 85/100\n",
            "1/1 [==============================] - 0s 35ms/step - loss: 7.0163 - mae: 7.0163\n",
            "Epoch 86/100\n",
            "1/1 [==============================] - 0s 29ms/step - loss: 7.0106 - mae: 7.0106\n",
            "Epoch 87/100\n",
            "1/1 [==============================] - 0s 23ms/step - loss: 7.0050 - mae: 7.0050\n",
            "Epoch 88/100\n",
            "1/1 [==============================] - 0s 23ms/step - loss: 6.9994 - mae: 6.9994\n",
            "Epoch 89/100\n",
            "1/1 [==============================] - 0s 42ms/step - loss: 6.9938 - mae: 6.9938\n",
            "Epoch 90/100\n",
            "1/1 [==============================] - 0s 24ms/step - loss: 6.9881 - mae: 6.9881\n",
            "Epoch 91/100\n",
            "1/1 [==============================] - 0s 14ms/step - loss: 6.9825 - mae: 6.9825\n",
            "Epoch 92/100\n",
            "1/1 [==============================] - 0s 14ms/step - loss: 6.9769 - mae: 6.9769\n",
            "Epoch 93/100\n",
            "1/1 [==============================] - 0s 18ms/step - loss: 6.9713 - mae: 6.9713\n",
            "Epoch 94/100\n",
            "1/1 [==============================] - 0s 31ms/step - loss: 6.9656 - mae: 6.9656\n",
            "Epoch 95/100\n",
            "1/1 [==============================] - 0s 16ms/step - loss: 6.9600 - mae: 6.9600\n",
            "Epoch 96/100\n",
            "1/1 [==============================] - 0s 23ms/step - loss: 6.9544 - mae: 6.9544\n",
            "Epoch 97/100\n",
            "1/1 [==============================] - 0s 19ms/step - loss: 6.9488 - mae: 6.9488\n",
            "Epoch 98/100\n",
            "1/1 [==============================] - 0s 27ms/step - loss: 6.9431 - mae: 6.9431\n",
            "Epoch 99/100\n",
            "1/1 [==============================] - 0s 18ms/step - loss: 6.9375 - mae: 6.9375\n",
            "Epoch 100/100\n",
            "1/1 [==============================] - 0s 18ms/step - loss: 6.9319 - mae: 6.9319\n"
          ]
        },
        {
          "output_type": "execute_result",
          "data": {
            "text/plain": [
              "<keras.callbacks.History at 0x785ef8431ff0>"
            ]
          },
          "metadata": {},
          "execution_count": 6
        }
      ]
    },
    {
      "cell_type": "code",
      "source": [
        "model.predict([17.])"
      ],
      "metadata": {
        "colab": {
          "base_uri": "https://localhost:8080/"
        },
        "id": "5rcTTC_tJyMv",
        "outputId": "18107919-530b-406a-d52a-01fce96736e4"
      },
      "execution_count": 7,
      "outputs": [
        {
          "output_type": "stream",
          "name": "stdout",
          "text": [
            "1/1 [==============================] - 0s 354ms/step\n"
          ]
        },
        {
          "output_type": "execute_result",
          "data": {
            "text/plain": [
              "array([[29.8539]], dtype=float32)"
            ]
          },
          "metadata": {},
          "execution_count": 7
        }
      ]
    },
    {
      "cell_type": "code",
      "source": [
        "model = tf.keras.Sequential([\n",
        "    tf.keras.layers.Dense(200, activation='relu'),\n",
        "    tf.keras.layers.Dense(200, activation='relu'),\n",
        "    tf.keras.layers.Dense(200, activation='relu'),\n",
        "    tf.keras.layers.Dense(1)\n",
        "])\n",
        "\n",
        "model.compile(loss = tf.keras.losses.mae,\n",
        "              optimizer = tf.keras.optimizers.Adam(lr=0.01))\n",
        "\n",
        "model.fit(tf.expand_dims(x, axis=-1), y, epochs = 100)"
      ],
      "metadata": {
        "colab": {
          "base_uri": "https://localhost:8080/"
        },
        "id": "T1uJ3XPAK3aG",
        "outputId": "bc051d02-a710-4af6-f2df-122643cc037e"
      },
      "execution_count": 8,
      "outputs": [
        {
          "output_type": "stream",
          "name": "stderr",
          "text": [
            "WARNING:absl:`lr` is deprecated in Keras optimizer, please use `learning_rate` or use the legacy optimizer, e.g.,tf.keras.optimizers.legacy.Adam.\n"
          ]
        },
        {
          "output_type": "stream",
          "name": "stdout",
          "text": [
            "Epoch 1/100\n",
            "1/1 [==============================] - 3s 3s/step - loss: 12.4582\n",
            "Epoch 2/100\n",
            "1/1 [==============================] - 0s 28ms/step - loss: 11.7323\n",
            "Epoch 3/100\n",
            "1/1 [==============================] - 0s 22ms/step - loss: 11.0115\n",
            "Epoch 4/100\n",
            "1/1 [==============================] - 0s 13ms/step - loss: 10.2755\n",
            "Epoch 5/100\n",
            "1/1 [==============================] - 0s 16ms/step - loss: 9.5119\n",
            "Epoch 6/100\n",
            "1/1 [==============================] - 0s 15ms/step - loss: 8.7817\n",
            "Epoch 7/100\n",
            "1/1 [==============================] - 0s 19ms/step - loss: 8.0447\n",
            "Epoch 8/100\n",
            "1/1 [==============================] - 0s 15ms/step - loss: 7.2523\n",
            "Epoch 9/100\n",
            "1/1 [==============================] - 0s 22ms/step - loss: 6.3796\n",
            "Epoch 10/100\n",
            "1/1 [==============================] - 0s 20ms/step - loss: 5.4183\n",
            "Epoch 11/100\n",
            "1/1 [==============================] - 0s 14ms/step - loss: 4.3697\n",
            "Epoch 12/100\n",
            "1/1 [==============================] - 0s 39ms/step - loss: 3.9904\n",
            "Epoch 13/100\n",
            "1/1 [==============================] - 0s 34ms/step - loss: 4.2354\n",
            "Epoch 14/100\n",
            "1/1 [==============================] - 0s 31ms/step - loss: 4.5935\n",
            "Epoch 15/100\n",
            "1/1 [==============================] - 0s 19ms/step - loss: 4.9618\n",
            "Epoch 16/100\n",
            "1/1 [==============================] - 0s 14ms/step - loss: 5.1438\n",
            "Epoch 17/100\n",
            "1/1 [==============================] - 0s 13ms/step - loss: 5.1695\n",
            "Epoch 18/100\n",
            "1/1 [==============================] - 0s 20ms/step - loss: 5.0633\n",
            "Epoch 19/100\n",
            "1/1 [==============================] - 0s 13ms/step - loss: 4.8514\n",
            "Epoch 20/100\n",
            "1/1 [==============================] - 0s 13ms/step - loss: 4.5582\n",
            "Epoch 21/100\n",
            "1/1 [==============================] - 0s 19ms/step - loss: 4.2431\n",
            "Epoch 22/100\n",
            "1/1 [==============================] - 0s 16ms/step - loss: 4.1057\n",
            "Epoch 23/100\n",
            "1/1 [==============================] - 0s 16ms/step - loss: 3.9713\n",
            "Epoch 24/100\n",
            "1/1 [==============================] - 0s 15ms/step - loss: 3.8404\n",
            "Epoch 25/100\n",
            "1/1 [==============================] - 0s 20ms/step - loss: 3.9707\n",
            "Epoch 26/100\n",
            "1/1 [==============================] - 0s 23ms/step - loss: 4.0671\n",
            "Epoch 27/100\n",
            "1/1 [==============================] - 0s 31ms/step - loss: 4.2512\n",
            "Epoch 28/100\n",
            "1/1 [==============================] - 0s 24ms/step - loss: 4.2965\n",
            "Epoch 29/100\n",
            "1/1 [==============================] - 0s 27ms/step - loss: 4.1712\n",
            "Epoch 30/100\n",
            "1/1 [==============================] - 0s 19ms/step - loss: 3.9932\n",
            "Epoch 31/100\n",
            "1/1 [==============================] - 0s 26ms/step - loss: 3.8874\n",
            "Epoch 32/100\n",
            "1/1 [==============================] - 0s 22ms/step - loss: 3.7694\n",
            "Epoch 33/100\n",
            "1/1 [==============================] - 0s 21ms/step - loss: 3.7718\n",
            "Epoch 34/100\n",
            "1/1 [==============================] - 0s 31ms/step - loss: 3.8186\n",
            "Epoch 35/100\n",
            "1/1 [==============================] - 0s 12ms/step - loss: 3.8602\n",
            "Epoch 36/100\n",
            "1/1 [==============================] - 0s 29ms/step - loss: 3.8847\n",
            "Epoch 37/100\n",
            "1/1 [==============================] - 0s 20ms/step - loss: 3.8927\n",
            "Epoch 38/100\n",
            "1/1 [==============================] - 0s 26ms/step - loss: 3.8885\n",
            "Epoch 39/100\n",
            "1/1 [==============================] - 0s 27ms/step - loss: 3.8741\n",
            "Epoch 40/100\n",
            "1/1 [==============================] - 0s 16ms/step - loss: 3.8480\n",
            "Epoch 41/100\n",
            "1/1 [==============================] - 0s 18ms/step - loss: 3.8102\n",
            "Epoch 42/100\n",
            "1/1 [==============================] - 0s 11ms/step - loss: 3.7637\n",
            "Epoch 43/100\n",
            "1/1 [==============================] - 0s 22ms/step - loss: 3.7079\n",
            "Epoch 44/100\n",
            "1/1 [==============================] - 0s 37ms/step - loss: 3.6458\n",
            "Epoch 45/100\n",
            "1/1 [==============================] - 0s 13ms/step - loss: 3.5769\n",
            "Epoch 46/100\n",
            "1/1 [==============================] - 0s 18ms/step - loss: 3.6410\n",
            "Epoch 47/100\n",
            "1/1 [==============================] - 0s 19ms/step - loss: 3.6761\n",
            "Epoch 48/100\n",
            "1/1 [==============================] - 0s 13ms/step - loss: 3.6840\n",
            "Epoch 49/100\n",
            "1/1 [==============================] - 0s 19ms/step - loss: 3.6654\n",
            "Epoch 50/100\n",
            "1/1 [==============================] - 0s 26ms/step - loss: 3.6259\n",
            "Epoch 51/100\n",
            "1/1 [==============================] - 0s 18ms/step - loss: 3.5615\n",
            "Epoch 52/100\n",
            "1/1 [==============================] - 0s 14ms/step - loss: 3.4772\n",
            "Epoch 53/100\n",
            "1/1 [==============================] - 0s 39ms/step - loss: 3.4923\n",
            "Epoch 54/100\n",
            "1/1 [==============================] - 0s 14ms/step - loss: 3.5178\n",
            "Epoch 55/100\n",
            "1/1 [==============================] - 0s 24ms/step - loss: 3.5259\n",
            "Epoch 56/100\n",
            "1/1 [==============================] - 0s 18ms/step - loss: 3.5170\n",
            "Epoch 57/100\n",
            "1/1 [==============================] - 0s 19ms/step - loss: 3.4900\n",
            "Epoch 58/100\n",
            "1/1 [==============================] - 0s 41ms/step - loss: 3.4495\n",
            "Epoch 59/100\n",
            "1/1 [==============================] - 0s 23ms/step - loss: 3.3941\n",
            "Epoch 60/100\n",
            "1/1 [==============================] - 0s 21ms/step - loss: 3.3247\n",
            "Epoch 61/100\n",
            "1/1 [==============================] - 0s 21ms/step - loss: 3.2512\n",
            "Epoch 62/100\n",
            "1/1 [==============================] - 0s 19ms/step - loss: 3.2880\n",
            "Epoch 63/100\n",
            "1/1 [==============================] - 0s 21ms/step - loss: 3.2451\n",
            "Epoch 64/100\n",
            "1/1 [==============================] - 0s 19ms/step - loss: 3.1874\n",
            "Epoch 65/100\n",
            "1/1 [==============================] - 0s 15ms/step - loss: 3.0983\n",
            "Epoch 66/100\n",
            "1/1 [==============================] - 0s 21ms/step - loss: 3.0799\n",
            "Epoch 67/100\n",
            "1/1 [==============================] - 0s 16ms/step - loss: 3.0347\n",
            "Epoch 68/100\n",
            "1/1 [==============================] - 0s 19ms/step - loss: 2.9741\n",
            "Epoch 69/100\n",
            "1/1 [==============================] - 0s 51ms/step - loss: 2.9171\n",
            "Epoch 70/100\n",
            "1/1 [==============================] - 0s 29ms/step - loss: 2.8435\n",
            "Epoch 71/100\n",
            "1/1 [==============================] - 0s 29ms/step - loss: 2.7785\n",
            "Epoch 72/100\n",
            "1/1 [==============================] - 0s 21ms/step - loss: 2.7355\n",
            "Epoch 73/100\n",
            "1/1 [==============================] - 0s 15ms/step - loss: 2.6694\n",
            "Epoch 74/100\n",
            "1/1 [==============================] - 0s 15ms/step - loss: 2.5749\n",
            "Epoch 75/100\n",
            "1/1 [==============================] - 0s 18ms/step - loss: 2.4785\n",
            "Epoch 76/100\n",
            "1/1 [==============================] - 0s 15ms/step - loss: 2.4047\n",
            "Epoch 77/100\n",
            "1/1 [==============================] - 0s 12ms/step - loss: 2.3077\n",
            "Epoch 78/100\n",
            "1/1 [==============================] - 0s 15ms/step - loss: 2.2681\n",
            "Epoch 79/100\n",
            "1/1 [==============================] - 0s 11ms/step - loss: 2.1186\n",
            "Epoch 80/100\n",
            "1/1 [==============================] - 0s 18ms/step - loss: 2.0573\n",
            "Epoch 81/100\n",
            "1/1 [==============================] - 0s 15ms/step - loss: 1.9769\n",
            "Epoch 82/100\n",
            "1/1 [==============================] - 0s 17ms/step - loss: 1.8420\n",
            "Epoch 83/100\n",
            "1/1 [==============================] - 0s 13ms/step - loss: 1.6496\n",
            "Epoch 84/100\n",
            "1/1 [==============================] - 0s 15ms/step - loss: 1.4195\n",
            "Epoch 85/100\n",
            "1/1 [==============================] - 0s 24ms/step - loss: 1.3450\n",
            "Epoch 86/100\n",
            "1/1 [==============================] - 0s 19ms/step - loss: 1.0936\n",
            "Epoch 87/100\n",
            "1/1 [==============================] - 0s 18ms/step - loss: 0.9120\n",
            "Epoch 88/100\n",
            "1/1 [==============================] - 0s 21ms/step - loss: 0.9418\n",
            "Epoch 89/100\n",
            "1/1 [==============================] - 0s 15ms/step - loss: 0.5863\n",
            "Epoch 90/100\n",
            "1/1 [==============================] - 0s 19ms/step - loss: 0.8684\n",
            "Epoch 91/100\n",
            "1/1 [==============================] - 0s 25ms/step - loss: 0.7083\n",
            "Epoch 92/100\n",
            "1/1 [==============================] - 0s 13ms/step - loss: 0.4602\n",
            "Epoch 93/100\n",
            "1/1 [==============================] - 0s 23ms/step - loss: 0.4882\n",
            "Epoch 94/100\n",
            "1/1 [==============================] - 0s 15ms/step - loss: 0.8984\n",
            "Epoch 95/100\n",
            "1/1 [==============================] - 0s 14ms/step - loss: 0.8827\n",
            "Epoch 96/100\n",
            "1/1 [==============================] - 0s 14ms/step - loss: 0.4787\n",
            "Epoch 97/100\n",
            "1/1 [==============================] - 0s 13ms/step - loss: 0.9964\n",
            "Epoch 98/100\n",
            "1/1 [==============================] - 0s 17ms/step - loss: 0.8050\n",
            "Epoch 99/100\n",
            "1/1 [==============================] - 0s 17ms/step - loss: 0.5658\n",
            "Epoch 100/100\n",
            "1/1 [==============================] - 0s 15ms/step - loss: 0.6730\n"
          ]
        },
        {
          "output_type": "execute_result",
          "data": {
            "text/plain": [
              "<keras.callbacks.History at 0x785ef829b490>"
            ]
          },
          "metadata": {},
          "execution_count": 8
        }
      ]
    },
    {
      "cell_type": "code",
      "source": [
        "model.predict([11.])"
      ],
      "metadata": {
        "colab": {
          "base_uri": "https://localhost:8080/"
        },
        "id": "AIWbm2w6LvDG",
        "outputId": "be5fee3a-a16f-4df1-c38b-d2d428b9cb54"
      },
      "execution_count": 9,
      "outputs": [
        {
          "output_type": "stream",
          "name": "stdout",
          "text": [
            "1/1 [==============================] - 0s 170ms/step\n"
          ]
        },
        {
          "output_type": "execute_result",
          "data": {
            "text/plain": [
              "array([[20.633917]], dtype=float32)"
            ]
          },
          "metadata": {},
          "execution_count": 9
        }
      ]
    },
    {
      "cell_type": "code",
      "source": [
        "x = tf.range(-100, 100, 4)\n",
        "x"
      ],
      "metadata": {
        "colab": {
          "base_uri": "https://localhost:8080/"
        },
        "id": "fTb7sdToMIjY",
        "outputId": "3fe72491-66d7-4c15-e5df-2028b23ef2cc"
      },
      "execution_count": 10,
      "outputs": [
        {
          "output_type": "execute_result",
          "data": {
            "text/plain": [
              "<tf.Tensor: shape=(50,), dtype=int32, numpy=\n",
              "array([-100,  -96,  -92,  -88,  -84,  -80,  -76,  -72,  -68,  -64,  -60,\n",
              "        -56,  -52,  -48,  -44,  -40,  -36,  -32,  -28,  -24,  -20,  -16,\n",
              "        -12,   -8,   -4,    0,    4,    8,   12,   16,   20,   24,   28,\n",
              "         32,   36,   40,   44,   48,   52,   56,   60,   64,   68,   72,\n",
              "         76,   80,   84,   88,   92,   96], dtype=int32)>"
            ]
          },
          "metadata": {},
          "execution_count": 10
        }
      ]
    },
    {
      "cell_type": "code",
      "source": [
        "y = x + 10\n",
        "y"
      ],
      "metadata": {
        "colab": {
          "base_uri": "https://localhost:8080/"
        },
        "id": "6P7aWZ_rTP8D",
        "outputId": "5c42ffd8-d3b2-48e5-af6d-4fa5260c26e9"
      },
      "execution_count": 11,
      "outputs": [
        {
          "output_type": "execute_result",
          "data": {
            "text/plain": [
              "<tf.Tensor: shape=(50,), dtype=int32, numpy=\n",
              "array([-90, -86, -82, -78, -74, -70, -66, -62, -58, -54, -50, -46, -42,\n",
              "       -38, -34, -30, -26, -22, -18, -14, -10,  -6,  -2,   2,   6,  10,\n",
              "        14,  18,  22,  26,  30,  34,  38,  42,  46,  50,  54,  58,  62,\n",
              "        66,  70,  74,  78,  82,  86,  90,  94,  98, 102, 106], dtype=int32)>"
            ]
          },
          "metadata": {},
          "execution_count": 11
        }
      ]
    },
    {
      "cell_type": "code",
      "source": [
        "import matplotlib.pyplot as plt\n",
        "\n",
        "plt.scatter(x, y)"
      ],
      "metadata": {
        "colab": {
          "base_uri": "https://localhost:8080/",
          "height": 447
        },
        "id": "O1lSI_m0TXZl",
        "outputId": "2b6aaab7-a482-4a5f-e6f6-4dacbc440ed8"
      },
      "execution_count": 12,
      "outputs": [
        {
          "output_type": "execute_result",
          "data": {
            "text/plain": [
              "<matplotlib.collections.PathCollection at 0x785ee7f27f40>"
            ]
          },
          "metadata": {},
          "execution_count": 12
        },
        {
          "output_type": "display_data",
          "data": {
            "text/plain": [
              "<Figure size 640x480 with 1 Axes>"
            ],
            "image/png": "[encoded data removed]"
          },
          "metadata": {}
        }
      ]
    },
    {
      "cell_type": "code",
      "source": [
        "x_train = x[:40]\n",
        "x_test = x[40:]\n",
        "\n",
        "y_train = y[:40]\n",
        "y_test = y[40:]"
      ],
      "metadata": {
        "id": "xzb9gE8PTmaE"
      },
      "execution_count": 13,
      "outputs": []
    },
    {
      "cell_type": "code",
      "source": [
        "plt.figure(figsize=(10,7))\n",
        "plt.scatter(x_train, y_train, c='b', label='Training data')\n",
        "plt.scatter(x_test, y_test, c='g', label='Testing data')\n",
        "plt.legend();"
      ],
      "metadata": {
        "colab": {
          "base_uri": "https://localhost:8080/",
          "height": 468
        },
        "id": "SUp0NW49UPTA",
        "outputId": "60687c30-9b29-4c14-a11b-de7b5ec0b121"
      },
      "execution_count": 14,
      "outputs": [
        {
          "output_type": "display_data",
          "data": {
            "text/plain": [
              "<Figure size 1000x700 with 1 Axes>"
            ],
            "image/png": "[encoded data removed]"
          },
          "metadata": {}
        }
      ]
    },
    {
      "cell_type": "code",
      "source": [
        "model = tf.keras.Sequential([\n",
        "    tf.keras.layers.Dense(100, input_shape=[1]),\n",
        "    tf.keras.layers.Dense(1, name='output_layyer')\n",
        "\n",
        "], name = 'one_of_many')\n",
        "\n",
        "model.compile(loss = tf.keras.losses.mae,\n",
        "              optimizer = tf.keras.optimizers.SGD(),\n",
        "              metrics = ['mae'])\n",
        "\n",
        "model.fit(tf.expand_dims(x_train, axis=-1), y_train, epochs=100, verbose=0)"
      ],
      "metadata": {
        "colab": {
          "base_uri": "https://localhost:8080/"
        },
        "id": "KUV0r-_jaIsW",
        "outputId": "6a59fa34-a797-4a74-f1b7-b5a91f365a09"
      },
      "execution_count": 15,
      "outputs": [
        {
          "output_type": "execute_result",
          "data": {
            "text/plain": [
              "<keras.callbacks.History at 0x785eebc5c970>"
            ]
          },
          "metadata": {},
          "execution_count": 15
        }
      ]
    },
    {
      "cell_type": "code",
      "source": [
        "model.summary()"
      ],
      "metadata": {
        "colab": {
          "base_uri": "https://localhost:8080/"
        },
        "id": "mhyuNfEKcOYF",
        "outputId": "cae6672a-516a-4dda-b9c6-5261d757f14d"
      },
      "execution_count": 16,
      "outputs": [
        {
          "output_type": "stream",
          "name": "stdout",
          "text": [
            "Model: \"one_of_many\"\n",
            "_________________________________________________________________\n",
            " Layer (type)                Output Shape              Param #   \n",
            "=================================================================\n",
            " dense_6 (Dense)             (None, 100)               200       \n",
            "                                                                 \n",
            " output_layyer (Dense)       (None, 1)                 101       \n",
            "                                                                 \n",
            "=================================================================\n",
            "Total params: 301\n",
            "Trainable params: 301\n",
            "Non-trainable params: 0\n",
            "_________________________________________________________________\n"
          ]
        }
      ]
    },
    {
      "cell_type": "code",
      "source": [
        "from tensorflow.keras.utils import plot_model\n",
        "plot_model(model, show_shapes=True)"
      ],
      "metadata": {
        "id": "gPaA3QkCcP7b",
        "colab": {
          "base_uri": "https://localhost:8080/",
          "height": 312
        },
        "outputId": "c69ea3f3-e606-47b4-811d-514d46bc957e"
      },
      "execution_count": 17,
      "outputs": [
        {
          "output_type": "execute_result",
          "data": {
            "image/png": "[encoded data removed]",
            "text/plain": [
              "<IPython.core.display.Image object>"
            ]
          },
          "metadata": {},
          "execution_count": 17
        }
      ]
    },
    {
      "cell_type": "code",
      "source": [
        "y_pred = model.predict(x_test)\n",
        "y_pred"
      ],
      "metadata": {
        "colab": {
          "base_uri": "https://localhost:8080/"
        },
        "id": "lJVGnhHrPKuj",
        "outputId": "cd95b3e8-28d5-4588-91f7-eccc316dba6e"
      },
      "execution_count": 18,
      "outputs": [
        {
          "output_type": "stream",
          "name": "stdout",
          "text": [
            "1/1 [==============================] - 0s 201ms/step\n"
          ]
        },
        {
          "output_type": "execute_result",
          "data": {
            "text/plain": [
              "array([[ 88.604965],\n",
              "       [ 94.38582 ],\n",
              "       [100.16668 ],\n",
              "       [105.94755 ],\n",
              "       [111.72838 ],\n",
              "       [117.509254],\n",
              "       [123.2901  ],\n",
              "       [129.07095 ],\n",
              "       [134.8518  ],\n",
              "       [140.63266 ]], dtype=float32)"
            ]
          },
          "metadata": {},
          "execution_count": 18
        }
      ]
    },
    {
      "cell_type": "code",
      "source": [
        "y_test"
      ],
      "metadata": {
        "colab": {
          "base_uri": "https://localhost:8080/"
        },
        "id": "olUT0plOQWQL",
        "outputId": "ec8bc9de-c35d-4540-e322-a720c29c0299"
      },
      "execution_count": 19,
      "outputs": [
        {
          "output_type": "execute_result",
          "data": {
            "text/plain": [
              "<tf.Tensor: shape=(10,), dtype=int32, numpy=array([ 70,  74,  78,  82,  86,  90,  94,  98, 102, 106], dtype=int32)>"
            ]
          },
          "metadata": {},
          "execution_count": 19
        }
      ]
    },
    {
      "cell_type": "code",
      "source": [
        "def plot_predictions(train_data=x_train,\n",
        "                     train_labels=y_train,\n",
        "                     test_data=x_test,\n",
        "                     test_labels=y_test,\n",
        "                     predictions=y_pred):\n",
        "  '''\n",
        "  Plots training data, test_data and compares it to ground true labels\n",
        "  '''\n",
        "  plt.figure(figsize=(10,7))\n",
        "  plt.scatter(train_data, train_labels, c='b', label='Training data')\n",
        "  plt.scatter(test_data, test_labels, c='g', label='Testing data')\n",
        "  plt.scatter(test_data, predictions, c='r', label=\"Predictions\")\n",
        "  plt.legend()"
      ],
      "metadata": {
        "id": "bXvkPf3SRfsy"
      },
      "execution_count": 20,
      "outputs": []
    },
    {
      "cell_type": "code",
      "source": [
        "plot_predictions(x_train,\n",
        "                 y_train,\n",
        "                 x_test,\n",
        "                 y_test,\n",
        "                 y_pred)"
      ],
      "metadata": {
        "colab": {
          "base_uri": "https://localhost:8080/",
          "height": 464
        },
        "id": "8C5El74FScTh",
        "outputId": "7b0fa4ca-f465-4481-a5af-adc5b7a7079c"
      },
      "execution_count": 21,
      "outputs": [
        {
          "output_type": "display_data",
          "data": {
            "text/plain": [
              "<Figure size 1000x700 with 1 Axes>"
            ],
            "image/png": "[encoded data removed]"
          },
          "metadata": {}
        }
      ]
    },
    {
      "cell_type": "code",
      "source": [
        "tf.keras.metrics.mean_absolute_error(\n",
        "    y_test, tf.squeeze(y_pred)\n",
        ")"
      ],
      "metadata": {
        "colab": {
          "base_uri": "https://localhost:8080/"
        },
        "id": "o_1nAsKaS0NF",
        "outputId": "b2438c0b-8877-46c2-bc72-66123d40ba4a"
      },
      "execution_count": 22,
      "outputs": [
        {
          "output_type": "execute_result",
          "data": {
            "text/plain": [
              "<tf.Tensor: shape=(), dtype=float32, numpy=26.618816>"
            ]
          },
          "metadata": {},
          "execution_count": 22
        }
      ]
    },
    {
      "cell_type": "code",
      "source": [
        "model.evaluate(x_test, y_test)"
      ],
      "metadata": {
        "colab": {
          "base_uri": "https://localhost:8080/"
        },
        "id": "zxMteLqsXUtn",
        "outputId": "eaffbd32-5f29-4fd4-965c-a1c1da3352c8"
      },
      "execution_count": 23,
      "outputs": [
        {
          "output_type": "stream",
          "name": "stdout",
          "text": [
            "1/1 [==============================] - 0s 313ms/step - loss: 26.6188 - mae: 26.6188\n"
          ]
        },
        {
          "output_type": "execute_result",
          "data": {
            "text/plain": [
              "[26.61881446838379, 26.61881446838379]"
            ]
          },
          "metadata": {},
          "execution_count": 23
        }
      ]
    },
    {
      "cell_type": "code",
      "source": [
        "y_test"
      ],
      "metadata": {
        "colab": {
          "base_uri": "https://localhost:8080/"
        },
        "id": "MB0QxHcSXmT4",
        "outputId": "31ed2c81-310c-4ddd-87f9-0c27b997eb09"
      },
      "execution_count": 24,
      "outputs": [
        {
          "output_type": "execute_result",
          "data": {
            "text/plain": [
              "<tf.Tensor: shape=(10,), dtype=int32, numpy=array([ 70,  74,  78,  82,  86,  90,  94,  98, 102, 106], dtype=int32)>"
            ]
          },
          "metadata": {},
          "execution_count": 24
        }
      ]
    },
    {
      "cell_type": "code",
      "source": [
        "tf.squeeze(y_pred)"
      ],
      "metadata": {
        "colab": {
          "base_uri": "https://localhost:8080/"
        },
        "id": "feV-m5cMY74U",
        "outputId": "12aa289d-fe44-4bcc-82db-38ee645969a9"
      },
      "execution_count": 25,
      "outputs": [
        {
          "output_type": "execute_result",
          "data": {
            "text/plain": [
              "<tf.Tensor: shape=(10,), dtype=float32, numpy=\n",
              "array([ 88.604965,  94.38582 , 100.16668 , 105.94755 , 111.72838 ,\n",
              "       117.509254, 123.2901  , 129.07095 , 134.8518  , 140.63266 ],\n",
              "      dtype=float32)>"
            ]
          },
          "metadata": {},
          "execution_count": 25
        }
      ]
    },
    {
      "cell_type": "code",
      "source": [
        "tf.keras.metrics.mean_squared_error(y_test, tf.squeeze(y_pred))"
      ],
      "metadata": {
        "colab": {
          "base_uri": "https://localhost:8080/"
        },
        "id": "JGLOKEm2Zz6s",
        "outputId": "a39d6d0f-2508-4533-a951-cc84703e3fbd"
      },
      "execution_count": 26,
      "outputs": [
        {
          "output_type": "execute_result",
          "data": {
            "text/plain": [
              "<tf.Tensor: shape=(), dtype=float32, numpy=734.72577>"
            ]
          },
          "metadata": {},
          "execution_count": 26
        }
      ]
    },
    {
      "cell_type": "code",
      "source": [
        "def mae(y_true, y_pred):\n",
        "  return tf.metrics.mean_absolute_error(y_true, tf.squeeze(y_pred))\n",
        "\n",
        "def mse(y_true, y_pred):\n",
        "  return tf.metrics.mean_squared_error(y_true, tf.squeeze(y_pred))"
      ],
      "metadata": {
        "id": "3ASY1jUhZ6n9"
      },
      "execution_count": 27,
      "outputs": []
    },
    {
      "cell_type": "code",
      "source": [
        "tf.random.set_seed(42)\n",
        "model_1 = tf.keras.Sequential([\n",
        "    tf.keras.layers.Dense(1)\n",
        "])\n",
        "model_1.compile(loss = tf.keras.losses.mae,\n",
        "                optimizer = tf.keras.optimizers.SGD(),\n",
        "                metrics=['mae'])\n",
        "model_1.fit(tf.expand_dims(x_train, axis=-1), y_train, epochs=100)"
      ],
      "metadata": {
        "id": "LRXmrbT8aoqe",
        "colab": {
          "base_uri": "https://localhost:8080/"
        },
        "outputId": "0f745a22-8734-4e50-a1c8-e5e8b8dfda25"
      },
      "execution_count": 28,
      "outputs": [
        {
          "output_type": "stream",
          "name": "stdout",
          "text": [
            "Epoch 1/100\n",
            "2/2 [==============================] - 1s 17ms/step - loss: 12.5874 - mae: 12.5874\n",
            "Epoch 2/100\n",
            "2/2 [==============================] - 0s 13ms/step - loss: 9.3027 - mae: 9.3027\n",
            "Epoch 3/100\n",
            "2/2 [==============================] - 0s 15ms/step - loss: 11.6276 - mae: 11.6276\n",
            "Epoch 4/100\n",
            "2/2 [==============================] - 0s 15ms/step - loss: 9.3660 - mae: 9.3660\n",
            "Epoch 5/100\n",
            "2/2 [==============================] - 0s 10ms/step - loss: 10.2452 - mae: 10.2452\n",
            "Epoch 6/100\n",
            "2/2 [==============================] - 0s 11ms/step - loss: 9.4982 - mae: 9.4982\n",
            "Epoch 7/100\n",
            "2/2 [==============================] - 0s 10ms/step - loss: 8.6269 - mae: 8.6269\n",
            "Epoch 8/100\n",
            "2/2 [==============================] - 0s 9ms/step - loss: 9.0471 - mae: 9.0471\n",
            "Epoch 9/100\n",
            "2/2 [==============================] - 0s 12ms/step - loss: 18.8968 - mae: 18.8968\n",
            "Epoch 10/100\n",
            "2/2 [==============================] - 0s 14ms/step - loss: 10.1936 - mae: 10.1936\n",
            "Epoch 11/100\n",
            "2/2 [==============================] - 0s 9ms/step - loss: 8.4277 - mae: 8.4277\n",
            "Epoch 12/100\n",
            "2/2 [==============================] - 0s 10ms/step - loss: 10.7270 - mae: 10.7270\n",
            "Epoch 13/100\n",
            "2/2 [==============================] - 0s 9ms/step - loss: 9.8216 - mae: 9.8216\n",
            "Epoch 14/100\n",
            "2/2 [==============================] - 0s 8ms/step - loss: 16.1651 - mae: 16.1651\n",
            "Epoch 15/100\n",
            "2/2 [==============================] - 0s 27ms/step - loss: 11.2831 - mae: 11.2831\n",
            "Epoch 16/100\n",
            "2/2 [==============================] - 0s 10ms/step - loss: 8.5740 - mae: 8.5740\n",
            "Epoch 17/100\n",
            "2/2 [==============================] - 0s 22ms/step - loss: 13.7170 - mae: 13.7170\n",
            "Epoch 18/100\n",
            "2/2 [==============================] - 0s 30ms/step - loss: 11.5662 - mae: 11.5662\n",
            "Epoch 19/100\n",
            "2/2 [==============================] - 0s 28ms/step - loss: 17.7864 - mae: 17.7864\n",
            "Epoch 20/100\n",
            "2/2 [==============================] - 0s 13ms/step - loss: 14.9220 - mae: 14.9220\n",
            "Epoch 21/100\n",
            "2/2 [==============================] - 0s 18ms/step - loss: 10.8118 - mae: 10.8118\n",
            "Epoch 22/100\n",
            "2/2 [==============================] - 0s 28ms/step - loss: 8.5589 - mae: 8.5589\n",
            "Epoch 23/100\n",
            "2/2 [==============================] - 0s 9ms/step - loss: 9.7352 - mae: 9.7352\n",
            "Epoch 24/100\n",
            "2/2 [==============================] - 0s 11ms/step - loss: 10.9205 - mae: 10.9205\n",
            "Epoch 25/100\n",
            "2/2 [==============================] - 0s 11ms/step - loss: 9.1436 - mae: 9.1436\n",
            "Epoch 26/100\n",
            "2/2 [==============================] - 0s 10ms/step - loss: 13.1559 - mae: 13.1559\n",
            "Epoch 27/100\n",
            "2/2 [==============================] - 0s 11ms/step - loss: 10.4530 - mae: 10.4530\n",
            "Epoch 28/100\n",
            "2/2 [==============================] - 0s 11ms/step - loss: 13.5001 - mae: 13.5001\n",
            "Epoch 29/100\n",
            "2/2 [==============================] - 0s 11ms/step - loss: 10.0055 - mae: 10.0055\n",
            "Epoch 30/100\n",
            "2/2 [==============================] - 0s 11ms/step - loss: 16.0418 - mae: 16.0418\n",
            "Epoch 31/100\n",
            "2/2 [==============================] - 0s 11ms/step - loss: 23.9116 - mae: 23.9116\n",
            "Epoch 32/100\n",
            "2/2 [==============================] - 0s 10ms/step - loss: 7.9990 - mae: 7.9990\n",
            "Epoch 33/100\n",
            "2/2 [==============================] - 0s 12ms/step - loss: 9.7141 - mae: 9.7141\n",
            "Epoch 34/100\n",
            "2/2 [==============================] - 0s 8ms/step - loss: 12.0656 - mae: 12.0656\n",
            "Epoch 35/100\n",
            "2/2 [==============================] - 0s 9ms/step - loss: 11.5493 - mae: 11.5493\n",
            "Epoch 36/100\n",
            "2/2 [==============================] - 0s 19ms/step - loss: 12.7508 - mae: 12.7508\n",
            "Epoch 37/100\n",
            "2/2 [==============================] - 0s 11ms/step - loss: 9.4660 - mae: 9.4660\n",
            "Epoch 38/100\n",
            "2/2 [==============================] - 0s 26ms/step - loss: 10.1259 - mae: 10.1259\n",
            "Epoch 39/100\n",
            "2/2 [==============================] - 0s 9ms/step - loss: 10.1778 - mae: 10.1778\n",
            "Epoch 40/100\n",
            "2/2 [==============================] - 0s 16ms/step - loss: 10.9148 - mae: 10.9148\n",
            "Epoch 41/100\n",
            "2/2 [==============================] - 0s 10ms/step - loss: 7.9051 - mae: 7.9051\n",
            "Epoch 42/100\n",
            "2/2 [==============================] - 0s 13ms/step - loss: 10.0801 - mae: 10.0801\n",
            "Epoch 43/100\n",
            "2/2 [==============================] - 0s 12ms/step - loss: 8.6920 - mae: 8.6920\n",
            "Epoch 44/100\n",
            "2/2 [==============================] - 0s 13ms/step - loss: 12.1909 - mae: 12.1909\n",
            "Epoch 45/100\n",
            "2/2 [==============================] - 0s 9ms/step - loss: 13.7999 - mae: 13.7999\n",
            "Epoch 46/100\n",
            "2/2 [==============================] - 0s 12ms/step - loss: 8.4676 - mae: 8.4676\n",
            "Epoch 47/100\n",
            "2/2 [==============================] - 0s 13ms/step - loss: 9.1227 - mae: 9.1227\n",
            "Epoch 48/100\n",
            "2/2 [==============================] - 0s 16ms/step - loss: 10.6064 - mae: 10.6064\n",
            "Epoch 49/100\n",
            "2/2 [==============================] - 0s 21ms/step - loss: 7.7407 - mae: 7.7407\n",
            "Epoch 50/100\n",
            "2/2 [==============================] - 0s 25ms/step - loss: 9.5290 - mae: 9.5290\n",
            "Epoch 51/100\n",
            "2/2 [==============================] - 0s 38ms/step - loss: 9.1507 - mae: 9.1507\n",
            "Epoch 52/100\n",
            "2/2 [==============================] - 0s 14ms/step - loss: 16.3497 - mae: 16.3497\n",
            "Epoch 53/100\n",
            "2/2 [==============================] - 0s 16ms/step - loss: 14.1298 - mae: 14.1298\n",
            "Epoch 54/100\n",
            "2/2 [==============================] - 0s 33ms/step - loss: 21.1337 - mae: 21.1337\n",
            "Epoch 55/100\n",
            "2/2 [==============================] - 0s 32ms/step - loss: 16.3825 - mae: 16.3825\n",
            "Epoch 56/100\n",
            "2/2 [==============================] - 0s 21ms/step - loss: 9.9834 - mae: 9.9834\n",
            "Epoch 57/100\n",
            "2/2 [==============================] - 0s 22ms/step - loss: 9.9492 - mae: 9.9492\n",
            "Epoch 58/100\n",
            "2/2 [==============================] - 0s 15ms/step - loss: 9.2099 - mae: 9.2099\n",
            "Epoch 59/100\n",
            "2/2 [==============================] - 0s 18ms/step - loss: 8.4139 - mae: 8.4139\n",
            "Epoch 60/100\n",
            "2/2 [==============================] - 0s 23ms/step - loss: 9.4769 - mae: 9.4769\n",
            "Epoch 61/100\n",
            "2/2 [==============================] - 0s 34ms/step - loss: 11.4218 - mae: 11.4218\n",
            "Epoch 62/100\n",
            "2/2 [==============================] - 0s 29ms/step - loss: 11.6910 - mae: 11.6910\n",
            "Epoch 63/100\n",
            "2/2 [==============================] - 0s 14ms/step - loss: 7.0744 - mae: 7.0744\n",
            "Epoch 64/100\n",
            "2/2 [==============================] - 0s 9ms/step - loss: 16.9715 - mae: 16.9715\n",
            "Epoch 65/100\n",
            "2/2 [==============================] - 0s 20ms/step - loss: 12.4606 - mae: 12.4606\n",
            "Epoch 66/100\n",
            "2/2 [==============================] - 0s 25ms/step - loss: 13.0213 - mae: 13.0213\n",
            "Epoch 67/100\n",
            "2/2 [==============================] - 0s 32ms/step - loss: 8.0564 - mae: 8.0564\n",
            "Epoch 68/100\n",
            "2/2 [==============================] - 0s 20ms/step - loss: 10.1879 - mae: 10.1879\n",
            "Epoch 69/100\n",
            "2/2 [==============================] - 0s 20ms/step - loss: 12.3666 - mae: 12.3666\n",
            "Epoch 70/100\n",
            "2/2 [==============================] - 0s 24ms/step - loss: 9.0407 - mae: 9.0407\n",
            "Epoch 71/100\n",
            "2/2 [==============================] - 0s 32ms/step - loss: 10.0266 - mae: 10.0266\n",
            "Epoch 72/100\n",
            "2/2 [==============================] - 0s 10ms/step - loss: 10.0415 - mae: 10.0415\n",
            "Epoch 73/100\n",
            "2/2 [==============================] - 0s 11ms/step - loss: 12.6014 - mae: 12.6014\n",
            "Epoch 74/100\n",
            "2/2 [==============================] - 0s 15ms/step - loss: 10.3846 - mae: 10.3846\n",
            "Epoch 75/100\n",
            "2/2 [==============================] - 0s 9ms/step - loss: 9.7125 - mae: 9.7125\n",
            "Epoch 76/100\n",
            "2/2 [==============================] - 0s 10ms/step - loss: 11.2128 - mae: 11.2128\n",
            "Epoch 77/100\n",
            "2/2 [==============================] - 0s 10ms/step - loss: 8.3544 - mae: 8.3544\n",
            "Epoch 78/100\n",
            "2/2 [==============================] - 0s 8ms/step - loss: 9.1138 - mae: 9.1138\n",
            "Epoch 79/100\n",
            "2/2 [==============================] - 0s 9ms/step - loss: 19.5120 - mae: 19.5120\n",
            "Epoch 80/100\n",
            "2/2 [==============================] - 0s 9ms/step - loss: 14.8809 - mae: 14.8809\n",
            "Epoch 81/100\n",
            "2/2 [==============================] - 0s 12ms/step - loss: 9.0073 - mae: 9.0073\n",
            "Epoch 82/100\n",
            "2/2 [==============================] - 0s 12ms/step - loss: 13.0081 - mae: 13.0081\n",
            "Epoch 83/100\n",
            "2/2 [==============================] - 0s 15ms/step - loss: 7.9182 - mae: 7.9182\n",
            "Epoch 84/100\n",
            "2/2 [==============================] - 0s 17ms/step - loss: 7.6833 - mae: 7.6833\n",
            "Epoch 85/100\n",
            "2/2 [==============================] - 0s 13ms/step - loss: 10.0329 - mae: 10.0329\n",
            "Epoch 86/100\n",
            "2/2 [==============================] - 0s 20ms/step - loss: 9.2412 - mae: 9.2412\n",
            "Epoch 87/100\n",
            "2/2 [==============================] - 0s 12ms/step - loss: 12.0230 - mae: 12.0230\n",
            "Epoch 88/100\n",
            "2/2 [==============================] - 0s 15ms/step - loss: 10.6407 - mae: 10.6407\n",
            "Epoch 89/100\n",
            "2/2 [==============================] - 0s 12ms/step - loss: 7.2606 - mae: 7.2606\n",
            "Epoch 90/100\n",
            "2/2 [==============================] - 0s 26ms/step - loss: 12.7815 - mae: 12.7815\n",
            "Epoch 91/100\n",
            "2/2 [==============================] - 0s 12ms/step - loss: 7.4656 - mae: 7.4656\n",
            "Epoch 92/100\n",
            "2/2 [==============================] - 0s 14ms/step - loss: 6.7481 - mae: 6.7481\n",
            "Epoch 93/100\n",
            "2/2 [==============================] - 0s 10ms/step - loss: 11.9320 - mae: 11.9320\n",
            "Epoch 94/100\n",
            "2/2 [==============================] - 0s 13ms/step - loss: 8.8663 - mae: 8.8663\n",
            "Epoch 95/100\n",
            "2/2 [==============================] - 0s 15ms/step - loss: 7.7082 - mae: 7.7082\n",
            "Epoch 96/100\n",
            "2/2 [==============================] - 0s 18ms/step - loss: 6.7429 - mae: 6.7429\n",
            "Epoch 97/100\n",
            "2/2 [==============================] - 0s 11ms/step - loss: 8.6155 - mae: 8.6155\n",
            "Epoch 98/100\n",
            "2/2 [==============================] - 0s 13ms/step - loss: 9.3936 - mae: 9.3936\n",
            "Epoch 99/100\n",
            "2/2 [==============================] - 0s 11ms/step - loss: 9.1283 - mae: 9.1283\n",
            "Epoch 100/100\n",
            "2/2 [==============================] - 0s 15ms/step - loss: 10.4881 - mae: 10.4881\n"
          ]
        },
        {
          "output_type": "execute_result",
          "data": {
            "text/plain": [
              "<keras.callbacks.History at 0x785eebcffd00>"
            ]
          },
          "metadata": {},
          "execution_count": 28
        }
      ]
    },
    {
      "cell_type": "code",
      "source": [
        "y_preds_1 = model_1.predict(x_test)\n",
        "plot_predictions(predictions=y_preds_1)"
      ],
      "metadata": {
        "colab": {
          "base_uri": "https://localhost:8080/",
          "height": 523
        },
        "id": "qUWLmgGZmMw_",
        "outputId": "9ed0c383-9471-480e-9698-909cc56bc72c"
      },
      "execution_count": 29,
      "outputs": [
        {
          "output_type": "stream",
          "name": "stderr",
          "text": [
            "WARNING:tensorflow:5 out of the last 5 calls to <function Model.make_predict_function.<locals>.predict_function at 0x785ee7fbf0a0> triggered tf.function retracing. Tracing is expensive and the excessive number of tracings could be due to (1) creating @tf.function repeatedly in a loop, (2) passing tensors with different shapes, (3) passing Python objects instead of tensors. For (1), please define your @tf.function outside of the loop. For (2), @tf.function has reduce_retracing=True option that can avoid unnecessary retracing. For (3), please refer to https://www.tensorflow.org/guide/function#controlling_retracing and https://www.tensorflow.org/api_docs/python/tf/function for  more details.\n"
          ]
        },
        {
          "output_type": "stream",
          "name": "stdout",
          "text": [
            "1/1 [==============================] - 0s 77ms/step\n"
          ]
        },
        {
          "output_type": "display_data",
          "data": {
            "text/plain": [
              "<Figure size 1000x700 with 1 Axes>"
            ],
            "image/png": "[encoded data removed]"
          },
          "metadata": {}
        }
      ]
    },
    {
      "cell_type": "code",
      "source": [
        "mae_1 = mae(y_test, y_preds_1)\n",
        "mse_1 = mse(y_test, y_preds_1)\n",
        "mae_1, mse_1"
      ],
      "metadata": {
        "colab": {
          "base_uri": "https://localhost:8080/"
        },
        "id": "8JQZpLcYo20L",
        "outputId": "9f90520d-dd2e-443f-c383-da2a09ce703a"
      },
      "execution_count": 30,
      "outputs": [
        {
          "output_type": "execute_result",
          "data": {
            "text/plain": [
              "(<tf.Tensor: shape=(), dtype=float32, numpy=14.847318>,\n",
              " <tf.Tensor: shape=(), dtype=float32, numpy=221.26424>)"
            ]
          },
          "metadata": {},
          "execution_count": 30
        }
      ]
    },
    {
      "cell_type": "code",
      "source": [
        "tf.random.set_seed(24)\n",
        "model_2 = tf.keras.Sequential([\n",
        "    tf.keras.layers.Dense(10, activation='relu'),\n",
        "    tf.keras.layers.Dense(1)\n",
        "])\n",
        "model_2.compile(loss = tf.keras.losses.mae,\n",
        "                optimizer = tf.keras.optimizers.SGD(),\n",
        "                metrics=['mae'])\n",
        "model_2.fit(tf.expand_dims(x_train, axis=-1), y_train, epochs=100)"
      ],
      "metadata": {
        "colab": {
          "base_uri": "https://localhost:8080/"
        },
        "id": "FMDl5RYHpMlG",
        "outputId": "8c97406e-ba42-410a-9cef-a615df922509"
      },
      "execution_count": 31,
      "outputs": [
        {
          "output_type": "stream",
          "name": "stdout",
          "text": [
            "Epoch 1/100\n",
            "2/2 [==============================] - 0s 14ms/step - loss: 43.9154 - mae: 43.9154\n",
            "Epoch 2/100\n",
            "2/2 [==============================] - 0s 8ms/step - loss: 25.8528 - mae: 25.8528\n",
            "Epoch 3/100\n",
            "2/2 [==============================] - 0s 8ms/step - loss: 12.0004 - mae: 12.0004\n",
            "Epoch 4/100\n",
            "2/2 [==============================] - 0s 7ms/step - loss: 10.4649 - mae: 10.4649\n",
            "Epoch 5/100\n",
            "2/2 [==============================] - 0s 8ms/step - loss: 6.5559 - mae: 6.5559\n",
            "Epoch 6/100\n",
            "2/2 [==============================] - 0s 9ms/step - loss: 13.4765 - mae: 13.4765\n",
            "Epoch 7/100\n",
            "2/2 [==============================] - 0s 9ms/step - loss: 11.8666 - mae: 11.8666\n",
            "Epoch 8/100\n",
            "2/2 [==============================] - 0s 6ms/step - loss: 7.9269 - mae: 7.9269\n",
            "Epoch 9/100\n",
            "2/2 [==============================] - 0s 8ms/step - loss: 9.1127 - mae: 9.1127\n",
            "Epoch 10/100\n",
            "2/2 [==============================] - 0s 8ms/step - loss: 9.2209 - mae: 9.2209\n",
            "Epoch 11/100\n",
            "2/2 [==============================] - 0s 17ms/step - loss: 11.6701 - mae: 11.6701\n",
            "Epoch 12/100\n",
            "2/2 [==============================] - 0s 9ms/step - loss: 11.0846 - mae: 11.0846\n",
            "Epoch 13/100\n",
            "2/2 [==============================] - 0s 8ms/step - loss: 16.0227 - mae: 16.0227\n",
            "Epoch 14/100\n",
            "2/2 [==============================] - 0s 7ms/step - loss: 10.0255 - mae: 10.0255\n",
            "Epoch 15/100\n",
            "2/2 [==============================] - 0s 9ms/step - loss: 12.7348 - mae: 12.7348\n",
            "Epoch 16/100\n",
            "2/2 [==============================] - 0s 9ms/step - loss: 4.5860 - mae: 4.5860\n",
            "Epoch 17/100\n",
            "2/2 [==============================] - 0s 8ms/step - loss: 11.0061 - mae: 11.0061\n",
            "Epoch 18/100\n",
            "2/2 [==============================] - 0s 7ms/step - loss: 12.8203 - mae: 12.8203\n",
            "Epoch 19/100\n",
            "2/2 [==============================] - 0s 6ms/step - loss: 4.3629 - mae: 4.3629\n",
            "Epoch 20/100\n",
            "2/2 [==============================] - 0s 9ms/step - loss: 8.5936 - mae: 8.5936\n",
            "Epoch 21/100\n",
            "2/2 [==============================] - 0s 8ms/step - loss: 19.9477 - mae: 19.9477\n",
            "Epoch 22/100\n",
            "2/2 [==============================] - 0s 6ms/step - loss: 11.1057 - mae: 11.1057\n",
            "Epoch 23/100\n",
            "2/2 [==============================] - 0s 10ms/step - loss: 13.3885 - mae: 13.3885\n",
            "Epoch 24/100\n",
            "2/2 [==============================] - 0s 6ms/step - loss: 6.7163 - mae: 6.7163\n",
            "Epoch 25/100\n",
            "2/2 [==============================] - 0s 9ms/step - loss: 9.3583 - mae: 9.3583\n",
            "Epoch 26/100\n",
            "2/2 [==============================] - 0s 9ms/step - loss: 14.5318 - mae: 14.5318\n",
            "Epoch 27/100\n",
            "2/2 [==============================] - 0s 8ms/step - loss: 10.7757 - mae: 10.7757\n",
            "Epoch 28/100\n",
            "2/2 [==============================] - 0s 12ms/step - loss: 9.1564 - mae: 9.1564\n",
            "Epoch 29/100\n",
            "2/2 [==============================] - 0s 9ms/step - loss: 9.1828 - mae: 9.1828\n",
            "Epoch 30/100\n",
            "2/2 [==============================] - 0s 8ms/step - loss: 11.4964 - mae: 11.4964\n",
            "Epoch 31/100\n",
            "2/2 [==============================] - 0s 8ms/step - loss: 14.2991 - mae: 14.2991\n",
            "Epoch 32/100\n",
            "2/2 [==============================] - 0s 8ms/step - loss: 7.8786 - mae: 7.8786\n",
            "Epoch 33/100\n",
            "2/2 [==============================] - 0s 9ms/step - loss: 9.0527 - mae: 9.0527\n",
            "Epoch 34/100\n",
            "2/2 [==============================] - 0s 8ms/step - loss: 6.2688 - mae: 6.2688\n",
            "Epoch 35/100\n",
            "2/2 [==============================] - 0s 8ms/step - loss: 8.3944 - mae: 8.3944\n",
            "Epoch 36/100\n",
            "2/2 [==============================] - 0s 7ms/step - loss: 7.3069 - mae: 7.3069\n",
            "Epoch 37/100\n",
            "2/2 [==============================] - 0s 7ms/step - loss: 20.6856 - mae: 20.6856\n",
            "Epoch 38/100\n",
            "2/2 [==============================] - 0s 7ms/step - loss: 7.9249 - mae: 7.9249\n",
            "Epoch 39/100\n",
            "2/2 [==============================] - 0s 8ms/step - loss: 16.0076 - mae: 16.0076\n",
            "Epoch 40/100\n",
            "2/2 [==============================] - 0s 10ms/step - loss: 6.4966 - mae: 6.4966\n",
            "Epoch 41/100\n",
            "2/2 [==============================] - 0s 9ms/step - loss: 6.9889 - mae: 6.9889\n",
            "Epoch 42/100\n",
            "2/2 [==============================] - 0s 9ms/step - loss: 8.1496 - mae: 8.1496\n",
            "Epoch 43/100\n",
            "2/2 [==============================] - 0s 7ms/step - loss: 6.1189 - mae: 6.1189\n",
            "Epoch 44/100\n",
            "2/2 [==============================] - 0s 8ms/step - loss: 5.3630 - mae: 5.3630\n",
            "Epoch 45/100\n",
            "2/2 [==============================] - 0s 9ms/step - loss: 8.6828 - mae: 8.6828\n",
            "Epoch 46/100\n",
            "2/2 [==============================] - 0s 10ms/step - loss: 9.3113 - mae: 9.3113\n",
            "Epoch 47/100\n",
            "2/2 [==============================] - 0s 7ms/step - loss: 7.3899 - mae: 7.3899\n",
            "Epoch 48/100\n",
            "2/2 [==============================] - 0s 7ms/step - loss: 22.4739 - mae: 22.4739\n",
            "Epoch 49/100\n",
            "2/2 [==============================] - 0s 7ms/step - loss: 10.7253 - mae: 10.7253\n",
            "Epoch 50/100\n",
            "2/2 [==============================] - 0s 8ms/step - loss: 7.9628 - mae: 7.9628\n",
            "Epoch 51/100\n",
            "2/2 [==============================] - 0s 7ms/step - loss: 8.6567 - mae: 8.6567\n",
            "Epoch 52/100\n",
            "2/2 [==============================] - 0s 7ms/step - loss: 13.0143 - mae: 13.0143\n",
            "Epoch 53/100\n",
            "2/2 [==============================] - 0s 10ms/step - loss: 11.2030 - mae: 11.2030\n",
            "Epoch 54/100\n",
            "2/2 [==============================] - 0s 9ms/step - loss: 13.6683 - mae: 13.6683\n",
            "Epoch 55/100\n",
            "2/2 [==============================] - 0s 8ms/step - loss: 15.5017 - mae: 15.5017\n",
            "Epoch 56/100\n",
            "2/2 [==============================] - 0s 8ms/step - loss: 20.3985 - mae: 20.3985\n",
            "Epoch 57/100\n",
            "2/2 [==============================] - 0s 8ms/step - loss: 17.4860 - mae: 17.4860\n",
            "Epoch 58/100\n",
            "2/2 [==============================] - 0s 12ms/step - loss: 5.9565 - mae: 5.9565\n",
            "Epoch 59/100\n",
            "2/2 [==============================] - 0s 8ms/step - loss: 7.3530 - mae: 7.3530\n",
            "Epoch 60/100\n",
            "2/2 [==============================] - 0s 9ms/step - loss: 15.6386 - mae: 15.6386\n",
            "Epoch 61/100\n",
            "2/2 [==============================] - 0s 7ms/step - loss: 9.6648 - mae: 9.6648\n",
            "Epoch 62/100\n",
            "2/2 [==============================] - 0s 8ms/step - loss: 9.4304 - mae: 9.4304\n",
            "Epoch 63/100\n",
            "2/2 [==============================] - 0s 8ms/step - loss: 9.0584 - mae: 9.0584\n",
            "Epoch 64/100\n",
            "2/2 [==============================] - 0s 9ms/step - loss: 25.5043 - mae: 25.5043\n",
            "Epoch 65/100\n",
            "2/2 [==============================] - 0s 8ms/step - loss: 15.5215 - mae: 15.5215\n",
            "Epoch 66/100\n",
            "2/2 [==============================] - 0s 7ms/step - loss: 7.8995 - mae: 7.8995\n",
            "Epoch 67/100\n",
            "2/2 [==============================] - 0s 8ms/step - loss: 14.9953 - mae: 14.9953\n",
            "Epoch 68/100\n",
            "2/2 [==============================] - 0s 9ms/step - loss: 6.9526 - mae: 6.9526\n",
            "Epoch 69/100\n",
            "2/2 [==============================] - 0s 8ms/step - loss: 12.4601 - mae: 12.4601\n",
            "Epoch 70/100\n",
            "2/2 [==============================] - 0s 7ms/step - loss: 19.6685 - mae: 19.6685\n",
            "Epoch 71/100\n",
            "2/2 [==============================] - 0s 7ms/step - loss: 13.3953 - mae: 13.3953\n",
            "Epoch 72/100\n",
            "2/2 [==============================] - 0s 8ms/step - loss: 7.6161 - mae: 7.6161\n",
            "Epoch 73/100\n",
            "2/2 [==============================] - 0s 7ms/step - loss: 12.1089 - mae: 12.1089\n",
            "Epoch 74/100\n",
            "2/2 [==============================] - 0s 7ms/step - loss: 11.4205 - mae: 11.4205\n",
            "Epoch 75/100\n",
            "2/2 [==============================] - 0s 8ms/step - loss: 9.4705 - mae: 9.4705\n",
            "Epoch 76/100\n",
            "2/2 [==============================] - 0s 8ms/step - loss: 10.2761 - mae: 10.2761\n",
            "Epoch 77/100\n",
            "2/2 [==============================] - 0s 7ms/step - loss: 9.1566 - mae: 9.1566\n",
            "Epoch 78/100\n",
            "2/2 [==============================] - 0s 7ms/step - loss: 11.1979 - mae: 11.1979\n",
            "Epoch 79/100\n",
            "2/2 [==============================] - 0s 7ms/step - loss: 10.1164 - mae: 10.1164\n",
            "Epoch 80/100\n",
            "2/2 [==============================] - 0s 8ms/step - loss: 11.5647 - mae: 11.5647\n",
            "Epoch 81/100\n",
            "2/2 [==============================] - 0s 7ms/step - loss: 17.2061 - mae: 17.2061\n",
            "Epoch 82/100\n",
            "2/2 [==============================] - 0s 8ms/step - loss: 7.7172 - mae: 7.7172\n",
            "Epoch 83/100\n",
            "2/2 [==============================] - 0s 7ms/step - loss: 5.4806 - mae: 5.4806\n",
            "Epoch 84/100\n",
            "2/2 [==============================] - 0s 9ms/step - loss: 13.8412 - mae: 13.8412\n",
            "Epoch 85/100\n",
            "2/2 [==============================] - 0s 8ms/step - loss: 8.3965 - mae: 8.3965\n",
            "Epoch 86/100\n",
            "2/2 [==============================] - 0s 11ms/step - loss: 4.0262 - mae: 4.0262\n",
            "Epoch 87/100\n",
            "2/2 [==============================] - 0s 10ms/step - loss: 12.3447 - mae: 12.3447\n",
            "Epoch 88/100\n",
            "2/2 [==============================] - 0s 11ms/step - loss: 8.3828 - mae: 8.3828\n",
            "Epoch 89/100\n",
            "2/2 [==============================] - 0s 8ms/step - loss: 6.2147 - mae: 6.2147\n",
            "Epoch 90/100\n",
            "2/2 [==============================] - 0s 8ms/step - loss: 16.8302 - mae: 16.8302\n",
            "Epoch 91/100\n",
            "2/2 [==============================] - 0s 7ms/step - loss: 7.7615 - mae: 7.7615\n",
            "Epoch 92/100\n",
            "2/2 [==============================] - 0s 7ms/step - loss: 7.3421 - mae: 7.3421\n",
            "Epoch 93/100\n",
            "2/2 [==============================] - 0s 9ms/step - loss: 21.2245 - mae: 21.2245\n",
            "Epoch 94/100\n",
            "2/2 [==============================] - 0s 10ms/step - loss: 8.5061 - mae: 8.5061\n",
            "Epoch 95/100\n",
            "2/2 [==============================] - 0s 8ms/step - loss: 6.5999 - mae: 6.5999\n",
            "Epoch 96/100\n",
            "2/2 [==============================] - 0s 10ms/step - loss: 7.8098 - mae: 7.8098\n",
            "Epoch 97/100\n",
            "2/2 [==============================] - 0s 9ms/step - loss: 11.7967 - mae: 11.7967\n",
            "Epoch 98/100\n",
            "2/2 [==============================] - 0s 7ms/step - loss: 8.0391 - mae: 8.0391\n",
            "Epoch 99/100\n",
            "2/2 [==============================] - 0s 8ms/step - loss: 20.0039 - mae: 20.0039\n",
            "Epoch 100/100\n",
            "2/2 [==============================] - 0s 6ms/step - loss: 6.6487 - mae: 6.6487\n"
          ]
        },
        {
          "output_type": "execute_result",
          "data": {
            "text/plain": [
              "<keras.callbacks.History at 0x785eebe4dab0>"
            ]
          },
          "metadata": {},
          "execution_count": 31
        }
      ]
    },
    {
      "cell_type": "code",
      "source": [
        "y_preds_2 = model_2.predict(x_test)\n",
        "plot_predictions(predictions=y_preds_2)"
      ],
      "metadata": {
        "colab": {
          "base_uri": "https://localhost:8080/",
          "height": 518
        },
        "id": "QnJ-qWMOq6JM",
        "outputId": "83baa8e2-b197-4365-9426-ad026ecb1af1"
      },
      "execution_count": 32,
      "outputs": [
        {
          "output_type": "stream",
          "name": "stderr",
          "text": [
            "WARNING:tensorflow:6 out of the last 6 calls to <function Model.make_predict_function.<locals>.predict_function at 0x785eebd36290> triggered tf.function retracing. Tracing is expensive and the excessive number of tracings could be due to (1) creating @tf.function repeatedly in a loop, (2) passing tensors with different shapes, (3) passing Python objects instead of tensors. For (1), please define your @tf.function outside of the loop. For (2), @tf.function has reduce_retracing=True option that can avoid unnecessary retracing. For (3), please refer to https://www.tensorflow.org/guide/function#controlling_retracing and https://www.tensorflow.org/api_docs/python/tf/function for  more details.\n"
          ]
        },
        {
          "output_type": "stream",
          "name": "stdout",
          "text": [
            "1/1 [==============================] - 0s 113ms/step\n"
          ]
        },
        {
          "output_type": "display_data",
          "data": {
            "text/plain": [
              "<Figure size 1000x700 with 1 Axes>"
            ],
            "image/png": "[encoded data removed]"
          },
          "metadata": {}
        }
      ]
    },
    {
      "cell_type": "code",
      "source": [
        "mae_2 = mae(y_test, y_preds_2)\n",
        "mse_2 = mse(y_test, y_preds_2)\n",
        "mae_2, mse_2"
      ],
      "metadata": {
        "colab": {
          "base_uri": "https://localhost:8080/"
        },
        "id": "pTyaXFFcrbB2",
        "outputId": "72302f02-0057-4c40-897a-88bddf7b03ca"
      },
      "execution_count": 33,
      "outputs": [
        {
          "output_type": "execute_result",
          "data": {
            "text/plain": [
              "(<tf.Tensor: shape=(), dtype=float32, numpy=12.032887>,\n",
              " <tf.Tensor: shape=(), dtype=float32, numpy=154.58844>)"
            ]
          },
          "metadata": {},
          "execution_count": 33
        }
      ]
    },
    {
      "cell_type": "code",
      "source": [
        "tf.random.set_seed(42)\n",
        "model_3 = tf.keras.Sequential([\n",
        "    tf.keras.layers.Dense(10, activation='relu'),\n",
        "    tf.keras.layers.Dense(1)\n",
        "])\n",
        "model_3.compile(loss = tf.keras.losses.mae,\n",
        "                optimizer = tf.keras.optimizers.SGD(),\n",
        "                metrics=['mae'])\n",
        "model_3.fit(tf.expand_dims(x_train, axis=-1), y_train, epochs=500)"
      ],
      "metadata": {
        "colab": {
          "base_uri": "https://localhost:8080/"
        },
        "id": "FCnf9SLfrvOk",
        "outputId": "15cc3a13-7113-4b83-cd55-2664986c1467"
      },
      "execution_count": 34,
      "outputs": [
        {
          "output_type": "stream",
          "name": "stdout",
          "text": [
            "Epoch 1/500\n",
            "2/2 [==============================] - 1s 13ms/step - loss: 48.8153 - mae: 48.8153\n",
            "Epoch 2/500\n",
            "2/2 [==============================] - 0s 8ms/step - loss: 24.5520 - mae: 24.5520\n",
            "Epoch 3/500\n",
            "2/2 [==============================] - 0s 8ms/step - loss: 7.1097 - mae: 7.1097\n",
            "Epoch 4/500\n",
            "2/2 [==============================] - 0s 7ms/step - loss: 8.9626 - mae: 8.9626\n",
            "Epoch 5/500\n",
            "2/2 [==============================] - 0s 8ms/step - loss: 9.6983 - mae: 9.6983\n",
            "Epoch 6/500\n",
            "2/2 [==============================] - 0s 7ms/step - loss: 7.0058 - mae: 7.0058\n",
            "Epoch 7/500\n",
            "2/2 [==============================] - 0s 7ms/step - loss: 9.9073 - mae: 9.9073\n",
            "Epoch 8/500\n",
            "2/2 [==============================] - 0s 7ms/step - loss: 11.5733 - mae: 11.5733\n",
            "Epoch 9/500\n",
            "2/2 [==============================] - 0s 7ms/step - loss: 26.2000 - mae: 26.2000\n",
            "Epoch 10/500\n",
            "2/2 [==============================] - 0s 7ms/step - loss: 13.2252 - mae: 13.2252\n",
            "Epoch 11/500\n",
            "2/2 [==============================] - 0s 7ms/step - loss: 9.7889 - mae: 9.7889\n",
            "Epoch 12/500\n",
            "2/2 [==============================] - 0s 8ms/step - loss: 21.3672 - mae: 21.3672\n",
            "Epoch 13/500\n",
            "2/2 [==============================] - 0s 8ms/step - loss: 6.9513 - mae: 6.9513\n",
            "Epoch 14/500\n",
            "2/2 [==============================] - 0s 7ms/step - loss: 18.3542 - mae: 18.3542\n",
            "Epoch 15/500\n",
            "2/2 [==============================] - 0s 7ms/step - loss: 7.9955 - mae: 7.9955\n",
            "Epoch 16/500\n",
            "2/2 [==============================] - 0s 7ms/step - loss: 11.2473 - mae: 11.2473\n",
            "Epoch 17/500\n",
            "2/2 [==============================] - 0s 10ms/step - loss: 16.0654 - mae: 16.0654\n",
            "Epoch 18/500\n",
            "2/2 [==============================] - 0s 13ms/step - loss: 14.6997 - mae: 14.6997\n",
            "Epoch 19/500\n",
            "2/2 [==============================] - 0s 14ms/step - loss: 11.9106 - mae: 11.9106\n",
            "Epoch 20/500\n",
            "2/2 [==============================] - 0s 10ms/step - loss: 5.5462 - mae: 5.5462\n",
            "Epoch 21/500\n",
            "2/2 [==============================] - 0s 8ms/step - loss: 13.3628 - mae: 13.3628\n",
            "Epoch 22/500\n",
            "2/2 [==============================] - 0s 8ms/step - loss: 18.7790 - mae: 18.7790\n",
            "Epoch 23/500\n",
            "2/2 [==============================] - 0s 7ms/step - loss: 8.6399 - mae: 8.6399\n",
            "Epoch 24/500\n",
            "2/2 [==============================] - 0s 7ms/step - loss: 13.0091 - mae: 13.0091\n",
            "Epoch 25/500\n",
            "2/2 [==============================] - 0s 7ms/step - loss: 16.4067 - mae: 16.4067\n",
            "Epoch 26/500\n",
            "2/2 [==============================] - 0s 8ms/step - loss: 17.3913 - mae: 17.3913\n",
            "Epoch 27/500\n",
            "2/2 [==============================] - 0s 8ms/step - loss: 12.6539 - mae: 12.6539\n",
            "Epoch 28/500\n",
            "2/2 [==============================] - 0s 7ms/step - loss: 11.3960 - mae: 11.3960\n",
            "Epoch 29/500\n",
            "2/2 [==============================] - 0s 7ms/step - loss: 6.7575 - mae: 6.7575\n",
            "Epoch 30/500\n",
            "2/2 [==============================] - 0s 7ms/step - loss: 23.3496 - mae: 23.3496\n",
            "Epoch 31/500\n",
            "2/2 [==============================] - 0s 8ms/step - loss: 9.8901 - mae: 9.8901\n",
            "Epoch 32/500\n",
            "2/2 [==============================] - 0s 7ms/step - loss: 12.1618 - mae: 12.1618\n",
            "Epoch 33/500\n",
            "2/2 [==============================] - 0s 7ms/step - loss: 8.5361 - mae: 8.5361\n",
            "Epoch 34/500\n",
            "2/2 [==============================] - 0s 7ms/step - loss: 15.0983 - mae: 15.0983\n",
            "Epoch 35/500\n",
            "2/2 [==============================] - 0s 8ms/step - loss: 7.7700 - mae: 7.7700\n",
            "Epoch 36/500\n",
            "2/2 [==============================] - 0s 7ms/step - loss: 17.8833 - mae: 17.8833\n",
            "Epoch 37/500\n",
            "2/2 [==============================] - 0s 7ms/step - loss: 7.3273 - mae: 7.3273\n",
            "Epoch 38/500\n",
            "2/2 [==============================] - 0s 7ms/step - loss: 12.0354 - mae: 12.0354\n",
            "Epoch 39/500\n",
            "2/2 [==============================] - 0s 9ms/step - loss: 15.3748 - mae: 15.3748\n",
            "Epoch 40/500\n",
            "2/2 [==============================] - 0s 9ms/step - loss: 12.9695 - mae: 12.9695\n",
            "Epoch 41/500\n",
            "2/2 [==============================] - 0s 7ms/step - loss: 6.6913 - mae: 6.6913\n",
            "Epoch 42/500\n",
            "2/2 [==============================] - 0s 7ms/step - loss: 11.8542 - mae: 11.8542\n",
            "Epoch 43/500\n",
            "2/2 [==============================] - 0s 7ms/step - loss: 9.4313 - mae: 9.4313\n",
            "Epoch 44/500\n",
            "2/2 [==============================] - 0s 11ms/step - loss: 23.2859 - mae: 23.2859\n",
            "Epoch 45/500\n",
            "2/2 [==============================] - 0s 7ms/step - loss: 13.7436 - mae: 13.7436\n",
            "Epoch 46/500\n",
            "2/2 [==============================] - 0s 7ms/step - loss: 6.8350 - mae: 6.8350\n",
            "Epoch 47/500\n",
            "2/2 [==============================] - 0s 7ms/step - loss: 7.7111 - mae: 7.7111\n",
            "Epoch 48/500\n",
            "2/2 [==============================] - 0s 7ms/step - loss: 10.2319 - mae: 10.2319\n",
            "Epoch 49/500\n",
            "2/2 [==============================] - 0s 7ms/step - loss: 8.9409 - mae: 8.9409\n",
            "Epoch 50/500\n",
            "2/2 [==============================] - 0s 7ms/step - loss: 12.5629 - mae: 12.5629\n",
            "Epoch 51/500\n",
            "2/2 [==============================] - 0s 7ms/step - loss: 9.2203 - mae: 9.2203\n",
            "Epoch 52/500\n",
            "2/2 [==============================] - 0s 7ms/step - loss: 18.5361 - mae: 18.5361\n",
            "Epoch 53/500\n",
            "2/2 [==============================] - 0s 7ms/step - loss: 8.4716 - mae: 8.4716\n",
            "Epoch 54/500\n",
            "2/2 [==============================] - 0s 7ms/step - loss: 14.7149 - mae: 14.7149\n",
            "Epoch 55/500\n",
            "2/2 [==============================] - 0s 7ms/step - loss: 21.9496 - mae: 21.9496\n",
            "Epoch 56/500\n",
            "2/2 [==============================] - 0s 7ms/step - loss: 13.3128 - mae: 13.3128\n",
            "Epoch 57/500\n",
            "2/2 [==============================] - 0s 7ms/step - loss: 6.8282 - mae: 6.8282\n",
            "Epoch 58/500\n",
            "2/2 [==============================] - 0s 7ms/step - loss: 6.1932 - mae: 6.1932\n",
            "Epoch 59/500\n",
            "2/2 [==============================] - 0s 7ms/step - loss: 13.5089 - mae: 13.5089\n",
            "Epoch 60/500\n",
            "2/2 [==============================] - 0s 7ms/step - loss: 8.5015 - mae: 8.5015\n",
            "Epoch 61/500\n",
            "2/2 [==============================] - 0s 7ms/step - loss: 13.0444 - mae: 13.0444\n",
            "Epoch 62/500\n",
            "2/2 [==============================] - 0s 7ms/step - loss: 15.8806 - mae: 15.8806\n",
            "Epoch 63/500\n",
            "2/2 [==============================] - 0s 7ms/step - loss: 8.9233 - mae: 8.9233\n",
            "Epoch 64/500\n",
            "2/2 [==============================] - 0s 7ms/step - loss: 7.3901 - mae: 7.3901\n",
            "Epoch 65/500\n",
            "2/2 [==============================] - 0s 7ms/step - loss: 8.2048 - mae: 8.2048\n",
            "Epoch 66/500\n",
            "2/2 [==============================] - 0s 7ms/step - loss: 15.4383 - mae: 15.4383\n",
            "Epoch 67/500\n",
            "2/2 [==============================] - 0s 7ms/step - loss: 11.1806 - mae: 11.1806\n",
            "Epoch 68/500\n",
            "2/2 [==============================] - 0s 7ms/step - loss: 5.7884 - mae: 5.7884\n",
            "Epoch 69/500\n",
            "2/2 [==============================] - 0s 7ms/step - loss: 15.5875 - mae: 15.5875\n",
            "Epoch 70/500\n",
            "2/2 [==============================] - 0s 7ms/step - loss: 9.3299 - mae: 9.3299\n",
            "Epoch 71/500\n",
            "2/2 [==============================] - 0s 7ms/step - loss: 8.4758 - mae: 8.4758\n",
            "Epoch 72/500\n",
            "2/2 [==============================] - 0s 10ms/step - loss: 12.0790 - mae: 12.0790\n",
            "Epoch 73/500\n",
            "2/2 [==============================] - 0s 8ms/step - loss: 10.7625 - mae: 10.7625\n",
            "Epoch 74/500\n",
            "2/2 [==============================] - 0s 8ms/step - loss: 25.3099 - mae: 25.3099\n",
            "Epoch 75/500\n",
            "2/2 [==============================] - 0s 10ms/step - loss: 4.9835 - mae: 4.9835\n",
            "Epoch 76/500\n",
            "2/2 [==============================] - 0s 10ms/step - loss: 13.3938 - mae: 13.3938\n",
            "Epoch 77/500\n",
            "2/2 [==============================] - 0s 10ms/step - loss: 15.1706 - mae: 15.1706\n",
            "Epoch 78/500\n",
            "2/2 [==============================] - 0s 11ms/step - loss: 11.5738 - mae: 11.5738\n",
            "Epoch 79/500\n",
            "2/2 [==============================] - 0s 11ms/step - loss: 12.0640 - mae: 12.0640\n",
            "Epoch 80/500\n",
            "2/2 [==============================] - 0s 7ms/step - loss: 18.3074 - mae: 18.3074\n",
            "Epoch 81/500\n",
            "2/2 [==============================] - 0s 10ms/step - loss: 5.7705 - mae: 5.7705\n",
            "Epoch 82/500\n",
            "2/2 [==============================] - 0s 8ms/step - loss: 9.2295 - mae: 9.2295\n",
            "Epoch 83/500\n",
            "2/2 [==============================] - 0s 8ms/step - loss: 9.0364 - mae: 9.0364\n",
            "Epoch 84/500\n",
            "2/2 [==============================] - 0s 7ms/step - loss: 6.3939 - mae: 6.3939\n",
            "Epoch 85/500\n",
            "2/2 [==============================] - 0s 9ms/step - loss: 14.7809 - mae: 14.7809\n",
            "Epoch 86/500\n",
            "2/2 [==============================] - 0s 10ms/step - loss: 14.0854 - mae: 14.0854\n",
            "Epoch 87/500\n",
            "2/2 [==============================] - 0s 7ms/step - loss: 12.3687 - mae: 12.3687\n",
            "Epoch 88/500\n",
            "2/2 [==============================] - 0s 8ms/step - loss: 10.8396 - mae: 10.8396\n",
            "Epoch 89/500\n",
            "2/2 [==============================] - 0s 7ms/step - loss: 5.7701 - mae: 5.7701\n",
            "Epoch 90/500\n",
            "2/2 [==============================] - 0s 11ms/step - loss: 15.8673 - mae: 15.8673\n",
            "Epoch 91/500\n",
            "2/2 [==============================] - 0s 11ms/step - loss: 11.4431 - mae: 11.4431\n",
            "Epoch 92/500\n",
            "2/2 [==============================] - 0s 8ms/step - loss: 6.5346 - mae: 6.5346\n",
            "Epoch 93/500\n",
            "2/2 [==============================] - 0s 10ms/step - loss: 12.9552 - mae: 12.9552\n",
            "Epoch 94/500\n",
            "2/2 [==============================] - 0s 10ms/step - loss: 8.2109 - mae: 8.2109\n",
            "Epoch 95/500\n",
            "2/2 [==============================] - 0s 7ms/step - loss: 7.0288 - mae: 7.0288\n",
            "Epoch 96/500\n",
            "2/2 [==============================] - 0s 9ms/step - loss: 9.9516 - mae: 9.9516\n",
            "Epoch 97/500\n",
            "2/2 [==============================] - 0s 9ms/step - loss: 8.4381 - mae: 8.4381\n",
            "Epoch 98/500\n",
            "2/2 [==============================] - 0s 7ms/step - loss: 9.0980 - mae: 9.0980\n",
            "Epoch 99/500\n",
            "2/2 [==============================] - 0s 9ms/step - loss: 8.9024 - mae: 8.9024\n",
            "Epoch 100/500\n",
            "2/2 [==============================] - 0s 7ms/step - loss: 17.2139 - mae: 17.2139\n",
            "Epoch 101/500\n",
            "2/2 [==============================] - 0s 7ms/step - loss: 10.6455 - mae: 10.6455\n",
            "Epoch 102/500\n",
            "2/2 [==============================] - 0s 7ms/step - loss: 6.9744 - mae: 6.9744\n",
            "Epoch 103/500\n",
            "2/2 [==============================] - 0s 8ms/step - loss: 7.0840 - mae: 7.0840\n",
            "Epoch 104/500\n",
            "2/2 [==============================] - 0s 7ms/step - loss: 17.6472 - mae: 17.6472\n",
            "Epoch 105/500\n",
            "2/2 [==============================] - 0s 9ms/step - loss: 5.9055 - mae: 5.9055\n",
            "Epoch 106/500\n",
            "2/2 [==============================] - 0s 11ms/step - loss: 6.4935 - mae: 6.4935\n",
            "Epoch 107/500\n",
            "2/2 [==============================] - 0s 8ms/step - loss: 17.0152 - mae: 17.0152\n",
            "Epoch 108/500\n",
            "2/2 [==============================] - 0s 7ms/step - loss: 11.2487 - mae: 11.2487\n",
            "Epoch 109/500\n",
            "2/2 [==============================] - 0s 10ms/step - loss: 4.3388 - mae: 4.3388\n",
            "Epoch 110/500\n",
            "2/2 [==============================] - 0s 7ms/step - loss: 5.0477 - mae: 5.0477\n",
            "Epoch 111/500\n",
            "2/2 [==============================] - 0s 7ms/step - loss: 12.7579 - mae: 12.7579\n",
            "Epoch 112/500\n",
            "2/2 [==============================] - 0s 7ms/step - loss: 8.9835 - mae: 8.9835\n",
            "Epoch 113/500\n",
            "2/2 [==============================] - 0s 7ms/step - loss: 16.1592 - mae: 16.1592\n",
            "Epoch 114/500\n",
            "2/2 [==============================] - 0s 7ms/step - loss: 13.7713 - mae: 13.7713\n",
            "Epoch 115/500\n",
            "2/2 [==============================] - 0s 9ms/step - loss: 9.8773 - mae: 9.8773\n",
            "Epoch 116/500\n",
            "2/2 [==============================] - 0s 9ms/step - loss: 4.5290 - mae: 4.5290\n",
            "Epoch 117/500\n",
            "2/2 [==============================] - 0s 8ms/step - loss: 12.2833 - mae: 12.2833\n",
            "Epoch 118/500\n",
            "2/2 [==============================] - 0s 13ms/step - loss: 11.3304 - mae: 11.3304\n",
            "Epoch 119/500\n",
            "2/2 [==============================] - 0s 11ms/step - loss: 9.8289 - mae: 9.8289\n",
            "Epoch 120/500\n",
            "2/2 [==============================] - 0s 10ms/step - loss: 23.1432 - mae: 23.1432\n",
            "Epoch 121/500\n",
            "2/2 [==============================] - 0s 7ms/step - loss: 10.5452 - mae: 10.5452\n",
            "Epoch 122/500\n",
            "2/2 [==============================] - 0s 10ms/step - loss: 15.7499 - mae: 15.7499\n",
            "Epoch 123/500\n",
            "2/2 [==============================] - 0s 7ms/step - loss: 22.2989 - mae: 22.2989\n",
            "Epoch 124/500\n",
            "2/2 [==============================] - 0s 11ms/step - loss: 22.8547 - mae: 22.8547\n",
            "Epoch 125/500\n",
            "2/2 [==============================] - 0s 7ms/step - loss: 7.2710 - mae: 7.2710\n",
            "Epoch 126/500\n",
            "2/2 [==============================] - 0s 7ms/step - loss: 9.3676 - mae: 9.3676\n",
            "Epoch 127/500\n",
            "2/2 [==============================] - 0s 7ms/step - loss: 10.9716 - mae: 10.9716\n",
            "Epoch 128/500\n",
            "2/2 [==============================] - 0s 7ms/step - loss: 12.3965 - mae: 12.3965\n",
            "Epoch 129/500\n",
            "2/2 [==============================] - 0s 7ms/step - loss: 7.8613 - mae: 7.8613\n",
            "Epoch 130/500\n",
            "2/2 [==============================] - 0s 9ms/step - loss: 8.7899 - mae: 8.7899\n",
            "Epoch 131/500\n",
            "2/2 [==============================] - 0s 7ms/step - loss: 3.8360 - mae: 3.8360\n",
            "Epoch 132/500\n",
            "2/2 [==============================] - 0s 7ms/step - loss: 8.2580 - mae: 8.2580\n",
            "Epoch 133/500\n",
            "2/2 [==============================] - 0s 6ms/step - loss: 8.0086 - mae: 8.0086\n",
            "Epoch 134/500\n",
            "2/2 [==============================] - 0s 10ms/step - loss: 16.2450 - mae: 16.2450\n",
            "Epoch 135/500\n",
            "2/2 [==============================] - 0s 11ms/step - loss: 8.5025 - mae: 8.5025\n",
            "Epoch 136/500\n",
            "2/2 [==============================] - 0s 8ms/step - loss: 8.7816 - mae: 8.7816\n",
            "Epoch 137/500\n",
            "2/2 [==============================] - 0s 9ms/step - loss: 17.9304 - mae: 17.9304\n",
            "Epoch 138/500\n",
            "2/2 [==============================] - 0s 8ms/step - loss: 7.2651 - mae: 7.2651\n",
            "Epoch 139/500\n",
            "2/2 [==============================] - 0s 11ms/step - loss: 9.4449 - mae: 9.4449\n",
            "Epoch 140/500\n",
            "2/2 [==============================] - 0s 7ms/step - loss: 12.9700 - mae: 12.9700\n",
            "Epoch 141/500\n",
            "2/2 [==============================] - 0s 15ms/step - loss: 9.9936 - mae: 9.9936\n",
            "Epoch 142/500\n",
            "2/2 [==============================] - 0s 7ms/step - loss: 15.1775 - mae: 15.1775\n",
            "Epoch 143/500\n",
            "2/2 [==============================] - 0s 7ms/step - loss: 16.8806 - mae: 16.8806\n",
            "Epoch 144/500\n",
            "2/2 [==============================] - 0s 7ms/step - loss: 8.2260 - mae: 8.2260\n",
            "Epoch 145/500\n",
            "2/2 [==============================] - 0s 7ms/step - loss: 17.6402 - mae: 17.6402\n",
            "Epoch 146/500\n",
            "2/2 [==============================] - 0s 7ms/step - loss: 6.1253 - mae: 6.1253\n",
            "Epoch 147/500\n",
            "2/2 [==============================] - 0s 10ms/step - loss: 9.5112 - mae: 9.5112\n",
            "Epoch 148/500\n",
            "2/2 [==============================] - 0s 7ms/step - loss: 6.6129 - mae: 6.6129\n",
            "Epoch 149/500\n",
            "2/2 [==============================] - 0s 7ms/step - loss: 13.1693 - mae: 13.1693\n",
            "Epoch 150/500\n",
            "2/2 [==============================] - 0s 8ms/step - loss: 9.1244 - mae: 9.1244\n",
            "Epoch 151/500\n",
            "2/2 [==============================] - 0s 7ms/step - loss: 6.8927 - mae: 6.8927\n",
            "Epoch 152/500\n",
            "2/2 [==============================] - 0s 8ms/step - loss: 10.9381 - mae: 10.9381\n",
            "Epoch 153/500\n",
            "2/2 [==============================] - 0s 8ms/step - loss: 14.1403 - mae: 14.1403\n",
            "Epoch 154/500\n",
            "2/2 [==============================] - 0s 7ms/step - loss: 10.1140 - mae: 10.1140\n",
            "Epoch 155/500\n",
            "2/2 [==============================] - 0s 8ms/step - loss: 10.9728 - mae: 10.9728\n",
            "Epoch 156/500\n",
            "2/2 [==============================] - 0s 8ms/step - loss: 18.6520 - mae: 18.6520\n",
            "Epoch 157/500\n",
            "2/2 [==============================] - 0s 7ms/step - loss: 18.6093 - mae: 18.6093\n",
            "Epoch 158/500\n",
            "2/2 [==============================] - 0s 8ms/step - loss: 12.2303 - mae: 12.2303\n",
            "Epoch 159/500\n",
            "2/2 [==============================] - 0s 11ms/step - loss: 8.8995 - mae: 8.8995\n",
            "Epoch 160/500\n",
            "2/2 [==============================] - 0s 8ms/step - loss: 15.8221 - mae: 15.8221\n",
            "Epoch 161/500\n",
            "2/2 [==============================] - 0s 7ms/step - loss: 10.8340 - mae: 10.8340\n",
            "Epoch 162/500\n",
            "2/2 [==============================] - 0s 8ms/step - loss: 11.9154 - mae: 11.9154\n",
            "Epoch 163/500\n",
            "2/2 [==============================] - 0s 8ms/step - loss: 12.1512 - mae: 12.1512\n",
            "Epoch 164/500\n",
            "2/2 [==============================] - 0s 8ms/step - loss: 6.7299 - mae: 6.7299\n",
            "Epoch 165/500\n",
            "2/2 [==============================] - 0s 8ms/step - loss: 9.1267 - mae: 9.1267\n",
            "Epoch 166/500\n",
            "2/2 [==============================] - 0s 8ms/step - loss: 13.3032 - mae: 13.3032\n",
            "Epoch 167/500\n",
            "2/2 [==============================] - 0s 7ms/step - loss: 16.5265 - mae: 16.5265\n",
            "Epoch 168/500\n",
            "2/2 [==============================] - 0s 8ms/step - loss: 3.7220 - mae: 3.7220\n",
            "Epoch 169/500\n",
            "2/2 [==============================] - 0s 8ms/step - loss: 9.3791 - mae: 9.3791\n",
            "Epoch 170/500\n",
            "2/2 [==============================] - 0s 8ms/step - loss: 9.4537 - mae: 9.4537\n",
            "Epoch 171/500\n",
            "2/2 [==============================] - 0s 7ms/step - loss: 15.3852 - mae: 15.3852\n",
            "Epoch 172/500\n",
            "2/2 [==============================] - 0s 7ms/step - loss: 12.6316 - mae: 12.6316\n",
            "Epoch 173/500\n",
            "2/2 [==============================] - 0s 8ms/step - loss: 11.7749 - mae: 11.7749\n",
            "Epoch 174/500\n",
            "2/2 [==============================] - 0s 8ms/step - loss: 7.4486 - mae: 7.4486\n",
            "Epoch 175/500\n",
            "2/2 [==============================] - 0s 8ms/step - loss: 17.5995 - mae: 17.5995\n",
            "Epoch 176/500\n",
            "2/2 [==============================] - 0s 8ms/step - loss: 4.5757 - mae: 4.5757\n",
            "Epoch 177/500\n",
            "2/2 [==============================] - 0s 8ms/step - loss: 5.4358 - mae: 5.4358\n",
            "Epoch 178/500\n",
            "2/2 [==============================] - 0s 8ms/step - loss: 14.1907 - mae: 14.1907\n",
            "Epoch 179/500\n",
            "2/2 [==============================] - 0s 8ms/step - loss: 11.4934 - mae: 11.4934\n",
            "Epoch 180/500\n",
            "2/2 [==============================] - 0s 8ms/step - loss: 12.7696 - mae: 12.7696\n",
            "Epoch 181/500\n",
            "2/2 [==============================] - 0s 7ms/step - loss: 12.7563 - mae: 12.7563\n",
            "Epoch 182/500\n",
            "2/2 [==============================] - 0s 8ms/step - loss: 12.0669 - mae: 12.0669\n",
            "Epoch 183/500\n",
            "2/2 [==============================] - 0s 7ms/step - loss: 8.7379 - mae: 8.7379\n",
            "Epoch 184/500\n",
            "2/2 [==============================] - 0s 8ms/step - loss: 24.4314 - mae: 24.4314\n",
            "Epoch 185/500\n",
            "2/2 [==============================] - 0s 8ms/step - loss: 15.4002 - mae: 15.4002\n",
            "Epoch 186/500\n",
            "2/2 [==============================] - 0s 11ms/step - loss: 12.8636 - mae: 12.8636\n",
            "Epoch 187/500\n",
            "2/2 [==============================] - 0s 8ms/step - loss: 9.6188 - mae: 9.6188\n",
            "Epoch 188/500\n",
            "2/2 [==============================] - 0s 11ms/step - loss: 19.4936 - mae: 19.4936\n",
            "Epoch 189/500\n",
            "2/2 [==============================] - 0s 7ms/step - loss: 9.6461 - mae: 9.6461\n",
            "Epoch 190/500\n",
            "2/2 [==============================] - 0s 9ms/step - loss: 11.9782 - mae: 11.9782\n",
            "Epoch 191/500\n",
            "2/2 [==============================] - 0s 7ms/step - loss: 9.1344 - mae: 9.1344\n",
            "Epoch 192/500\n",
            "2/2 [==============================] - 0s 12ms/step - loss: 6.9498 - mae: 6.9498\n",
            "Epoch 193/500\n",
            "2/2 [==============================] - 0s 9ms/step - loss: 19.1282 - mae: 19.1282\n",
            "Epoch 194/500\n",
            "2/2 [==============================] - 0s 8ms/step - loss: 9.8402 - mae: 9.8402\n",
            "Epoch 195/500\n",
            "2/2 [==============================] - 0s 8ms/step - loss: 8.3986 - mae: 8.3986\n",
            "Epoch 196/500\n",
            "2/2 [==============================] - 0s 7ms/step - loss: 15.2502 - mae: 15.2502\n",
            "Epoch 197/500\n",
            "2/2 [==============================] - 0s 11ms/step - loss: 6.9670 - mae: 6.9670\n",
            "Epoch 198/500\n",
            "2/2 [==============================] - 0s 8ms/step - loss: 7.6416 - mae: 7.6416\n",
            "Epoch 199/500\n",
            "2/2 [==============================] - 0s 10ms/step - loss: 18.0602 - mae: 18.0602\n",
            "Epoch 200/500\n",
            "2/2 [==============================] - 0s 9ms/step - loss: 6.9801 - mae: 6.9801\n",
            "Epoch 201/500\n",
            "2/2 [==============================] - 0s 7ms/step - loss: 9.0230 - mae: 9.0230\n",
            "Epoch 202/500\n",
            "2/2 [==============================] - 0s 7ms/step - loss: 19.8056 - mae: 19.8056\n",
            "Epoch 203/500\n",
            "2/2 [==============================] - 0s 7ms/step - loss: 7.5066 - mae: 7.5066\n",
            "Epoch 204/500\n",
            "2/2 [==============================] - 0s 7ms/step - loss: 14.3318 - mae: 14.3318\n",
            "Epoch 205/500\n",
            "2/2 [==============================] - 0s 11ms/step - loss: 12.3123 - mae: 12.3123\n",
            "Epoch 206/500\n",
            "2/2 [==============================] - 0s 10ms/step - loss: 7.6351 - mae: 7.6351\n",
            "Epoch 207/500\n",
            "2/2 [==============================] - 0s 9ms/step - loss: 12.9155 - mae: 12.9155\n",
            "Epoch 208/500\n",
            "2/2 [==============================] - 0s 7ms/step - loss: 18.1402 - mae: 18.1402\n",
            "Epoch 209/500\n",
            "2/2 [==============================] - 0s 10ms/step - loss: 13.8494 - mae: 13.8494\n",
            "Epoch 210/500\n",
            "2/2 [==============================] - 0s 9ms/step - loss: 20.3308 - mae: 20.3308\n",
            "Epoch 211/500\n",
            "2/2 [==============================] - 0s 9ms/step - loss: 16.5394 - mae: 16.5394\n",
            "Epoch 212/500\n",
            "2/2 [==============================] - 0s 6ms/step - loss: 10.9514 - mae: 10.9514\n",
            "Epoch 213/500\n",
            "2/2 [==============================] - 0s 8ms/step - loss: 9.3484 - mae: 9.3484\n",
            "Epoch 214/500\n",
            "2/2 [==============================] - 0s 7ms/step - loss: 12.7395 - mae: 12.7395\n",
            "Epoch 215/500\n",
            "2/2 [==============================] - 0s 8ms/step - loss: 18.6393 - mae: 18.6393\n",
            "Epoch 216/500\n",
            "2/2 [==============================] - 0s 7ms/step - loss: 6.9743 - mae: 6.9743\n",
            "Epoch 217/500\n",
            "2/2 [==============================] - 0s 7ms/step - loss: 16.6908 - mae: 16.6908\n",
            "Epoch 218/500\n",
            "2/2 [==============================] - 0s 7ms/step - loss: 10.0957 - mae: 10.0957\n",
            "Epoch 219/500\n",
            "2/2 [==============================] - 0s 7ms/step - loss: 3.7940 - mae: 3.7940\n",
            "Epoch 220/500\n",
            "2/2 [==============================] - 0s 6ms/step - loss: 11.9837 - mae: 11.9837\n",
            "Epoch 221/500\n",
            "2/2 [==============================] - 0s 6ms/step - loss: 25.7188 - mae: 25.7188\n",
            "Epoch 222/500\n",
            "2/2 [==============================] - 0s 7ms/step - loss: 12.5233 - mae: 12.5233\n",
            "Epoch 223/500\n",
            "2/2 [==============================] - 0s 6ms/step - loss: 9.1146 - mae: 9.1146\n",
            "Epoch 224/500\n",
            "2/2 [==============================] - 0s 7ms/step - loss: 7.7522 - mae: 7.7522\n",
            "Epoch 225/500\n",
            "2/2 [==============================] - 0s 7ms/step - loss: 17.8914 - mae: 17.8914\n",
            "Epoch 226/500\n",
            "2/2 [==============================] - 0s 7ms/step - loss: 10.0141 - mae: 10.0141\n",
            "Epoch 227/500\n",
            "2/2 [==============================] - 0s 6ms/step - loss: 7.3682 - mae: 7.3682\n",
            "Epoch 228/500\n",
            "2/2 [==============================] - 0s 6ms/step - loss: 9.0004 - mae: 9.0004\n",
            "Epoch 229/500\n",
            "2/2 [==============================] - 0s 7ms/step - loss: 10.3099 - mae: 10.3099\n",
            "Epoch 230/500\n",
            "2/2 [==============================] - 0s 7ms/step - loss: 10.1996 - mae: 10.1996\n",
            "Epoch 231/500\n",
            "2/2 [==============================] - 0s 7ms/step - loss: 9.7258 - mae: 9.7258\n",
            "Epoch 232/500\n",
            "2/2 [==============================] - 0s 7ms/step - loss: 13.2043 - mae: 13.2043\n",
            "Epoch 233/500\n",
            "2/2 [==============================] - 0s 7ms/step - loss: 18.0957 - mae: 18.0957\n",
            "Epoch 234/500\n",
            "2/2 [==============================] - 0s 7ms/step - loss: 14.4144 - mae: 14.4144\n",
            "Epoch 235/500\n",
            "2/2 [==============================] - 0s 7ms/step - loss: 9.7286 - mae: 9.7286\n",
            "Epoch 236/500\n",
            "2/2 [==============================] - 0s 7ms/step - loss: 8.1851 - mae: 8.1851\n",
            "Epoch 237/500\n",
            "2/2 [==============================] - 0s 9ms/step - loss: 9.8704 - mae: 9.8704\n",
            "Epoch 238/500\n",
            "2/2 [==============================] - 0s 7ms/step - loss: 8.3154 - mae: 8.3154\n",
            "Epoch 239/500\n",
            "2/2 [==============================] - 0s 7ms/step - loss: 13.7461 - mae: 13.7461\n",
            "Epoch 240/500\n",
            "2/2 [==============================] - 0s 7ms/step - loss: 13.4282 - mae: 13.4282\n",
            "Epoch 241/500\n",
            "2/2 [==============================] - 0s 9ms/step - loss: 5.6750 - mae: 5.6750\n",
            "Epoch 242/500\n",
            "2/2 [==============================] - 0s 9ms/step - loss: 10.6607 - mae: 10.6607\n",
            "Epoch 243/500\n",
            "2/2 [==============================] - 0s 7ms/step - loss: 18.2391 - mae: 18.2391\n",
            "Epoch 244/500\n",
            "2/2 [==============================] - 0s 7ms/step - loss: 9.1278 - mae: 9.1278\n",
            "Epoch 245/500\n",
            "2/2 [==============================] - 0s 7ms/step - loss: 11.4813 - mae: 11.4813\n",
            "Epoch 246/500\n",
            "2/2 [==============================] - 0s 7ms/step - loss: 10.8240 - mae: 10.8240\n",
            "Epoch 247/500\n",
            "2/2 [==============================] - 0s 7ms/step - loss: 19.7191 - mae: 19.7191\n",
            "Epoch 248/500\n",
            "2/2 [==============================] - 0s 7ms/step - loss: 5.8953 - mae: 5.8953\n",
            "Epoch 249/500\n",
            "2/2 [==============================] - 0s 7ms/step - loss: 8.9180 - mae: 8.9180\n",
            "Epoch 250/500\n",
            "2/2 [==============================] - 0s 7ms/step - loss: 18.6058 - mae: 18.6058\n",
            "Epoch 251/500\n",
            "2/2 [==============================] - 0s 7ms/step - loss: 4.0248 - mae: 4.0248\n",
            "Epoch 252/500\n",
            "2/2 [==============================] - 0s 7ms/step - loss: 23.0378 - mae: 23.0378\n",
            "Epoch 253/500\n",
            "2/2 [==============================] - 0s 7ms/step - loss: 11.9753 - mae: 11.9753\n",
            "Epoch 254/500\n",
            "2/2 [==============================] - 0s 7ms/step - loss: 15.9669 - mae: 15.9669\n",
            "Epoch 255/500\n",
            "2/2 [==============================] - 0s 12ms/step - loss: 18.0042 - mae: 18.0042\n",
            "Epoch 256/500\n",
            "2/2 [==============================] - 0s 9ms/step - loss: 9.8318 - mae: 9.8318\n",
            "Epoch 257/500\n",
            "2/2 [==============================] - 0s 8ms/step - loss: 10.2967 - mae: 10.2967\n",
            "Epoch 258/500\n",
            "2/2 [==============================] - 0s 13ms/step - loss: 8.6943 - mae: 8.6943\n",
            "Epoch 259/500\n",
            "2/2 [==============================] - 0s 7ms/step - loss: 17.0991 - mae: 17.0991\n",
            "Epoch 260/500\n",
            "2/2 [==============================] - 0s 8ms/step - loss: 13.6909 - mae: 13.6909\n",
            "Epoch 261/500\n",
            "2/2 [==============================] - 0s 7ms/step - loss: 9.8960 - mae: 9.8960\n",
            "Epoch 262/500\n",
            "2/2 [==============================] - 0s 8ms/step - loss: 14.3844 - mae: 14.3844\n",
            "Epoch 263/500\n",
            "2/2 [==============================] - 0s 7ms/step - loss: 7.3875 - mae: 7.3875\n",
            "Epoch 264/500\n",
            "2/2 [==============================] - 0s 8ms/step - loss: 13.9727 - mae: 13.9727\n",
            "Epoch 265/500\n",
            "2/2 [==============================] - 0s 7ms/step - loss: 6.4819 - mae: 6.4819\n",
            "Epoch 266/500\n",
            "2/2 [==============================] - 0s 7ms/step - loss: 12.1373 - mae: 12.1373\n",
            "Epoch 267/500\n",
            "2/2 [==============================] - 0s 8ms/step - loss: 8.8320 - mae: 8.8320\n",
            "Epoch 268/500\n",
            "2/2 [==============================] - 0s 7ms/step - loss: 15.5843 - mae: 15.5843\n",
            "Epoch 269/500\n",
            "2/2 [==============================] - 0s 8ms/step - loss: 15.3587 - mae: 15.3587\n",
            "Epoch 270/500\n",
            "2/2 [==============================] - 0s 8ms/step - loss: 8.4470 - mae: 8.4470\n",
            "Epoch 271/500\n",
            "2/2 [==============================] - 0s 7ms/step - loss: 12.0812 - mae: 12.0812\n",
            "Epoch 272/500\n",
            "2/2 [==============================] - 0s 7ms/step - loss: 19.3752 - mae: 19.3752\n",
            "Epoch 273/500\n",
            "2/2 [==============================] - 0s 8ms/step - loss: 9.1565 - mae: 9.1565\n",
            "Epoch 274/500\n",
            "2/2 [==============================] - 0s 7ms/step - loss: 7.1418 - mae: 7.1418\n",
            "Epoch 275/500\n",
            "2/2 [==============================] - 0s 7ms/step - loss: 23.0418 - mae: 23.0418\n",
            "Epoch 276/500\n",
            "2/2 [==============================] - 0s 10ms/step - loss: 12.4094 - mae: 12.4094\n",
            "Epoch 277/500\n",
            "2/2 [==============================] - 0s 7ms/step - loss: 22.6272 - mae: 22.6272\n",
            "Epoch 278/500\n",
            "2/2 [==============================] - 0s 7ms/step - loss: 7.8824 - mae: 7.8824\n",
            "Epoch 279/500\n",
            "2/2 [==============================] - 0s 8ms/step - loss: 10.4376 - mae: 10.4376\n",
            "Epoch 280/500\n",
            "2/2 [==============================] - 0s 8ms/step - loss: 20.3235 - mae: 20.3235\n",
            "Epoch 281/500\n",
            "2/2 [==============================] - 0s 7ms/step - loss: 10.5583 - mae: 10.5583\n",
            "Epoch 282/500\n",
            "2/2 [==============================] - 0s 8ms/step - loss: 5.9081 - mae: 5.9081\n",
            "Epoch 283/500\n",
            "2/2 [==============================] - 0s 8ms/step - loss: 8.9783 - mae: 8.9783\n",
            "Epoch 284/500\n",
            "2/2 [==============================] - 0s 7ms/step - loss: 17.6452 - mae: 17.6452\n",
            "Epoch 285/500\n",
            "2/2 [==============================] - 0s 7ms/step - loss: 7.8952 - mae: 7.8952\n",
            "Epoch 286/500\n",
            "2/2 [==============================] - 0s 8ms/step - loss: 6.6827 - mae: 6.6827\n",
            "Epoch 287/500\n",
            "2/2 [==============================] - 0s 8ms/step - loss: 15.5536 - mae: 15.5536\n",
            "Epoch 288/500\n",
            "2/2 [==============================] - 0s 8ms/step - loss: 8.6728 - mae: 8.6728\n",
            "Epoch 289/500\n",
            "2/2 [==============================] - 0s 8ms/step - loss: 8.3061 - mae: 8.3061\n",
            "Epoch 290/500\n",
            "2/2 [==============================] - 0s 8ms/step - loss: 10.9409 - mae: 10.9409\n",
            "Epoch 291/500\n",
            "2/2 [==============================] - 0s 8ms/step - loss: 11.9525 - mae: 11.9525\n",
            "Epoch 292/500\n",
            "2/2 [==============================] - 0s 7ms/step - loss: 13.0746 - mae: 13.0746\n",
            "Epoch 293/500\n",
            "2/2 [==============================] - 0s 8ms/step - loss: 3.6343 - mae: 3.6343\n",
            "Epoch 294/500\n",
            "2/2 [==============================] - 0s 8ms/step - loss: 20.2649 - mae: 20.2649\n",
            "Epoch 295/500\n",
            "2/2 [==============================] - 0s 7ms/step - loss: 7.7506 - mae: 7.7506\n",
            "Epoch 296/500\n",
            "2/2 [==============================] - 0s 7ms/step - loss: 6.7532 - mae: 6.7532\n",
            "Epoch 297/500\n",
            "2/2 [==============================] - 0s 8ms/step - loss: 4.1763 - mae: 4.1763\n",
            "Epoch 298/500\n",
            "2/2 [==============================] - 0s 8ms/step - loss: 16.9036 - mae: 16.9036\n",
            "Epoch 299/500\n",
            "2/2 [==============================] - 0s 8ms/step - loss: 10.4641 - mae: 10.4641\n",
            "Epoch 300/500\n",
            "2/2 [==============================] - 0s 8ms/step - loss: 11.1658 - mae: 11.1658\n",
            "Epoch 301/500\n",
            "2/2 [==============================] - 0s 8ms/step - loss: 11.4662 - mae: 11.4662\n",
            "Epoch 302/500\n",
            "2/2 [==============================] - 0s 7ms/step - loss: 10.4883 - mae: 10.4883\n",
            "Epoch 303/500\n",
            "2/2 [==============================] - 0s 7ms/step - loss: 11.2022 - mae: 11.2022\n",
            "Epoch 304/500\n",
            "2/2 [==============================] - 0s 7ms/step - loss: 5.3799 - mae: 5.3799\n",
            "Epoch 305/500\n",
            "2/2 [==============================] - 0s 7ms/step - loss: 5.2496 - mae: 5.2496\n",
            "Epoch 306/500\n",
            "2/2 [==============================] - 0s 8ms/step - loss: 16.5566 - mae: 16.5566\n",
            "Epoch 307/500\n",
            "2/2 [==============================] - 0s 8ms/step - loss: 8.3228 - mae: 8.3228\n",
            "Epoch 308/500\n",
            "2/2 [==============================] - 0s 8ms/step - loss: 10.4386 - mae: 10.4386\n",
            "Epoch 309/500\n",
            "2/2 [==============================] - 0s 8ms/step - loss: 9.9201 - mae: 9.9201\n",
            "Epoch 310/500\n",
            "2/2 [==============================] - 0s 7ms/step - loss: 14.3305 - mae: 14.3305\n",
            "Epoch 311/500\n",
            "2/2 [==============================] - 0s 9ms/step - loss: 6.1662 - mae: 6.1662\n",
            "Epoch 312/500\n",
            "2/2 [==============================] - 0s 7ms/step - loss: 21.3011 - mae: 21.3011\n",
            "Epoch 313/500\n",
            "2/2 [==============================] - 0s 8ms/step - loss: 8.5117 - mae: 8.5117\n",
            "Epoch 314/500\n",
            "2/2 [==============================] - 0s 7ms/step - loss: 10.3686 - mae: 10.3686\n",
            "Epoch 315/500\n",
            "2/2 [==============================] - 0s 7ms/step - loss: 8.7609 - mae: 8.7609\n",
            "Epoch 316/500\n",
            "2/2 [==============================] - 0s 7ms/step - loss: 8.0626 - mae: 8.0626\n",
            "Epoch 317/500\n",
            "2/2 [==============================] - 0s 11ms/step - loss: 20.8225 - mae: 20.8225\n",
            "Epoch 318/500\n",
            "2/2 [==============================] - 0s 11ms/step - loss: 9.8941 - mae: 9.8941\n",
            "Epoch 319/500\n",
            "2/2 [==============================] - 0s 9ms/step - loss: 11.5399 - mae: 11.5399\n",
            "Epoch 320/500\n",
            "2/2 [==============================] - 0s 8ms/step - loss: 15.2416 - mae: 15.2416\n",
            "Epoch 321/500\n",
            "2/2 [==============================] - 0s 8ms/step - loss: 3.7982 - mae: 3.7982\n",
            "Epoch 322/500\n",
            "2/2 [==============================] - 0s 8ms/step - loss: 7.7774 - mae: 7.7774\n",
            "Epoch 323/500\n",
            "2/2 [==============================] - 0s 8ms/step - loss: 10.3937 - mae: 10.3937\n",
            "Epoch 324/500\n",
            "2/2 [==============================] - 0s 8ms/step - loss: 13.4319 - mae: 13.4319\n",
            "Epoch 325/500\n",
            "2/2 [==============================] - 0s 7ms/step - loss: 14.3645 - mae: 14.3645\n",
            "Epoch 326/500\n",
            "2/2 [==============================] - 0s 8ms/step - loss: 7.3566 - mae: 7.3566\n",
            "Epoch 327/500\n",
            "2/2 [==============================] - 0s 8ms/step - loss: 5.8968 - mae: 5.8968\n",
            "Epoch 328/500\n",
            "2/2 [==============================] - 0s 9ms/step - loss: 5.4346 - mae: 5.4346\n",
            "Epoch 329/500\n",
            "2/2 [==============================] - 0s 8ms/step - loss: 10.4393 - mae: 10.4393\n",
            "Epoch 330/500\n",
            "2/2 [==============================] - 0s 7ms/step - loss: 9.8623 - mae: 9.8623\n",
            "Epoch 331/500\n",
            "2/2 [==============================] - 0s 7ms/step - loss: 15.9325 - mae: 15.9325\n",
            "Epoch 332/500\n",
            "2/2 [==============================] - 0s 7ms/step - loss: 10.8234 - mae: 10.8234\n",
            "Epoch 333/500\n",
            "2/2 [==============================] - 0s 7ms/step - loss: 6.7323 - mae: 6.7323\n",
            "Epoch 334/500\n",
            "2/2 [==============================] - 0s 7ms/step - loss: 10.4402 - mae: 10.4402\n",
            "Epoch 335/500\n",
            "2/2 [==============================] - 0s 7ms/step - loss: 6.9217 - mae: 6.9217\n",
            "Epoch 336/500\n",
            "2/2 [==============================] - 0s 8ms/step - loss: 24.0637 - mae: 24.0637\n",
            "Epoch 337/500\n",
            "2/2 [==============================] - 0s 8ms/step - loss: 13.1466 - mae: 13.1466\n",
            "Epoch 338/500\n",
            "2/2 [==============================] - 0s 7ms/step - loss: 4.8910 - mae: 4.8910\n",
            "Epoch 339/500\n",
            "2/2 [==============================] - 0s 8ms/step - loss: 12.5707 - mae: 12.5707\n",
            "Epoch 340/500\n",
            "2/2 [==============================] - 0s 8ms/step - loss: 10.5559 - mae: 10.5559\n",
            "Epoch 341/500\n",
            "2/2 [==============================] - 0s 8ms/step - loss: 16.7002 - mae: 16.7002\n",
            "Epoch 342/500\n",
            "2/2 [==============================] - 0s 8ms/step - loss: 7.1624 - mae: 7.1624\n",
            "Epoch 343/500\n",
            "2/2 [==============================] - 0s 7ms/step - loss: 14.3328 - mae: 14.3328\n",
            "Epoch 344/500\n",
            "2/2 [==============================] - 0s 7ms/step - loss: 8.8391 - mae: 8.8391\n",
            "Epoch 345/500\n",
            "2/2 [==============================] - 0s 7ms/step - loss: 23.6040 - mae: 23.6040\n",
            "Epoch 346/500\n",
            "2/2 [==============================] - 0s 7ms/step - loss: 13.5828 - mae: 13.5828\n",
            "Epoch 347/500\n",
            "2/2 [==============================] - 0s 7ms/step - loss: 16.3548 - mae: 16.3548\n",
            "Epoch 348/500\n",
            "2/2 [==============================] - 0s 9ms/step - loss: 6.8547 - mae: 6.8547\n",
            "Epoch 349/500\n",
            "2/2 [==============================] - 0s 7ms/step - loss: 10.0699 - mae: 10.0699\n",
            "Epoch 350/500\n",
            "2/2 [==============================] - 0s 8ms/step - loss: 12.1086 - mae: 12.1086\n",
            "Epoch 351/500\n",
            "2/2 [==============================] - 0s 7ms/step - loss: 21.4048 - mae: 21.4048\n",
            "Epoch 352/500\n",
            "2/2 [==============================] - 0s 7ms/step - loss: 8.6582 - mae: 8.6582\n",
            "Epoch 353/500\n",
            "2/2 [==============================] - 0s 7ms/step - loss: 7.5929 - mae: 7.5929\n",
            "Epoch 354/500\n",
            "2/2 [==============================] - 0s 8ms/step - loss: 8.8932 - mae: 8.8932\n",
            "Epoch 355/500\n",
            "2/2 [==============================] - 0s 7ms/step - loss: 14.0073 - mae: 14.0073\n",
            "Epoch 356/500\n",
            "2/2 [==============================] - 0s 7ms/step - loss: 9.0206 - mae: 9.0206\n",
            "Epoch 357/500\n",
            "2/2 [==============================] - 0s 8ms/step - loss: 9.9801 - mae: 9.9801\n",
            "Epoch 358/500\n",
            "2/2 [==============================] - 0s 10ms/step - loss: 14.1037 - mae: 14.1037\n",
            "Epoch 359/500\n",
            "2/2 [==============================] - 0s 8ms/step - loss: 7.8109 - mae: 7.8109\n",
            "Epoch 360/500\n",
            "2/2 [==============================] - 0s 8ms/step - loss: 9.0648 - mae: 9.0648\n",
            "Epoch 361/500\n",
            "2/2 [==============================] - 0s 7ms/step - loss: 8.5120 - mae: 8.5120\n",
            "Epoch 362/500\n",
            "2/2 [==============================] - 0s 7ms/step - loss: 14.9177 - mae: 14.9177\n",
            "Epoch 363/500\n",
            "2/2 [==============================] - 0s 8ms/step - loss: 14.2588 - mae: 14.2588\n",
            "Epoch 364/500\n",
            "2/2 [==============================] - 0s 7ms/step - loss: 26.7265 - mae: 26.7265\n",
            "Epoch 365/500\n",
            "2/2 [==============================] - 0s 8ms/step - loss: 13.9681 - mae: 13.9681\n",
            "Epoch 366/500\n",
            "2/2 [==============================] - 0s 9ms/step - loss: 10.2051 - mae: 10.2051\n",
            "Epoch 367/500\n",
            "2/2 [==============================] - 0s 8ms/step - loss: 22.4199 - mae: 22.4199\n",
            "Epoch 368/500\n",
            "2/2 [==============================] - 0s 8ms/step - loss: 11.9482 - mae: 11.9482\n",
            "Epoch 369/500\n",
            "2/2 [==============================] - 0s 8ms/step - loss: 5.0533 - mae: 5.0533\n",
            "Epoch 370/500\n",
            "2/2 [==============================] - 0s 9ms/step - loss: 14.2526 - mae: 14.2526\n",
            "Epoch 371/500\n",
            "2/2 [==============================] - 0s 7ms/step - loss: 8.7953 - mae: 8.7953\n",
            "Epoch 372/500\n",
            "2/2 [==============================] - 0s 7ms/step - loss: 8.5342 - mae: 8.5342\n",
            "Epoch 373/500\n",
            "2/2 [==============================] - 0s 7ms/step - loss: 19.2992 - mae: 19.2992\n",
            "Epoch 374/500\n",
            "2/2 [==============================] - 0s 7ms/step - loss: 7.1224 - mae: 7.1224\n",
            "Epoch 375/500\n",
            "2/2 [==============================] - 0s 7ms/step - loss: 8.2447 - mae: 8.2447\n",
            "Epoch 376/500\n",
            "2/2 [==============================] - 0s 7ms/step - loss: 7.5498 - mae: 7.5498\n",
            "Epoch 377/500\n",
            "2/2 [==============================] - 0s 7ms/step - loss: 6.1708 - mae: 6.1708\n",
            "Epoch 378/500\n",
            "2/2 [==============================] - 0s 7ms/step - loss: 8.8772 - mae: 8.8772\n",
            "Epoch 379/500\n",
            "2/2 [==============================] - 0s 9ms/step - loss: 8.9922 - mae: 8.9922\n",
            "Epoch 380/500\n",
            "2/2 [==============================] - 0s 9ms/step - loss: 12.0642 - mae: 12.0642\n",
            "Epoch 381/500\n",
            "2/2 [==============================] - 0s 11ms/step - loss: 6.9521 - mae: 6.9521\n",
            "Epoch 382/500\n",
            "2/2 [==============================] - 0s 7ms/step - loss: 8.6153 - mae: 8.6153\n",
            "Epoch 383/500\n",
            "2/2 [==============================] - 0s 9ms/step - loss: 14.2855 - mae: 14.2855\n",
            "Epoch 384/500\n",
            "2/2 [==============================] - 0s 7ms/step - loss: 9.2086 - mae: 9.2086\n",
            "Epoch 385/500\n",
            "2/2 [==============================] - 0s 7ms/step - loss: 6.7951 - mae: 6.7951\n",
            "Epoch 386/500\n",
            "2/2 [==============================] - 0s 8ms/step - loss: 8.6226 - mae: 8.6226\n",
            "Epoch 387/500\n",
            "2/2 [==============================] - 0s 6ms/step - loss: 9.5459 - mae: 9.5459\n",
            "Epoch 388/500\n",
            "2/2 [==============================] - 0s 11ms/step - loss: 14.1363 - mae: 14.1363\n",
            "Epoch 389/500\n",
            "2/2 [==============================] - 0s 8ms/step - loss: 7.1082 - mae: 7.1082\n",
            "Epoch 390/500\n",
            "2/2 [==============================] - 0s 8ms/step - loss: 7.3590 - mae: 7.3590\n",
            "Epoch 391/500\n",
            "2/2 [==============================] - 0s 7ms/step - loss: 8.3303 - mae: 8.3303\n",
            "Epoch 392/500\n",
            "2/2 [==============================] - 0s 9ms/step - loss: 11.7398 - mae: 11.7398\n",
            "Epoch 393/500\n",
            "2/2 [==============================] - 0s 6ms/step - loss: 19.4323 - mae: 19.4323\n",
            "Epoch 394/500\n",
            "2/2 [==============================] - 0s 9ms/step - loss: 7.4862 - mae: 7.4862\n",
            "Epoch 395/500\n",
            "2/2 [==============================] - 0s 8ms/step - loss: 9.1713 - mae: 9.1713\n",
            "Epoch 396/500\n",
            "2/2 [==============================] - 0s 7ms/step - loss: 4.9059 - mae: 4.9059\n",
            "Epoch 397/500\n",
            "2/2 [==============================] - 0s 8ms/step - loss: 8.2820 - mae: 8.2820\n",
            "Epoch 398/500\n",
            "2/2 [==============================] - 0s 8ms/step - loss: 15.0243 - mae: 15.0243\n",
            "Epoch 399/500\n",
            "2/2 [==============================] - 0s 6ms/step - loss: 9.1004 - mae: 9.1004\n",
            "Epoch 400/500\n",
            "2/2 [==============================] - 0s 7ms/step - loss: 9.6772 - mae: 9.6772\n",
            "Epoch 401/500\n",
            "2/2 [==============================] - 0s 8ms/step - loss: 7.9524 - mae: 7.9524\n",
            "Epoch 402/500\n",
            "2/2 [==============================] - 0s 9ms/step - loss: 19.5854 - mae: 19.5854\n",
            "Epoch 403/500\n",
            "2/2 [==============================] - 0s 7ms/step - loss: 8.4890 - mae: 8.4890\n",
            "Epoch 404/500\n",
            "2/2 [==============================] - 0s 8ms/step - loss: 19.7259 - mae: 19.7259\n",
            "Epoch 405/500\n",
            "2/2 [==============================] - 0s 8ms/step - loss: 5.4382 - mae: 5.4382\n",
            "Epoch 406/500\n",
            "2/2 [==============================] - 0s 8ms/step - loss: 16.0579 - mae: 16.0579\n",
            "Epoch 407/500\n",
            "2/2 [==============================] - 0s 8ms/step - loss: 7.9051 - mae: 7.9051\n",
            "Epoch 408/500\n",
            "2/2 [==============================] - 0s 8ms/step - loss: 7.3380 - mae: 7.3380\n",
            "Epoch 409/500\n",
            "2/2 [==============================] - 0s 8ms/step - loss: 19.2503 - mae: 19.2503\n",
            "Epoch 410/500\n",
            "2/2 [==============================] - 0s 7ms/step - loss: 7.1504 - mae: 7.1504\n",
            "Epoch 411/500\n",
            "2/2 [==============================] - 0s 8ms/step - loss: 11.3655 - mae: 11.3655\n",
            "Epoch 412/500\n",
            "2/2 [==============================] - 0s 8ms/step - loss: 5.6989 - mae: 5.6989\n",
            "Epoch 413/500\n",
            "2/2 [==============================] - 0s 8ms/step - loss: 8.1743 - mae: 8.1743\n",
            "Epoch 414/500\n",
            "2/2 [==============================] - 0s 9ms/step - loss: 12.6465 - mae: 12.6465\n",
            "Epoch 415/500\n",
            "2/2 [==============================] - 0s 8ms/step - loss: 10.0561 - mae: 10.0561\n",
            "Epoch 416/500\n",
            "2/2 [==============================] - 0s 8ms/step - loss: 9.5495 - mae: 9.5495\n",
            "Epoch 417/500\n",
            "2/2 [==============================] - 0s 8ms/step - loss: 7.1866 - mae: 7.1866\n",
            "Epoch 418/500\n",
            "2/2 [==============================] - 0s 8ms/step - loss: 9.4077 - mae: 9.4077\n",
            "Epoch 419/500\n",
            "2/2 [==============================] - 0s 8ms/step - loss: 10.1263 - mae: 10.1263\n",
            "Epoch 420/500\n",
            "2/2 [==============================] - 0s 8ms/step - loss: 19.2429 - mae: 19.2429\n",
            "Epoch 421/500\n",
            "2/2 [==============================] - 0s 7ms/step - loss: 9.5338 - mae: 9.5338\n",
            "Epoch 422/500\n",
            "2/2 [==============================] - 0s 9ms/step - loss: 8.6293 - mae: 8.6293\n",
            "Epoch 423/500\n",
            "2/2 [==============================] - 0s 11ms/step - loss: 17.4532 - mae: 17.4532\n",
            "Epoch 424/500\n",
            "2/2 [==============================] - 0s 8ms/step - loss: 8.9405 - mae: 8.9405\n",
            "Epoch 425/500\n",
            "2/2 [==============================] - 0s 8ms/step - loss: 8.1927 - mae: 8.1927\n",
            "Epoch 426/500\n",
            "2/2 [==============================] - 0s 9ms/step - loss: 5.4381 - mae: 5.4381\n",
            "Epoch 427/500\n",
            "2/2 [==============================] - 0s 11ms/step - loss: 11.4184 - mae: 11.4184\n",
            "Epoch 428/500\n",
            "2/2 [==============================] - 0s 12ms/step - loss: 8.7804 - mae: 8.7804\n",
            "Epoch 429/500\n",
            "2/2 [==============================] - 0s 12ms/step - loss: 19.4438 - mae: 19.4438\n",
            "Epoch 430/500\n",
            "2/2 [==============================] - 0s 8ms/step - loss: 7.2273 - mae: 7.2273\n",
            "Epoch 431/500\n",
            "2/2 [==============================] - 0s 8ms/step - loss: 8.3576 - mae: 8.3576\n",
            "Epoch 432/500\n",
            "2/2 [==============================] - 0s 8ms/step - loss: 9.6877 - mae: 9.6877\n",
            "Epoch 433/500\n",
            "2/2 [==============================] - 0s 7ms/step - loss: 6.2824 - mae: 6.2824\n",
            "Epoch 434/500\n",
            "2/2 [==============================] - 0s 7ms/step - loss: 21.5237 - mae: 21.5237\n",
            "Epoch 435/500\n",
            "2/2 [==============================] - 0s 8ms/step - loss: 8.9959 - mae: 8.9959\n",
            "Epoch 436/500\n",
            "2/2 [==============================] - 0s 12ms/step - loss: 8.0577 - mae: 8.0577\n",
            "Epoch 437/500\n",
            "2/2 [==============================] - 0s 7ms/step - loss: 9.9483 - mae: 9.9483\n",
            "Epoch 438/500\n",
            "2/2 [==============================] - 0s 7ms/step - loss: 7.5191 - mae: 7.5191\n",
            "Epoch 439/500\n",
            "2/2 [==============================] - 0s 8ms/step - loss: 8.2514 - mae: 8.2514\n",
            "Epoch 440/500\n",
            "2/2 [==============================] - 0s 6ms/step - loss: 16.8189 - mae: 16.8189\n",
            "Epoch 441/500\n",
            "2/2 [==============================] - 0s 7ms/step - loss: 8.6354 - mae: 8.6354\n",
            "Epoch 442/500\n",
            "2/2 [==============================] - 0s 7ms/step - loss: 8.9151 - mae: 8.9151\n",
            "Epoch 443/500\n",
            "2/2 [==============================] - 0s 7ms/step - loss: 8.2131 - mae: 8.2131\n",
            "Epoch 444/500\n",
            "2/2 [==============================] - 0s 9ms/step - loss: 14.7258 - mae: 14.7258\n",
            "Epoch 445/500\n",
            "2/2 [==============================] - 0s 9ms/step - loss: 5.8734 - mae: 5.8734\n",
            "Epoch 446/500\n",
            "2/2 [==============================] - 0s 8ms/step - loss: 8.3087 - mae: 8.3087\n",
            "Epoch 447/500\n",
            "2/2 [==============================] - 0s 7ms/step - loss: 10.5076 - mae: 10.5076\n",
            "Epoch 448/500\n",
            "2/2 [==============================] - 0s 7ms/step - loss: 5.1000 - mae: 5.1000\n",
            "Epoch 449/500\n",
            "2/2 [==============================] - 0s 7ms/step - loss: 8.7728 - mae: 8.7728\n",
            "Epoch 450/500\n",
            "2/2 [==============================] - 0s 8ms/step - loss: 13.0359 - mae: 13.0359\n",
            "Epoch 451/500\n",
            "2/2 [==============================] - 0s 7ms/step - loss: 11.7315 - mae: 11.7315\n",
            "Epoch 452/500\n",
            "2/2 [==============================] - 0s 7ms/step - loss: 22.0231 - mae: 22.0231\n",
            "Epoch 453/500\n",
            "2/2 [==============================] - 0s 8ms/step - loss: 13.2719 - mae: 13.2719\n",
            "Epoch 454/500\n",
            "2/2 [==============================] - 0s 8ms/step - loss: 15.8721 - mae: 15.8721\n",
            "Epoch 455/500\n",
            "2/2 [==============================] - 0s 7ms/step - loss: 10.6337 - mae: 10.6337\n",
            "Epoch 456/500\n",
            "2/2 [==============================] - 0s 7ms/step - loss: 7.3779 - mae: 7.3779\n",
            "Epoch 457/500\n",
            "2/2 [==============================] - 0s 7ms/step - loss: 12.3610 - mae: 12.3610\n",
            "Epoch 458/500\n",
            "2/2 [==============================] - 0s 8ms/step - loss: 12.5192 - mae: 12.5192\n",
            "Epoch 459/500\n",
            "2/2 [==============================] - 0s 7ms/step - loss: 14.5825 - mae: 14.5825\n",
            "Epoch 460/500\n",
            "2/2 [==============================] - 0s 7ms/step - loss: 7.4207 - mae: 7.4207\n",
            "Epoch 461/500\n",
            "2/2 [==============================] - 0s 7ms/step - loss: 9.4038 - mae: 9.4038\n",
            "Epoch 462/500\n",
            "2/2 [==============================] - 0s 8ms/step - loss: 9.7469 - mae: 9.7469\n",
            "Epoch 463/500\n",
            "2/2 [==============================] - 0s 9ms/step - loss: 18.6064 - mae: 18.6064\n",
            "Epoch 464/500\n",
            "2/2 [==============================] - 0s 8ms/step - loss: 6.2994 - mae: 6.2994\n",
            "Epoch 465/500\n",
            "2/2 [==============================] - 0s 7ms/step - loss: 11.0864 - mae: 11.0864\n",
            "Epoch 466/500\n",
            "2/2 [==============================] - 0s 7ms/step - loss: 9.5701 - mae: 9.5701\n",
            "Epoch 467/500\n",
            "2/2 [==============================] - 0s 8ms/step - loss: 15.4158 - mae: 15.4158\n",
            "Epoch 468/500\n",
            "2/2 [==============================] - 0s 8ms/step - loss: 11.4287 - mae: 11.4287\n",
            "Epoch 469/500\n",
            "2/2 [==============================] - 0s 7ms/step - loss: 13.8065 - mae: 13.8065\n",
            "Epoch 470/500\n",
            "2/2 [==============================] - 0s 7ms/step - loss: 10.8587 - mae: 10.8587\n",
            "Epoch 471/500\n",
            "2/2 [==============================] - 0s 8ms/step - loss: 10.2220 - mae: 10.2220\n",
            "Epoch 472/500\n",
            "2/2 [==============================] - 0s 7ms/step - loss: 9.0122 - mae: 9.0122\n",
            "Epoch 473/500\n",
            "2/2 [==============================] - 0s 8ms/step - loss: 9.0761 - mae: 9.0761\n",
            "Epoch 474/500\n",
            "2/2 [==============================] - 0s 7ms/step - loss: 21.5185 - mae: 21.5185\n",
            "Epoch 475/500\n",
            "2/2 [==============================] - 0s 7ms/step - loss: 5.4496 - mae: 5.4496\n",
            "Epoch 476/500\n",
            "2/2 [==============================] - 0s 7ms/step - loss: 8.3319 - mae: 8.3319\n",
            "Epoch 477/500\n",
            "2/2 [==============================] - 0s 7ms/step - loss: 8.6921 - mae: 8.6921\n",
            "Epoch 478/500\n",
            "2/2 [==============================] - 0s 7ms/step - loss: 3.6115 - mae: 3.6115\n",
            "Epoch 479/500\n",
            "2/2 [==============================] - 0s 7ms/step - loss: 7.3658 - mae: 7.3658\n",
            "Epoch 480/500\n",
            "2/2 [==============================] - 0s 7ms/step - loss: 8.4029 - mae: 8.4029\n",
            "Epoch 481/500\n",
            "2/2 [==============================] - 0s 7ms/step - loss: 7.1591 - mae: 7.1591\n",
            "Epoch 482/500\n",
            "2/2 [==============================] - 0s 12ms/step - loss: 12.8757 - mae: 12.8757\n",
            "Epoch 483/500\n",
            "2/2 [==============================] - 0s 7ms/step - loss: 11.1002 - mae: 11.1002\n",
            "Epoch 484/500\n",
            "2/2 [==============================] - 0s 8ms/step - loss: 16.2568 - mae: 16.2568\n",
            "Epoch 485/500\n",
            "2/2 [==============================] - 0s 9ms/step - loss: 8.7028 - mae: 8.7028\n",
            "Epoch 486/500\n",
            "2/2 [==============================] - 0s 7ms/step - loss: 15.5687 - mae: 15.5687\n",
            "Epoch 487/500\n",
            "2/2 [==============================] - 0s 7ms/step - loss: 6.0251 - mae: 6.0251\n",
            "Epoch 488/500\n",
            "2/2 [==============================] - 0s 8ms/step - loss: 20.2817 - mae: 20.2817\n",
            "Epoch 489/500\n",
            "2/2 [==============================] - 0s 8ms/step - loss: 13.1683 - mae: 13.1683\n",
            "Epoch 490/500\n",
            "2/2 [==============================] - 0s 7ms/step - loss: 9.1268 - mae: 9.1268\n",
            "Epoch 491/500\n",
            "2/2 [==============================] - 0s 7ms/step - loss: 13.4279 - mae: 13.4279\n",
            "Epoch 492/500\n",
            "2/2 [==============================] - 0s 7ms/step - loss: 12.3516 - mae: 12.3516\n",
            "Epoch 493/500\n",
            "2/2 [==============================] - 0s 8ms/step - loss: 6.4439 - mae: 6.4439\n",
            "Epoch 494/500\n",
            "2/2 [==============================] - 0s 8ms/step - loss: 5.4938 - mae: 5.4938\n",
            "Epoch 495/500\n",
            "2/2 [==============================] - 0s 8ms/step - loss: 13.2553 - mae: 13.2553\n",
            "Epoch 496/500\n",
            "2/2 [==============================] - 0s 7ms/step - loss: 9.3344 - mae: 9.3344\n",
            "Epoch 497/500\n",
            "2/2 [==============================] - 0s 7ms/step - loss: 11.5129 - mae: 11.5129\n",
            "Epoch 498/500\n",
            "2/2 [==============================] - 0s 7ms/step - loss: 15.7333 - mae: 15.7333\n",
            "Epoch 499/500\n",
            "2/2 [==============================] - 0s 9ms/step - loss: 8.2931 - mae: 8.2931\n",
            "Epoch 500/500\n",
            "2/2 [==============================] - 0s 11ms/step - loss: 6.6060 - mae: 6.6060\n"
          ]
        },
        {
          "output_type": "execute_result",
          "data": {
            "text/plain": [
              "<keras.callbacks.History at 0x785eebc08fd0>"
            ]
          },
          "metadata": {},
          "execution_count": 34
        }
      ]
    },
    {
      "cell_type": "code",
      "source": [
        "y_preds_3 = model_3.predict(x_test)\n",
        "plot_predictions(predictions=y_preds_3)"
      ],
      "metadata": {
        "colab": {
          "base_uri": "https://localhost:8080/",
          "height": 480
        },
        "id": "h-R6CtoUr_O1",
        "outputId": "df0b4f5f-efff-4a81-8c19-6b8257330f82"
      },
      "execution_count": 35,
      "outputs": [
        {
          "output_type": "stream",
          "name": "stdout",
          "text": [
            "1/1 [==============================] - 0s 84ms/step\n"
          ]
        },
        {
          "output_type": "display_data",
          "data": {
            "text/plain": [
              "<Figure size 1000x700 with 1 Axes>"
            ],
            "image/png": "[encoded data removed]"
          },
          "metadata": {}
        }
      ]
    },
    {
      "cell_type": "code",
      "source": [
        "mae_3 = mae(y_test, y_preds_3)\n",
        "mse_3 = mse(y_test, y_preds_3)\n",
        "mae_3, mse_3"
      ],
      "metadata": {
        "colab": {
          "base_uri": "https://localhost:8080/"
        },
        "id": "_T4QyncGsINU",
        "outputId": "ef14888f-03ae-4660-edcd-b7d13a2b6002"
      },
      "execution_count": 36,
      "outputs": [
        {
          "output_type": "execute_result",
          "data": {
            "text/plain": [
              "(<tf.Tensor: shape=(), dtype=float32, numpy=2.8513083>,\n",
              " <tf.Tensor: shape=(), dtype=float32, numpy=10.03367>)"
            ]
          },
          "metadata": {},
          "execution_count": 36
        }
      ]
    },
    {
      "cell_type": "code",
      "source": [
        "import pandas as pd\n",
        "model_results = [['model_1', mae_1.numpy(), mse_1.numpy()],\n",
        "                 ['model_2', mae_2.numpy(), mse_2.numpy()],\n",
        "                 ['model_3', mae_3.numpy(), mse_3.numpy()]]\n",
        "all_results = pd.DataFrame(model_results, columns = ['model', 'mae', 'mse'])\n",
        "all_results"
      ],
      "metadata": {
        "colab": {
          "base_uri": "https://localhost:8080/",
          "height": 143
        },
        "id": "EfT570OjsXDy",
        "outputId": "7dd65cf3-c66e-4e5d-9e92-6bc33c1f85e0"
      },
      "execution_count": 37,
      "outputs": [
        {
          "output_type": "execute_result",
          "data": {
            "text/plain": [
              "     model        mae         mse\n",
              "0  model_1  14.847318  221.264236\n",
              "1  model_2  12.032887  154.588440\n",
              "2  model_3   2.851308   10.033670"
            ],
            "text/html": [
              "\n",
              "\n",
              "  <div id=\"df-3f925619-fdd8-4c89-8dda-52073d958a9d\">\n",
              "    <div class=\"colab-df-container\">\n",
              "      <div>\n",
              "<style scoped>\n",
              "    .dataframe tbody tr th:only-of-type {\n",
              "        vertical-align: middle;\n",
              "    }\n",
              "\n",
              "    .dataframe tbody tr th {\n",
              "        vertical-align: top;\n",
              "    }\n",
              "\n",
              "    .dataframe thead th {\n",
              "        text-align: right;\n",
              "    }\n",
              "</style>\n",
              "<table border=\"1\" class=\"dataframe\">\n",
              "  <thead>\n",
              "    <tr style=\"text-align: right;\">\n",
              "      <th></th>\n",
              "      <th>model</th>\n",
              "      <th>mae</th>\n",
              "      <th>mse</th>\n",
              "    </tr>\n",
              "  </thead>\n",
              "  <tbody>\n",
              "    <tr>\n",
              "      <th>0</th>\n",
              "      <td>model_1</td>\n",
              "      <td>14.847318</td>\n",
              "      <td>221.264236</td>\n",
              "    </tr>\n",
              "    <tr>\n",
              "      <th>1</th>\n",
              "      <td>model_2</td>\n",
              "      <td>12.032887</td>\n",
              "      <td>154.588440</td>\n",
              "    </tr>\n",
              "    <tr>\n",
              "      <th>2</th>\n",
              "      <td>model_3</td>\n",
              "      <td>2.851308</td>\n",
              "      <td>10.033670</td>\n",
              "    </tr>\n",
              "  </tbody>\n",
              "</table>\n",
              "</div>\n",
              "      <button class=\"colab-df-convert\" onclick=\"convertToInteractive('df-3f925619-fdd8-4c89-8dda-52073d958a9d')\"\n",
              "              title=\"Convert this dataframe to an interactive table.\"\n",
              "              style=\"display:none;\">\n",
              "\n",
              "  <svg xmlns=\"http://www.w3.org/2000/svg\" height=\"24px\"viewBox=\"0 0 24 24\"\n",
              "       width=\"24px\">\n",
              "    <path d=\"M0 0h24v24H0V0z\" fill=\"none\"/>\n",
              "    <path d=\"M18.56 5.44l.94 2.06.94-2.06 2.06-.94-2.06-.94-.94-2.06-.94 2.06-2.06.94zm-11 1L8.5 8.5l.94-2.06 2.06-.94-2.06-.94L8.5 2.5l-.94 2.06-2.06.94zm10 10l.94 2.06.94-2.06 2.06-.94-2.06-.94-.94-2.06-.94 2.06-2.06.94z\"/><path d=\"M17.41 7.96l-1.37-1.37c-.4-.4-.92-.59-1.43-.59-.52 0-1.04.2-1.43.59L10.3 9.45l-7.72 7.72c-.78.78-.78 2.05 0 2.83L4 21.41c.39.39.9.59 1.41.59.51 0 1.02-.2 1.41-.59l7.78-7.78 2.81-2.81c.8-.78.8-2.07 0-2.86zM5.41 20L4 18.59l7.72-7.72 1.47 1.35L5.41 20z\"/>\n",
              "  </svg>\n",
              "      </button>\n",
              "\n",
              "\n",
              "\n",
              "    <div id=\"df-5a845b95-9817-477f-8623-a281210c652f\">\n",
              "      <button class=\"colab-df-quickchart\" onclick=\"quickchart('df-5a845b95-9817-477f-8623-a281210c652f')\"\n",
              "              title=\"Suggest charts.\"\n",
              "              style=\"display:none;\">\n",
              "\n",
              "<svg xmlns=\"http://www.w3.org/2000/svg\" height=\"24px\"viewBox=\"0 0 24 24\"\n",
              "     width=\"24px\">\n",
              "    <g>\n",
              "        <path d=\"M19 3H5c-1.1 0-2 .9-2 2v14c0 1.1.9 2 2 2h14c1.1 0 2-.9 2-2V5c0-1.1-.9-2-2-2zM9 17H7v-7h2v7zm4 0h-2V7h2v10zm4 0h-2v-4h2v4z\"/>\n",
              "    </g>\n",
              "</svg>\n",
              "      </button>\n",
              "    </div>\n",
              "\n",
              "<style>\n",
              "  .colab-df-quickchart {\n",
              "    background-color: #E8F0FE;\n",
              "    border: none;\n",
              "    border-radius: 50%;\n",
              "    cursor: pointer;\n",
              "    display: none;\n",
              "    fill: #1967D2;\n",
              "    height: 32px;\n",
              "    padding: 0 0 0 0;\n",
              "    width: 32px;\n",
              "  }\n",
              "\n",
              "  .colab-df-quickchart:hover {\n",
              "    background-color: #E2EBFA;\n",
              "    box-shadow: 0px 1px 2px rgba(60, 64, 67, 0.3), 0px 1px 3px 1px rgba(60, 64, 67, 0.15);\n",
              "    fill: #174EA6;\n",
              "  }\n",
              "\n",
              "  [theme=dark] .colab-df-quickchart {\n",
              "    background-color: #3B4455;\n",
              "    fill: #D2E3FC;\n",
              "  }\n",
              "\n",
              "  [theme=dark] .colab-df-quickchart:hover {\n",
              "    background-color: #434B5C;\n",
              "    box-shadow: 0px 1px 3px 1px rgba(0, 0, 0, 0.15);\n",
              "    filter: drop-shadow(0px 1px 2px rgba(0, 0, 0, 0.3));\n",
              "    fill: #FFFFFF;\n",
              "  }\n",
              "</style>\n",
              "\n",
              "    <script>\n",
              "      async function quickchart(key) {\n",
              "        const containerElement = document.querySelector('#' + key);\n",
              "        const charts = await google.colab.kernel.invokeFunction(\n",
              "            'suggestCharts', [key], {});\n",
              "      }\n",
              "    </script>\n",
              "\n",
              "      <script>\n",
              "\n",
              "function displayQuickchartButton(domScope) {\n",
              "  let quickchartButtonEl =\n",
              "    domScope.querySelector('#df-5a845b95-9817-477f-8623-a281210c652f button.colab-df-quickchart');\n",
              "  quickchartButtonEl.style.display =\n",
              "    google.colab.kernel.accessAllowed ? 'block' : 'none';\n",
              "}\n",
              "\n",
              "        displayQuickchartButton(document);\n",
              "      </script>\n",
              "      <style>\n",
              "    .colab-df-container {\n",
              "      display:flex;\n",
              "      flex-wrap:wrap;\n",
              "      gap: 12px;\n",
              "    }\n",
              "\n",
              "    .colab-df-convert {\n",
              "      background-color: #E8F0FE;\n",
              "      border: none;\n",
              "      border-radius: 50%;\n",
              "      cursor: pointer;\n",
              "      display: none;\n",
              "      fill: #1967D2;\n",
              "      height: 32px;\n",
              "      padding: 0 0 0 0;\n",
              "      width: 32px;\n",
              "    }\n",
              "\n",
              "    .colab-df-convert:hover {\n",
              "      background-color: #E2EBFA;\n",
              "      box-shadow: 0px 1px 2px rgba(60, 64, 67, 0.3), 0px 1px 3px 1px rgba(60, 64, 67, 0.15);\n",
              "      fill: #174EA6;\n",
              "    }\n",
              "\n",
              "    [theme=dark] .colab-df-convert {\n",
              "      background-color: #3B4455;\n",
              "      fill: #D2E3FC;\n",
              "    }\n",
              "\n",
              "    [theme=dark] .colab-df-convert:hover {\n",
              "      background-color: #434B5C;\n",
              "      box-shadow: 0px 1px 3px 1px rgba(0, 0, 0, 0.15);\n",
              "      filter: drop-shadow(0px 1px 2px rgba(0, 0, 0, 0.3));\n",
              "      fill: #FFFFFF;\n",
              "    }\n",
              "  </style>\n",
              "\n",
              "      <script>\n",
              "        const buttonEl =\n",
              "          document.querySelector('#df-3f925619-fdd8-4c89-8dda-52073d958a9d button.colab-df-convert');\n",
              "        buttonEl.style.display =\n",
              "          google.colab.kernel.accessAllowed ? 'block' : 'none';\n",
              "\n",
              "        async function convertToInteractive(key) {\n",
              "          const element = document.querySelector('#df-3f925619-fdd8-4c89-8dda-52073d958a9d');\n",
              "          const dataTable =\n",
              "            await google.colab.kernel.invokeFunction('convertToInteractive',\n",
              "                                                     [key], {});\n",
              "          if (!dataTable) return;\n",
              "\n",
              "          const docLinkHtml = 'Like what you see? Visit the ' +\n",
              "            '<a target=\"_blank\" href=https://colab.research.google.com/notebooks/data_table.ipynb>data table notebook</a>'\n",
              "            + ' to learn more about interactive tables.';\n",
              "          element.innerHTML = '';\n",
              "          dataTable['output_type'] = 'display_data';\n",
              "          await google.colab.output.renderOutput(dataTable, element);\n",
              "          const docLink = document.createElement('div');\n",
              "          docLink.innerHTML = docLinkHtml;\n",
              "          element.appendChild(docLink);\n",
              "        }\n",
              "      </script>\n",
              "    </div>\n",
              "  </div>\n"
            ]
          },
          "metadata": {},
          "execution_count": 37
        }
      ]
    },
    {
      "cell_type": "code",
      "source": [
        "model_3.summary()"
      ],
      "metadata": {
        "colab": {
          "base_uri": "https://localhost:8080/"
        },
        "id": "W309c34atWDU",
        "outputId": "8d7c0b76-de6d-47ae-8e6c-59bd1e522efc"
      },
      "execution_count": 38,
      "outputs": [
        {
          "output_type": "stream",
          "name": "stdout",
          "text": [
            "Model: \"sequential_5\"\n",
            "_________________________________________________________________\n",
            " Layer (type)                Output Shape              Param #   \n",
            "=================================================================\n",
            " dense_10 (Dense)            (None, 10)                20        \n",
            "                                                                 \n",
            " dense_11 (Dense)            (None, 1)                 11        \n",
            "                                                                 \n",
            "=================================================================\n",
            "Total params: 31\n",
            "Trainable params: 31\n",
            "Non-trainable params: 0\n",
            "_________________________________________________________________\n"
          ]
        }
      ]
    },
    {
      "cell_type": "code",
      "source": [
        "model_3.save(\"best_model_SavedModel_format\")"
      ],
      "metadata": {
        "id": "sRlOvs1wttYE",
        "colab": {
          "base_uri": "https://localhost:8080/"
        },
        "outputId": "fe6896d0-2914-4fcf-97af-dc522b96fa9f"
      },
      "execution_count": 39,
      "outputs": [
        {
          "output_type": "stream",
          "name": "stderr",
          "text": [
            "WARNING:absl:Found untraced functions such as _update_step_xla while saving (showing 1 of 1). These functions will not be directly callable after loading.\n"
          ]
        }
      ]
    },
    {
      "cell_type": "code",
      "source": [],
      "metadata": {
        "id": "bPWUBVyjj0QO"
      },
      "execution_count": null,
      "outputs": []
    }
  ]
}
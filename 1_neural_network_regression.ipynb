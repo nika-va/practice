{
  "nbformat": 4,
  "nbformat_minor": 0,
  "metadata": {
    "colab": {
      "provenance": [],
      "authorship_tag": "ABX9TyOQy4E4IOL/8u7g2NjAv5J4",
      "include_colab_link": true
    },
    "kernelspec": {
      "name": "python3",
      "display_name": "Python 3"
    },
    "language_info": {
      "name": "python"
    }
  },
  "cells": [
    {
      "cell_type": "markdown",
      "metadata": {
        "id": "view-in-github",
        "colab_type": "text"
      },
      "source": [
        "<a href=\"https://colab.research.google.com/github/nika-va/practice/blob/main/1_neural_network_regression.ipynb\" target=\"_parent\"><img src=\"https://colab.research.google.com/assets/colab-badge.svg\" alt=\"Open In Colab\"/></a>"
      ]
    },
    {
      "cell_type": "code",
      "execution_count": 1,
      "metadata": {
        "colab": {
          "base_uri": "https://localhost:8080/"
        },
        "id": "Do2NzmAaHgnn",
        "outputId": "ffc4aa92-fcb8-48e2-e4c2-86bfc5b7c08b"
      },
      "outputs": [
        {
          "output_type": "stream",
          "name": "stdout",
          "text": [
            "2.12.0\n"
          ]
        }
      ],
      "source": [
        "import tensorflow as tf\n",
        "print(tf.__version__)"
      ]
    },
    {
      "cell_type": "code",
      "source": [
        "import numpy as np\n",
        "import matplotlib.pyplot as plt\n",
        "\n",
        "x = np.array([-7., -4., -1., 2., 5., 8., 11., 14.,])\n",
        "y = np.array([3., 6., 9., 12., 15., 18., 21., 24.])\n",
        "plt.scatter(x,y)"
      ],
      "metadata": {
        "colab": {
          "base_uri": "https://localhost:8080/",
          "height": 452
        },
        "id": "k5dM2wsgIEXv",
        "outputId": "8a4f748d-0e2b-4817-f186-d8f5ffccb5b1"
      },
      "execution_count": 2,
      "outputs": [
        {
          "output_type": "execute_result",
          "data": {
            "text/plain": [
              "<matplotlib.collections.PathCollection at 0x7d28bfff3220>"
            ]
          },
          "metadata": {},
          "execution_count": 2
        },
        {
          "output_type": "display_data",
          "data": {
            "text/plain": [
              "<Figure size 640x480 with 1 Axes>"
            ],
            "image/png": "[encoded data removed]"
          },
          "metadata": {}
        }
      ]
    },
    {
      "cell_type": "code",
      "source": [
        "x = tf.constant(x)\n",
        "y = tf.constant(y)\n",
        "x, y"
      ],
      "metadata": {
        "colab": {
          "base_uri": "https://localhost:8080/"
        },
        "id": "ZcamlTKlIpA1",
        "outputId": "7290355e-3c3f-4a5a-9a58-416f09898cd4"
      },
      "execution_count": 3,
      "outputs": [
        {
          "output_type": "execute_result",
          "data": {
            "text/plain": [
              "(<tf.Tensor: shape=(8,), dtype=float64, numpy=array([-7., -4., -1.,  2.,  5.,  8., 11., 14.])>,\n",
              " <tf.Tensor: shape=(8,), dtype=float64, numpy=array([ 3.,  6.,  9., 12., 15., 18., 21., 24.])>)"
            ]
          },
          "metadata": {},
          "execution_count": 3
        }
      ]
    },
    {
      "cell_type": "code",
      "source": [
        "tf.random.set_seed(42)\n",
        "model = tf.keras.Sequential([\n",
        "    tf.keras.layers.Dense(1)\n",
        "])\n",
        "\n",
        "# model = tf.keras.Sequential()\n",
        "# model.add(tf.keras.layers.Dense(1))\n",
        "\n",
        "model.compile(loss = tf.keras.losses.mae,\n",
        "              optimizer = tf.keras.optimizers.SGD(), #[\"sgd\"]\n",
        "              metrics = ['mae'])\n",
        "\n",
        "model.fit(tf.expand_dims(x, axis=-1), y, epochs=5)"
      ],
      "metadata": {
        "colab": {
          "base_uri": "https://localhost:8080/"
        },
        "id": "MMbQdZqZK_eS",
        "outputId": "e59be1d9-4404-46a7-a0d4-e89a2ff03edf"
      },
      "execution_count": 4,
      "outputs": [
        {
          "output_type": "stream",
          "name": "stdout",
          "text": [
            "Epoch 1/5\n",
            "1/1 [==============================] - 2s 2s/step - loss: 16.9320 - mae: 16.9320\n",
            "Epoch 2/5\n",
            "1/1 [==============================] - 0s 27ms/step - loss: 16.6508 - mae: 16.6508\n",
            "Epoch 3/5\n",
            "1/1 [==============================] - 0s 26ms/step - loss: 16.3695 - mae: 16.3695\n",
            "Epoch 4/5\n",
            "1/1 [==============================] - 0s 24ms/step - loss: 16.0883 - mae: 16.0883\n",
            "Epoch 5/5\n",
            "1/1 [==============================] - 0s 24ms/step - loss: 15.8070 - mae: 15.8070\n"
          ]
        },
        {
          "output_type": "execute_result",
          "data": {
            "text/plain": [
              "<keras.callbacks.History at 0x7d28bae95240>"
            ]
          },
          "metadata": {},
          "execution_count": 4
        }
      ]
    },
    {
      "cell_type": "code",
      "source": [
        "model.predict([27.])"
      ],
      "metadata": {
        "colab": {
          "base_uri": "https://localhost:8080/"
        },
        "id": "FHMankaQPWAe",
        "outputId": "dff6749b-282b-41e9-8243-ed11769cafb5"
      },
      "execution_count": 5,
      "outputs": [
        {
          "output_type": "stream",
          "name": "stdout",
          "text": [
            "1/1 [==============================] - 0s 479ms/step\n"
          ]
        },
        {
          "output_type": "execute_result",
          "data": {
            "text/plain": [
              "array([[-14.382522]], dtype=float32)"
            ]
          },
          "metadata": {},
          "execution_count": 5
        }
      ]
    },
    {
      "cell_type": "markdown",
      "source": [
        "#Improving our model"
      ],
      "metadata": {
        "id": "Fm17lkVhRyca"
      }
    },
    {
      "cell_type": "code",
      "source": [
        "model = tf.keras.Sequential([\n",
        "    tf.keras.layers.Dense(1)\n",
        "])\n",
        "\n",
        "model.compile(loss = tf.keras.losses.mae,\n",
        "              optimizer = tf.keras.optimizers.SGD(),\n",
        "              metrics = ['mae'])\n",
        "\n",
        "model.fit(tf.expand_dims(x, axis=-1), y, epochs=100)"
      ],
      "metadata": {
        "id": "1aLn_oTVSLbD",
        "colab": {
          "base_uri": "https://localhost:8080/"
        },
        "outputId": "dfa195c9-507e-4932-8a86-7471bb685c69"
      },
      "execution_count": 6,
      "outputs": [
        {
          "output_type": "stream",
          "name": "stdout",
          "text": [
            "Epoch 1/100\n",
            "1/1 [==============================] - 1s 1s/step - loss: 11.8933 - mae: 11.8933\n",
            "Epoch 2/100\n",
            "1/1 [==============================] - 0s 51ms/step - loss: 11.7608 - mae: 11.7608\n",
            "Epoch 3/100\n",
            "1/1 [==============================] - 0s 30ms/step - loss: 11.6283 - mae: 11.6283\n",
            "Epoch 4/100\n",
            "1/1 [==============================] - 0s 27ms/step - loss: 11.4958 - mae: 11.4958\n",
            "Epoch 5/100\n",
            "1/1 [==============================] - 0s 18ms/step - loss: 11.3633 - mae: 11.3633\n",
            "Epoch 6/100\n",
            "1/1 [==============================] - 0s 12ms/step - loss: 11.2308 - mae: 11.2308\n",
            "Epoch 7/100\n",
            "1/1 [==============================] - 0s 19ms/step - loss: 11.0983 - mae: 11.0983\n",
            "Epoch 8/100\n",
            "1/1 [==============================] - 0s 12ms/step - loss: 10.9658 - mae: 10.9658\n",
            "Epoch 9/100\n",
            "1/1 [==============================] - 0s 21ms/step - loss: 10.8333 - mae: 10.8333\n",
            "Epoch 10/100\n",
            "1/1 [==============================] - 0s 14ms/step - loss: 10.7008 - mae: 10.7008\n",
            "Epoch 11/100\n",
            "1/1 [==============================] - 0s 16ms/step - loss: 10.5683 - mae: 10.5683\n",
            "Epoch 12/100\n",
            "1/1 [==============================] - 0s 22ms/step - loss: 10.4358 - mae: 10.4358\n",
            "Epoch 13/100\n",
            "1/1 [==============================] - 0s 13ms/step - loss: 10.3033 - mae: 10.3033\n",
            "Epoch 14/100\n",
            "1/1 [==============================] - 0s 15ms/step - loss: 10.1708 - mae: 10.1708\n",
            "Epoch 15/100\n",
            "1/1 [==============================] - 0s 16ms/step - loss: 10.0383 - mae: 10.0383\n",
            "Epoch 16/100\n",
            "1/1 [==============================] - 0s 12ms/step - loss: 9.9058 - mae: 9.9058\n",
            "Epoch 17/100\n",
            "1/1 [==============================] - 0s 25ms/step - loss: 9.7733 - mae: 9.7733\n",
            "Epoch 18/100\n",
            "1/1 [==============================] - 0s 12ms/step - loss: 9.6408 - mae: 9.6408\n",
            "Epoch 19/100\n",
            "1/1 [==============================] - 0s 19ms/step - loss: 9.5083 - mae: 9.5083\n",
            "Epoch 20/100\n",
            "1/1 [==============================] - 0s 17ms/step - loss: 9.3758 - mae: 9.3758\n",
            "Epoch 21/100\n",
            "1/1 [==============================] - 0s 23ms/step - loss: 9.2433 - mae: 9.2433\n",
            "Epoch 22/100\n",
            "1/1 [==============================] - 0s 23ms/step - loss: 9.1108 - mae: 9.1108\n",
            "Epoch 23/100\n",
            "1/1 [==============================] - 0s 26ms/step - loss: 8.9783 - mae: 8.9783\n",
            "Epoch 24/100\n",
            "1/1 [==============================] - 0s 30ms/step - loss: 8.8458 - mae: 8.8458\n",
            "Epoch 25/100\n",
            "1/1 [==============================] - 0s 20ms/step - loss: 8.7133 - mae: 8.7133\n",
            "Epoch 26/100\n",
            "1/1 [==============================] - 0s 19ms/step - loss: 8.5808 - mae: 8.5808\n",
            "Epoch 27/100\n",
            "1/1 [==============================] - 0s 20ms/step - loss: 8.4483 - mae: 8.4483\n",
            "Epoch 28/100\n",
            "1/1 [==============================] - 0s 21ms/step - loss: 8.3158 - mae: 8.3158\n",
            "Epoch 29/100\n",
            "1/1 [==============================] - 0s 30ms/step - loss: 8.1833 - mae: 8.1833\n",
            "Epoch 30/100\n",
            "1/1 [==============================] - 0s 43ms/step - loss: 8.0508 - mae: 8.0508\n",
            "Epoch 31/100\n",
            "1/1 [==============================] - 0s 27ms/step - loss: 7.9183 - mae: 7.9183\n",
            "Epoch 32/100\n",
            "1/1 [==============================] - 0s 42ms/step - loss: 7.7858 - mae: 7.7858\n",
            "Epoch 33/100\n",
            "1/1 [==============================] - 0s 38ms/step - loss: 7.6533 - mae: 7.6533\n",
            "Epoch 34/100\n",
            "1/1 [==============================] - 0s 25ms/step - loss: 7.5208 - mae: 7.5208\n",
            "Epoch 35/100\n",
            "1/1 [==============================] - 0s 43ms/step - loss: 7.3883 - mae: 7.3883\n",
            "Epoch 36/100\n",
            "1/1 [==============================] - 0s 28ms/step - loss: 7.2558 - mae: 7.2558\n",
            "Epoch 37/100\n",
            "1/1 [==============================] - 0s 24ms/step - loss: 7.2300 - mae: 7.2300\n",
            "Epoch 38/100\n",
            "1/1 [==============================] - 0s 18ms/step - loss: 7.2244 - mae: 7.2244\n",
            "Epoch 39/100\n",
            "1/1 [==============================] - 0s 18ms/step - loss: 7.2188 - mae: 7.2188\n",
            "Epoch 40/100\n",
            "1/1 [==============================] - 0s 20ms/step - loss: 7.2131 - mae: 7.2131\n",
            "Epoch 41/100\n",
            "1/1 [==============================] - 0s 24ms/step - loss: 7.2075 - mae: 7.2075\n",
            "Epoch 42/100\n",
            "1/1 [==============================] - 0s 28ms/step - loss: 7.2019 - mae: 7.2019\n",
            "Epoch 43/100\n",
            "1/1 [==============================] - 0s 20ms/step - loss: 7.1962 - mae: 7.1962\n",
            "Epoch 44/100\n",
            "1/1 [==============================] - 0s 22ms/step - loss: 7.1906 - mae: 7.1906\n",
            "Epoch 45/100\n",
            "1/1 [==============================] - 0s 36ms/step - loss: 7.1850 - mae: 7.1850\n",
            "Epoch 46/100\n",
            "1/1 [==============================] - 0s 39ms/step - loss: 7.1794 - mae: 7.1794\n",
            "Epoch 47/100\n",
            "1/1 [==============================] - 0s 36ms/step - loss: 7.1738 - mae: 7.1738\n",
            "Epoch 48/100\n",
            "1/1 [==============================] - 0s 36ms/step - loss: 7.1681 - mae: 7.1681\n",
            "Epoch 49/100\n",
            "1/1 [==============================] - 0s 51ms/step - loss: 7.1625 - mae: 7.1625\n",
            "Epoch 50/100\n",
            "1/1 [==============================] - 0s 27ms/step - loss: 7.1569 - mae: 7.1569\n",
            "Epoch 51/100\n",
            "1/1 [==============================] - 0s 26ms/step - loss: 7.1512 - mae: 7.1512\n",
            "Epoch 52/100\n",
            "1/1 [==============================] - 0s 24ms/step - loss: 7.1456 - mae: 7.1456\n",
            "Epoch 53/100\n",
            "1/1 [==============================] - 0s 19ms/step - loss: 7.1400 - mae: 7.1400\n",
            "Epoch 54/100\n",
            "1/1 [==============================] - 0s 22ms/step - loss: 7.1344 - mae: 7.1344\n",
            "Epoch 55/100\n",
            "1/1 [==============================] - 0s 18ms/step - loss: 7.1287 - mae: 7.1287\n",
            "Epoch 56/100\n",
            "1/1 [==============================] - 0s 20ms/step - loss: 7.1231 - mae: 7.1231\n",
            "Epoch 57/100\n",
            "1/1 [==============================] - 0s 17ms/step - loss: 7.1175 - mae: 7.1175\n",
            "Epoch 58/100\n",
            "1/1 [==============================] - 0s 18ms/step - loss: 7.1119 - mae: 7.1119\n",
            "Epoch 59/100\n",
            "1/1 [==============================] - 0s 20ms/step - loss: 7.1062 - mae: 7.1062\n",
            "Epoch 60/100\n",
            "1/1 [==============================] - 0s 22ms/step - loss: 7.1006 - mae: 7.1006\n",
            "Epoch 61/100\n",
            "1/1 [==============================] - 0s 17ms/step - loss: 7.0950 - mae: 7.0950\n",
            "Epoch 62/100\n",
            "1/1 [==============================] - 0s 21ms/step - loss: 7.0894 - mae: 7.0894\n",
            "Epoch 63/100\n",
            "1/1 [==============================] - 0s 18ms/step - loss: 7.0838 - mae: 7.0838\n",
            "Epoch 64/100\n",
            "1/1 [==============================] - 0s 19ms/step - loss: 7.0781 - mae: 7.0781\n",
            "Epoch 65/100\n",
            "1/1 [==============================] - 0s 19ms/step - loss: 7.0725 - mae: 7.0725\n",
            "Epoch 66/100\n",
            "1/1 [==============================] - 0s 29ms/step - loss: 7.0669 - mae: 7.0669\n",
            "Epoch 67/100\n",
            "1/1 [==============================] - 0s 32ms/step - loss: 7.0613 - mae: 7.0613\n",
            "Epoch 68/100\n",
            "1/1 [==============================] - 0s 30ms/step - loss: 7.0556 - mae: 7.0556\n",
            "Epoch 69/100\n",
            "1/1 [==============================] - 0s 28ms/step - loss: 7.0500 - mae: 7.0500\n",
            "Epoch 70/100\n",
            "1/1 [==============================] - 0s 25ms/step - loss: 7.0444 - mae: 7.0444\n",
            "Epoch 71/100\n",
            "1/1 [==============================] - 0s 16ms/step - loss: 7.0388 - mae: 7.0388\n",
            "Epoch 72/100\n",
            "1/1 [==============================] - 0s 39ms/step - loss: 7.0331 - mae: 7.0331\n",
            "Epoch 73/100\n",
            "1/1 [==============================] - 0s 21ms/step - loss: 7.0275 - mae: 7.0275\n",
            "Epoch 74/100\n",
            "1/1 [==============================] - 0s 18ms/step - loss: 7.0219 - mae: 7.0219\n",
            "Epoch 75/100\n",
            "1/1 [==============================] - 0s 25ms/step - loss: 7.0163 - mae: 7.0163\n",
            "Epoch 76/100\n",
            "1/1 [==============================] - 0s 23ms/step - loss: 7.0106 - mae: 7.0106\n",
            "Epoch 77/100\n",
            "1/1 [==============================] - 0s 24ms/step - loss: 7.0050 - mae: 7.0050\n",
            "Epoch 78/100\n",
            "1/1 [==============================] - 0s 22ms/step - loss: 6.9994 - mae: 6.9994\n",
            "Epoch 79/100\n",
            "1/1 [==============================] - 0s 20ms/step - loss: 6.9938 - mae: 6.9938\n",
            "Epoch 80/100\n",
            "1/1 [==============================] - 0s 19ms/step - loss: 6.9881 - mae: 6.9881\n",
            "Epoch 81/100\n",
            "1/1 [==============================] - 0s 41ms/step - loss: 6.9825 - mae: 6.9825\n",
            "Epoch 82/100\n",
            "1/1 [==============================] - 0s 19ms/step - loss: 6.9769 - mae: 6.9769\n",
            "Epoch 83/100\n",
            "1/1 [==============================] - 0s 39ms/step - loss: 6.9713 - mae: 6.9713\n",
            "Epoch 84/100\n",
            "1/1 [==============================] - 0s 33ms/step - loss: 6.9656 - mae: 6.9656\n",
            "Epoch 85/100\n",
            "1/1 [==============================] - 0s 30ms/step - loss: 6.9600 - mae: 6.9600\n",
            "Epoch 86/100\n",
            "1/1 [==============================] - 0s 24ms/step - loss: 6.9544 - mae: 6.9544\n",
            "Epoch 87/100\n",
            "1/1 [==============================] - 0s 20ms/step - loss: 6.9488 - mae: 6.9488\n",
            "Epoch 88/100\n",
            "1/1 [==============================] - 0s 35ms/step - loss: 6.9431 - mae: 6.9431\n",
            "Epoch 89/100\n",
            "1/1 [==============================] - 0s 36ms/step - loss: 6.9375 - mae: 6.9375\n",
            "Epoch 90/100\n",
            "1/1 [==============================] - 0s 35ms/step - loss: 6.9319 - mae: 6.9319\n",
            "Epoch 91/100\n",
            "1/1 [==============================] - 0s 19ms/step - loss: 6.9263 - mae: 6.9263\n",
            "Epoch 92/100\n",
            "1/1 [==============================] - 0s 17ms/step - loss: 6.9206 - mae: 6.9206\n",
            "Epoch 93/100\n",
            "1/1 [==============================] - 0s 24ms/step - loss: 6.9150 - mae: 6.9150\n",
            "Epoch 94/100\n",
            "1/1 [==============================] - 0s 20ms/step - loss: 6.9094 - mae: 6.9094\n",
            "Epoch 95/100\n",
            "1/1 [==============================] - 0s 18ms/step - loss: 6.9038 - mae: 6.9038\n",
            "Epoch 96/100\n",
            "1/1 [==============================] - 0s 19ms/step - loss: 6.8981 - mae: 6.8981\n",
            "Epoch 97/100\n",
            "1/1 [==============================] - 0s 19ms/step - loss: 6.8925 - mae: 6.8925\n",
            "Epoch 98/100\n",
            "1/1 [==============================] - 0s 19ms/step - loss: 6.8869 - mae: 6.8869\n",
            "Epoch 99/100\n",
            "1/1 [==============================] - 0s 19ms/step - loss: 6.8813 - mae: 6.8813\n",
            "Epoch 100/100\n",
            "1/1 [==============================] - 0s 55ms/step - loss: 6.8756 - mae: 6.8756\n"
          ]
        },
        {
          "output_type": "execute_result",
          "data": {
            "text/plain": [
              "<keras.callbacks.History at 0x7d28bb5d0a30>"
            ]
          },
          "metadata": {},
          "execution_count": 6
        }
      ]
    },
    {
      "cell_type": "code",
      "source": [
        "model.predict([17.])"
      ],
      "metadata": {
        "colab": {
          "base_uri": "https://localhost:8080/"
        },
        "id": "5rcTTC_tJyMv",
        "outputId": "8e557822-6110-41f1-c0ef-57d3b727dc7e"
      },
      "execution_count": 7,
      "outputs": [
        {
          "output_type": "stream",
          "name": "stdout",
          "text": [
            "1/1 [==============================] - 0s 154ms/step\n"
          ]
        },
        {
          "output_type": "execute_result",
          "data": {
            "text/plain": [
              "array([[30.063784]], dtype=float32)"
            ]
          },
          "metadata": {},
          "execution_count": 7
        }
      ]
    },
    {
      "cell_type": "code",
      "source": [
        "model = tf.keras.Sequential([\n",
        "    tf.keras.layers.Dense(200, activation='relu'),\n",
        "    tf.keras.layers.Dense(200, activation='relu'),\n",
        "    tf.keras.layers.Dense(200, activation='relu'),\n",
        "    tf.keras.layers.Dense(1)\n",
        "])\n",
        "\n",
        "model.compile(loss = tf.keras.losses.mae,\n",
        "              optimizer = tf.keras.optimizers.Adam(lr=0.01))\n",
        "\n",
        "model.fit(tf.expand_dims(x, axis=-1), y, epochs = 100)"
      ],
      "metadata": {
        "colab": {
          "base_uri": "https://localhost:8080/"
        },
        "id": "T1uJ3XPAK3aG",
        "outputId": "d27bf86d-3773-4a1b-e118-c111846cea40"
      },
      "execution_count": 8,
      "outputs": [
        {
          "output_type": "stream",
          "name": "stderr",
          "text": [
            "WARNING:absl:`lr` is deprecated in Keras optimizer, please use `learning_rate` or use the legacy optimizer, e.g.,tf.keras.optimizers.legacy.Adam.\n"
          ]
        },
        {
          "output_type": "stream",
          "name": "stdout",
          "text": [
            "Epoch 1/100\n",
            "1/1 [==============================] - 2s 2s/step - loss: 13.0000\n",
            "Epoch 2/100\n",
            "1/1 [==============================] - 0s 21ms/step - loss: 12.3589\n",
            "Epoch 3/100\n",
            "1/1 [==============================] - 0s 10ms/step - loss: 11.7593\n",
            "Epoch 4/100\n",
            "1/1 [==============================] - 0s 10ms/step - loss: 11.1832\n",
            "Epoch 5/100\n",
            "1/1 [==============================] - 0s 10ms/step - loss: 10.5655\n",
            "Epoch 6/100\n",
            "1/1 [==============================] - 0s 10ms/step - loss: 10.0340\n",
            "Epoch 7/100\n",
            "1/1 [==============================] - 0s 34ms/step - loss: 9.4788\n",
            "Epoch 8/100\n",
            "1/1 [==============================] - 0s 22ms/step - loss: 8.8723\n",
            "Epoch 9/100\n",
            "1/1 [==============================] - 0s 16ms/step - loss: 8.1899\n",
            "Epoch 10/100\n",
            "1/1 [==============================] - 0s 30ms/step - loss: 7.4295\n",
            "Epoch 11/100\n",
            "1/1 [==============================] - 0s 28ms/step - loss: 6.5929\n",
            "Epoch 12/100\n",
            "1/1 [==============================] - 0s 19ms/step - loss: 5.6771\n",
            "Epoch 13/100\n",
            "1/1 [==============================] - 0s 17ms/step - loss: 4.6624\n",
            "Epoch 14/100\n",
            "1/1 [==============================] - 0s 15ms/step - loss: 4.0487\n",
            "Epoch 15/100\n",
            "1/1 [==============================] - 0s 11ms/step - loss: 4.2046\n",
            "Epoch 16/100\n",
            "1/1 [==============================] - 0s 15ms/step - loss: 4.5879\n",
            "Epoch 17/100\n",
            "1/1 [==============================] - 0s 15ms/step - loss: 5.0419\n",
            "Epoch 18/100\n",
            "1/1 [==============================] - 0s 17ms/step - loss: 5.3016\n",
            "Epoch 19/100\n",
            "1/1 [==============================] - 0s 12ms/step - loss: 5.3905\n",
            "Epoch 20/100\n",
            "1/1 [==============================] - 0s 14ms/step - loss: 5.3355\n",
            "Epoch 21/100\n",
            "1/1 [==============================] - 0s 13ms/step - loss: 5.1617\n",
            "Epoch 22/100\n",
            "1/1 [==============================] - 0s 15ms/step - loss: 4.8958\n",
            "Epoch 23/100\n",
            "1/1 [==============================] - 0s 24ms/step - loss: 4.5585\n",
            "Epoch 24/100\n",
            "1/1 [==============================] - 0s 26ms/step - loss: 4.2111\n",
            "Epoch 25/100\n",
            "1/1 [==============================] - 0s 13ms/step - loss: 4.0612\n",
            "Epoch 26/100\n",
            "1/1 [==============================] - 0s 12ms/step - loss: 3.9169\n",
            "Epoch 27/100\n",
            "1/1 [==============================] - 0s 15ms/step - loss: 3.8396\n",
            "Epoch 28/100\n",
            "1/1 [==============================] - 0s 17ms/step - loss: 3.9450\n",
            "Epoch 29/100\n",
            "1/1 [==============================] - 0s 18ms/step - loss: 4.0185\n",
            "Epoch 30/100\n",
            "1/1 [==============================] - 0s 11ms/step - loss: 4.1081\n",
            "Epoch 31/100\n",
            "1/1 [==============================] - 0s 18ms/step - loss: 4.1320\n",
            "Epoch 32/100\n",
            "1/1 [==============================] - 0s 16ms/step - loss: 4.0130\n",
            "Epoch 33/100\n",
            "1/1 [==============================] - 0s 15ms/step - loss: 3.9307\n",
            "Epoch 34/100\n",
            "1/1 [==============================] - 0s 11ms/step - loss: 3.8518\n",
            "Epoch 35/100\n",
            "1/1 [==============================] - 0s 14ms/step - loss: 3.7597\n",
            "Epoch 36/100\n",
            "1/1 [==============================] - 0s 36ms/step - loss: 3.7557\n",
            "Epoch 37/100\n",
            "1/1 [==============================] - 0s 20ms/step - loss: 3.8038\n",
            "Epoch 38/100\n",
            "1/1 [==============================] - 0s 23ms/step - loss: 3.8346\n",
            "Epoch 39/100\n",
            "1/1 [==============================] - 0s 22ms/step - loss: 3.8488\n",
            "Epoch 40/100\n",
            "1/1 [==============================] - 0s 18ms/step - loss: 3.8469\n",
            "Epoch 41/100\n",
            "1/1 [==============================] - 0s 14ms/step - loss: 3.8316\n",
            "Epoch 42/100\n",
            "1/1 [==============================] - 0s 33ms/step - loss: 3.8058\n",
            "Epoch 43/100\n",
            "1/1 [==============================] - 0s 39ms/step - loss: 3.7680\n",
            "Epoch 44/100\n",
            "1/1 [==============================] - 0s 32ms/step - loss: 3.7214\n",
            "Epoch 45/100\n",
            "1/1 [==============================] - 0s 27ms/step - loss: 3.6661\n",
            "Epoch 46/100\n",
            "1/1 [==============================] - 0s 26ms/step - loss: 3.6049\n",
            "Epoch 47/100\n",
            "1/1 [==============================] - 0s 22ms/step - loss: 3.6112\n",
            "Epoch 48/100\n",
            "1/1 [==============================] - 0s 24ms/step - loss: 3.6195\n",
            "Epoch 49/100\n",
            "1/1 [==============================] - 0s 21ms/step - loss: 3.6212\n",
            "Epoch 50/100\n",
            "1/1 [==============================] - 0s 26ms/step - loss: 3.5979\n",
            "Epoch 51/100\n",
            "1/1 [==============================] - 0s 19ms/step - loss: 3.5506\n",
            "Epoch 52/100\n",
            "1/1 [==============================] - 0s 21ms/step - loss: 3.4983\n",
            "Epoch 53/100\n",
            "1/1 [==============================] - 0s 14ms/step - loss: 3.5023\n",
            "Epoch 54/100\n",
            "1/1 [==============================] - 0s 16ms/step - loss: 3.4897\n",
            "Epoch 55/100\n",
            "1/1 [==============================] - 0s 25ms/step - loss: 3.4915\n",
            "Epoch 56/100\n",
            "1/1 [==============================] - 0s 14ms/step - loss: 3.4350\n",
            "Epoch 57/100\n",
            "1/1 [==============================] - 0s 34ms/step - loss: 3.4058\n",
            "Epoch 58/100\n",
            "1/1 [==============================] - 0s 19ms/step - loss: 3.3896\n",
            "Epoch 59/100\n",
            "1/1 [==============================] - 0s 23ms/step - loss: 3.3752\n",
            "Epoch 60/100\n",
            "1/1 [==============================] - 0s 19ms/step - loss: 3.3572\n",
            "Epoch 61/100\n",
            "1/1 [==============================] - 0s 36ms/step - loss: 3.3223\n",
            "Epoch 62/100\n",
            "1/1 [==============================] - 0s 24ms/step - loss: 3.3039\n",
            "Epoch 63/100\n",
            "1/1 [==============================] - 0s 19ms/step - loss: 3.2697\n",
            "Epoch 64/100\n",
            "1/1 [==============================] - 0s 19ms/step - loss: 3.2455\n",
            "Epoch 65/100\n",
            "1/1 [==============================] - 0s 21ms/step - loss: 3.2299\n",
            "Epoch 66/100\n",
            "1/1 [==============================] - 0s 19ms/step - loss: 3.2011\n",
            "Epoch 67/100\n",
            "1/1 [==============================] - 0s 19ms/step - loss: 3.1518\n",
            "Epoch 68/100\n",
            "1/1 [==============================] - 0s 23ms/step - loss: 3.1473\n",
            "Epoch 69/100\n",
            "1/1 [==============================] - 0s 24ms/step - loss: 3.1086\n",
            "Epoch 70/100\n",
            "1/1 [==============================] - 0s 22ms/step - loss: 3.0389\n",
            "Epoch 71/100\n",
            "1/1 [==============================] - 0s 18ms/step - loss: 3.0105\n",
            "Epoch 72/100\n",
            "1/1 [==============================] - 0s 20ms/step - loss: 2.9558\n",
            "Epoch 73/100\n",
            "1/1 [==============================] - 0s 35ms/step - loss: 2.9040\n",
            "Epoch 74/100\n",
            "1/1 [==============================] - 0s 18ms/step - loss: 2.8462\n",
            "Epoch 75/100\n",
            "1/1 [==============================] - 0s 20ms/step - loss: 2.8131\n",
            "Epoch 76/100\n",
            "1/1 [==============================] - 0s 18ms/step - loss: 2.7831\n",
            "Epoch 77/100\n",
            "1/1 [==============================] - 0s 13ms/step - loss: 2.6965\n",
            "Epoch 78/100\n",
            "1/1 [==============================] - 0s 15ms/step - loss: 2.6815\n",
            "Epoch 79/100\n",
            "1/1 [==============================] - 0s 17ms/step - loss: 2.6568\n",
            "Epoch 80/100\n",
            "1/1 [==============================] - 0s 28ms/step - loss: 2.5978\n",
            "Epoch 81/100\n",
            "1/1 [==============================] - 0s 27ms/step - loss: 2.5070\n",
            "Epoch 82/100\n",
            "1/1 [==============================] - 0s 17ms/step - loss: 2.3894\n",
            "Epoch 83/100\n",
            "1/1 [==============================] - 0s 12ms/step - loss: 2.3349\n",
            "Epoch 84/100\n",
            "1/1 [==============================] - 0s 17ms/step - loss: 2.2456\n",
            "Epoch 85/100\n",
            "1/1 [==============================] - 0s 16ms/step - loss: 2.1018\n",
            "Epoch 86/100\n",
            "1/1 [==============================] - 0s 16ms/step - loss: 2.0551\n",
            "Epoch 87/100\n",
            "1/1 [==============================] - 0s 16ms/step - loss: 1.9165\n",
            "Epoch 88/100\n",
            "1/1 [==============================] - 0s 10ms/step - loss: 1.7879\n",
            "Epoch 89/100\n",
            "1/1 [==============================] - 0s 16ms/step - loss: 1.7928\n",
            "Epoch 90/100\n",
            "1/1 [==============================] - 0s 18ms/step - loss: 1.6174\n",
            "Epoch 91/100\n",
            "1/1 [==============================] - 0s 17ms/step - loss: 1.4576\n",
            "Epoch 92/100\n",
            "1/1 [==============================] - 0s 11ms/step - loss: 1.3624\n",
            "Epoch 93/100\n",
            "1/1 [==============================] - 0s 16ms/step - loss: 1.2120\n",
            "Epoch 94/100\n",
            "1/1 [==============================] - 0s 14ms/step - loss: 0.9803\n",
            "Epoch 95/100\n",
            "1/1 [==============================] - 0s 13ms/step - loss: 1.0620\n",
            "Epoch 96/100\n",
            "1/1 [==============================] - 0s 10ms/step - loss: 0.7056\n",
            "Epoch 97/100\n",
            "1/1 [==============================] - 0s 10ms/step - loss: 0.8312\n",
            "Epoch 98/100\n",
            "1/1 [==============================] - 0s 11ms/step - loss: 0.9068\n",
            "Epoch 99/100\n",
            "1/1 [==============================] - 0s 13ms/step - loss: 0.5832\n",
            "Epoch 100/100\n",
            "1/1 [==============================] - 0s 13ms/step - loss: 0.6490\n"
          ]
        },
        {
          "output_type": "execute_result",
          "data": {
            "text/plain": [
              "<keras.callbacks.History at 0x7d28bb68ee90>"
            ]
          },
          "metadata": {},
          "execution_count": 8
        }
      ]
    },
    {
      "cell_type": "code",
      "source": [
        "model.predict([11.])"
      ],
      "metadata": {
        "colab": {
          "base_uri": "https://localhost:8080/"
        },
        "id": "AIWbm2w6LvDG",
        "outputId": "82d8db5d-7208-4311-d362-cd50fdb28d31"
      },
      "execution_count": 9,
      "outputs": [
        {
          "output_type": "stream",
          "name": "stdout",
          "text": [
            "1/1 [==============================] - 0s 173ms/step\n"
          ]
        },
        {
          "output_type": "execute_result",
          "data": {
            "text/plain": [
              "array([[21.01753]], dtype=float32)"
            ]
          },
          "metadata": {},
          "execution_count": 9
        }
      ]
    },
    {
      "cell_type": "code",
      "source": [
        "x = tf.range(-100, 100, 4)\n",
        "x"
      ],
      "metadata": {
        "colab": {
          "base_uri": "https://localhost:8080/"
        },
        "id": "fTb7sdToMIjY",
        "outputId": "99562821-5233-46aa-af41-6863b30fc83f"
      },
      "execution_count": 10,
      "outputs": [
        {
          "output_type": "execute_result",
          "data": {
            "text/plain": [
              "<tf.Tensor: shape=(50,), dtype=int32, numpy=\n",
              "array([-100,  -96,  -92,  -88,  -84,  -80,  -76,  -72,  -68,  -64,  -60,\n",
              "        -56,  -52,  -48,  -44,  -40,  -36,  -32,  -28,  -24,  -20,  -16,\n",
              "        -12,   -8,   -4,    0,    4,    8,   12,   16,   20,   24,   28,\n",
              "         32,   36,   40,   44,   48,   52,   56,   60,   64,   68,   72,\n",
              "         76,   80,   84,   88,   92,   96], dtype=int32)>"
            ]
          },
          "metadata": {},
          "execution_count": 10
        }
      ]
    },
    {
      "cell_type": "code",
      "source": [
        "y = x + 10\n",
        "y"
      ],
      "metadata": {
        "colab": {
          "base_uri": "https://localhost:8080/"
        },
        "id": "6P7aWZ_rTP8D",
        "outputId": "82d44880-177f-42cb-c439-8ee72af022d9"
      },
      "execution_count": 11,
      "outputs": [
        {
          "output_type": "execute_result",
          "data": {
            "text/plain": [
              "<tf.Tensor: shape=(50,), dtype=int32, numpy=\n",
              "array([-90, -86, -82, -78, -74, -70, -66, -62, -58, -54, -50, -46, -42,\n",
              "       -38, -34, -30, -26, -22, -18, -14, -10,  -6,  -2,   2,   6,  10,\n",
              "        14,  18,  22,  26,  30,  34,  38,  42,  46,  50,  54,  58,  62,\n",
              "        66,  70,  74,  78,  82,  86,  90,  94,  98, 102, 106], dtype=int32)>"
            ]
          },
          "metadata": {},
          "execution_count": 11
        }
      ]
    },
    {
      "cell_type": "code",
      "source": [
        "import matplotlib.pyplot as plt\n",
        "\n",
        "plt.scatter(x, y)"
      ],
      "metadata": {
        "colab": {
          "base_uri": "https://localhost:8080/",
          "height": 447
        },
        "id": "O1lSI_m0TXZl",
        "outputId": "e3d6510a-029f-44f3-de80-787bf5bb42cd"
      },
      "execution_count": 12,
      "outputs": [
        {
          "output_type": "execute_result",
          "data": {
            "text/plain": [
              "<matplotlib.collections.PathCollection at 0x7d28bb40b940>"
            ]
          },
          "metadata": {},
          "execution_count": 12
        },
        {
          "output_type": "display_data",
          "data": {
            "text/plain": [
              "<Figure size 640x480 with 1 Axes>"
            ],
            "image/png": "[encoded data removed]"
          },
          "metadata": {}
        }
      ]
    },
    {
      "cell_type": "code",
      "source": [
        "x_train = x[:40]\n",
        "x_test = x[40:]\n",
        "\n",
        "y_train = y[:40]\n",
        "y_test = y[40:]"
      ],
      "metadata": {
        "id": "xzb9gE8PTmaE"
      },
      "execution_count": 13,
      "outputs": []
    },
    {
      "cell_type": "code",
      "source": [
        "plt.figure(figsize=(10,7))\n",
        "plt.scatter(x_train, y_train, c='b', label='Training data')\n",
        "plt.scatter(x_test, y_test, c='g', label='Testing data')\n",
        "plt.legend();"
      ],
      "metadata": {
        "colab": {
          "base_uri": "https://localhost:8080/",
          "height": 468
        },
        "id": "SUp0NW49UPTA",
        "outputId": "4fd926fa-3efb-4f7a-ceac-ad3f374534c1"
      },
      "execution_count": 14,
      "outputs": [
        {
          "output_type": "display_data",
          "data": {
            "text/plain": [
              "<Figure size 1000x700 with 1 Axes>"
            ],
            "image/png": "[encoded data removed]"
          },
          "metadata": {}
        }
      ]
    },
    {
      "cell_type": "code",
      "source": [
        "model = tf.keras.Sequential([\n",
        "    tf.keras.layers.Dense(10, input_shape=[1]),\n",
        "    tf.keras.layers.Dense(1, name='output_layyer')\n",
        "\n",
        "], name = 'one_of_many')\n",
        "\n",
        "model.compile(loss = tf.keras.losses.mae,\n",
        "              optimizer = tf.keras.optimizers.SGD(),\n",
        "              metrics = ['mae'])\n",
        "\n",
        "model.fit(tf.expand_dims(x_train, axis=-1), y_train, epochs=100, verbose=0)"
      ],
      "metadata": {
        "colab": {
          "base_uri": "https://localhost:8080/"
        },
        "id": "KUV0r-_jaIsW",
        "outputId": "6c75a40c-4286-4dc4-ef8d-41197141a8ea"
      },
      "execution_count": 34,
      "outputs": [
        {
          "output_type": "execute_result",
          "data": {
            "text/plain": [
              "<keras.callbacks.History at 0x7d28a701a890>"
            ]
          },
          "metadata": {},
          "execution_count": 34
        }
      ]
    },
    {
      "cell_type": "code",
      "source": [
        "model.summary()"
      ],
      "metadata": {
        "colab": {
          "base_uri": "https://localhost:8080/"
        },
        "id": "mhyuNfEKcOYF",
        "outputId": "90989728-192b-472b-ae47-1d199b0a508c"
      },
      "execution_count": 35,
      "outputs": [
        {
          "output_type": "stream",
          "name": "stdout",
          "text": [
            "Model: \"one_of_many\"\n",
            "_________________________________________________________________\n",
            " Layer (type)                Output Shape              Param #   \n",
            "=================================================================\n",
            " dense_9 (Dense)             (None, 10)                20        \n",
            "                                                                 \n",
            " output_layyer (Dense)       (None, 1)                 11        \n",
            "                                                                 \n",
            "=================================================================\n",
            "Total params: 31\n",
            "Trainable params: 31\n",
            "Non-trainable params: 0\n",
            "_________________________________________________________________\n"
          ]
        }
      ]
    },
    {
      "cell_type": "code",
      "source": [
        "from tensorflow.keras.utils import plot_model\n",
        "plot_model(model, show_shapes=True)"
      ],
      "metadata": {
        "id": "gPaA3QkCcP7b",
        "colab": {
          "base_uri": "https://localhost:8080/",
          "height": 312
        },
        "outputId": "72ba4d6a-4848-4364-f542-b52b83ac47eb"
      },
      "execution_count": 36,
      "outputs": [
        {
          "output_type": "execute_result",
          "data": {
            "image/png": "[encoded data removed]",
            "text/plain": [
              "<IPython.core.display.Image object>"
            ]
          },
          "metadata": {},
          "execution_count": 36
        }
      ]
    },
    {
      "cell_type": "code",
      "source": [
        "y_pred = model.predict(x_test)\n",
        "y_pred"
      ],
      "metadata": {
        "colab": {
          "base_uri": "https://localhost:8080/"
        },
        "id": "lJVGnhHrPKuj",
        "outputId": "313816f9-ded9-42d5-8a42-e9e0de2b43f3"
      },
      "execution_count": 39,
      "outputs": [
        {
          "output_type": "stream",
          "name": "stdout",
          "text": [
            "1/1 [==============================] - 0s 24ms/step\n"
          ]
        },
        {
          "output_type": "execute_result",
          "data": {
            "text/plain": [
              "array([[ 78.41302],\n",
              "       [ 83.52125],\n",
              "       [ 88.62948],\n",
              "       [ 93.73771],\n",
              "       [ 98.84594],\n",
              "       [103.95417],\n",
              "       [109.0624 ],\n",
              "       [114.17063],\n",
              "       [119.27887],\n",
              "       [124.38709]], dtype=float32)"
            ]
          },
          "metadata": {},
          "execution_count": 39
        }
      ]
    },
    {
      "cell_type": "code",
      "source": [
        "y_test"
      ],
      "metadata": {
        "colab": {
          "base_uri": "https://localhost:8080/"
        },
        "id": "olUT0plOQWQL",
        "outputId": "78be9cc7-2e75-4e5f-a70c-9581e5a64c0b"
      },
      "execution_count": 40,
      "outputs": [
        {
          "output_type": "execute_result",
          "data": {
            "text/plain": [
              "<tf.Tensor: shape=(10,), dtype=int32, numpy=array([ 70,  74,  78,  82,  86,  90,  94,  98, 102, 106], dtype=int32)>"
            ]
          },
          "metadata": {},
          "execution_count": 40
        }
      ]
    },
    {
      "cell_type": "code",
      "source": [
        "def plot_predictions(train_data=x_train,\n",
        "                     train_labels=y_train,\n",
        "                     test_data=x_test,\n",
        "                     test_labels=y_test,\n",
        "                     predictions=y_pred):\n",
        "  '''\n",
        "  Plots training data, test_data and compares it to ground true labels\n",
        "  '''\n",
        "  plt.figure(figsize=(10,7))\n",
        "  plt.scatter(train_data, train_labels, c='b', label='Training data')\n",
        "  plt.scatter(test_data, test_labels, c='g', label='Testing data')\n",
        "  plt.scatter(test_data, predictions, c='r', label=\"Predictions\")\n",
        "  plt.legend()"
      ],
      "metadata": {
        "id": "bXvkPf3SRfsy"
      },
      "execution_count": 41,
      "outputs": []
    },
    {
      "cell_type": "code",
      "source": [
        "plot_predictions(x_train,\n",
        "                 y_train,\n",
        "                 x_test,\n",
        "                 y_test,\n",
        "                 y_pred)"
      ],
      "metadata": {
        "colab": {
          "base_uri": "https://localhost:8080/",
          "height": 463
        },
        "id": "8C5El74FScTh",
        "outputId": "884ebd12-609c-4098-ea56-b38f00fcbf66"
      },
      "execution_count": 42,
      "outputs": [
        {
          "output_type": "display_data",
          "data": {
            "text/plain": [
              "<Figure size 1000x700 with 1 Axes>"
            ],
            "image/png": "[encoded data removed]"
          },
          "metadata": {}
        }
      ]
    },
    {
      "cell_type": "code",
      "source": [],
      "metadata": {
        "id": "o_1nAsKaS0NF"
      },
      "execution_count": null,
      "outputs": []
    }
  ]
}
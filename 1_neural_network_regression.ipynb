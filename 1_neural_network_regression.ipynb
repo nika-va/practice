{
  "nbformat": 4,
  "nbformat_minor": 0,
  "metadata": {
    "colab": {
      "provenance": [],
      "authorship_tag": "ABX9TyOORvQfebJs3br7p8xI5m94",
      "include_colab_link": true
    },
    "kernelspec": {
      "name": "python3",
      "display_name": "Python 3"
    },
    "language_info": {
      "name": "python"
    }
  },
  "cells": [
    {
      "cell_type": "markdown",
      "metadata": {
        "id": "view-in-github",
        "colab_type": "text"
      },
      "source": [
        "<a href=\"https://colab.research.google.com/github/nika-va/practice/blob/main/1_neural_network_regression.ipynb\" target=\"_parent\"><img src=\"https://colab.research.google.com/assets/colab-badge.svg\" alt=\"Open In Colab\"/></a>"
      ]
    },
    {
      "cell_type": "code",
      "execution_count": 1,
      "metadata": {
        "colab": {
          "base_uri": "https://localhost:8080/"
        },
        "id": "Do2NzmAaHgnn",
        "outputId": "f827826b-28ff-4b19-e2bf-07469cdce164"
      },
      "outputs": [
        {
          "output_type": "stream",
          "name": "stdout",
          "text": [
            "2.12.0\n"
          ]
        }
      ],
      "source": [
        "import tensorflow as tf\n",
        "print(tf.__version__)"
      ]
    },
    {
      "cell_type": "code",
      "source": [
        "import numpy as np\n",
        "import matplotlib.pyplot as plt\n",
        "\n",
        "x = np.array([-7., -4., -1., 2., 5., 8., 11., 14.,])\n",
        "y = np.array([3., 6., 9., 12., 15., 18., 21., 24.])\n",
        "plt.scatter(x,y)"
      ],
      "metadata": {
        "colab": {
          "base_uri": "https://localhost:8080/",
          "height": 452
        },
        "id": "k5dM2wsgIEXv",
        "outputId": "5c562605-98ec-47db-e0e5-276e20c7461a"
      },
      "execution_count": 2,
      "outputs": [
        {
          "output_type": "execute_result",
          "data": {
            "text/plain": [
              "<matplotlib.collections.PathCollection at 0x78b6ced2dc30>"
            ]
          },
          "metadata": {},
          "execution_count": 2
        },
        {
          "output_type": "display_data",
          "data": {
            "text/plain": [
              "<Figure size 640x480 with 1 Axes>"
            ],
            "image/png": "[encoded data removed]"
          },
          "metadata": {}
        }
      ]
    },
    {
      "cell_type": "code",
      "source": [
        "x = tf.constant(x)\n",
        "y = tf.constant(y)\n",
        "x, y"
      ],
      "metadata": {
        "colab": {
          "base_uri": "https://localhost:8080/"
        },
        "id": "ZcamlTKlIpA1",
        "outputId": "59ef52ad-e965-4e6b-bc86-a0a640af5aa1"
      },
      "execution_count": 3,
      "outputs": [
        {
          "output_type": "execute_result",
          "data": {
            "text/plain": [
              "(<tf.Tensor: shape=(8,), dtype=float64, numpy=array([-7., -4., -1.,  2.,  5.,  8., 11., 14.])>,\n",
              " <tf.Tensor: shape=(8,), dtype=float64, numpy=array([ 3.,  6.,  9., 12., 15., 18., 21., 24.])>)"
            ]
          },
          "metadata": {},
          "execution_count": 3
        }
      ]
    },
    {
      "cell_type": "code",
      "source": [
        "tf.random.set_seed(42)\n",
        "model = tf.keras.Sequential([\n",
        "    tf.keras.layers.Dense(1)\n",
        "])\n",
        "\n",
        "# model = tf.keras.Sequential()\n",
        "# model.add(tf.keras.layers.Dense(1))\n",
        "\n",
        "model.compile(loss = tf.keras.losses.mae,\n",
        "              optimizer = tf.keras.optimizers.SGD(), #[\"sgd\"]\n",
        "              metrics = ['mae'])\n",
        "\n",
        "model.fit(tf.expand_dims(x, axis=-1), y, epochs=5)"
      ],
      "metadata": {
        "colab": {
          "base_uri": "https://localhost:8080/"
        },
        "id": "MMbQdZqZK_eS",
        "outputId": "c48323b4-caff-4880-ab10-1f964a9b267f"
      },
      "execution_count": 4,
      "outputs": [
        {
          "output_type": "stream",
          "name": "stdout",
          "text": [
            "Epoch 1/5\n",
            "1/1 [==============================] - 0s 430ms/step - loss: 18.0829 - mae: 18.0829\n",
            "Epoch 2/5\n",
            "1/1 [==============================] - 0s 8ms/step - loss: 17.8016 - mae: 17.8016\n",
            "Epoch 3/5\n",
            "1/1 [==============================] - 0s 8ms/step - loss: 17.5204 - mae: 17.5204\n",
            "Epoch 4/5\n",
            "1/1 [==============================] - 0s 9ms/step - loss: 17.2391 - mae: 17.2391\n",
            "Epoch 5/5\n",
            "1/1 [==============================] - 0s 6ms/step - loss: 16.9579 - mae: 16.9579\n"
          ]
        },
        {
          "output_type": "execute_result",
          "data": {
            "text/plain": [
              "<keras.callbacks.History at 0x78b6c9b81c00>"
            ]
          },
          "metadata": {},
          "execution_count": 4
        }
      ]
    },
    {
      "cell_type": "code",
      "source": [
        "model.predict([27.])"
      ],
      "metadata": {
        "colab": {
          "base_uri": "https://localhost:8080/"
        },
        "id": "FHMankaQPWAe",
        "outputId": "6f8d3d4b-c9f3-4e70-ffbd-33df65060953"
      },
      "execution_count": 5,
      "outputs": [
        {
          "output_type": "stream",
          "name": "stdout",
          "text": [
            "1/1 [==============================] - 0s 74ms/step\n"
          ]
        },
        {
          "output_type": "execute_result",
          "data": {
            "text/plain": [
              "array([[-20.301302]], dtype=float32)"
            ]
          },
          "metadata": {},
          "execution_count": 5
        }
      ]
    },
    {
      "cell_type": "markdown",
      "source": [
        "#Improving our model"
      ],
      "metadata": {
        "id": "Fm17lkVhRyca"
      }
    },
    {
      "cell_type": "code",
      "source": [
        "model = tf.keras.Sequential([\n",
        "    tf.keras.layers.Dense(1)\n",
        "])\n",
        "\n",
        "model.compile(loss = tf.keras.losses.mae,\n",
        "              optimizer = tf.keras.optimizers.SGD(),\n",
        "              metrics = ['mae'])\n",
        "\n",
        "model.fit(tf.expand_dims(x, axis=-1), y, epochs=100)"
      ],
      "metadata": {
        "id": "1aLn_oTVSLbD",
        "colab": {
          "base_uri": "https://localhost:8080/"
        },
        "outputId": "fc695fc0-a296-4fd0-a5e7-44a6ab0a0f7e"
      },
      "execution_count": 6,
      "outputs": [
        {
          "output_type": "stream",
          "name": "stdout",
          "text": [
            "Epoch 1/100\n",
            "1/1 [==============================] - 0s 229ms/step - loss: 20.2916 - mae: 20.2916\n",
            "Epoch 2/100\n",
            "1/1 [==============================] - 0s 7ms/step - loss: 20.0104 - mae: 20.0104\n",
            "Epoch 3/100\n",
            "1/1 [==============================] - 0s 9ms/step - loss: 19.7291 - mae: 19.7291\n",
            "Epoch 4/100\n",
            "1/1 [==============================] - 0s 8ms/step - loss: 19.4479 - mae: 19.4479\n",
            "Epoch 5/100\n",
            "1/1 [==============================] - 0s 7ms/step - loss: 19.1666 - mae: 19.1666\n",
            "Epoch 6/100\n",
            "1/1 [==============================] - 0s 6ms/step - loss: 18.8854 - mae: 18.8854\n",
            "Epoch 7/100\n",
            "1/1 [==============================] - 0s 7ms/step - loss: 18.6041 - mae: 18.6041\n",
            "Epoch 8/100\n",
            "1/1 [==============================] - 0s 6ms/step - loss: 18.3229 - mae: 18.3229\n",
            "Epoch 9/100\n",
            "1/1 [==============================] - 0s 6ms/step - loss: 18.0416 - mae: 18.0416\n",
            "Epoch 10/100\n",
            "1/1 [==============================] - 0s 6ms/step - loss: 17.7604 - mae: 17.7604\n",
            "Epoch 11/100\n",
            "1/1 [==============================] - 0s 6ms/step - loss: 17.4791 - mae: 17.4791\n",
            "Epoch 12/100\n",
            "1/1 [==============================] - 0s 6ms/step - loss: 17.1979 - mae: 17.1979\n",
            "Epoch 13/100\n",
            "1/1 [==============================] - 0s 5ms/step - loss: 16.9166 - mae: 16.9166\n",
            "Epoch 14/100\n",
            "1/1 [==============================] - 0s 7ms/step - loss: 16.6354 - mae: 16.6354\n",
            "Epoch 15/100\n",
            "1/1 [==============================] - 0s 6ms/step - loss: 16.3541 - mae: 16.3541\n",
            "Epoch 16/100\n",
            "1/1 [==============================] - 0s 6ms/step - loss: 16.0729 - mae: 16.0729\n",
            "Epoch 17/100\n",
            "1/1 [==============================] - 0s 6ms/step - loss: 15.7916 - mae: 15.7916\n",
            "Epoch 18/100\n",
            "1/1 [==============================] - 0s 6ms/step - loss: 15.5104 - mae: 15.5104\n",
            "Epoch 19/100\n",
            "1/1 [==============================] - 0s 6ms/step - loss: 15.2291 - mae: 15.2291\n",
            "Epoch 20/100\n",
            "1/1 [==============================] - 0s 6ms/step - loss: 14.9479 - mae: 14.9479\n",
            "Epoch 21/100\n",
            "1/1 [==============================] - 0s 6ms/step - loss: 14.7028 - mae: 14.7028\n",
            "Epoch 22/100\n",
            "1/1 [==============================] - 0s 6ms/step - loss: 14.5703 - mae: 14.5703\n",
            "Epoch 23/100\n",
            "1/1 [==============================] - 0s 6ms/step - loss: 14.4378 - mae: 14.4378\n",
            "Epoch 24/100\n",
            "1/1 [==============================] - 0s 6ms/step - loss: 14.3053 - mae: 14.3053\n",
            "Epoch 25/100\n",
            "1/1 [==============================] - 0s 6ms/step - loss: 14.1728 - mae: 14.1728\n",
            "Epoch 26/100\n",
            "1/1 [==============================] - 0s 6ms/step - loss: 14.0403 - mae: 14.0403\n",
            "Epoch 27/100\n",
            "1/1 [==============================] - 0s 6ms/step - loss: 13.9078 - mae: 13.9078\n",
            "Epoch 28/100\n",
            "1/1 [==============================] - 0s 6ms/step - loss: 13.7753 - mae: 13.7753\n",
            "Epoch 29/100\n",
            "1/1 [==============================] - 0s 5ms/step - loss: 13.6428 - mae: 13.6428\n",
            "Epoch 30/100\n",
            "1/1 [==============================] - 0s 6ms/step - loss: 13.5103 - mae: 13.5103\n",
            "Epoch 31/100\n",
            "1/1 [==============================] - 0s 6ms/step - loss: 13.3778 - mae: 13.3778\n",
            "Epoch 32/100\n",
            "1/1 [==============================] - 0s 6ms/step - loss: 13.2453 - mae: 13.2453\n",
            "Epoch 33/100\n",
            "1/1 [==============================] - 0s 6ms/step - loss: 13.1128 - mae: 13.1128\n",
            "Epoch 34/100\n",
            "1/1 [==============================] - 0s 6ms/step - loss: 12.9803 - mae: 12.9803\n",
            "Epoch 35/100\n",
            "1/1 [==============================] - 0s 6ms/step - loss: 12.8478 - mae: 12.8478\n",
            "Epoch 36/100\n",
            "1/1 [==============================] - 0s 6ms/step - loss: 12.7153 - mae: 12.7153\n",
            "Epoch 37/100\n",
            "1/1 [==============================] - 0s 6ms/step - loss: 12.5828 - mae: 12.5828\n",
            "Epoch 38/100\n",
            "1/1 [==============================] - 0s 6ms/step - loss: 12.4503 - mae: 12.4503\n",
            "Epoch 39/100\n",
            "1/1 [==============================] - 0s 6ms/step - loss: 12.3178 - mae: 12.3178\n",
            "Epoch 40/100\n",
            "1/1 [==============================] - 0s 6ms/step - loss: 12.1853 - mae: 12.1853\n",
            "Epoch 41/100\n",
            "1/1 [==============================] - 0s 6ms/step - loss: 12.0528 - mae: 12.0528\n",
            "Epoch 42/100\n",
            "1/1 [==============================] - 0s 6ms/step - loss: 11.9203 - mae: 11.9203\n",
            "Epoch 43/100\n",
            "1/1 [==============================] - 0s 6ms/step - loss: 11.7878 - mae: 11.7878\n",
            "Epoch 44/100\n",
            "1/1 [==============================] - 0s 6ms/step - loss: 11.6553 - mae: 11.6553\n",
            "Epoch 45/100\n",
            "1/1 [==============================] - 0s 6ms/step - loss: 11.5228 - mae: 11.5228\n",
            "Epoch 46/100\n",
            "1/1 [==============================] - 0s 7ms/step - loss: 11.3903 - mae: 11.3903\n",
            "Epoch 47/100\n",
            "1/1 [==============================] - 0s 5ms/step - loss: 11.2578 - mae: 11.2578\n",
            "Epoch 48/100\n",
            "1/1 [==============================] - 0s 9ms/step - loss: 11.1253 - mae: 11.1253\n",
            "Epoch 49/100\n",
            "1/1 [==============================] - 0s 6ms/step - loss: 10.9928 - mae: 10.9928\n",
            "Epoch 50/100\n",
            "1/1 [==============================] - 0s 6ms/step - loss: 10.8603 - mae: 10.8603\n",
            "Epoch 51/100\n",
            "1/1 [==============================] - 0s 7ms/step - loss: 10.7278 - mae: 10.7278\n",
            "Epoch 52/100\n",
            "1/1 [==============================] - 0s 6ms/step - loss: 10.5953 - mae: 10.5953\n",
            "Epoch 53/100\n",
            "1/1 [==============================] - 0s 9ms/step - loss: 10.4628 - mae: 10.4628\n",
            "Epoch 54/100\n",
            "1/1 [==============================] - 0s 7ms/step - loss: 10.3303 - mae: 10.3303\n",
            "Epoch 55/100\n",
            "1/1 [==============================] - 0s 6ms/step - loss: 10.1978 - mae: 10.1978\n",
            "Epoch 56/100\n",
            "1/1 [==============================] - 0s 6ms/step - loss: 10.0653 - mae: 10.0653\n",
            "Epoch 57/100\n",
            "1/1 [==============================] - 0s 6ms/step - loss: 9.9328 - mae: 9.9328\n",
            "Epoch 58/100\n",
            "1/1 [==============================] - 0s 6ms/step - loss: 9.8003 - mae: 9.8003\n",
            "Epoch 59/100\n",
            "1/1 [==============================] - 0s 6ms/step - loss: 9.6678 - mae: 9.6678\n",
            "Epoch 60/100\n",
            "1/1 [==============================] - 0s 6ms/step - loss: 9.5353 - mae: 9.5353\n",
            "Epoch 61/100\n",
            "1/1 [==============================] - 0s 6ms/step - loss: 9.4028 - mae: 9.4028\n",
            "Epoch 62/100\n",
            "1/1 [==============================] - 0s 7ms/step - loss: 9.2703 - mae: 9.2703\n",
            "Epoch 63/100\n",
            "1/1 [==============================] - 0s 10ms/step - loss: 9.1378 - mae: 9.1378\n",
            "Epoch 64/100\n",
            "1/1 [==============================] - 0s 10ms/step - loss: 9.0053 - mae: 9.0053\n",
            "Epoch 65/100\n",
            "1/1 [==============================] - 0s 8ms/step - loss: 8.8728 - mae: 8.8728\n",
            "Epoch 66/100\n",
            "1/1 [==============================] - 0s 8ms/step - loss: 8.7403 - mae: 8.7403\n",
            "Epoch 67/100\n",
            "1/1 [==============================] - 0s 6ms/step - loss: 8.6078 - mae: 8.6078\n",
            "Epoch 68/100\n",
            "1/1 [==============================] - 0s 7ms/step - loss: 8.4753 - mae: 8.4753\n",
            "Epoch 69/100\n",
            "1/1 [==============================] - 0s 7ms/step - loss: 8.3428 - mae: 8.3428\n",
            "Epoch 70/100\n",
            "1/1 [==============================] - 0s 6ms/step - loss: 8.2103 - mae: 8.2103\n",
            "Epoch 71/100\n",
            "1/1 [==============================] - 0s 7ms/step - loss: 8.0778 - mae: 8.0778\n",
            "Epoch 72/100\n",
            "1/1 [==============================] - 0s 8ms/step - loss: 7.9453 - mae: 7.9453\n",
            "Epoch 73/100\n",
            "1/1 [==============================] - 0s 7ms/step - loss: 7.8128 - mae: 7.8128\n",
            "Epoch 74/100\n",
            "1/1 [==============================] - 0s 8ms/step - loss: 7.6803 - mae: 7.6803\n",
            "Epoch 75/100\n",
            "1/1 [==============================] - 0s 6ms/step - loss: 7.5478 - mae: 7.5478\n",
            "Epoch 76/100\n",
            "1/1 [==============================] - 0s 6ms/step - loss: 7.4153 - mae: 7.4153\n",
            "Epoch 77/100\n",
            "1/1 [==============================] - 0s 6ms/step - loss: 7.2828 - mae: 7.2828\n",
            "Epoch 78/100\n",
            "1/1 [==============================] - 0s 6ms/step - loss: 7.1503 - mae: 7.1503\n",
            "Epoch 79/100\n",
            "1/1 [==============================] - 0s 13ms/step - loss: 7.0178 - mae: 7.0178\n",
            "Epoch 80/100\n",
            "1/1 [==============================] - 0s 11ms/step - loss: 6.9450 - mae: 6.9450\n",
            "Epoch 81/100\n",
            "1/1 [==============================] - 0s 8ms/step - loss: 6.9394 - mae: 6.9394\n",
            "Epoch 82/100\n",
            "1/1 [==============================] - 0s 6ms/step - loss: 6.9338 - mae: 6.9338\n",
            "Epoch 83/100\n",
            "1/1 [==============================] - 0s 6ms/step - loss: 6.9281 - mae: 6.9281\n",
            "Epoch 84/100\n",
            "1/1 [==============================] - 0s 6ms/step - loss: 6.9225 - mae: 6.9225\n",
            "Epoch 85/100\n",
            "1/1 [==============================] - 0s 6ms/step - loss: 6.9169 - mae: 6.9169\n",
            "Epoch 86/100\n",
            "1/1 [==============================] - 0s 6ms/step - loss: 6.9113 - mae: 6.9113\n",
            "Epoch 87/100\n",
            "1/1 [==============================] - 0s 7ms/step - loss: 6.9056 - mae: 6.9056\n",
            "Epoch 88/100\n",
            "1/1 [==============================] - 0s 6ms/step - loss: 6.9000 - mae: 6.9000\n",
            "Epoch 89/100\n",
            "1/1 [==============================] - 0s 6ms/step - loss: 6.8944 - mae: 6.8944\n",
            "Epoch 90/100\n",
            "1/1 [==============================] - 0s 6ms/step - loss: 6.8888 - mae: 6.8888\n",
            "Epoch 91/100\n",
            "1/1 [==============================] - 0s 6ms/step - loss: 6.8831 - mae: 6.8831\n",
            "Epoch 92/100\n",
            "1/1 [==============================] - 0s 6ms/step - loss: 6.8775 - mae: 6.8775\n",
            "Epoch 93/100\n",
            "1/1 [==============================] - 0s 6ms/step - loss: 6.8719 - mae: 6.8719\n",
            "Epoch 94/100\n",
            "1/1 [==============================] - 0s 6ms/step - loss: 6.8663 - mae: 6.8663\n",
            "Epoch 95/100\n",
            "1/1 [==============================] - 0s 6ms/step - loss: 6.8606 - mae: 6.8606\n",
            "Epoch 96/100\n",
            "1/1 [==============================] - 0s 8ms/step - loss: 6.8550 - mae: 6.8550\n",
            "Epoch 97/100\n",
            "1/1 [==============================] - 0s 7ms/step - loss: 6.8494 - mae: 6.8494\n",
            "Epoch 98/100\n",
            "1/1 [==============================] - 0s 6ms/step - loss: 6.8438 - mae: 6.8438\n",
            "Epoch 99/100\n",
            "1/1 [==============================] - 0s 6ms/step - loss: 6.8381 - mae: 6.8381\n",
            "Epoch 100/100\n",
            "1/1 [==============================] - 0s 6ms/step - loss: 6.8325 - mae: 6.8325\n"
          ]
        },
        {
          "output_type": "execute_result",
          "data": {
            "text/plain": [
              "<keras.callbacks.History at 0x78b6ca2d0a60>"
            ]
          },
          "metadata": {},
          "execution_count": 6
        }
      ]
    },
    {
      "cell_type": "code",
      "source": [
        "model.predict([17.])"
      ],
      "metadata": {
        "colab": {
          "base_uri": "https://localhost:8080/"
        },
        "id": "5rcTTC_tJyMv",
        "outputId": "aeafb45e-a0be-4d7f-d44b-073879075390"
      },
      "execution_count": 7,
      "outputs": [
        {
          "output_type": "stream",
          "name": "stdout",
          "text": [
            "1/1 [==============================] - 0s 47ms/step\n"
          ]
        },
        {
          "output_type": "execute_result",
          "data": {
            "text/plain": [
              "array([[29.431944]], dtype=float32)"
            ]
          },
          "metadata": {},
          "execution_count": 7
        }
      ]
    },
    {
      "cell_type": "code",
      "source": [
        "model = tf.keras.Sequential([\n",
        "    tf.keras.layers.Dense(200, activation='relu'),\n",
        "    tf.keras.layers.Dense(200, activation='relu'),\n",
        "    tf.keras.layers.Dense(200, activation='relu'),\n",
        "    tf.keras.layers.Dense(1)\n",
        "])\n",
        "\n",
        "model.compile(loss = tf.keras.losses.mae,\n",
        "              optimizer = tf.keras.optimizers.Adam(lr=0.01))\n",
        "\n",
        "model.fit(tf.expand_dims(x, axis=-1), y, epochs = 100)"
      ],
      "metadata": {
        "colab": {
          "base_uri": "https://localhost:8080/"
        },
        "id": "T1uJ3XPAK3aG",
        "outputId": "55e4db41-9e36-4c1e-dff7-b8356c8ce06e"
      },
      "execution_count": 8,
      "outputs": [
        {
          "output_type": "stream",
          "name": "stderr",
          "text": [
            "WARNING:absl:`lr` is deprecated in Keras optimizer, please use `learning_rate` or use the legacy optimizer, e.g.,tf.keras.optimizers.legacy.Adam.\n"
          ]
        },
        {
          "output_type": "stream",
          "name": "stdout",
          "text": [
            "Epoch 1/100\n",
            "1/1 [==============================] - 1s 651ms/step - loss: 13.7023\n",
            "Epoch 2/100\n",
            "1/1 [==============================] - 0s 9ms/step - loss: 12.9280\n",
            "Epoch 3/100\n",
            "1/1 [==============================] - 0s 8ms/step - loss: 12.2131\n",
            "Epoch 4/100\n",
            "1/1 [==============================] - 0s 8ms/step - loss: 11.4962\n",
            "Epoch 5/100\n",
            "1/1 [==============================] - 0s 11ms/step - loss: 10.7674\n",
            "Epoch 6/100\n",
            "1/1 [==============================] - 0s 8ms/step - loss: 10.0404\n",
            "Epoch 7/100\n",
            "1/1 [==============================] - 0s 10ms/step - loss: 9.4475\n",
            "Epoch 8/100\n",
            "1/1 [==============================] - 0s 7ms/step - loss: 8.8094\n",
            "Epoch 9/100\n",
            "1/1 [==============================] - 0s 7ms/step - loss: 8.1171\n",
            "Epoch 10/100\n",
            "1/1 [==============================] - 0s 5ms/step - loss: 7.3597\n",
            "Epoch 11/100\n",
            "1/1 [==============================] - 0s 9ms/step - loss: 6.5130\n",
            "Epoch 12/100\n",
            "1/1 [==============================] - 0s 6ms/step - loss: 5.5710\n",
            "Epoch 13/100\n",
            "1/1 [==============================] - 0s 9ms/step - loss: 4.5320\n",
            "Epoch 14/100\n",
            "1/1 [==============================] - 0s 10ms/step - loss: 4.0119\n",
            "Epoch 15/100\n",
            "1/1 [==============================] - 0s 8ms/step - loss: 4.2704\n",
            "Epoch 16/100\n",
            "1/1 [==============================] - 0s 8ms/step - loss: 4.7370\n",
            "Epoch 17/100\n",
            "1/1 [==============================] - 0s 8ms/step - loss: 5.1903\n",
            "Epoch 18/100\n",
            "1/1 [==============================] - 0s 8ms/step - loss: 5.4437\n",
            "Epoch 19/100\n",
            "1/1 [==============================] - 0s 7ms/step - loss: 5.5264\n",
            "Epoch 20/100\n",
            "1/1 [==============================] - 0s 7ms/step - loss: 5.4635\n",
            "Epoch 21/100\n",
            "1/1 [==============================] - 0s 7ms/step - loss: 5.2829\n",
            "Epoch 22/100\n",
            "1/1 [==============================] - 0s 7ms/step - loss: 5.0054\n",
            "Epoch 23/100\n",
            "1/1 [==============================] - 0s 8ms/step - loss: 4.6530\n",
            "Epoch 24/100\n",
            "1/1 [==============================] - 0s 8ms/step - loss: 4.2658\n",
            "Epoch 25/100\n",
            "1/1 [==============================] - 0s 8ms/step - loss: 4.1105\n",
            "Epoch 26/100\n",
            "1/1 [==============================] - 0s 13ms/step - loss: 3.9611\n",
            "Epoch 27/100\n",
            "1/1 [==============================] - 0s 8ms/step - loss: 3.8850\n",
            "Epoch 28/100\n",
            "1/1 [==============================] - 0s 6ms/step - loss: 3.9976\n",
            "Epoch 29/100\n",
            "1/1 [==============================] - 0s 5ms/step - loss: 4.0766\n",
            "Epoch 30/100\n",
            "1/1 [==============================] - 0s 6ms/step - loss: 4.2157\n",
            "Epoch 31/100\n",
            "1/1 [==============================] - 0s 11ms/step - loss: 4.2192\n",
            "Epoch 32/100\n",
            "1/1 [==============================] - 0s 9ms/step - loss: 4.0597\n",
            "Epoch 33/100\n",
            "1/1 [==============================] - 0s 8ms/step - loss: 3.9550\n",
            "Epoch 34/100\n",
            "1/1 [==============================] - 0s 6ms/step - loss: 3.8403\n",
            "Epoch 35/100\n",
            "1/1 [==============================] - 0s 6ms/step - loss: 3.7418\n",
            "Epoch 36/100\n",
            "1/1 [==============================] - 0s 11ms/step - loss: 3.7934\n",
            "Epoch 37/100\n",
            "1/1 [==============================] - 0s 9ms/step - loss: 3.8373\n",
            "Epoch 38/100\n",
            "1/1 [==============================] - 0s 9ms/step - loss: 3.8580\n",
            "Epoch 39/100\n",
            "1/1 [==============================] - 0s 6ms/step - loss: 3.8708\n",
            "Epoch 40/100\n",
            "1/1 [==============================] - 0s 6ms/step - loss: 3.8689\n",
            "Epoch 41/100\n",
            "1/1 [==============================] - 0s 6ms/step - loss: 3.8551\n",
            "Epoch 42/100\n",
            "1/1 [==============================] - 0s 7ms/step - loss: 3.8294\n",
            "Epoch 43/100\n",
            "1/1 [==============================] - 0s 9ms/step - loss: 3.7929\n",
            "Epoch 44/100\n",
            "1/1 [==============================] - 0s 9ms/step - loss: 3.7466\n",
            "Epoch 45/100\n",
            "1/1 [==============================] - 0s 7ms/step - loss: 3.7044\n",
            "Epoch 46/100\n",
            "1/1 [==============================] - 0s 6ms/step - loss: 3.6365\n",
            "Epoch 47/100\n",
            "1/1 [==============================] - 0s 8ms/step - loss: 3.6133\n",
            "Epoch 48/100\n",
            "1/1 [==============================] - 0s 12ms/step - loss: 3.6415\n",
            "Epoch 49/100\n",
            "1/1 [==============================] - 0s 9ms/step - loss: 3.6422\n",
            "Epoch 50/100\n",
            "1/1 [==============================] - 0s 9ms/step - loss: 3.6180\n",
            "Epoch 51/100\n",
            "1/1 [==============================] - 0s 10ms/step - loss: 3.5691\n",
            "Epoch 52/100\n",
            "1/1 [==============================] - 0s 11ms/step - loss: 3.5315\n",
            "Epoch 53/100\n",
            "1/1 [==============================] - 0s 6ms/step - loss: 3.5383\n",
            "Epoch 54/100\n",
            "1/1 [==============================] - 0s 6ms/step - loss: 3.5296\n",
            "Epoch 55/100\n",
            "1/1 [==============================] - 0s 6ms/step - loss: 3.5065\n",
            "Epoch 56/100\n",
            "1/1 [==============================] - 0s 6ms/step - loss: 3.4833\n",
            "Epoch 57/100\n",
            "1/1 [==============================] - 0s 6ms/step - loss: 3.4358\n",
            "Epoch 58/100\n",
            "1/1 [==============================] - 0s 6ms/step - loss: 3.4249\n",
            "Epoch 59/100\n",
            "1/1 [==============================] - 0s 6ms/step - loss: 3.4119\n",
            "Epoch 60/100\n",
            "1/1 [==============================] - 0s 6ms/step - loss: 3.3942\n",
            "Epoch 61/100\n",
            "1/1 [==============================] - 0s 6ms/step - loss: 3.3645\n",
            "Epoch 62/100\n",
            "1/1 [==============================] - 0s 6ms/step - loss: 3.3657\n",
            "Epoch 63/100\n",
            "1/1 [==============================] - 0s 5ms/step - loss: 3.3362\n",
            "Epoch 64/100\n",
            "1/1 [==============================] - 0s 5ms/step - loss: 3.3010\n",
            "Epoch 65/100\n",
            "1/1 [==============================] - 0s 10ms/step - loss: 3.2831\n",
            "Epoch 66/100\n",
            "1/1 [==============================] - 0s 6ms/step - loss: 3.2498\n",
            "Epoch 67/100\n",
            "1/1 [==============================] - 0s 8ms/step - loss: 3.2260\n",
            "Epoch 68/100\n",
            "1/1 [==============================] - 0s 6ms/step - loss: 3.1872\n",
            "Epoch 69/100\n",
            "1/1 [==============================] - 0s 6ms/step - loss: 3.1577\n",
            "Epoch 70/100\n",
            "1/1 [==============================] - 0s 6ms/step - loss: 3.1437\n",
            "Epoch 71/100\n",
            "1/1 [==============================] - 0s 17ms/step - loss: 3.1171\n",
            "Epoch 72/100\n",
            "1/1 [==============================] - 0s 6ms/step - loss: 3.0734\n",
            "Epoch 73/100\n",
            "1/1 [==============================] - 0s 12ms/step - loss: 3.0595\n",
            "Epoch 74/100\n",
            "1/1 [==============================] - 0s 18ms/step - loss: 3.0137\n",
            "Epoch 75/100\n",
            "1/1 [==============================] - 0s 9ms/step - loss: 2.9682\n",
            "Epoch 76/100\n",
            "1/1 [==============================] - 0s 11ms/step - loss: 2.9321\n",
            "Epoch 77/100\n",
            "1/1 [==============================] - 0s 9ms/step - loss: 2.8791\n",
            "Epoch 78/100\n",
            "1/1 [==============================] - 0s 9ms/step - loss: 2.8010\n",
            "Epoch 79/100\n",
            "1/1 [==============================] - 0s 22ms/step - loss: 2.7518\n",
            "Epoch 80/100\n",
            "1/1 [==============================] - 0s 15ms/step - loss: 2.6903\n",
            "Epoch 81/100\n",
            "1/1 [==============================] - 0s 9ms/step - loss: 2.6413\n",
            "Epoch 82/100\n",
            "1/1 [==============================] - 0s 11ms/step - loss: 2.6121\n",
            "Epoch 83/100\n",
            "1/1 [==============================] - 0s 49ms/step - loss: 2.5621\n",
            "Epoch 84/100\n",
            "1/1 [==============================] - 0s 22ms/step - loss: 2.4874\n",
            "Epoch 85/100\n",
            "1/1 [==============================] - 0s 9ms/step - loss: 2.4246\n",
            "Epoch 86/100\n",
            "1/1 [==============================] - 0s 9ms/step - loss: 2.3314\n",
            "Epoch 87/100\n",
            "1/1 [==============================] - 0s 9ms/step - loss: 2.2623\n",
            "Epoch 88/100\n",
            "1/1 [==============================] - 0s 9ms/step - loss: 2.2012\n",
            "Epoch 89/100\n",
            "1/1 [==============================] - 0s 10ms/step - loss: 2.1231\n",
            "Epoch 90/100\n",
            "1/1 [==============================] - 0s 8ms/step - loss: 2.0120\n",
            "Epoch 91/100\n",
            "1/1 [==============================] - 0s 9ms/step - loss: 1.8746\n",
            "Epoch 92/100\n",
            "1/1 [==============================] - 0s 9ms/step - loss: 1.8385\n",
            "Epoch 93/100\n",
            "1/1 [==============================] - 0s 10ms/step - loss: 1.7217\n",
            "Epoch 94/100\n",
            "1/1 [==============================] - 0s 17ms/step - loss: 1.5549\n",
            "Epoch 95/100\n",
            "1/1 [==============================] - 0s 11ms/step - loss: 1.4662\n",
            "Epoch 96/100\n",
            "1/1 [==============================] - 0s 11ms/step - loss: 1.3416\n",
            "Epoch 97/100\n",
            "1/1 [==============================] - 0s 14ms/step - loss: 1.1781\n",
            "Epoch 98/100\n",
            "1/1 [==============================] - 0s 8ms/step - loss: 1.0200\n",
            "Epoch 99/100\n",
            "1/1 [==============================] - 0s 12ms/step - loss: 0.9249\n",
            "Epoch 100/100\n",
            "1/1 [==============================] - 0s 9ms/step - loss: 0.6424\n"
          ]
        },
        {
          "output_type": "execute_result",
          "data": {
            "text/plain": [
              "<keras.callbacks.History at 0x78b6ca377070>"
            ]
          },
          "metadata": {},
          "execution_count": 8
        }
      ]
    },
    {
      "cell_type": "code",
      "source": [
        "model.predict([11.])"
      ],
      "metadata": {
        "colab": {
          "base_uri": "https://localhost:8080/"
        },
        "id": "AIWbm2w6LvDG",
        "outputId": "04555a5d-f278-46c1-84b0-8972e83f761a"
      },
      "execution_count": 9,
      "outputs": [
        {
          "output_type": "stream",
          "name": "stdout",
          "text": [
            "1/1 [==============================] - 0s 110ms/step\n"
          ]
        },
        {
          "output_type": "execute_result",
          "data": {
            "text/plain": [
              "array([[22.164892]], dtype=float32)"
            ]
          },
          "metadata": {},
          "execution_count": 9
        }
      ]
    },
    {
      "cell_type": "code",
      "source": [
        "x = tf.range(-100, 100, 4)\n",
        "x"
      ],
      "metadata": {
        "colab": {
          "base_uri": "https://localhost:8080/"
        },
        "id": "fTb7sdToMIjY",
        "outputId": "15d2d0d7-42d9-48aa-8765-e7dc17aed3cf"
      },
      "execution_count": 10,
      "outputs": [
        {
          "output_type": "execute_result",
          "data": {
            "text/plain": [
              "<tf.Tensor: shape=(50,), dtype=int32, numpy=\n",
              "array([-100,  -96,  -92,  -88,  -84,  -80,  -76,  -72,  -68,  -64,  -60,\n",
              "        -56,  -52,  -48,  -44,  -40,  -36,  -32,  -28,  -24,  -20,  -16,\n",
              "        -12,   -8,   -4,    0,    4,    8,   12,   16,   20,   24,   28,\n",
              "         32,   36,   40,   44,   48,   52,   56,   60,   64,   68,   72,\n",
              "         76,   80,   84,   88,   92,   96], dtype=int32)>"
            ]
          },
          "metadata": {},
          "execution_count": 10
        }
      ]
    },
    {
      "cell_type": "code",
      "source": [
        "y = x + 10\n",
        "y"
      ],
      "metadata": {
        "colab": {
          "base_uri": "https://localhost:8080/"
        },
        "id": "6P7aWZ_rTP8D",
        "outputId": "8cf0bda8-2169-4f88-c2a0-6e75dcf8d89e"
      },
      "execution_count": 11,
      "outputs": [
        {
          "output_type": "execute_result",
          "data": {
            "text/plain": [
              "<tf.Tensor: shape=(50,), dtype=int32, numpy=\n",
              "array([-90, -86, -82, -78, -74, -70, -66, -62, -58, -54, -50, -46, -42,\n",
              "       -38, -34, -30, -26, -22, -18, -14, -10,  -6,  -2,   2,   6,  10,\n",
              "        14,  18,  22,  26,  30,  34,  38,  42,  46,  50,  54,  58,  62,\n",
              "        66,  70,  74,  78,  82,  86,  90,  94,  98, 102, 106], dtype=int32)>"
            ]
          },
          "metadata": {},
          "execution_count": 11
        }
      ]
    },
    {
      "cell_type": "code",
      "source": [
        "import matplotlib.pyplot as plt\n",
        "\n",
        "plt.scatter(x, y)"
      ],
      "metadata": {
        "colab": {
          "base_uri": "https://localhost:8080/",
          "height": 447
        },
        "id": "O1lSI_m0TXZl",
        "outputId": "fbf2955c-d4dd-4aa1-81bc-250dd641504f"
      },
      "execution_count": 12,
      "outputs": [
        {
          "output_type": "execute_result",
          "data": {
            "text/plain": [
              "<matplotlib.collections.PathCollection at 0x78b6ca11ada0>"
            ]
          },
          "metadata": {},
          "execution_count": 12
        },
        {
          "output_type": "display_data",
          "data": {
            "text/plain": [
              "<Figure size 640x480 with 1 Axes>"
            ],
            "image/png": "[encoded data removed]"
          },
          "metadata": {}
        }
      ]
    },
    {
      "cell_type": "code",
      "source": [
        "x_train = x[:40]\n",
        "x_test = x[40:]\n",
        "\n",
        "y_train = y[:40]\n",
        "y_test = y[40:]"
      ],
      "metadata": {
        "id": "xzb9gE8PTmaE"
      },
      "execution_count": 13,
      "outputs": []
    },
    {
      "cell_type": "code",
      "source": [
        "plt.figure(figsize=(10,7))\n",
        "plt.scatter(x_train, y_train, c='b', label='Training data')\n",
        "plt.scatter(x_test, y_test, c='g', label='Testing data')\n",
        "plt.legend();"
      ],
      "metadata": {
        "colab": {
          "base_uri": "https://localhost:8080/",
          "height": 468
        },
        "id": "SUp0NW49UPTA",
        "outputId": "8729f3f3-bb76-4295-f9ea-66fc833fa824"
      },
      "execution_count": 14,
      "outputs": [
        {
          "output_type": "display_data",
          "data": {
            "text/plain": [
              "<Figure size 1000x700 with 1 Axes>"
            ],
            "image/png": "[encoded data removed]"
          },
          "metadata": {}
        }
      ]
    },
    {
      "cell_type": "code",
      "source": [
        "model = tf.keras.Sequential([\n",
        "    tf.keras.layers.Dense(100, input_shape=[1]),\n",
        "    tf.keras.layers.Dense(1, name='output_layyer')\n",
        "\n",
        "], name = 'one_of_many')\n",
        "\n",
        "model.compile(loss = tf.keras.losses.mae,\n",
        "              optimizer = tf.keras.optimizers.SGD(),\n",
        "              metrics = ['mae'])\n",
        "\n",
        "model.fit(tf.expand_dims(x_train, axis=-1), y_train, epochs=100, verbose=0)"
      ],
      "metadata": {
        "colab": {
          "base_uri": "https://localhost:8080/"
        },
        "id": "KUV0r-_jaIsW",
        "outputId": "fa3ceead-560d-4b5a-832f-171546881d1d"
      },
      "execution_count": 15,
      "outputs": [
        {
          "output_type": "execute_result",
          "data": {
            "text/plain": [
              "<keras.callbacks.History at 0x78b6baf448b0>"
            ]
          },
          "metadata": {},
          "execution_count": 15
        }
      ]
    },
    {
      "cell_type": "code",
      "source": [
        "model.summary()"
      ],
      "metadata": {
        "colab": {
          "base_uri": "https://localhost:8080/"
        },
        "id": "mhyuNfEKcOYF",
        "outputId": "79c7f6ed-002c-4331-d426-38c7ebd89d3a"
      },
      "execution_count": 16,
      "outputs": [
        {
          "output_type": "stream",
          "name": "stdout",
          "text": [
            "Model: \"one_of_many\"\n",
            "_________________________________________________________________\n",
            " Layer (type)                Output Shape              Param #   \n",
            "=================================================================\n",
            " dense_6 (Dense)             (None, 100)               200       \n",
            "                                                                 \n",
            " output_layyer (Dense)       (None, 1)                 101       \n",
            "                                                                 \n",
            "=================================================================\n",
            "Total params: 301\n",
            "Trainable params: 301\n",
            "Non-trainable params: 0\n",
            "_________________________________________________________________\n"
          ]
        }
      ]
    },
    {
      "cell_type": "code",
      "source": [
        "from tensorflow.keras.utils import plot_model\n",
        "plot_model(model, show_shapes=True)"
      ],
      "metadata": {
        "id": "gPaA3QkCcP7b",
        "colab": {
          "base_uri": "https://localhost:8080/",
          "height": 312
        },
        "outputId": "0411e193-17f0-4667-8117-97461e70c1c7"
      },
      "execution_count": 17,
      "outputs": [
        {
          "output_type": "execute_result",
          "data": {
            "image/png": "[encoded data removed]",
            "text/plain": [
              "<IPython.core.display.Image object>"
            ]
          },
          "metadata": {},
          "execution_count": 17
        }
      ]
    },
    {
      "cell_type": "code",
      "source": [
        "y_pred = model.predict(x_test)\n",
        "y_pred"
      ],
      "metadata": {
        "colab": {
          "base_uri": "https://localhost:8080/"
        },
        "id": "lJVGnhHrPKuj",
        "outputId": "1ae34f02-3994-4bc4-c436-cb343e57877d"
      },
      "execution_count": 18,
      "outputs": [
        {
          "output_type": "stream",
          "name": "stdout",
          "text": [
            "1/1 [==============================] - 0s 57ms/step\n"
          ]
        },
        {
          "output_type": "execute_result",
          "data": {
            "text/plain": [
              "array([[ 69.52186 ],\n",
              "       [ 74.044075],\n",
              "       [ 78.566284],\n",
              "       [ 83.0885  ],\n",
              "       [ 87.61072 ],\n",
              "       [ 92.13293 ],\n",
              "       [ 96.655136],\n",
              "       [101.17736 ],\n",
              "       [105.69956 ],\n",
              "       [110.22178 ]], dtype=float32)"
            ]
          },
          "metadata": {},
          "execution_count": 18
        }
      ]
    },
    {
      "cell_type": "code",
      "source": [
        "y_test"
      ],
      "metadata": {
        "colab": {
          "base_uri": "https://localhost:8080/"
        },
        "id": "olUT0plOQWQL",
        "outputId": "5cd63896-7e8f-4fc6-b62e-f8b26397a0f1"
      },
      "execution_count": 19,
      "outputs": [
        {
          "output_type": "execute_result",
          "data": {
            "text/plain": [
              "<tf.Tensor: shape=(10,), dtype=int32, numpy=array([ 70,  74,  78,  82,  86,  90,  94,  98, 102, 106], dtype=int32)>"
            ]
          },
          "metadata": {},
          "execution_count": 19
        }
      ]
    },
    {
      "cell_type": "code",
      "source": [
        "def plot_predictions(train_data=x_train,\n",
        "                     train_labels=y_train,\n",
        "                     test_data=x_test,\n",
        "                     test_labels=y_test,\n",
        "                     predictions=y_pred):\n",
        "  '''\n",
        "  Plots training data, test_data and compares it to ground true labels\n",
        "  '''\n",
        "  plt.figure(figsize=(10,7))\n",
        "  plt.scatter(train_data, train_labels, c='b', label='Training data')\n",
        "  plt.scatter(test_data, test_labels, c='g', label='Testing data')\n",
        "  plt.scatter(test_data, predictions, c='r', label=\"Predictions\")\n",
        "  plt.legend()"
      ],
      "metadata": {
        "id": "bXvkPf3SRfsy"
      },
      "execution_count": 20,
      "outputs": []
    },
    {
      "cell_type": "code",
      "source": [
        "plot_predictions(x_train,\n",
        "                 y_train,\n",
        "                 x_test,\n",
        "                 y_test,\n",
        "                 y_pred)"
      ],
      "metadata": {
        "colab": {
          "base_uri": "https://localhost:8080/",
          "height": 463
        },
        "id": "8C5El74FScTh",
        "outputId": "2caeeeb6-ecea-467d-b806-92c6dfdee759"
      },
      "execution_count": 21,
      "outputs": [
        {
          "output_type": "display_data",
          "data": {
            "text/plain": [
              "<Figure size 1000x700 with 1 Axes>"
            ],
            "image/png": "[encoded data removed]"
          },
          "metadata": {}
        }
      ]
    },
    {
      "cell_type": "code",
      "source": [
        "tf.keras.metrics.mean_absolute_error(\n",
        "    y_test, tf.squeeze(y_pred)\n",
        ")"
      ],
      "metadata": {
        "colab": {
          "base_uri": "https://localhost:8080/"
        },
        "id": "o_1nAsKaS0NF",
        "outputId": "4e8e2c87-d91f-4e04-f674-81d5c5d60683"
      },
      "execution_count": 22,
      "outputs": [
        {
          "output_type": "execute_result",
          "data": {
            "text/plain": [
              "<tf.Tensor: shape=(), dtype=float32, numpy=1.9674485>"
            ]
          },
          "metadata": {},
          "execution_count": 22
        }
      ]
    },
    {
      "cell_type": "code",
      "source": [
        "model.evaluate(x_test, y_test)"
      ],
      "metadata": {
        "colab": {
          "base_uri": "https://localhost:8080/"
        },
        "id": "zxMteLqsXUtn",
        "outputId": "1013d5ed-3dff-495a-99f1-9e484baac5b5"
      },
      "execution_count": 23,
      "outputs": [
        {
          "output_type": "stream",
          "name": "stdout",
          "text": [
            "1/1 [==============================] - 0s 163ms/step - loss: 1.9674 - mae: 1.9674\n"
          ]
        },
        {
          "output_type": "execute_result",
          "data": {
            "text/plain": [
              "[1.9674476385116577, 1.9674476385116577]"
            ]
          },
          "metadata": {},
          "execution_count": 23
        }
      ]
    },
    {
      "cell_type": "code",
      "source": [
        "y_test"
      ],
      "metadata": {
        "colab": {
          "base_uri": "https://localhost:8080/"
        },
        "id": "MB0QxHcSXmT4",
        "outputId": "a3116f66-6f48-4c1a-b157-a47c01519cd3"
      },
      "execution_count": 24,
      "outputs": [
        {
          "output_type": "execute_result",
          "data": {
            "text/plain": [
              "<tf.Tensor: shape=(10,), dtype=int32, numpy=array([ 70,  74,  78,  82,  86,  90,  94,  98, 102, 106], dtype=int32)>"
            ]
          },
          "metadata": {},
          "execution_count": 24
        }
      ]
    },
    {
      "cell_type": "code",
      "source": [
        "tf.squeeze(y_pred)"
      ],
      "metadata": {
        "colab": {
          "base_uri": "https://localhost:8080/"
        },
        "id": "feV-m5cMY74U",
        "outputId": "76e72e16-2be2-4794-b3cb-838bc7aac5cb"
      },
      "execution_count": 25,
      "outputs": [
        {
          "output_type": "execute_result",
          "data": {
            "text/plain": [
              "<tf.Tensor: shape=(10,), dtype=float32, numpy=\n",
              "array([ 69.52186 ,  74.044075,  78.566284,  83.0885  ,  87.61072 ,\n",
              "        92.13293 ,  96.655136, 101.17736 , 105.69956 , 110.22178 ],\n",
              "      dtype=float32)>"
            ]
          },
          "metadata": {},
          "execution_count": 25
        }
      ]
    },
    {
      "cell_type": "code",
      "source": [
        "tf.keras.metrics.mean_squared_error(y_test, tf.squeeze(y_pred))"
      ],
      "metadata": {
        "colab": {
          "base_uri": "https://localhost:8080/"
        },
        "id": "JGLOKEm2Zz6s",
        "outputId": "0b808f2b-6b09-4fc4-8486-fbd21bb2454e"
      },
      "execution_count": 26,
      "outputs": [
        {
          "output_type": "execute_result",
          "data": {
            "text/plain": [
              "<tf.Tensor: shape=(), dtype=float32, numpy=5.753541>"
            ]
          },
          "metadata": {},
          "execution_count": 26
        }
      ]
    },
    {
      "cell_type": "code",
      "source": [
        "def mae(y_true, y_pred):\n",
        "  return tf.metrics.mean_absolute_error(y_true, y_pred)\n",
        "\n",
        "def mse(y_true, y_pred):\n",
        "  return tf.metrics.mean_squared_error(y_true, y_pred)"
      ],
      "metadata": {
        "id": "3ASY1jUhZ6n9"
      },
      "execution_count": 27,
      "outputs": []
    },
    {
      "cell_type": "code",
      "source": [
        "tf.random.set_seed(42)\n",
        "model_1 = tf.keras.Sequential([\n",
        "    tf.keras.layers.Dense(1)\n",
        "])\n",
        "model_1.compile(loss = tf.keras.losses.mae,\n",
        "                optimizer = tf.keras.optimizers.SGD(),\n",
        "                metrics=['mae'])\n",
        "model_1.fit(tf.expand_dims(x_train, axis=-1), y_train, epochs=100)"
      ],
      "metadata": {
        "id": "LRXmrbT8aoqe",
        "colab": {
          "base_uri": "https://localhost:8080/"
        },
        "outputId": "39ddfa94-5aff-48b1-b765-3f2c9cad27bd"
      },
      "execution_count": 28,
      "outputs": [
        {
          "output_type": "stream",
          "name": "stdout",
          "text": [
            "Epoch 1/100\n",
            "2/2 [==============================] - 0s 8ms/step - loss: 52.4129 - mae: 52.4129\n",
            "Epoch 2/100\n",
            "2/2 [==============================] - 0s 4ms/step - loss: 18.9628 - mae: 18.9628\n",
            "Epoch 3/100\n",
            "2/2 [==============================] - 0s 7ms/step - loss: 10.6468 - mae: 10.6468\n",
            "Epoch 4/100\n",
            "2/2 [==============================] - 0s 4ms/step - loss: 9.5965 - mae: 9.5965\n",
            "Epoch 5/100\n",
            "2/2 [==============================] - 0s 4ms/step - loss: 10.5083 - mae: 10.5083\n",
            "Epoch 6/100\n",
            "2/2 [==============================] - 0s 6ms/step - loss: 9.7317 - mae: 9.7317\n",
            "Epoch 7/100\n",
            "2/2 [==============================] - 0s 6ms/step - loss: 8.8239 - mae: 8.8239\n",
            "Epoch 8/100\n",
            "2/2 [==============================] - 0s 11ms/step - loss: 9.0764 - mae: 9.0764\n",
            "Epoch 9/100\n",
            "2/2 [==============================] - 0s 6ms/step - loss: 19.3650 - mae: 19.3650\n",
            "Epoch 10/100\n",
            "2/2 [==============================] - 0s 5ms/step - loss: 10.4635 - mae: 10.4635\n",
            "Epoch 11/100\n",
            "2/2 [==============================] - 0s 9ms/step - loss: 8.5409 - mae: 8.5409\n",
            "Epoch 12/100\n",
            "2/2 [==============================] - 0s 6ms/step - loss: 10.9574 - mae: 10.9574\n",
            "Epoch 13/100\n",
            "2/2 [==============================] - 0s 7ms/step - loss: 7.5760 - mae: 7.5760\n",
            "Epoch 14/100\n",
            "2/2 [==============================] - 0s 9ms/step - loss: 16.0046 - mae: 16.0046\n",
            "Epoch 15/100\n",
            "2/2 [==============================] - 0s 9ms/step - loss: 13.0844 - mae: 13.0844\n",
            "Epoch 16/100\n",
            "2/2 [==============================] - 0s 13ms/step - loss: 7.9449 - mae: 7.9449\n",
            "Epoch 17/100\n",
            "2/2 [==============================] - 0s 9ms/step - loss: 11.2864 - mae: 11.2864\n",
            "Epoch 18/100\n",
            "2/2 [==============================] - 0s 9ms/step - loss: 10.2561 - mae: 10.2561\n",
            "Epoch 19/100\n",
            "2/2 [==============================] - 0s 9ms/step - loss: 19.5315 - mae: 19.5315\n",
            "Epoch 20/100\n",
            "2/2 [==============================] - 0s 10ms/step - loss: 16.1844 - mae: 16.1844\n",
            "Epoch 21/100\n",
            "2/2 [==============================] - 0s 19ms/step - loss: 12.0828 - mae: 12.0828\n",
            "Epoch 22/100\n",
            "2/2 [==============================] - 0s 7ms/step - loss: 8.6830 - mae: 8.6830\n",
            "Epoch 23/100\n",
            "2/2 [==============================] - 0s 8ms/step - loss: 9.6663 - mae: 9.6663\n",
            "Epoch 24/100\n",
            "2/2 [==============================] - 0s 15ms/step - loss: 8.5820 - mae: 8.5820\n",
            "Epoch 25/100\n",
            "2/2 [==============================] - 0s 7ms/step - loss: 11.5551 - mae: 11.5551\n",
            "Epoch 26/100\n",
            "2/2 [==============================] - 0s 9ms/step - loss: 15.1983 - mae: 15.1983\n",
            "Epoch 27/100\n",
            "2/2 [==============================] - 0s 13ms/step - loss: 12.0795 - mae: 12.0795\n",
            "Epoch 28/100\n",
            "2/2 [==============================] - 0s 9ms/step - loss: 13.3791 - mae: 13.3791\n",
            "Epoch 29/100\n",
            "2/2 [==============================] - 0s 8ms/step - loss: 9.6138 - mae: 9.6138\n",
            "Epoch 30/100\n",
            "2/2 [==============================] - 0s 8ms/step - loss: 17.1769 - mae: 17.1769\n",
            "Epoch 31/100\n",
            "2/2 [==============================] - 0s 8ms/step - loss: 22.8901 - mae: 22.8901\n",
            "Epoch 32/100\n",
            "2/2 [==============================] - 0s 5ms/step - loss: 7.9237 - mae: 7.9237\n",
            "Epoch 33/100\n",
            "2/2 [==============================] - 0s 5ms/step - loss: 14.1310 - mae: 14.1310\n",
            "Epoch 34/100\n",
            "2/2 [==============================] - 0s 5ms/step - loss: 12.3747 - mae: 12.3747\n",
            "Epoch 35/100\n",
            "2/2 [==============================] - 0s 5ms/step - loss: 8.2716 - mae: 8.2716\n",
            "Epoch 36/100\n",
            "2/2 [==============================] - 0s 15ms/step - loss: 10.4942 - mae: 10.4942\n",
            "Epoch 37/100\n",
            "2/2 [==============================] - 0s 8ms/step - loss: 10.1384 - mae: 10.1384\n",
            "Epoch 38/100\n",
            "2/2 [==============================] - 0s 7ms/step - loss: 11.3355 - mae: 11.3355\n",
            "Epoch 39/100\n",
            "2/2 [==============================] - 0s 9ms/step - loss: 14.7540 - mae: 14.7540\n",
            "Epoch 40/100\n",
            "2/2 [==============================] - 0s 5ms/step - loss: 12.8843 - mae: 12.8843\n",
            "Epoch 41/100\n",
            "2/2 [==============================] - 0s 5ms/step - loss: 9.2736 - mae: 9.2736\n",
            "Epoch 42/100\n",
            "2/2 [==============================] - 0s 5ms/step - loss: 11.0156 - mae: 11.0156\n",
            "Epoch 43/100\n",
            "2/2 [==============================] - 0s 18ms/step - loss: 8.3417 - mae: 8.3417\n",
            "Epoch 44/100\n",
            "2/2 [==============================] - 0s 8ms/step - loss: 13.0608 - mae: 13.0608\n",
            "Epoch 45/100\n",
            "2/2 [==============================] - 0s 5ms/step - loss: 13.6738 - mae: 13.6738\n",
            "Epoch 46/100\n",
            "2/2 [==============================] - 0s 5ms/step - loss: 8.2889 - mae: 8.2889\n",
            "Epoch 47/100\n",
            "2/2 [==============================] - 0s 6ms/step - loss: 8.7347 - mae: 8.7347\n",
            "Epoch 48/100\n",
            "2/2 [==============================] - 0s 5ms/step - loss: 10.0358 - mae: 10.0358\n",
            "Epoch 49/100\n",
            "2/2 [==============================] - 0s 4ms/step - loss: 8.5196 - mae: 8.5196\n",
            "Epoch 50/100\n",
            "2/2 [==============================] - 0s 6ms/step - loss: 9.0254 - mae: 9.0254\n",
            "Epoch 51/100\n",
            "2/2 [==============================] - 0s 5ms/step - loss: 9.3822 - mae: 9.3822\n",
            "Epoch 52/100\n",
            "2/2 [==============================] - 0s 22ms/step - loss: 14.1825 - mae: 14.1825\n",
            "Epoch 53/100\n",
            "2/2 [==============================] - 0s 5ms/step - loss: 14.8860 - mae: 14.8860\n",
            "Epoch 54/100\n",
            "2/2 [==============================] - 0s 5ms/step - loss: 14.8240 - mae: 14.8240\n",
            "Epoch 55/100\n",
            "2/2 [==============================] - 0s 5ms/step - loss: 12.6058 - mae: 12.6058\n",
            "Epoch 56/100\n",
            "2/2 [==============================] - 0s 6ms/step - loss: 7.5987 - mae: 7.5987\n",
            "Epoch 57/100\n",
            "2/2 [==============================] - 0s 5ms/step - loss: 8.8006 - mae: 8.8006\n",
            "Epoch 58/100\n",
            "2/2 [==============================] - 0s 5ms/step - loss: 8.3878 - mae: 8.3878\n",
            "Epoch 59/100\n",
            "2/2 [==============================] - 0s 9ms/step - loss: 9.1850 - mae: 9.1850\n",
            "Epoch 60/100\n",
            "2/2 [==============================] - 0s 6ms/step - loss: 9.1269 - mae: 9.1269\n",
            "Epoch 61/100\n",
            "2/2 [==============================] - 0s 5ms/step - loss: 10.6675 - mae: 10.6675\n",
            "Epoch 62/100\n",
            "2/2 [==============================] - 0s 5ms/step - loss: 7.4427 - mae: 7.4427\n",
            "Epoch 63/100\n",
            "2/2 [==============================] - 0s 21ms/step - loss: 10.5326 - mae: 10.5326\n",
            "Epoch 64/100\n",
            "2/2 [==============================] - 0s 25ms/step - loss: 12.1382 - mae: 12.1382\n",
            "Epoch 65/100\n",
            "2/2 [==============================] - 0s 31ms/step - loss: 9.4642 - mae: 9.4642\n",
            "Epoch 66/100\n",
            "2/2 [==============================] - 0s 14ms/step - loss: 11.5440 - mae: 11.5440\n",
            "Epoch 67/100\n",
            "2/2 [==============================] - 0s 26ms/step - loss: 8.0322 - mae: 8.0322\n",
            "Epoch 68/100\n",
            "2/2 [==============================] - 0s 11ms/step - loss: 8.5648 - mae: 8.5648\n",
            "Epoch 69/100\n",
            "2/2 [==============================] - 0s 7ms/step - loss: 12.2370 - mae: 12.2370\n",
            "Epoch 70/100\n",
            "2/2 [==============================] - 0s 7ms/step - loss: 8.9499 - mae: 8.9499\n",
            "Epoch 71/100\n",
            "2/2 [==============================] - 0s 5ms/step - loss: 9.9235 - mae: 9.9235\n",
            "Epoch 72/100\n",
            "2/2 [==============================] - 0s 10ms/step - loss: 9.9657 - mae: 9.9657\n",
            "Epoch 73/100\n",
            "2/2 [==============================] - 0s 8ms/step - loss: 12.4202 - mae: 12.4202\n",
            "Epoch 74/100\n",
            "2/2 [==============================] - 0s 7ms/step - loss: 10.6044 - mae: 10.6044\n",
            "Epoch 75/100\n",
            "2/2 [==============================] - 0s 7ms/step - loss: 9.6228 - mae: 9.6228\n",
            "Epoch 76/100\n",
            "2/2 [==============================] - 0s 9ms/step - loss: 11.0840 - mae: 11.0840\n",
            "Epoch 77/100\n",
            "2/2 [==============================] - 0s 5ms/step - loss: 8.2721 - mae: 8.2721\n",
            "Epoch 78/100\n",
            "2/2 [==============================] - 0s 5ms/step - loss: 8.9531 - mae: 8.9531\n",
            "Epoch 79/100\n",
            "2/2 [==============================] - 0s 5ms/step - loss: 19.8292 - mae: 19.8292\n",
            "Epoch 80/100\n",
            "2/2 [==============================] - 0s 6ms/step - loss: 17.7900 - mae: 17.7900\n",
            "Epoch 81/100\n",
            "2/2 [==============================] - 0s 7ms/step - loss: 7.0981 - mae: 7.0981\n",
            "Epoch 82/100\n",
            "2/2 [==============================] - 0s 8ms/step - loss: 10.3982 - mae: 10.3982\n",
            "Epoch 83/100\n",
            "2/2 [==============================] - 0s 6ms/step - loss: 9.8180 - mae: 9.8180\n",
            "Epoch 84/100\n",
            "2/2 [==============================] - 0s 6ms/step - loss: 7.9518 - mae: 7.9518\n",
            "Epoch 85/100\n",
            "2/2 [==============================] - 0s 5ms/step - loss: 9.4664 - mae: 9.4664\n",
            "Epoch 86/100\n",
            "2/2 [==============================] - 0s 5ms/step - loss: 9.5087 - mae: 9.5087\n",
            "Epoch 87/100\n",
            "2/2 [==============================] - 0s 5ms/step - loss: 11.4593 - mae: 11.4593\n",
            "Epoch 88/100\n",
            "2/2 [==============================] - 0s 6ms/step - loss: 9.9579 - mae: 9.9579\n",
            "Epoch 89/100\n",
            "2/2 [==============================] - 0s 7ms/step - loss: 7.2590 - mae: 7.2590\n",
            "Epoch 90/100\n",
            "2/2 [==============================] - 0s 6ms/step - loss: 12.7215 - mae: 12.7215\n",
            "Epoch 91/100\n",
            "2/2 [==============================] - 0s 6ms/step - loss: 7.3248 - mae: 7.3248\n",
            "Epoch 92/100\n",
            "2/2 [==============================] - 0s 18ms/step - loss: 7.6900 - mae: 7.6900\n",
            "Epoch 93/100\n",
            "2/2 [==============================] - 0s 12ms/step - loss: 7.1231 - mae: 7.1231\n",
            "Epoch 94/100\n",
            "2/2 [==============================] - 0s 28ms/step - loss: 12.5672 - mae: 12.5672\n",
            "Epoch 95/100\n",
            "2/2 [==============================] - 0s 9ms/step - loss: 9.9428 - mae: 9.9428\n",
            "Epoch 96/100\n",
            "2/2 [==============================] - 0s 9ms/step - loss: 9.1373 - mae: 9.1373\n",
            "Epoch 97/100\n",
            "2/2 [==============================] - 0s 5ms/step - loss: 12.0703 - mae: 12.0703\n",
            "Epoch 98/100\n",
            "2/2 [==============================] - 0s 18ms/step - loss: 9.0886 - mae: 9.0886\n",
            "Epoch 99/100\n",
            "2/2 [==============================] - 0s 16ms/step - loss: 8.4975 - mae: 8.4975\n",
            "Epoch 100/100\n",
            "2/2 [==============================] - 0s 14ms/step - loss: 14.4381 - mae: 14.4381\n"
          ]
        },
        {
          "output_type": "execute_result",
          "data": {
            "text/plain": [
              "<keras.callbacks.History at 0x78b6b37c3790>"
            ]
          },
          "metadata": {},
          "execution_count": 28
        }
      ]
    },
    {
      "cell_type": "code",
      "source": [
        "y_preds_1 = model_1.predict(x_test)\n",
        "plot_predictions(predictions=y_preds_1)"
      ],
      "metadata": {
        "colab": {
          "base_uri": "https://localhost:8080/",
          "height": 523
        },
        "id": "qUWLmgGZmMw_",
        "outputId": "040891ad-852b-4b56-b78c-7ae3039f1f70"
      },
      "execution_count": 30,
      "outputs": [
        {
          "output_type": "stream",
          "name": "stderr",
          "text": [
            "WARNING:tensorflow:5 out of the last 5 calls to <function Model.make_predict_function.<locals>.predict_function at 0x78b6b35264d0> triggered tf.function retracing. Tracing is expensive and the excessive number of tracings could be due to (1) creating @tf.function repeatedly in a loop, (2) passing tensors with different shapes, (3) passing Python objects instead of tensors. For (1), please define your @tf.function outside of the loop. For (2), @tf.function has reduce_retracing=True option that can avoid unnecessary retracing. For (3), please refer to https://www.tensorflow.org/guide/function#controlling_retracing and https://www.tensorflow.org/api_docs/python/tf/function for  more details.\n"
          ]
        },
        {
          "output_type": "stream",
          "name": "stdout",
          "text": [
            "1/1 [==============================] - 0s 53ms/step\n"
          ]
        },
        {
          "output_type": "display_data",
          "data": {
            "text/plain": [
              "<Figure size 1000x700 with 1 Axes>"
            ],
            "image/png": "[encoded data removed]"
          },
          "metadata": {}
        }
      ]
    },
    {
      "cell_type": "code",
      "source": [
        "mae_1 = mae(y_test, tf.squeeze(y_preds_1))\n",
        "mse_1 = mse(y_test, tf.squeeze(y_preds_1))\n",
        "mae_1, mse_1"
      ],
      "metadata": {
        "colab": {
          "base_uri": "https://localhost:8080/"
        },
        "id": "8JQZpLcYo20L",
        "outputId": "2269445d-93b8-4afd-ba7e-6bfe1dcc6ab1"
      },
      "execution_count": 33,
      "outputs": [
        {
          "output_type": "execute_result",
          "data": {
            "text/plain": [
              "(<tf.Tensor: shape=(), dtype=float32, numpy=30.6707>,\n",
              " <tf.Tensor: shape=(), dtype=float32, numpy=951.1582>)"
            ]
          },
          "metadata": {},
          "execution_count": 33
        }
      ]
    },
    {
      "cell_type": "code",
      "source": [],
      "metadata": {
        "id": "FMDl5RYHpMlG"
      },
      "execution_count": null,
      "outputs": []
    }
  ]
}
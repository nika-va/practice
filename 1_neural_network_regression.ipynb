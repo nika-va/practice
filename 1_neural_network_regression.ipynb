{
  "nbformat": 4,
  "nbformat_minor": 0,
  "metadata": {
    "colab": {
      "provenance": [],
      "mount_file_id": "1MfoaPVUNKyujtGg0LzaNu3oZdFpSEQf0",
      "authorship_tag": "ABX9TyNU5W8qyBC9G5geBXnQ7XUY",
      "include_colab_link": true
    },
    "kernelspec": {
      "name": "python3",
      "display_name": "Python 3"
    },
    "language_info": {
      "name": "python"
    }
  },
  "cells": [
    {
      "cell_type": "markdown",
      "metadata": {
        "id": "view-in-github",
        "colab_type": "text"
      },
      "source": [
        "<a href=\"https://colab.research.google.com/github/nika-va/practice/blob/main/1_neural_network_regression.ipynb\" target=\"_parent\"><img src=\"https://colab.research.google.com/assets/colab-badge.svg\" alt=\"Open In Colab\"/></a>"
      ]
    },
    {
      "cell_type": "code",
      "execution_count": 3,
      "metadata": {
        "colab": {
          "base_uri": "https://localhost:8080/"
        },
        "id": "Do2NzmAaHgnn",
        "outputId": "0d06b0e6-4445-4528-ccb9-3bebe94deee9"
      },
      "outputs": [
        {
          "output_type": "stream",
          "name": "stdout",
          "text": [
            "2.12.0\n"
          ]
        }
      ],
      "source": [
        "import tensorflow as tf\n",
        "print(tf.__version__)"
      ]
    },
    {
      "cell_type": "code",
      "source": [
        "import numpy as np\n",
        "import matplotlib.pyplot as plt\n",
        "\n",
        "x = np.array([-7., -4., -1., 2., 5., 8., 11., 14.,])\n",
        "y = np.array([3., 6., 9., 12., 15., 18., 21., 24.])\n",
        "plt.scatter(x,y)"
      ],
      "metadata": {
        "colab": {
          "base_uri": "https://localhost:8080/",
          "height": 452
        },
        "id": "k5dM2wsgIEXv",
        "outputId": "d431951a-0778-488f-a399-e3a3a16babe5"
      },
      "execution_count": 4,
      "outputs": [
        {
          "output_type": "execute_result",
          "data": {
            "text/plain": [
              "<matplotlib.collections.PathCollection at 0x7aaedf63fdc0>"
            ]
          },
          "metadata": {},
          "execution_count": 4
        },
        {
          "output_type": "display_data",
          "data": {
            "text/plain": [
              "<Figure size 640x480 with 1 Axes>"
            ],
            "image/png": "[encoded data removed]"
          },
          "metadata": {}
        }
      ]
    },
    {
      "cell_type": "code",
      "source": [
        "x = tf.constant(x)\n",
        "y = tf.constant(y)\n",
        "x, y"
      ],
      "metadata": {
        "colab": {
          "base_uri": "https://localhost:8080/"
        },
        "id": "ZcamlTKlIpA1",
        "outputId": "4aa8ec2b-b58e-4581-f459-d46586fda62e"
      },
      "execution_count": 5,
      "outputs": [
        {
          "output_type": "execute_result",
          "data": {
            "text/plain": [
              "(<tf.Tensor: shape=(8,), dtype=float64, numpy=array([-7., -4., -1.,  2.,  5.,  8., 11., 14.])>,\n",
              " <tf.Tensor: shape=(8,), dtype=float64, numpy=array([ 3.,  6.,  9., 12., 15., 18., 21., 24.])>)"
            ]
          },
          "metadata": {},
          "execution_count": 5
        }
      ]
    },
    {
      "cell_type": "code",
      "source": [
        "tf.random.set_seed(42)\n",
        "model = tf.keras.Sequential([\n",
        "    tf.keras.layers.Dense(1)\n",
        "])\n",
        "\n",
        "# model = tf.keras.Sequential()\n",
        "# model.add(tf.keras.layers.Dense(1))\n",
        "\n",
        "model.compile(loss = tf.keras.losses.mae,\n",
        "              optimizer = tf.keras.optimizers.SGD(), #[\"sgd\"]\n",
        "              metrics = ['mae'])\n",
        "\n",
        "model.fit(tf.expand_dims(x, axis=-1), y, epochs=5)"
      ],
      "metadata": {
        "colab": {
          "base_uri": "https://localhost:8080/"
        },
        "id": "MMbQdZqZK_eS",
        "outputId": "35484cd3-054d-41c3-ca26-7f4748ab0446"
      },
      "execution_count": 6,
      "outputs": [
        {
          "output_type": "stream",
          "name": "stdout",
          "text": [
            "Epoch 1/5\n",
            "1/1 [==============================] - 1s 622ms/step - loss: 19.2221 - mae: 19.2221\n",
            "Epoch 2/5\n",
            "1/1 [==============================] - 0s 18ms/step - loss: 18.9408 - mae: 18.9408\n",
            "Epoch 3/5\n",
            "1/1 [==============================] - 0s 9ms/step - loss: 18.6596 - mae: 18.6596\n",
            "Epoch 4/5\n",
            "1/1 [==============================] - 0s 11ms/step - loss: 18.3783 - mae: 18.3783\n",
            "Epoch 5/5\n",
            "1/1 [==============================] - 0s 8ms/step - loss: 18.0971 - mae: 18.0971\n"
          ]
        },
        {
          "output_type": "execute_result",
          "data": {
            "text/plain": [
              "<keras.callbacks.History at 0x7aaedc463df0>"
            ]
          },
          "metadata": {},
          "execution_count": 6
        }
      ]
    },
    {
      "cell_type": "code",
      "source": [
        "model.predict([27.])"
      ],
      "metadata": {
        "colab": {
          "base_uri": "https://localhost:8080/"
        },
        "id": "FHMankaQPWAe",
        "outputId": "e1db57e4-5fc0-4ec2-f24b-1df26df9aa44"
      },
      "execution_count": 7,
      "outputs": [
        {
          "output_type": "stream",
          "name": "stdout",
          "text": [
            "1/1 [==============================] - 0s 103ms/step\n"
          ]
        },
        {
          "output_type": "execute_result",
          "data": {
            "text/plain": [
              "array([[-26.15993]], dtype=float32)"
            ]
          },
          "metadata": {},
          "execution_count": 7
        }
      ]
    },
    {
      "cell_type": "markdown",
      "source": [
        "#Improving our model"
      ],
      "metadata": {
        "id": "Fm17lkVhRyca"
      }
    },
    {
      "cell_type": "code",
      "source": [
        "model = tf.keras.Sequential([\n",
        "    tf.keras.layers.Dense(1)\n",
        "])\n",
        "\n",
        "model.compile(loss = tf.keras.losses.mae,\n",
        "              optimizer = tf.keras.optimizers.SGD(),\n",
        "              metrics = ['mae'])\n",
        "\n",
        "model.fit(tf.expand_dims(x, axis=-1), y, epochs=100)"
      ],
      "metadata": {
        "id": "1aLn_oTVSLbD",
        "colab": {
          "base_uri": "https://localhost:8080/"
        },
        "outputId": "d40f3d71-6734-4a7b-fbef-c51f13935243"
      },
      "execution_count": 8,
      "outputs": [
        {
          "output_type": "stream",
          "name": "stdout",
          "text": [
            "Epoch 1/100\n",
            "1/1 [==============================] - 0s 317ms/step - loss: 13.0908 - mae: 13.0908\n",
            "Epoch 2/100\n",
            "1/1 [==============================] - 0s 9ms/step - loss: 12.9583 - mae: 12.9583\n",
            "Epoch 3/100\n",
            "1/1 [==============================] - 0s 12ms/step - loss: 12.8258 - mae: 12.8258\n",
            "Epoch 4/100\n",
            "1/1 [==============================] - 0s 15ms/step - loss: 12.6933 - mae: 12.6933\n",
            "Epoch 5/100\n",
            "1/1 [==============================] - 0s 14ms/step - loss: 12.5608 - mae: 12.5608\n",
            "Epoch 6/100\n",
            "1/1 [==============================] - 0s 8ms/step - loss: 12.4283 - mae: 12.4283\n",
            "Epoch 7/100\n",
            "1/1 [==============================] - 0s 19ms/step - loss: 12.2958 - mae: 12.2958\n",
            "Epoch 8/100\n",
            "1/1 [==============================] - 0s 9ms/step - loss: 12.1633 - mae: 12.1633\n",
            "Epoch 9/100\n",
            "1/1 [==============================] - 0s 9ms/step - loss: 12.0308 - mae: 12.0308\n",
            "Epoch 10/100\n",
            "1/1 [==============================] - 0s 18ms/step - loss: 11.8983 - mae: 11.8983\n",
            "Epoch 11/100\n",
            "1/1 [==============================] - 0s 8ms/step - loss: 11.7658 - mae: 11.7658\n",
            "Epoch 12/100\n",
            "1/1 [==============================] - 0s 9ms/step - loss: 11.6333 - mae: 11.6333\n",
            "Epoch 13/100\n",
            "1/1 [==============================] - 0s 10ms/step - loss: 11.5008 - mae: 11.5008\n",
            "Epoch 14/100\n",
            "1/1 [==============================] - 0s 9ms/step - loss: 11.3683 - mae: 11.3683\n",
            "Epoch 15/100\n",
            "1/1 [==============================] - 0s 9ms/step - loss: 11.2358 - mae: 11.2358\n",
            "Epoch 16/100\n",
            "1/1 [==============================] - 0s 9ms/step - loss: 11.1033 - mae: 11.1033\n",
            "Epoch 17/100\n",
            "1/1 [==============================] - 0s 12ms/step - loss: 10.9708 - mae: 10.9708\n",
            "Epoch 18/100\n",
            "1/1 [==============================] - 0s 11ms/step - loss: 10.8383 - mae: 10.8383\n",
            "Epoch 19/100\n",
            "1/1 [==============================] - 0s 11ms/step - loss: 10.7058 - mae: 10.7058\n",
            "Epoch 20/100\n",
            "1/1 [==============================] - 0s 11ms/step - loss: 10.5733 - mae: 10.5733\n",
            "Epoch 21/100\n",
            "1/1 [==============================] - 0s 11ms/step - loss: 10.4408 - mae: 10.4408\n",
            "Epoch 22/100\n",
            "1/1 [==============================] - 0s 11ms/step - loss: 10.3083 - mae: 10.3083\n",
            "Epoch 23/100\n",
            "1/1 [==============================] - 0s 11ms/step - loss: 10.1758 - mae: 10.1758\n",
            "Epoch 24/100\n",
            "1/1 [==============================] - 0s 10ms/step - loss: 10.0433 - mae: 10.0433\n",
            "Epoch 25/100\n",
            "1/1 [==============================] - 0s 13ms/step - loss: 9.9108 - mae: 9.9108\n",
            "Epoch 26/100\n",
            "1/1 [==============================] - 0s 16ms/step - loss: 9.7783 - mae: 9.7783\n",
            "Epoch 27/100\n",
            "1/1 [==============================] - 0s 13ms/step - loss: 9.6458 - mae: 9.6458\n",
            "Epoch 28/100\n",
            "1/1 [==============================] - 0s 10ms/step - loss: 9.5133 - mae: 9.5133\n",
            "Epoch 29/100\n",
            "1/1 [==============================] - 0s 11ms/step - loss: 9.3808 - mae: 9.3808\n",
            "Epoch 30/100\n",
            "1/1 [==============================] - 0s 12ms/step - loss: 9.2483 - mae: 9.2483\n",
            "Epoch 31/100\n",
            "1/1 [==============================] - 0s 11ms/step - loss: 9.1158 - mae: 9.1158\n",
            "Epoch 32/100\n",
            "1/1 [==============================] - 0s 11ms/step - loss: 8.9833 - mae: 8.9833\n",
            "Epoch 33/100\n",
            "1/1 [==============================] - 0s 11ms/step - loss: 8.8508 - mae: 8.8508\n",
            "Epoch 34/100\n",
            "1/1 [==============================] - 0s 11ms/step - loss: 8.7183 - mae: 8.7183\n",
            "Epoch 35/100\n",
            "1/1 [==============================] - 0s 11ms/step - loss: 8.5858 - mae: 8.5858\n",
            "Epoch 36/100\n",
            "1/1 [==============================] - 0s 12ms/step - loss: 8.4533 - mae: 8.4533\n",
            "Epoch 37/100\n",
            "1/1 [==============================] - 0s 11ms/step - loss: 8.3208 - mae: 8.3208\n",
            "Epoch 38/100\n",
            "1/1 [==============================] - 0s 11ms/step - loss: 8.1883 - mae: 8.1883\n",
            "Epoch 39/100\n",
            "1/1 [==============================] - 0s 10ms/step - loss: 8.0558 - mae: 8.0558\n",
            "Epoch 40/100\n",
            "1/1 [==============================] - 0s 11ms/step - loss: 7.9233 - mae: 7.9233\n",
            "Epoch 41/100\n",
            "1/1 [==============================] - 0s 9ms/step - loss: 7.7908 - mae: 7.7908\n",
            "Epoch 42/100\n",
            "1/1 [==============================] - 0s 10ms/step - loss: 7.6583 - mae: 7.6583\n",
            "Epoch 43/100\n",
            "1/1 [==============================] - 0s 11ms/step - loss: 7.5258 - mae: 7.5258\n",
            "Epoch 44/100\n",
            "1/1 [==============================] - 0s 12ms/step - loss: 7.3933 - mae: 7.3933\n",
            "Epoch 45/100\n",
            "1/1 [==============================] - 0s 10ms/step - loss: 7.2608 - mae: 7.2608\n",
            "Epoch 46/100\n",
            "1/1 [==============================] - 0s 9ms/step - loss: 7.1625 - mae: 7.1625\n",
            "Epoch 47/100\n",
            "1/1 [==============================] - 0s 8ms/step - loss: 7.1569 - mae: 7.1569\n",
            "Epoch 48/100\n",
            "1/1 [==============================] - 0s 13ms/step - loss: 7.1512 - mae: 7.1512\n",
            "Epoch 49/100\n",
            "1/1 [==============================] - 0s 12ms/step - loss: 7.1456 - mae: 7.1456\n",
            "Epoch 50/100\n",
            "1/1 [==============================] - 0s 10ms/step - loss: 7.1400 - mae: 7.1400\n",
            "Epoch 51/100\n",
            "1/1 [==============================] - 0s 14ms/step - loss: 7.1344 - mae: 7.1344\n",
            "Epoch 52/100\n",
            "1/1 [==============================] - 0s 10ms/step - loss: 7.1288 - mae: 7.1288\n",
            "Epoch 53/100\n",
            "1/1 [==============================] - 0s 8ms/step - loss: 7.1231 - mae: 7.1231\n",
            "Epoch 54/100\n",
            "1/1 [==============================] - 0s 10ms/step - loss: 7.1175 - mae: 7.1175\n",
            "Epoch 55/100\n",
            "1/1 [==============================] - 0s 9ms/step - loss: 7.1119 - mae: 7.1119\n",
            "Epoch 56/100\n",
            "1/1 [==============================] - 0s 10ms/step - loss: 7.1063 - mae: 7.1063\n",
            "Epoch 57/100\n",
            "1/1 [==============================] - 0s 11ms/step - loss: 7.1006 - mae: 7.1006\n",
            "Epoch 58/100\n",
            "1/1 [==============================] - 0s 11ms/step - loss: 7.0950 - mae: 7.0950\n",
            "Epoch 59/100\n",
            "1/1 [==============================] - 0s 10ms/step - loss: 7.0894 - mae: 7.0894\n",
            "Epoch 60/100\n",
            "1/1 [==============================] - 0s 9ms/step - loss: 7.0838 - mae: 7.0838\n",
            "Epoch 61/100\n",
            "1/1 [==============================] - 0s 9ms/step - loss: 7.0781 - mae: 7.0781\n",
            "Epoch 62/100\n",
            "1/1 [==============================] - 0s 8ms/step - loss: 7.0725 - mae: 7.0725\n",
            "Epoch 63/100\n",
            "1/1 [==============================] - 0s 10ms/step - loss: 7.0669 - mae: 7.0669\n",
            "Epoch 64/100\n",
            "1/1 [==============================] - 0s 10ms/step - loss: 7.0612 - mae: 7.0612\n",
            "Epoch 65/100\n",
            "1/1 [==============================] - 0s 10ms/step - loss: 7.0556 - mae: 7.0556\n",
            "Epoch 66/100\n",
            "1/1 [==============================] - 0s 9ms/step - loss: 7.0500 - mae: 7.0500\n",
            "Epoch 67/100\n",
            "1/1 [==============================] - 0s 10ms/step - loss: 7.0444 - mae: 7.0444\n",
            "Epoch 68/100\n",
            "1/1 [==============================] - 0s 18ms/step - loss: 7.0387 - mae: 7.0387\n",
            "Epoch 69/100\n",
            "1/1 [==============================] - 0s 10ms/step - loss: 7.0331 - mae: 7.0331\n",
            "Epoch 70/100\n",
            "1/1 [==============================] - 0s 9ms/step - loss: 7.0275 - mae: 7.0275\n",
            "Epoch 71/100\n",
            "1/1 [==============================] - 0s 10ms/step - loss: 7.0219 - mae: 7.0219\n",
            "Epoch 72/100\n",
            "1/1 [==============================] - 0s 10ms/step - loss: 7.0163 - mae: 7.0163\n",
            "Epoch 73/100\n",
            "1/1 [==============================] - 0s 10ms/step - loss: 7.0106 - mae: 7.0106\n",
            "Epoch 74/100\n",
            "1/1 [==============================] - 0s 10ms/step - loss: 7.0050 - mae: 7.0050\n",
            "Epoch 75/100\n",
            "1/1 [==============================] - 0s 12ms/step - loss: 6.9994 - mae: 6.9994\n",
            "Epoch 76/100\n",
            "1/1 [==============================] - 0s 10ms/step - loss: 6.9938 - mae: 6.9938\n",
            "Epoch 77/100\n",
            "1/1 [==============================] - 0s 9ms/step - loss: 6.9881 - mae: 6.9881\n",
            "Epoch 78/100\n",
            "1/1 [==============================] - 0s 11ms/step - loss: 6.9825 - mae: 6.9825\n",
            "Epoch 79/100\n",
            "1/1 [==============================] - 0s 10ms/step - loss: 6.9769 - mae: 6.9769\n",
            "Epoch 80/100\n",
            "1/1 [==============================] - 0s 10ms/step - loss: 6.9713 - mae: 6.9713\n",
            "Epoch 81/100\n",
            "1/1 [==============================] - 0s 10ms/step - loss: 6.9656 - mae: 6.9656\n",
            "Epoch 82/100\n",
            "1/1 [==============================] - 0s 10ms/step - loss: 6.9600 - mae: 6.9600\n",
            "Epoch 83/100\n",
            "1/1 [==============================] - 0s 11ms/step - loss: 6.9544 - mae: 6.9544\n",
            "Epoch 84/100\n",
            "1/1 [==============================] - 0s 10ms/step - loss: 6.9488 - mae: 6.9488\n",
            "Epoch 85/100\n",
            "1/1 [==============================] - 0s 10ms/step - loss: 6.9431 - mae: 6.9431\n",
            "Epoch 86/100\n",
            "1/1 [==============================] - 0s 10ms/step - loss: 6.9375 - mae: 6.9375\n",
            "Epoch 87/100\n",
            "1/1 [==============================] - 0s 10ms/step - loss: 6.9319 - mae: 6.9319\n",
            "Epoch 88/100\n",
            "1/1 [==============================] - 0s 10ms/step - loss: 6.9263 - mae: 6.9263\n",
            "Epoch 89/100\n",
            "1/1 [==============================] - 0s 10ms/step - loss: 6.9206 - mae: 6.9206\n",
            "Epoch 90/100\n",
            "1/1 [==============================] - 0s 10ms/step - loss: 6.9150 - mae: 6.9150\n",
            "Epoch 91/100\n",
            "1/1 [==============================] - 0s 10ms/step - loss: 6.9094 - mae: 6.9094\n",
            "Epoch 92/100\n",
            "1/1 [==============================] - 0s 10ms/step - loss: 6.9038 - mae: 6.9038\n",
            "Epoch 93/100\n",
            "1/1 [==============================] - 0s 10ms/step - loss: 6.8981 - mae: 6.8981\n",
            "Epoch 94/100\n",
            "1/1 [==============================] - 0s 9ms/step - loss: 6.8925 - mae: 6.8925\n",
            "Epoch 95/100\n",
            "1/1 [==============================] - 0s 10ms/step - loss: 6.8869 - mae: 6.8869\n",
            "Epoch 96/100\n",
            "1/1 [==============================] - 0s 12ms/step - loss: 6.8813 - mae: 6.8813\n",
            "Epoch 97/100\n",
            "1/1 [==============================] - 0s 10ms/step - loss: 6.8756 - mae: 6.8756\n",
            "Epoch 98/100\n",
            "1/1 [==============================] - 0s 16ms/step - loss: 6.8700 - mae: 6.8700\n",
            "Epoch 99/100\n",
            "1/1 [==============================] - 0s 10ms/step - loss: 6.8644 - mae: 6.8644\n",
            "Epoch 100/100\n",
            "1/1 [==============================] - 0s 9ms/step - loss: 6.8588 - mae: 6.8588\n"
          ]
        },
        {
          "output_type": "execute_result",
          "data": {
            "text/plain": [
              "<keras.callbacks.History at 0x7aaedc08b790>"
            ]
          },
          "metadata": {},
          "execution_count": 8
        }
      ]
    },
    {
      "cell_type": "code",
      "source": [
        "model.predict([17.])"
      ],
      "metadata": {
        "colab": {
          "base_uri": "https://localhost:8080/"
        },
        "id": "5rcTTC_tJyMv",
        "outputId": "2c424cb5-3cd0-40e0-fccc-e2d7a4066516"
      },
      "execution_count": 9,
      "outputs": [
        {
          "output_type": "stream",
          "name": "stdout",
          "text": [
            "1/1 [==============================] - 0s 92ms/step\n"
          ]
        },
        {
          "output_type": "execute_result",
          "data": {
            "text/plain": [
              "array([[29.625011]], dtype=float32)"
            ]
          },
          "metadata": {},
          "execution_count": 9
        }
      ]
    },
    {
      "cell_type": "code",
      "source": [
        "model = tf.keras.Sequential([\n",
        "    tf.keras.layers.Dense(200, activation='relu'),\n",
        "    tf.keras.layers.Dense(200, activation='relu'),\n",
        "    tf.keras.layers.Dense(200, activation='relu'),\n",
        "    tf.keras.layers.Dense(1)\n",
        "])\n",
        "\n",
        "model.compile(loss = tf.keras.losses.mae,\n",
        "              optimizer = tf.keras.optimizers.Adam(lr=0.01))\n",
        "\n",
        "model.fit(tf.expand_dims(x, axis=-1), y, epochs = 100)"
      ],
      "metadata": {
        "colab": {
          "base_uri": "https://localhost:8080/"
        },
        "id": "T1uJ3XPAK3aG",
        "outputId": "24e3fdb4-5ee0-4a5e-cd5a-5c021fb46c1e"
      },
      "execution_count": 10,
      "outputs": [
        {
          "output_type": "stream",
          "name": "stderr",
          "text": [
            "WARNING:absl:`lr` is deprecated in Keras optimizer, please use `learning_rate` or use the legacy optimizer, e.g.,tf.keras.optimizers.legacy.Adam.\n"
          ]
        },
        {
          "output_type": "stream",
          "name": "stdout",
          "text": [
            "Epoch 1/100\n",
            "1/1 [==============================] - 1s 1s/step - loss: 13.4502\n",
            "Epoch 2/100\n",
            "1/1 [==============================] - 0s 17ms/step - loss: 12.7854\n",
            "Epoch 3/100\n",
            "1/1 [==============================] - 0s 13ms/step - loss: 12.1887\n",
            "Epoch 4/100\n",
            "1/1 [==============================] - 0s 12ms/step - loss: 11.5976\n",
            "Epoch 5/100\n",
            "1/1 [==============================] - 0s 12ms/step - loss: 10.9873\n",
            "Epoch 6/100\n",
            "1/1 [==============================] - 0s 10ms/step - loss: 10.3450\n",
            "Epoch 7/100\n",
            "1/1 [==============================] - 0s 13ms/step - loss: 9.8141\n",
            "Epoch 8/100\n",
            "1/1 [==============================] - 0s 10ms/step - loss: 9.2280\n",
            "Epoch 9/100\n",
            "1/1 [==============================] - 0s 14ms/step - loss: 8.5893\n",
            "Epoch 10/100\n",
            "1/1 [==============================] - 0s 9ms/step - loss: 7.9004\n",
            "Epoch 11/100\n",
            "1/1 [==============================] - 0s 10ms/step - loss: 7.1330\n",
            "Epoch 12/100\n",
            "1/1 [==============================] - 0s 10ms/step - loss: 6.2728\n",
            "Epoch 13/100\n",
            "1/1 [==============================] - 0s 18ms/step - loss: 5.3137\n",
            "Epoch 14/100\n",
            "1/1 [==============================] - 0s 9ms/step - loss: 4.2722\n",
            "Epoch 15/100\n",
            "1/1 [==============================] - 0s 13ms/step - loss: 4.0439\n",
            "Epoch 16/100\n",
            "1/1 [==============================] - 0s 19ms/step - loss: 4.2788\n",
            "Epoch 17/100\n",
            "1/1 [==============================] - 0s 12ms/step - loss: 4.6475\n",
            "Epoch 18/100\n",
            "1/1 [==============================] - 0s 11ms/step - loss: 4.9720\n",
            "Epoch 19/100\n",
            "1/1 [==============================] - 0s 13ms/step - loss: 5.1087\n",
            "Epoch 20/100\n",
            "1/1 [==============================] - 0s 10ms/step - loss: 5.0865\n",
            "Epoch 21/100\n",
            "1/1 [==============================] - 0s 12ms/step - loss: 4.9366\n",
            "Epoch 22/100\n",
            "1/1 [==============================] - 0s 10ms/step - loss: 4.6843\n",
            "Epoch 23/100\n",
            "1/1 [==============================] - 0s 9ms/step - loss: 4.3601\n",
            "Epoch 24/100\n",
            "1/1 [==============================] - 0s 9ms/step - loss: 4.1568\n",
            "Epoch 25/100\n",
            "1/1 [==============================] - 0s 16ms/step - loss: 4.0088\n",
            "Epoch 26/100\n",
            "1/1 [==============================] - 0s 9ms/step - loss: 3.8662\n",
            "Epoch 27/100\n",
            "1/1 [==============================] - 0s 11ms/step - loss: 3.9576\n",
            "Epoch 28/100\n",
            "1/1 [==============================] - 0s 15ms/step - loss: 4.0614\n",
            "Epoch 29/100\n",
            "1/1 [==============================] - 0s 18ms/step - loss: 4.2438\n",
            "Epoch 30/100\n",
            "1/1 [==============================] - 0s 10ms/step - loss: 4.2977\n",
            "Epoch 31/100\n",
            "1/1 [==============================] - 0s 10ms/step - loss: 4.1807\n",
            "Epoch 32/100\n",
            "1/1 [==============================] - 0s 17ms/step - loss: 3.9983\n",
            "Epoch 33/100\n",
            "1/1 [==============================] - 0s 35ms/step - loss: 3.8938\n",
            "Epoch 34/100\n",
            "1/1 [==============================] - 0s 11ms/step - loss: 3.7771\n",
            "Epoch 35/100\n",
            "1/1 [==============================] - 0s 18ms/step - loss: 3.7688\n",
            "Epoch 36/100\n",
            "1/1 [==============================] - 0s 14ms/step - loss: 3.8154\n",
            "Epoch 37/100\n",
            "1/1 [==============================] - 0s 16ms/step - loss: 3.8536\n",
            "Epoch 38/100\n",
            "1/1 [==============================] - 0s 10ms/step - loss: 3.8805\n",
            "Epoch 39/100\n",
            "1/1 [==============================] - 0s 12ms/step - loss: 3.8950\n",
            "Epoch 40/100\n",
            "1/1 [==============================] - 0s 12ms/step - loss: 3.8923\n",
            "Epoch 41/100\n",
            "1/1 [==============================] - 0s 11ms/step - loss: 3.8743\n",
            "Epoch 42/100\n",
            "1/1 [==============================] - 0s 14ms/step - loss: 3.8454\n",
            "Epoch 43/100\n",
            "1/1 [==============================] - 0s 12ms/step - loss: 3.8056\n",
            "Epoch 44/100\n",
            "1/1 [==============================] - 0s 15ms/step - loss: 3.7555\n",
            "Epoch 45/100\n",
            "1/1 [==============================] - 0s 13ms/step - loss: 3.6976\n",
            "Epoch 46/100\n",
            "1/1 [==============================] - 0s 10ms/step - loss: 3.6326\n",
            "Epoch 47/100\n",
            "1/1 [==============================] - 0s 12ms/step - loss: 3.6043\n",
            "Epoch 48/100\n",
            "1/1 [==============================] - 0s 11ms/step - loss: 3.6315\n",
            "Epoch 49/100\n",
            "1/1 [==============================] - 0s 12ms/step - loss: 3.6282\n",
            "Epoch 50/100\n",
            "1/1 [==============================] - 0s 11ms/step - loss: 3.5991\n",
            "Epoch 51/100\n",
            "1/1 [==============================] - 0s 11ms/step - loss: 3.5453\n",
            "Epoch 52/100\n",
            "1/1 [==============================] - 0s 13ms/step - loss: 3.5015\n",
            "Epoch 53/100\n",
            "1/1 [==============================] - 0s 12ms/step - loss: 3.5004\n",
            "Epoch 54/100\n",
            "1/1 [==============================] - 0s 9ms/step - loss: 3.4930\n",
            "Epoch 55/100\n",
            "1/1 [==============================] - 0s 10ms/step - loss: 3.4715\n",
            "Epoch 56/100\n",
            "1/1 [==============================] - 0s 10ms/step - loss: 3.4359\n",
            "Epoch 57/100\n",
            "1/1 [==============================] - 0s 14ms/step - loss: 3.3996\n",
            "Epoch 58/100\n",
            "1/1 [==============================] - 0s 11ms/step - loss: 3.3809\n",
            "Epoch 59/100\n",
            "1/1 [==============================] - 0s 11ms/step - loss: 3.3633\n",
            "Epoch 60/100\n",
            "1/1 [==============================] - 0s 13ms/step - loss: 3.3431\n",
            "Epoch 61/100\n",
            "1/1 [==============================] - 0s 12ms/step - loss: 3.3057\n",
            "Epoch 62/100\n",
            "1/1 [==============================] - 0s 13ms/step - loss: 3.3056\n",
            "Epoch 63/100\n",
            "1/1 [==============================] - 0s 12ms/step - loss: 3.2647\n",
            "Epoch 64/100\n",
            "1/1 [==============================] - 0s 13ms/step - loss: 3.2356\n",
            "Epoch 65/100\n",
            "1/1 [==============================] - 0s 9ms/step - loss: 3.2179\n",
            "Epoch 66/100\n",
            "1/1 [==============================] - 0s 9ms/step - loss: 3.1819\n",
            "Epoch 67/100\n",
            "1/1 [==============================] - 0s 8ms/step - loss: 3.1268\n",
            "Epoch 68/100\n",
            "1/1 [==============================] - 0s 10ms/step - loss: 3.1429\n",
            "Epoch 69/100\n",
            "1/1 [==============================] - 0s 9ms/step - loss: 3.1036\n",
            "Epoch 70/100\n",
            "1/1 [==============================] - 0s 9ms/step - loss: 3.0057\n",
            "Epoch 71/100\n",
            "1/1 [==============================] - 0s 8ms/step - loss: 3.0007\n",
            "Epoch 72/100\n",
            "1/1 [==============================] - 0s 11ms/step - loss: 2.9846\n",
            "Epoch 73/100\n",
            "1/1 [==============================] - 0s 8ms/step - loss: 2.9466\n",
            "Epoch 74/100\n",
            "1/1 [==============================] - 0s 9ms/step - loss: 2.8905\n",
            "Epoch 75/100\n",
            "1/1 [==============================] - 0s 9ms/step - loss: 2.7961\n",
            "Epoch 76/100\n",
            "1/1 [==============================] - 0s 8ms/step - loss: 2.6946\n",
            "Epoch 77/100\n",
            "1/1 [==============================] - 0s 9ms/step - loss: 2.6258\n",
            "Epoch 78/100\n",
            "1/1 [==============================] - 0s 11ms/step - loss: 2.5437\n",
            "Epoch 79/100\n",
            "1/1 [==============================] - 0s 8ms/step - loss: 2.5150\n",
            "Epoch 80/100\n",
            "1/1 [==============================] - 0s 11ms/step - loss: 2.4693\n",
            "Epoch 81/100\n",
            "1/1 [==============================] - 0s 10ms/step - loss: 2.3843\n",
            "Epoch 82/100\n",
            "1/1 [==============================] - 0s 8ms/step - loss: 2.2651\n",
            "Epoch 83/100\n",
            "1/1 [==============================] - 0s 11ms/step - loss: 2.1261\n",
            "Epoch 84/100\n",
            "1/1 [==============================] - 0s 11ms/step - loss: 2.0259\n",
            "Epoch 85/100\n",
            "1/1 [==============================] - 0s 12ms/step - loss: 1.9128\n",
            "Epoch 86/100\n",
            "1/1 [==============================] - 0s 11ms/step - loss: 1.8293\n",
            "Epoch 87/100\n",
            "1/1 [==============================] - 0s 11ms/step - loss: 1.7159\n",
            "Epoch 88/100\n",
            "1/1 [==============================] - 0s 9ms/step - loss: 1.5553\n",
            "Epoch 89/100\n",
            "1/1 [==============================] - 0s 11ms/step - loss: 1.4510\n",
            "Epoch 90/100\n",
            "1/1 [==============================] - 0s 10ms/step - loss: 1.2989\n",
            "Epoch 91/100\n",
            "1/1 [==============================] - 0s 11ms/step - loss: 1.1464\n",
            "Epoch 92/100\n",
            "1/1 [==============================] - 0s 11ms/step - loss: 1.0789\n",
            "Epoch 93/100\n",
            "1/1 [==============================] - 0s 11ms/step - loss: 0.9291\n",
            "Epoch 94/100\n",
            "1/1 [==============================] - 0s 11ms/step - loss: 0.6781\n",
            "Epoch 95/100\n",
            "1/1 [==============================] - 0s 12ms/step - loss: 0.6681\n",
            "Epoch 96/100\n",
            "1/1 [==============================] - 0s 9ms/step - loss: 0.6254\n",
            "Epoch 97/100\n",
            "1/1 [==============================] - 0s 9ms/step - loss: 0.5799\n",
            "Epoch 98/100\n",
            "1/1 [==============================] - 0s 17ms/step - loss: 0.4976\n",
            "Epoch 99/100\n",
            "1/1 [==============================] - 0s 10ms/step - loss: 0.4867\n",
            "Epoch 100/100\n",
            "1/1 [==============================] - 0s 9ms/step - loss: 0.9676\n"
          ]
        },
        {
          "output_type": "execute_result",
          "data": {
            "text/plain": [
              "<keras.callbacks.History at 0x7aaedc161a20>"
            ]
          },
          "metadata": {},
          "execution_count": 10
        }
      ]
    },
    {
      "cell_type": "code",
      "source": [
        "model.predict([11.])"
      ],
      "metadata": {
        "colab": {
          "base_uri": "https://localhost:8080/"
        },
        "id": "AIWbm2w6LvDG",
        "outputId": "3bac359a-1678-454c-b211-2ed304bbe82b"
      },
      "execution_count": 11,
      "outputs": [
        {
          "output_type": "stream",
          "name": "stdout",
          "text": [
            "1/1 [==============================] - 0s 158ms/step\n"
          ]
        },
        {
          "output_type": "execute_result",
          "data": {
            "text/plain": [
              "array([[21.217924]], dtype=float32)"
            ]
          },
          "metadata": {},
          "execution_count": 11
        }
      ]
    },
    {
      "cell_type": "code",
      "source": [
        "x = tf.range(-100, 100, 4)\n",
        "x"
      ],
      "metadata": {
        "colab": {
          "base_uri": "https://localhost:8080/"
        },
        "id": "fTb7sdToMIjY",
        "outputId": "79f8e9c6-a436-4f83-940e-a6bd2effa28a"
      },
      "execution_count": 12,
      "outputs": [
        {
          "output_type": "execute_result",
          "data": {
            "text/plain": [
              "<tf.Tensor: shape=(50,), dtype=int32, numpy=\n",
              "array([-100,  -96,  -92,  -88,  -84,  -80,  -76,  -72,  -68,  -64,  -60,\n",
              "        -56,  -52,  -48,  -44,  -40,  -36,  -32,  -28,  -24,  -20,  -16,\n",
              "        -12,   -8,   -4,    0,    4,    8,   12,   16,   20,   24,   28,\n",
              "         32,   36,   40,   44,   48,   52,   56,   60,   64,   68,   72,\n",
              "         76,   80,   84,   88,   92,   96], dtype=int32)>"
            ]
          },
          "metadata": {},
          "execution_count": 12
        }
      ]
    },
    {
      "cell_type": "code",
      "source": [
        "y = x + 10\n",
        "y"
      ],
      "metadata": {
        "colab": {
          "base_uri": "https://localhost:8080/"
        },
        "id": "6P7aWZ_rTP8D",
        "outputId": "d09abbd6-b0ce-41ec-cf7c-01a8b9baad8a"
      },
      "execution_count": 13,
      "outputs": [
        {
          "output_type": "execute_result",
          "data": {
            "text/plain": [
              "<tf.Tensor: shape=(50,), dtype=int32, numpy=\n",
              "array([-90, -86, -82, -78, -74, -70, -66, -62, -58, -54, -50, -46, -42,\n",
              "       -38, -34, -30, -26, -22, -18, -14, -10,  -6,  -2,   2,   6,  10,\n",
              "        14,  18,  22,  26,  30,  34,  38,  42,  46,  50,  54,  58,  62,\n",
              "        66,  70,  74,  78,  82,  86,  90,  94,  98, 102, 106], dtype=int32)>"
            ]
          },
          "metadata": {},
          "execution_count": 13
        }
      ]
    },
    {
      "cell_type": "code",
      "source": [
        "import matplotlib.pyplot as plt\n",
        "\n",
        "plt.scatter(x, y)"
      ],
      "metadata": {
        "colab": {
          "base_uri": "https://localhost:8080/",
          "height": 447
        },
        "id": "O1lSI_m0TXZl",
        "outputId": "9cf1c80e-074b-4322-e396-cba1b7bfa1a5"
      },
      "execution_count": 14,
      "outputs": [
        {
          "output_type": "execute_result",
          "data": {
            "text/plain": [
              "<matplotlib.collections.PathCollection at 0x7aaed5ea8d90>"
            ]
          },
          "metadata": {},
          "execution_count": 14
        },
        {
          "output_type": "display_data",
          "data": {
            "text/plain": [
              "<Figure size 640x480 with 1 Axes>"
            ],
            "image/png": "[encoded data removed]"
          },
          "metadata": {}
        }
      ]
    },
    {
      "cell_type": "code",
      "source": [
        "x_train = x[:40]\n",
        "x_test = x[40:]\n",
        "\n",
        "y_train = y[:40]\n",
        "y_test = y[40:]"
      ],
      "metadata": {
        "id": "xzb9gE8PTmaE"
      },
      "execution_count": 15,
      "outputs": []
    },
    {
      "cell_type": "code",
      "source": [
        "plt.figure(figsize=(10,7))\n",
        "plt.scatter(x_train, y_train, c='b', label='Training data')\n",
        "plt.scatter(x_test, y_test, c='g', label='Testing data')\n",
        "plt.legend();"
      ],
      "metadata": {
        "colab": {
          "base_uri": "https://localhost:8080/",
          "height": 468
        },
        "id": "SUp0NW49UPTA",
        "outputId": "b627e11a-1191-41ef-f230-08b0c2366486"
      },
      "execution_count": 16,
      "outputs": [
        {
          "output_type": "display_data",
          "data": {
            "text/plain": [
              "<Figure size 1000x700 with 1 Axes>"
            ],
            "image/png": "[encoded data removed]"
          },
          "metadata": {}
        }
      ]
    },
    {
      "cell_type": "code",
      "source": [
        "model = tf.keras.Sequential([\n",
        "    tf.keras.layers.Dense(100, input_shape=[1]),\n",
        "    tf.keras.layers.Dense(1, name='output_layyer')\n",
        "\n",
        "], name = 'one_of_many')\n",
        "\n",
        "model.compile(loss = tf.keras.losses.mae,\n",
        "              optimizer = tf.keras.optimizers.SGD(),\n",
        "              metrics = ['mae'])\n",
        "\n",
        "model.fit(tf.expand_dims(x_train, axis=-1), y_train, epochs=100, verbose=0)"
      ],
      "metadata": {
        "colab": {
          "base_uri": "https://localhost:8080/"
        },
        "id": "KUV0r-_jaIsW",
        "outputId": "822070e9-5e61-4e16-8df0-5495b6f0a8b4"
      },
      "execution_count": 17,
      "outputs": [
        {
          "output_type": "execute_result",
          "data": {
            "text/plain": [
              "<keras.callbacks.History at 0x7aaed67d5db0>"
            ]
          },
          "metadata": {},
          "execution_count": 17
        }
      ]
    },
    {
      "cell_type": "code",
      "source": [
        "model.summary()"
      ],
      "metadata": {
        "colab": {
          "base_uri": "https://localhost:8080/"
        },
        "id": "mhyuNfEKcOYF",
        "outputId": "0261bc4b-9801-4590-97be-1676e0bc304e"
      },
      "execution_count": 18,
      "outputs": [
        {
          "output_type": "stream",
          "name": "stdout",
          "text": [
            "Model: \"one_of_many\"\n",
            "_________________________________________________________________\n",
            " Layer (type)                Output Shape              Param #   \n",
            "=================================================================\n",
            " dense_6 (Dense)             (None, 100)               200       \n",
            "                                                                 \n",
            " output_layyer (Dense)       (None, 1)                 101       \n",
            "                                                                 \n",
            "=================================================================\n",
            "Total params: 301\n",
            "Trainable params: 301\n",
            "Non-trainable params: 0\n",
            "_________________________________________________________________\n"
          ]
        }
      ]
    },
    {
      "cell_type": "code",
      "source": [
        "from tensorflow.keras.utils import plot_model\n",
        "plot_model(model, show_shapes=True)"
      ],
      "metadata": {
        "id": "gPaA3QkCcP7b",
        "colab": {
          "base_uri": "https://localhost:8080/",
          "height": 312
        },
        "outputId": "2877e988-dc6f-4da7-c439-f3059d70b6e4"
      },
      "execution_count": 19,
      "outputs": [
        {
          "output_type": "execute_result",
          "data": {
            "image/png": "[encoded data removed]",
            "text/plain": [
              "<IPython.core.display.Image object>"
            ]
          },
          "metadata": {},
          "execution_count": 19
        }
      ]
    },
    {
      "cell_type": "code",
      "source": [
        "y_pred = model.predict(x_test)\n",
        "y_pred"
      ],
      "metadata": {
        "colab": {
          "base_uri": "https://localhost:8080/"
        },
        "id": "lJVGnhHrPKuj",
        "outputId": "f278141a-9a1b-467e-ffd5-6ffbc68797ea"
      },
      "execution_count": 20,
      "outputs": [
        {
          "output_type": "stream",
          "name": "stdout",
          "text": [
            "1/1 [==============================] - 0s 60ms/step\n"
          ]
        },
        {
          "output_type": "execute_result",
          "data": {
            "text/plain": [
              "array([[ 76.98711 ],\n",
              "       [ 82.006355],\n",
              "       [ 87.025604],\n",
              "       [ 92.044876],\n",
              "       [ 97.06413 ],\n",
              "       [102.0834  ],\n",
              "       [107.102646],\n",
              "       [112.12192 ],\n",
              "       [117.14118 ],\n",
              "       [122.16043 ]], dtype=float32)"
            ]
          },
          "metadata": {},
          "execution_count": 20
        }
      ]
    },
    {
      "cell_type": "code",
      "source": [
        "y_test"
      ],
      "metadata": {
        "colab": {
          "base_uri": "https://localhost:8080/"
        },
        "id": "olUT0plOQWQL",
        "outputId": "37dcd3df-3139-4745-f33f-48d048985613"
      },
      "execution_count": 21,
      "outputs": [
        {
          "output_type": "execute_result",
          "data": {
            "text/plain": [
              "<tf.Tensor: shape=(10,), dtype=int32, numpy=array([ 70,  74,  78,  82,  86,  90,  94,  98, 102, 106], dtype=int32)>"
            ]
          },
          "metadata": {},
          "execution_count": 21
        }
      ]
    },
    {
      "cell_type": "code",
      "source": [
        "def plot_predictions(train_data=x_train,\n",
        "                     train_labels=y_train,\n",
        "                     test_data=x_test,\n",
        "                     test_labels=y_test,\n",
        "                     predictions=y_pred):\n",
        "  '''\n",
        "  Plots training data, test_data and compares it to ground true labels\n",
        "  '''\n",
        "  plt.figure(figsize=(10,7))\n",
        "  plt.scatter(train_data, train_labels, c='b', label='Training data')\n",
        "  plt.scatter(test_data, test_labels, c='g', label='Testing data')\n",
        "  plt.scatter(test_data, predictions, c='r', label=\"Predictions\")\n",
        "  plt.legend()"
      ],
      "metadata": {
        "id": "bXvkPf3SRfsy"
      },
      "execution_count": 22,
      "outputs": []
    },
    {
      "cell_type": "code",
      "source": [
        "plot_predictions(x_train,\n",
        "                 y_train,\n",
        "                 x_test,\n",
        "                 y_test,\n",
        "                 y_pred)"
      ],
      "metadata": {
        "colab": {
          "base_uri": "https://localhost:8080/",
          "height": 463
        },
        "id": "8C5El74FScTh",
        "outputId": "d3be54bf-bf27-442f-e296-56d877de83c6"
      },
      "execution_count": 23,
      "outputs": [
        {
          "output_type": "display_data",
          "data": {
            "text/plain": [
              "<Figure size 1000x700 with 1 Axes>"
            ],
            "image/png": "[encoded data removed]"
          },
          "metadata": {}
        }
      ]
    },
    {
      "cell_type": "code",
      "source": [
        "tf.keras.metrics.mean_absolute_error(\n",
        "    y_test, tf.squeeze(y_pred)\n",
        ")"
      ],
      "metadata": {
        "colab": {
          "base_uri": "https://localhost:8080/"
        },
        "id": "o_1nAsKaS0NF",
        "outputId": "dde4cb28-1c73-4499-d5e7-4106e51f97ac"
      },
      "execution_count": 24,
      "outputs": [
        {
          "output_type": "execute_result",
          "data": {
            "text/plain": [
              "<tf.Tensor: shape=(), dtype=float32, numpy=11.573765>"
            ]
          },
          "metadata": {},
          "execution_count": 24
        }
      ]
    },
    {
      "cell_type": "code",
      "source": [
        "model.evaluate(x_test, y_test)"
      ],
      "metadata": {
        "colab": {
          "base_uri": "https://localhost:8080/"
        },
        "id": "zxMteLqsXUtn",
        "outputId": "efd3af96-6bdd-4779-a15d-b62c0fcfff36"
      },
      "execution_count": 25,
      "outputs": [
        {
          "output_type": "stream",
          "name": "stdout",
          "text": [
            "1/1 [==============================] - 0s 151ms/step - loss: 11.5738 - mae: 11.5738\n"
          ]
        },
        {
          "output_type": "execute_result",
          "data": {
            "text/plain": [
              "[11.573762893676758, 11.573762893676758]"
            ]
          },
          "metadata": {},
          "execution_count": 25
        }
      ]
    },
    {
      "cell_type": "code",
      "source": [
        "y_test"
      ],
      "metadata": {
        "colab": {
          "base_uri": "https://localhost:8080/"
        },
        "id": "MB0QxHcSXmT4",
        "outputId": "042956df-1cd8-4b2e-9861-c94e4bf5407c"
      },
      "execution_count": 26,
      "outputs": [
        {
          "output_type": "execute_result",
          "data": {
            "text/plain": [
              "<tf.Tensor: shape=(10,), dtype=int32, numpy=array([ 70,  74,  78,  82,  86,  90,  94,  98, 102, 106], dtype=int32)>"
            ]
          },
          "metadata": {},
          "execution_count": 26
        }
      ]
    },
    {
      "cell_type": "code",
      "source": [
        "tf.squeeze(y_pred)"
      ],
      "metadata": {
        "colab": {
          "base_uri": "https://localhost:8080/"
        },
        "id": "feV-m5cMY74U",
        "outputId": "f8691258-4362-409e-8321-cabeed6ad1d1"
      },
      "execution_count": 27,
      "outputs": [
        {
          "output_type": "execute_result",
          "data": {
            "text/plain": [
              "<tf.Tensor: shape=(10,), dtype=float32, numpy=\n",
              "array([ 76.98711 ,  82.006355,  87.025604,  92.044876,  97.06413 ,\n",
              "       102.0834  , 107.102646, 112.12192 , 117.14118 , 122.16043 ],\n",
              "      dtype=float32)>"
            ]
          },
          "metadata": {},
          "execution_count": 27
        }
      ]
    },
    {
      "cell_type": "code",
      "source": [
        "tf.keras.metrics.mean_squared_error(y_test, tf.squeeze(y_pred))"
      ],
      "metadata": {
        "colab": {
          "base_uri": "https://localhost:8080/"
        },
        "id": "JGLOKEm2Zz6s",
        "outputId": "37b03340-c0a6-43af-9157-03e9185e5d0b"
      },
      "execution_count": 28,
      "outputs": [
        {
          "output_type": "execute_result",
          "data": {
            "text/plain": [
              "<tf.Tensor: shape=(), dtype=float32, numpy=142.52287>"
            ]
          },
          "metadata": {},
          "execution_count": 28
        }
      ]
    },
    {
      "cell_type": "code",
      "source": [
        "def mae(y_true, y_pred):\n",
        "  return tf.metrics.mean_absolute_error(y_true, tf.squeeze(y_pred))\n",
        "\n",
        "def mse(y_true, y_pred):\n",
        "  return tf.metrics.mean_squared_error(y_true, tf.squeeze(y_pred))"
      ],
      "metadata": {
        "id": "3ASY1jUhZ6n9"
      },
      "execution_count": 29,
      "outputs": []
    },
    {
      "cell_type": "code",
      "source": [
        "tf.random.set_seed(42)\n",
        "model_1 = tf.keras.Sequential([\n",
        "    tf.keras.layers.Dense(1)\n",
        "])\n",
        "model_1.compile(loss = tf.keras.losses.mae,\n",
        "                optimizer = tf.keras.optimizers.SGD(),\n",
        "                metrics=['mae'])\n",
        "model_1.fit(tf.expand_dims(x_train, axis=-1), y_train, epochs=100)"
      ],
      "metadata": {
        "id": "LRXmrbT8aoqe",
        "colab": {
          "base_uri": "https://localhost:8080/"
        },
        "outputId": "b09f9946-1c70-467f-9dd6-675427d7fb9d"
      },
      "execution_count": 30,
      "outputs": [
        {
          "output_type": "stream",
          "name": "stdout",
          "text": [
            "Epoch 1/100\n",
            "2/2 [==============================] - 0s 11ms/step - loss: 11.5411 - mae: 11.5411\n",
            "Epoch 2/100\n",
            "2/2 [==============================] - 0s 9ms/step - loss: 8.3361 - mae: 8.3361\n",
            "Epoch 3/100\n",
            "2/2 [==============================] - 0s 9ms/step - loss: 10.4619 - mae: 10.4619\n",
            "Epoch 4/100\n",
            "2/2 [==============================] - 0s 9ms/step - loss: 12.9425 - mae: 12.9425\n",
            "Epoch 5/100\n",
            "2/2 [==============================] - 0s 7ms/step - loss: 11.9879 - mae: 11.9879\n",
            "Epoch 6/100\n",
            "2/2 [==============================] - 0s 7ms/step - loss: 9.2722 - mae: 9.2722\n",
            "Epoch 7/100\n",
            "2/2 [==============================] - 0s 8ms/step - loss: 8.4372 - mae: 8.4372\n",
            "Epoch 8/100\n",
            "2/2 [==============================] - 0s 10ms/step - loss: 9.0260 - mae: 9.0260\n",
            "Epoch 9/100\n",
            "2/2 [==============================] - 0s 6ms/step - loss: 18.4319 - mae: 18.4319\n",
            "Epoch 10/100\n",
            "2/2 [==============================] - 0s 6ms/step - loss: 9.9312 - mae: 9.9312\n",
            "Epoch 11/100\n",
            "2/2 [==============================] - 0s 10ms/step - loss: 8.3224 - mae: 8.3224\n",
            "Epoch 12/100\n",
            "2/2 [==============================] - 0s 8ms/step - loss: 10.5160 - mae: 10.5160\n",
            "Epoch 13/100\n",
            "2/2 [==============================] - 0s 8ms/step - loss: 9.7343 - mae: 9.7343\n",
            "Epoch 14/100\n",
            "2/2 [==============================] - 0s 8ms/step - loss: 15.6707 - mae: 15.6707\n",
            "Epoch 15/100\n",
            "2/2 [==============================] - 0s 7ms/step - loss: 11.6641 - mae: 11.6641\n",
            "Epoch 16/100\n",
            "2/2 [==============================] - 0s 7ms/step - loss: 8.4540 - mae: 8.4540\n",
            "Epoch 17/100\n",
            "2/2 [==============================] - 0s 8ms/step - loss: 13.4457 - mae: 13.4457\n",
            "Epoch 18/100\n",
            "2/2 [==============================] - 0s 8ms/step - loss: 11.2285 - mae: 11.2285\n",
            "Epoch 19/100\n",
            "2/2 [==============================] - 0s 7ms/step - loss: 18.2799 - mae: 18.2799\n",
            "Epoch 20/100\n",
            "2/2 [==============================] - 0s 7ms/step - loss: 14.9860 - mae: 14.9860\n",
            "Epoch 21/100\n",
            "2/2 [==============================] - 0s 9ms/step - loss: 10.8589 - mae: 10.8589\n",
            "Epoch 22/100\n",
            "2/2 [==============================] - 0s 8ms/step - loss: 8.6119 - mae: 8.6119\n",
            "Epoch 23/100\n",
            "2/2 [==============================] - 0s 7ms/step - loss: 9.6847 - mae: 9.6847\n",
            "Epoch 24/100\n",
            "2/2 [==============================] - 0s 7ms/step - loss: 8.5744 - mae: 8.5744\n",
            "Epoch 25/100\n",
            "2/2 [==============================] - 0s 8ms/step - loss: 11.5913 - mae: 11.5913\n",
            "Epoch 26/100\n",
            "2/2 [==============================] - 0s 7ms/step - loss: 15.1227 - mae: 15.1227\n",
            "Epoch 27/100\n",
            "2/2 [==============================] - 0s 5ms/step - loss: 11.8681 - mae: 11.8681\n",
            "Epoch 28/100\n",
            "2/2 [==============================] - 0s 7ms/step - loss: 13.9118 - mae: 13.9118\n",
            "Epoch 29/100\n",
            "2/2 [==============================] - 0s 7ms/step - loss: 9.5972 - mae: 9.5972\n",
            "Epoch 30/100\n",
            "2/2 [==============================] - 0s 10ms/step - loss: 17.1688 - mae: 17.1688\n",
            "Epoch 31/100\n",
            "2/2 [==============================] - 0s 9ms/step - loss: 22.8842 - mae: 22.8842\n",
            "Epoch 32/100\n",
            "2/2 [==============================] - 0s 8ms/step - loss: 7.9059 - mae: 7.9059\n",
            "Epoch 33/100\n",
            "2/2 [==============================] - 0s 8ms/step - loss: 14.1196 - mae: 14.1196\n",
            "Epoch 34/100\n",
            "2/2 [==============================] - 0s 7ms/step - loss: 12.3620 - mae: 12.3620\n",
            "Epoch 35/100\n",
            "2/2 [==============================] - 0s 9ms/step - loss: 8.2545 - mae: 8.2545\n",
            "Epoch 36/100\n",
            "2/2 [==============================] - 0s 7ms/step - loss: 10.4763 - mae: 10.4763\n",
            "Epoch 37/100\n",
            "2/2 [==============================] - 0s 7ms/step - loss: 10.1209 - mae: 10.1209\n",
            "Epoch 38/100\n",
            "2/2 [==============================] - 0s 7ms/step - loss: 11.3166 - mae: 11.3166\n",
            "Epoch 39/100\n",
            "2/2 [==============================] - 0s 7ms/step - loss: 14.7415 - mae: 14.7415\n",
            "Epoch 40/100\n",
            "2/2 [==============================] - 0s 8ms/step - loss: 12.8718 - mae: 12.8718\n",
            "Epoch 41/100\n",
            "2/2 [==============================] - 0s 10ms/step - loss: 9.2604 - mae: 9.2604\n",
            "Epoch 42/100\n",
            "2/2 [==============================] - 0s 6ms/step - loss: 10.9970 - mae: 10.9970\n",
            "Epoch 43/100\n",
            "2/2 [==============================] - 0s 7ms/step - loss: 8.3246 - mae: 8.3246\n",
            "Epoch 44/100\n",
            "2/2 [==============================] - 0s 7ms/step - loss: 13.0473 - mae: 13.0473\n",
            "Epoch 45/100\n",
            "2/2 [==============================] - 0s 7ms/step - loss: 13.6617 - mae: 13.6617\n",
            "Epoch 46/100\n",
            "2/2 [==============================] - 0s 7ms/step - loss: 8.2723 - mae: 8.2723\n",
            "Epoch 47/100\n",
            "2/2 [==============================] - 0s 7ms/step - loss: 8.7173 - mae: 8.7173\n",
            "Epoch 48/100\n",
            "2/2 [==============================] - 0s 6ms/step - loss: 10.0182 - mae: 10.0182\n",
            "Epoch 49/100\n",
            "2/2 [==============================] - 0s 9ms/step - loss: 8.5023 - mae: 8.5023\n",
            "Epoch 50/100\n",
            "2/2 [==============================] - 0s 7ms/step - loss: 9.0087 - mae: 9.0087\n",
            "Epoch 51/100\n",
            "2/2 [==============================] - 0s 7ms/step - loss: 9.3645 - mae: 9.3645\n",
            "Epoch 52/100\n",
            "2/2 [==============================] - 0s 7ms/step - loss: 14.0109 - mae: 14.0109\n",
            "Epoch 53/100\n",
            "2/2 [==============================] - 0s 7ms/step - loss: 15.4203 - mae: 15.4203\n",
            "Epoch 54/100\n",
            "2/2 [==============================] - 0s 9ms/step - loss: 10.9139 - mae: 10.9139\n",
            "Epoch 55/100\n",
            "2/2 [==============================] - 0s 7ms/step - loss: 15.4547 - mae: 15.4547\n",
            "Epoch 56/100\n",
            "2/2 [==============================] - 0s 7ms/step - loss: 9.1411 - mae: 9.1411\n",
            "Epoch 57/100\n",
            "2/2 [==============================] - 0s 7ms/step - loss: 9.6710 - mae: 9.6710\n",
            "Epoch 58/100\n",
            "2/2 [==============================] - 0s 6ms/step - loss: 8.9821 - mae: 8.9821\n",
            "Epoch 59/100\n",
            "2/2 [==============================] - 0s 7ms/step - loss: 10.2065 - mae: 10.2065\n",
            "Epoch 60/100\n",
            "2/2 [==============================] - 0s 7ms/step - loss: 8.1714 - mae: 8.1714\n",
            "Epoch 61/100\n",
            "2/2 [==============================] - 0s 7ms/step - loss: 10.0539 - mae: 10.0539\n",
            "Epoch 62/100\n",
            "2/2 [==============================] - 0s 7ms/step - loss: 7.0227 - mae: 7.0227\n",
            "Epoch 63/100\n",
            "2/2 [==============================] - 0s 8ms/step - loss: 12.6928 - mae: 12.6928\n",
            "Epoch 64/100\n",
            "2/2 [==============================] - 0s 8ms/step - loss: 12.6421 - mae: 12.6421\n",
            "Epoch 65/100\n",
            "2/2 [==============================] - 0s 8ms/step - loss: 9.4500 - mae: 9.4500\n",
            "Epoch 66/100\n",
            "2/2 [==============================] - 0s 7ms/step - loss: 11.5324 - mae: 11.5324\n",
            "Epoch 67/100\n",
            "2/2 [==============================] - 0s 7ms/step - loss: 8.0160 - mae: 8.0160\n",
            "Epoch 68/100\n",
            "2/2 [==============================] - 0s 7ms/step - loss: 8.5489 - mae: 8.5489\n",
            "Epoch 69/100\n",
            "2/2 [==============================] - 0s 6ms/step - loss: 12.2237 - mae: 12.2237\n",
            "Epoch 70/100\n",
            "2/2 [==============================] - 0s 7ms/step - loss: 8.9331 - mae: 8.9331\n",
            "Epoch 71/100\n",
            "2/2 [==============================] - 0s 6ms/step - loss: 9.9071 - mae: 9.9071\n",
            "Epoch 72/100\n",
            "2/2 [==============================] - 0s 7ms/step - loss: 9.9496 - mae: 9.9496\n",
            "Epoch 73/100\n",
            "2/2 [==============================] - 0s 8ms/step - loss: 12.4050 - mae: 12.4050\n",
            "Epoch 74/100\n",
            "2/2 [==============================] - 0s 7ms/step - loss: 10.5915 - mae: 10.5915\n",
            "Epoch 75/100\n",
            "2/2 [==============================] - 0s 9ms/step - loss: 9.6071 - mae: 9.6071\n",
            "Epoch 76/100\n",
            "2/2 [==============================] - 0s 6ms/step - loss: 11.0672 - mae: 11.0672\n",
            "Epoch 77/100\n",
            "2/2 [==============================] - 0s 7ms/step - loss: 8.2572 - mae: 8.2572\n",
            "Epoch 78/100\n",
            "2/2 [==============================] - 0s 10ms/step - loss: 8.9362 - mae: 8.9362\n",
            "Epoch 79/100\n",
            "2/2 [==============================] - 0s 7ms/step - loss: 19.8219 - mae: 19.8219\n",
            "Epoch 80/100\n",
            "2/2 [==============================] - 0s 7ms/step - loss: 17.7810 - mae: 17.7810\n",
            "Epoch 81/100\n",
            "2/2 [==============================] - 0s 7ms/step - loss: 7.0825 - mae: 7.0825\n",
            "Epoch 82/100\n",
            "2/2 [==============================] - 0s 8ms/step - loss: 10.3819 - mae: 10.3819\n",
            "Epoch 83/100\n",
            "2/2 [==============================] - 0s 8ms/step - loss: 9.8015 - mae: 9.8015\n",
            "Epoch 84/100\n",
            "2/2 [==============================] - 0s 8ms/step - loss: 7.9372 - mae: 7.9372\n",
            "Epoch 85/100\n",
            "2/2 [==============================] - 0s 8ms/step - loss: 9.4526 - mae: 9.4526\n",
            "Epoch 86/100\n",
            "2/2 [==============================] - 0s 9ms/step - loss: 9.4954 - mae: 9.4954\n",
            "Epoch 87/100\n",
            "2/2 [==============================] - 0s 8ms/step - loss: 11.4487 - mae: 11.4487\n",
            "Epoch 88/100\n",
            "2/2 [==============================] - 0s 9ms/step - loss: 9.9452 - mae: 9.9452\n",
            "Epoch 89/100\n",
            "2/2 [==============================] - 0s 8ms/step - loss: 7.2431 - mae: 7.2431\n",
            "Epoch 90/100\n",
            "2/2 [==============================] - 0s 8ms/step - loss: 12.7100 - mae: 12.7100\n",
            "Epoch 91/100\n",
            "2/2 [==============================] - 0s 8ms/step - loss: 7.3094 - mae: 7.3094\n",
            "Epoch 92/100\n",
            "2/2 [==============================] - 0s 8ms/step - loss: 7.6741 - mae: 7.6741\n",
            "Epoch 93/100\n",
            "2/2 [==============================] - 0s 7ms/step - loss: 7.1066 - mae: 7.1066\n",
            "Epoch 94/100\n",
            "2/2 [==============================] - 0s 7ms/step - loss: 12.5552 - mae: 12.5552\n",
            "Epoch 95/100\n",
            "2/2 [==============================] - 0s 7ms/step - loss: 9.9288 - mae: 9.9288\n",
            "Epoch 96/100\n",
            "2/2 [==============================] - 0s 7ms/step - loss: 9.1208 - mae: 9.1208\n",
            "Epoch 97/100\n",
            "2/2 [==============================] - 0s 10ms/step - loss: 12.0551 - mae: 12.0551\n",
            "Epoch 98/100\n",
            "2/2 [==============================] - 0s 9ms/step - loss: 9.0757 - mae: 9.0757\n",
            "Epoch 99/100\n",
            "2/2 [==============================] - 0s 10ms/step - loss: 8.4824 - mae: 8.4824\n",
            "Epoch 100/100\n",
            "2/2 [==============================] - 0s 11ms/step - loss: 14.4290 - mae: 14.4290\n"
          ]
        },
        {
          "output_type": "execute_result",
          "data": {
            "text/plain": [
              "<keras.callbacks.History at 0x7aaedc0737c0>"
            ]
          },
          "metadata": {},
          "execution_count": 30
        }
      ]
    },
    {
      "cell_type": "code",
      "source": [
        "y_preds_1 = model_1.predict(x_test)\n",
        "plot_predictions(predictions=y_preds_1)"
      ],
      "metadata": {
        "colab": {
          "base_uri": "https://localhost:8080/",
          "height": 523
        },
        "id": "qUWLmgGZmMw_",
        "outputId": "96c46f21-a979-432a-f7b3-f495bb2db758"
      },
      "execution_count": 31,
      "outputs": [
        {
          "output_type": "stream",
          "name": "stderr",
          "text": [
            "WARNING:tensorflow:5 out of the last 5 calls to <function Model.make_predict_function.<locals>.predict_function at 0x7aaed668b010> triggered tf.function retracing. Tracing is expensive and the excessive number of tracings could be due to (1) creating @tf.function repeatedly in a loop, (2) passing tensors with different shapes, (3) passing Python objects instead of tensors. For (1), please define your @tf.function outside of the loop. For (2), @tf.function has reduce_retracing=True option that can avoid unnecessary retracing. For (3), please refer to https://www.tensorflow.org/guide/function#controlling_retracing and https://www.tensorflow.org/api_docs/python/tf/function for  more details.\n"
          ]
        },
        {
          "output_type": "stream",
          "name": "stdout",
          "text": [
            "1/1 [==============================] - 0s 57ms/step\n"
          ]
        },
        {
          "output_type": "display_data",
          "data": {
            "text/plain": [
              "<Figure size 1000x700 with 1 Axes>"
            ],
            "image/png": "[encoded data removed]"
          },
          "metadata": {}
        }
      ]
    },
    {
      "cell_type": "code",
      "source": [
        "mae_1 = mae(y_test, y_preds_1)\n",
        "mse_1 = mse(y_test, y_preds_1)\n",
        "mae_1, mse_1"
      ],
      "metadata": {
        "colab": {
          "base_uri": "https://localhost:8080/"
        },
        "id": "8JQZpLcYo20L",
        "outputId": "4724e24d-f81f-444d-c68b-dce93dc4c218"
      },
      "execution_count": 32,
      "outputs": [
        {
          "output_type": "execute_result",
          "data": {
            "text/plain": [
              "(<tf.Tensor: shape=(), dtype=float32, numpy=30.631287>,\n",
              " <tf.Tensor: shape=(), dtype=float32, numpy=948.72546>)"
            ]
          },
          "metadata": {},
          "execution_count": 32
        }
      ]
    },
    {
      "cell_type": "code",
      "source": [
        "tf.random.set_seed(24)\n",
        "model_2 = tf.keras.Sequential([\n",
        "    tf.keras.layers.Dense(10, activation='relu'),\n",
        "    tf.keras.layers.Dense(1)\n",
        "])\n",
        "model_2.compile(loss = tf.keras.losses.mae,\n",
        "                optimizer = tf.keras.optimizers.SGD(),\n",
        "                metrics=['mae'])\n",
        "model_2.fit(tf.expand_dims(x_train, axis=-1), y_train, epochs=100)"
      ],
      "metadata": {
        "colab": {
          "base_uri": "https://localhost:8080/"
        },
        "id": "FMDl5RYHpMlG",
        "outputId": "687b4eed-9e4d-4b44-deea-f764b74444e9"
      },
      "execution_count": 33,
      "outputs": [
        {
          "output_type": "stream",
          "name": "stdout",
          "text": [
            "Epoch 1/100\n",
            "2/2 [==============================] - 0s 14ms/step - loss: 33.2772 - mae: 33.2772\n",
            "Epoch 2/100\n",
            "2/2 [==============================] - 0s 8ms/step - loss: 11.5682 - mae: 11.5682\n",
            "Epoch 3/100\n",
            "2/2 [==============================] - 0s 8ms/step - loss: 9.2985 - mae: 9.2985\n",
            "Epoch 4/100\n",
            "2/2 [==============================] - 0s 8ms/step - loss: 11.3494 - mae: 11.3494\n",
            "Epoch 5/100\n",
            "2/2 [==============================] - 0s 8ms/step - loss: 11.0691 - mae: 11.0691\n",
            "Epoch 6/100\n",
            "2/2 [==============================] - 0s 8ms/step - loss: 10.0465 - mae: 10.0465\n",
            "Epoch 7/100\n",
            "2/2 [==============================] - 0s 6ms/step - loss: 12.4681 - mae: 12.4681\n",
            "Epoch 8/100\n",
            "2/2 [==============================] - 0s 8ms/step - loss: 19.0918 - mae: 19.0918\n",
            "Epoch 9/100\n",
            "2/2 [==============================] - 0s 4ms/step - loss: 6.0517 - mae: 6.0517\n",
            "Epoch 10/100\n",
            "2/2 [==============================] - 0s 6ms/step - loss: 9.9489 - mae: 9.9489\n",
            "Epoch 11/100\n",
            "2/2 [==============================] - 0s 7ms/step - loss: 12.1496 - mae: 12.1496\n",
            "Epoch 12/100\n",
            "2/2 [==============================] - 0s 7ms/step - loss: 11.1295 - mae: 11.1295\n",
            "Epoch 13/100\n",
            "2/2 [==============================] - 0s 7ms/step - loss: 15.8744 - mae: 15.8744\n",
            "Epoch 14/100\n",
            "2/2 [==============================] - 0s 6ms/step - loss: 12.0568 - mae: 12.0568\n",
            "Epoch 15/100\n",
            "2/2 [==============================] - 0s 7ms/step - loss: 15.6228 - mae: 15.6228\n",
            "Epoch 16/100\n",
            "2/2 [==============================] - 0s 6ms/step - loss: 7.6706 - mae: 7.6706\n",
            "Epoch 17/100\n",
            "2/2 [==============================] - 0s 6ms/step - loss: 11.0169 - mae: 11.0169\n",
            "Epoch 18/100\n",
            "2/2 [==============================] - 0s 7ms/step - loss: 13.0217 - mae: 13.0217\n",
            "Epoch 19/100\n",
            "2/2 [==============================] - 0s 6ms/step - loss: 4.3313 - mae: 4.3313\n",
            "Epoch 20/100\n",
            "2/2 [==============================] - 0s 7ms/step - loss: 8.4755 - mae: 8.4755\n",
            "Epoch 21/100\n",
            "2/2 [==============================] - 0s 7ms/step - loss: 20.0279 - mae: 20.0279\n",
            "Epoch 22/100\n",
            "2/2 [==============================] - 0s 7ms/step - loss: 10.9606 - mae: 10.9606\n",
            "Epoch 23/100\n",
            "2/2 [==============================] - 0s 6ms/step - loss: 13.3404 - mae: 13.3404\n",
            "Epoch 24/100\n",
            "2/2 [==============================] - 0s 7ms/step - loss: 6.8202 - mae: 6.8202\n",
            "Epoch 25/100\n",
            "2/2 [==============================] - 0s 8ms/step - loss: 9.2243 - mae: 9.2243\n",
            "Epoch 26/100\n",
            "2/2 [==============================] - 0s 7ms/step - loss: 14.4035 - mae: 14.4035\n",
            "Epoch 27/100\n",
            "2/2 [==============================] - 0s 6ms/step - loss: 11.1744 - mae: 11.1744\n",
            "Epoch 28/100\n",
            "2/2 [==============================] - 0s 7ms/step - loss: 9.1875 - mae: 9.1875\n",
            "Epoch 29/100\n",
            "2/2 [==============================] - 0s 7ms/step - loss: 9.2564 - mae: 9.2564\n",
            "Epoch 30/100\n",
            "2/2 [==============================] - 0s 7ms/step - loss: 11.3900 - mae: 11.3900\n",
            "Epoch 31/100\n",
            "2/2 [==============================] - 0s 7ms/step - loss: 14.2702 - mae: 14.2702\n",
            "Epoch 32/100\n",
            "2/2 [==============================] - 0s 7ms/step - loss: 7.9424 - mae: 7.9424\n",
            "Epoch 33/100\n",
            "2/2 [==============================] - 0s 8ms/step - loss: 9.0873 - mae: 9.0873\n",
            "Epoch 34/100\n",
            "2/2 [==============================] - 0s 7ms/step - loss: 6.1895 - mae: 6.1895\n",
            "Epoch 35/100\n",
            "2/2 [==============================] - 0s 6ms/step - loss: 8.4634 - mae: 8.4634\n",
            "Epoch 36/100\n",
            "2/2 [==============================] - 0s 7ms/step - loss: 7.1952 - mae: 7.1952\n",
            "Epoch 37/100\n",
            "2/2 [==============================] - 0s 7ms/step - loss: 20.7267 - mae: 20.7267\n",
            "Epoch 38/100\n",
            "2/2 [==============================] - 0s 6ms/step - loss: 9.9895 - mae: 9.9895\n",
            "Epoch 39/100\n",
            "2/2 [==============================] - 0s 6ms/step - loss: 16.5102 - mae: 16.5102\n",
            "Epoch 40/100\n",
            "2/2 [==============================] - 0s 7ms/step - loss: 5.8926 - mae: 5.8926\n",
            "Epoch 41/100\n",
            "2/2 [==============================] - 0s 7ms/step - loss: 6.9032 - mae: 6.9032\n",
            "Epoch 42/100\n",
            "2/2 [==============================] - 0s 6ms/step - loss: 8.0507 - mae: 8.0507\n",
            "Epoch 43/100\n",
            "2/2 [==============================] - 0s 6ms/step - loss: 4.4351 - mae: 4.4351\n",
            "Epoch 44/100\n",
            "2/2 [==============================] - 0s 7ms/step - loss: 7.1405 - mae: 7.1405\n",
            "Epoch 45/100\n",
            "2/2 [==============================] - 0s 7ms/step - loss: 14.1519 - mae: 14.1519\n",
            "Epoch 46/100\n",
            "2/2 [==============================] - 0s 10ms/step - loss: 8.0988 - mae: 8.0988\n",
            "Epoch 47/100\n",
            "2/2 [==============================] - 0s 6ms/step - loss: 7.3738 - mae: 7.3738\n",
            "Epoch 48/100\n",
            "2/2 [==============================] - 0s 8ms/step - loss: 23.2681 - mae: 23.2681\n",
            "Epoch 49/100\n",
            "2/2 [==============================] - 0s 8ms/step - loss: 11.7128 - mae: 11.7128\n",
            "Epoch 50/100\n",
            "2/2 [==============================] - 0s 9ms/step - loss: 9.5302 - mae: 9.5302\n",
            "Epoch 51/100\n",
            "2/2 [==============================] - 0s 6ms/step - loss: 6.2096 - mae: 6.2096\n",
            "Epoch 52/100\n",
            "2/2 [==============================] - 0s 7ms/step - loss: 12.3777 - mae: 12.3777\n",
            "Epoch 53/100\n",
            "2/2 [==============================] - 0s 8ms/step - loss: 10.2895 - mae: 10.2895\n",
            "Epoch 54/100\n",
            "2/2 [==============================] - 0s 6ms/step - loss: 8.6966 - mae: 8.6966\n",
            "Epoch 55/100\n",
            "2/2 [==============================] - 0s 6ms/step - loss: 13.6839 - mae: 13.6839\n",
            "Epoch 56/100\n",
            "2/2 [==============================] - 0s 7ms/step - loss: 20.4517 - mae: 20.4517\n",
            "Epoch 57/100\n",
            "2/2 [==============================] - 0s 6ms/step - loss: 17.5459 - mae: 17.5459\n",
            "Epoch 58/100\n",
            "2/2 [==============================] - 0s 10ms/step - loss: 5.9344 - mae: 5.9344\n",
            "Epoch 59/100\n",
            "2/2 [==============================] - 0s 7ms/step - loss: 7.3514 - mae: 7.3514\n",
            "Epoch 60/100\n",
            "2/2 [==============================] - 0s 7ms/step - loss: 15.6203 - mae: 15.6203\n",
            "Epoch 61/100\n",
            "2/2 [==============================] - 0s 7ms/step - loss: 9.6800 - mae: 9.6800\n",
            "Epoch 62/100\n",
            "2/2 [==============================] - 0s 6ms/step - loss: 9.4141 - mae: 9.4141\n",
            "Epoch 63/100\n",
            "2/2 [==============================] - 0s 7ms/step - loss: 9.0333 - mae: 9.0333\n",
            "Epoch 64/100\n",
            "2/2 [==============================] - 0s 7ms/step - loss: 25.9058 - mae: 25.9058\n",
            "Epoch 65/100\n",
            "2/2 [==============================] - 0s 6ms/step - loss: 15.9686 - mae: 15.9686\n",
            "Epoch 66/100\n",
            "2/2 [==============================] - 0s 6ms/step - loss: 7.5186 - mae: 7.5186\n",
            "Epoch 67/100\n",
            "2/2 [==============================] - 0s 7ms/step - loss: 14.7897 - mae: 14.7897\n",
            "Epoch 68/100\n",
            "2/2 [==============================] - 0s 6ms/step - loss: 6.7346 - mae: 6.7346\n",
            "Epoch 69/100\n",
            "2/2 [==============================] - 0s 7ms/step - loss: 12.4770 - mae: 12.4770\n",
            "Epoch 70/100\n",
            "2/2 [==============================] - 0s 6ms/step - loss: 21.1365 - mae: 21.1365\n",
            "Epoch 71/100\n",
            "2/2 [==============================] - 0s 27ms/step - loss: 10.3759 - mae: 10.3759\n",
            "Epoch 72/100\n",
            "2/2 [==============================] - 0s 7ms/step - loss: 8.4197 - mae: 8.4197\n",
            "Epoch 73/100\n",
            "2/2 [==============================] - 0s 18ms/step - loss: 11.4567 - mae: 11.4567\n",
            "Epoch 74/100\n",
            "2/2 [==============================] - 0s 6ms/step - loss: 11.5601 - mae: 11.5601\n",
            "Epoch 75/100\n",
            "2/2 [==============================] - 0s 6ms/step - loss: 9.6255 - mae: 9.6255\n",
            "Epoch 76/100\n",
            "2/2 [==============================] - 0s 6ms/step - loss: 10.1815 - mae: 10.1815\n",
            "Epoch 77/100\n",
            "2/2 [==============================] - 0s 7ms/step - loss: 9.2390 - mae: 9.2390\n",
            "Epoch 78/100\n",
            "2/2 [==============================] - 0s 6ms/step - loss: 11.2451 - mae: 11.2451\n",
            "Epoch 79/100\n",
            "2/2 [==============================] - 0s 7ms/step - loss: 11.1529 - mae: 11.1529\n",
            "Epoch 80/100\n",
            "2/2 [==============================] - 0s 6ms/step - loss: 10.9001 - mae: 10.9001\n",
            "Epoch 81/100\n",
            "2/2 [==============================] - 0s 6ms/step - loss: 17.6405 - mae: 17.6405\n",
            "Epoch 82/100\n",
            "2/2 [==============================] - 0s 6ms/step - loss: 7.5065 - mae: 7.5065\n",
            "Epoch 83/100\n",
            "2/2 [==============================] - 0s 6ms/step - loss: 5.5276 - mae: 5.5276\n",
            "Epoch 84/100\n",
            "2/2 [==============================] - 0s 6ms/step - loss: 13.8661 - mae: 13.8661\n",
            "Epoch 85/100\n",
            "2/2 [==============================] - 0s 7ms/step - loss: 8.3361 - mae: 8.3361\n",
            "Epoch 86/100\n",
            "2/2 [==============================] - 0s 7ms/step - loss: 4.0787 - mae: 4.0787\n",
            "Epoch 87/100\n",
            "2/2 [==============================] - 0s 6ms/step - loss: 12.3526 - mae: 12.3526\n",
            "Epoch 88/100\n",
            "2/2 [==============================] - 0s 7ms/step - loss: 8.2823 - mae: 8.2823\n",
            "Epoch 89/100\n",
            "2/2 [==============================] - 0s 6ms/step - loss: 6.2173 - mae: 6.2173\n",
            "Epoch 90/100\n",
            "2/2 [==============================] - 0s 8ms/step - loss: 16.2104 - mae: 16.2104\n",
            "Epoch 91/100\n",
            "2/2 [==============================] - 0s 6ms/step - loss: 8.3979 - mae: 8.3979\n",
            "Epoch 92/100\n",
            "2/2 [==============================] - 0s 8ms/step - loss: 8.5080 - mae: 8.5080\n",
            "Epoch 93/100\n",
            "2/2 [==============================] - 0s 9ms/step - loss: 20.0462 - mae: 20.0462\n",
            "Epoch 94/100\n",
            "2/2 [==============================] - 0s 7ms/step - loss: 8.4615 - mae: 8.4615\n",
            "Epoch 95/100\n",
            "2/2 [==============================] - 0s 8ms/step - loss: 6.5551 - mae: 6.5551\n",
            "Epoch 96/100\n",
            "2/2 [==============================] - 0s 6ms/step - loss: 7.8444 - mae: 7.8444\n",
            "Epoch 97/100\n",
            "2/2 [==============================] - 0s 7ms/step - loss: 11.6948 - mae: 11.6948\n",
            "Epoch 98/100\n",
            "2/2 [==============================] - 0s 8ms/step - loss: 8.0089 - mae: 8.0089\n",
            "Epoch 99/100\n",
            "2/2 [==============================] - 0s 7ms/step - loss: 19.9109 - mae: 19.9109\n",
            "Epoch 100/100\n",
            "2/2 [==============================] - 0s 7ms/step - loss: 6.7418 - mae: 6.7418\n"
          ]
        },
        {
          "output_type": "execute_result",
          "data": {
            "text/plain": [
              "<keras.callbacks.History at 0x7aaed64d5630>"
            ]
          },
          "metadata": {},
          "execution_count": 33
        }
      ]
    },
    {
      "cell_type": "code",
      "source": [
        "y_preds_2 = model_2.predict(x_test)\n",
        "plot_predictions(predictions=y_preds_2)"
      ],
      "metadata": {
        "colab": {
          "base_uri": "https://localhost:8080/",
          "height": 523
        },
        "id": "QnJ-qWMOq6JM",
        "outputId": "4ac8cd51-dd5e-48c4-c790-97412a885558"
      },
      "execution_count": 34,
      "outputs": [
        {
          "output_type": "stream",
          "name": "stderr",
          "text": [
            "WARNING:tensorflow:6 out of the last 6 calls to <function Model.make_predict_function.<locals>.predict_function at 0x7aaed647af80> triggered tf.function retracing. Tracing is expensive and the excessive number of tracings could be due to (1) creating @tf.function repeatedly in a loop, (2) passing tensors with different shapes, (3) passing Python objects instead of tensors. For (1), please define your @tf.function outside of the loop. For (2), @tf.function has reduce_retracing=True option that can avoid unnecessary retracing. For (3), please refer to https://www.tensorflow.org/guide/function#controlling_retracing and https://www.tensorflow.org/api_docs/python/tf/function for  more details.\n"
          ]
        },
        {
          "output_type": "stream",
          "name": "stdout",
          "text": [
            "1/1 [==============================] - 0s 62ms/step\n"
          ]
        },
        {
          "output_type": "display_data",
          "data": {
            "text/plain": [
              "<Figure size 1000x700 with 1 Axes>"
            ],
            "image/png": "[encoded data removed]"
          },
          "metadata": {}
        }
      ]
    },
    {
      "cell_type": "code",
      "source": [
        "mae_2 = mae(y_test, y_preds_2)\n",
        "mse_2 = mse(y_test, y_preds_2)\n",
        "mae_2, mse_2"
      ],
      "metadata": {
        "colab": {
          "base_uri": "https://localhost:8080/"
        },
        "id": "pTyaXFFcrbB2",
        "outputId": "1b534165-43e3-4767-ff48-bd6c7006a470"
      },
      "execution_count": 35,
      "outputs": [
        {
          "output_type": "execute_result",
          "data": {
            "text/plain": [
              "(<tf.Tensor: shape=(), dtype=float32, numpy=4.383288>,\n",
              " <tf.Tensor: shape=(), dtype=float32, numpy=19.721087>)"
            ]
          },
          "metadata": {},
          "execution_count": 35
        }
      ]
    },
    {
      "cell_type": "code",
      "source": [
        "tf.random.set_seed(42)\n",
        "model_3 = tf.keras.Sequential([\n",
        "    tf.keras.layers.Dense(10, activation='relu'),\n",
        "    tf.keras.layers.Dense(1)\n",
        "])\n",
        "model_3.compile(loss = tf.keras.losses.mae,\n",
        "                optimizer = tf.keras.optimizers.SGD(),\n",
        "                metrics=['mae'])\n",
        "model_3.fit(tf.expand_dims(x_train, axis=-1), y_train, epochs=500)"
      ],
      "metadata": {
        "colab": {
          "base_uri": "https://localhost:8080/"
        },
        "id": "FCnf9SLfrvOk",
        "outputId": "349aaa38-2770-4e96-abbc-0295a1ebb8e7"
      },
      "execution_count": 36,
      "outputs": [
        {
          "output_type": "stream",
          "name": "stdout",
          "text": [
            "Epoch 1/500\n",
            "2/2 [==============================] - 1s 11ms/step - loss: 37.0326 - mae: 37.0326\n",
            "Epoch 2/500\n",
            "2/2 [==============================] - 0s 6ms/step - loss: 24.3274 - mae: 24.3274\n",
            "Epoch 3/500\n",
            "2/2 [==============================] - 0s 7ms/step - loss: 33.2378 - mae: 33.2378\n",
            "Epoch 4/500\n",
            "2/2 [==============================] - 0s 8ms/step - loss: 21.5625 - mae: 21.5625\n",
            "Epoch 5/500\n",
            "2/2 [==============================] - 0s 6ms/step - loss: 13.3999 - mae: 13.3999\n",
            "Epoch 6/500\n",
            "2/2 [==============================] - 0s 6ms/step - loss: 4.2837 - mae: 4.2837\n",
            "Epoch 7/500\n",
            "2/2 [==============================] - 0s 6ms/step - loss: 8.3011 - mae: 8.3011\n",
            "Epoch 8/500\n",
            "2/2 [==============================] - 0s 6ms/step - loss: 7.7878 - mae: 7.7878\n",
            "Epoch 9/500\n",
            "2/2 [==============================] - 0s 6ms/step - loss: 22.4654 - mae: 22.4654\n",
            "Epoch 10/500\n",
            "2/2 [==============================] - 0s 6ms/step - loss: 11.3600 - mae: 11.3600\n",
            "Epoch 11/500\n",
            "2/2 [==============================] - 0s 6ms/step - loss: 9.7923 - mae: 9.7923\n",
            "Epoch 12/500\n",
            "2/2 [==============================] - 0s 7ms/step - loss: 19.4967 - mae: 19.4967\n",
            "Epoch 13/500\n",
            "2/2 [==============================] - 0s 6ms/step - loss: 9.7647 - mae: 9.7647\n",
            "Epoch 14/500\n",
            "2/2 [==============================] - 0s 6ms/step - loss: 12.8461 - mae: 12.8461\n",
            "Epoch 15/500\n",
            "2/2 [==============================] - 0s 6ms/step - loss: 8.9623 - mae: 8.9623\n",
            "Epoch 16/500\n",
            "2/2 [==============================] - 0s 6ms/step - loss: 11.0933 - mae: 11.0933\n",
            "Epoch 17/500\n",
            "2/2 [==============================] - 0s 7ms/step - loss: 15.3966 - mae: 15.3966\n",
            "Epoch 18/500\n",
            "2/2 [==============================] - 0s 6ms/step - loss: 11.2296 - mae: 11.2296\n",
            "Epoch 19/500\n",
            "2/2 [==============================] - 0s 6ms/step - loss: 12.7895 - mae: 12.7895\n",
            "Epoch 20/500\n",
            "2/2 [==============================] - 0s 6ms/step - loss: 8.1791 - mae: 8.1791\n",
            "Epoch 21/500\n",
            "2/2 [==============================] - 0s 10ms/step - loss: 7.0610 - mae: 7.0610\n",
            "Epoch 22/500\n",
            "2/2 [==============================] - 0s 11ms/step - loss: 14.2101 - mae: 14.2101\n",
            "Epoch 23/500\n",
            "2/2 [==============================] - 0s 8ms/step - loss: 6.8001 - mae: 6.8001\n",
            "Epoch 24/500\n",
            "2/2 [==============================] - 0s 9ms/step - loss: 10.4574 - mae: 10.4574\n",
            "Epoch 25/500\n",
            "2/2 [==============================] - 0s 6ms/step - loss: 6.3881 - mae: 6.3881\n",
            "Epoch 26/500\n",
            "2/2 [==============================] - 0s 6ms/step - loss: 17.3156 - mae: 17.3156\n",
            "Epoch 27/500\n",
            "2/2 [==============================] - 0s 10ms/step - loss: 10.0382 - mae: 10.0382\n",
            "Epoch 28/500\n",
            "2/2 [==============================] - 0s 10ms/step - loss: 10.8176 - mae: 10.8176\n",
            "Epoch 29/500\n",
            "2/2 [==============================] - 0s 8ms/step - loss: 5.6230 - mae: 5.6230\n",
            "Epoch 30/500\n",
            "2/2 [==============================] - 0s 7ms/step - loss: 22.6894 - mae: 22.6894\n",
            "Epoch 31/500\n",
            "2/2 [==============================] - 0s 8ms/step - loss: 9.3841 - mae: 9.3841\n",
            "Epoch 32/500\n",
            "2/2 [==============================] - 0s 7ms/step - loss: 11.8009 - mae: 11.8009\n",
            "Epoch 33/500\n",
            "2/2 [==============================] - 0s 6ms/step - loss: 5.0299 - mae: 5.0299\n",
            "Epoch 34/500\n",
            "2/2 [==============================] - 0s 6ms/step - loss: 17.8530 - mae: 17.8530\n",
            "Epoch 35/500\n",
            "2/2 [==============================] - 0s 6ms/step - loss: 7.0322 - mae: 7.0322\n",
            "Epoch 36/500\n",
            "2/2 [==============================] - 0s 7ms/step - loss: 18.0750 - mae: 18.0750\n",
            "Epoch 37/500\n",
            "2/2 [==============================] - 0s 7ms/step - loss: 7.6939 - mae: 7.6939\n",
            "Epoch 38/500\n",
            "2/2 [==============================] - 0s 8ms/step - loss: 11.1751 - mae: 11.1751\n",
            "Epoch 39/500\n",
            "2/2 [==============================] - 0s 6ms/step - loss: 15.4716 - mae: 15.4716\n",
            "Epoch 40/500\n",
            "2/2 [==============================] - 0s 6ms/step - loss: 13.3681 - mae: 13.3681\n",
            "Epoch 41/500\n",
            "2/2 [==============================] - 0s 8ms/step - loss: 7.0430 - mae: 7.0430\n",
            "Epoch 42/500\n",
            "2/2 [==============================] - 0s 7ms/step - loss: 12.2225 - mae: 12.2225\n",
            "Epoch 43/500\n",
            "2/2 [==============================] - 0s 6ms/step - loss: 4.8718 - mae: 4.8718\n",
            "Epoch 44/500\n",
            "2/2 [==============================] - 0s 6ms/step - loss: 20.3350 - mae: 20.3350\n",
            "Epoch 45/500\n",
            "2/2 [==============================] - 0s 6ms/step - loss: 8.6127 - mae: 8.6127\n",
            "Epoch 46/500\n",
            "2/2 [==============================] - 0s 6ms/step - loss: 13.3293 - mae: 13.3293\n",
            "Epoch 47/500\n",
            "2/2 [==============================] - 0s 7ms/step - loss: 8.9146 - mae: 8.9146\n",
            "Epoch 48/500\n",
            "2/2 [==============================] - 0s 7ms/step - loss: 10.6348 - mae: 10.6348\n",
            "Epoch 49/500\n",
            "2/2 [==============================] - 0s 7ms/step - loss: 9.2910 - mae: 9.2910\n",
            "Epoch 50/500\n",
            "2/2 [==============================] - 0s 7ms/step - loss: 12.5556 - mae: 12.5556\n",
            "Epoch 51/500\n",
            "2/2 [==============================] - 0s 8ms/step - loss: 9.0602 - mae: 9.0602\n",
            "Epoch 52/500\n",
            "2/2 [==============================] - 0s 6ms/step - loss: 18.4907 - mae: 18.4907\n",
            "Epoch 53/500\n",
            "2/2 [==============================] - 0s 6ms/step - loss: 8.4502 - mae: 8.4502\n",
            "Epoch 54/500\n",
            "2/2 [==============================] - 0s 6ms/step - loss: 14.2550 - mae: 14.2550\n",
            "Epoch 55/500\n",
            "2/2 [==============================] - 0s 6ms/step - loss: 21.8277 - mae: 21.8277\n",
            "Epoch 56/500\n",
            "2/2 [==============================] - 0s 10ms/step - loss: 13.2341 - mae: 13.2341\n",
            "Epoch 57/500\n",
            "2/2 [==============================] - 0s 9ms/step - loss: 6.6610 - mae: 6.6610\n",
            "Epoch 58/500\n",
            "2/2 [==============================] - 0s 10ms/step - loss: 6.2039 - mae: 6.2039\n",
            "Epoch 59/500\n",
            "2/2 [==============================] - 0s 6ms/step - loss: 13.1280 - mae: 13.1280\n",
            "Epoch 60/500\n",
            "2/2 [==============================] - 0s 8ms/step - loss: 8.5443 - mae: 8.5443\n",
            "Epoch 61/500\n",
            "2/2 [==============================] - 0s 8ms/step - loss: 12.3817 - mae: 12.3817\n",
            "Epoch 62/500\n",
            "2/2 [==============================] - 0s 8ms/step - loss: 15.5178 - mae: 15.5178\n",
            "Epoch 63/500\n",
            "2/2 [==============================] - 0s 8ms/step - loss: 9.5253 - mae: 9.5253\n",
            "Epoch 64/500\n",
            "2/2 [==============================] - 0s 10ms/step - loss: 8.1258 - mae: 8.1258\n",
            "Epoch 65/500\n",
            "2/2 [==============================] - 0s 10ms/step - loss: 6.9139 - mae: 6.9139\n",
            "Epoch 66/500\n",
            "2/2 [==============================] - 0s 7ms/step - loss: 15.6494 - mae: 15.6494\n",
            "Epoch 67/500\n",
            "2/2 [==============================] - 0s 7ms/step - loss: 10.6898 - mae: 10.6898\n",
            "Epoch 68/500\n",
            "2/2 [==============================] - 0s 6ms/step - loss: 7.3728 - mae: 7.3728\n",
            "Epoch 69/500\n",
            "2/2 [==============================] - 0s 7ms/step - loss: 14.9354 - mae: 14.9354\n",
            "Epoch 70/500\n",
            "2/2 [==============================] - 0s 7ms/step - loss: 7.9862 - mae: 7.9862\n",
            "Epoch 71/500\n",
            "2/2 [==============================] - 0s 7ms/step - loss: 9.9067 - mae: 9.9067\n",
            "Epoch 72/500\n",
            "2/2 [==============================] - 0s 13ms/step - loss: 12.3811 - mae: 12.3811\n",
            "Epoch 73/500\n",
            "2/2 [==============================] - 0s 8ms/step - loss: 11.6350 - mae: 11.6350\n",
            "Epoch 74/500\n",
            "2/2 [==============================] - 0s 9ms/step - loss: 23.0999 - mae: 23.0999\n",
            "Epoch 75/500\n",
            "2/2 [==============================] - 0s 9ms/step - loss: 7.2740 - mae: 7.2740\n",
            "Epoch 76/500\n",
            "2/2 [==============================] - 0s 7ms/step - loss: 9.4228 - mae: 9.4228\n",
            "Epoch 77/500\n",
            "2/2 [==============================] - 0s 7ms/step - loss: 10.9226 - mae: 10.9226\n",
            "Epoch 78/500\n",
            "2/2 [==============================] - 0s 6ms/step - loss: 15.1350 - mae: 15.1350\n",
            "Epoch 79/500\n",
            "2/2 [==============================] - 0s 6ms/step - loss: 18.3301 - mae: 18.3301\n",
            "Epoch 80/500\n",
            "2/2 [==============================] - 0s 7ms/step - loss: 17.5758 - mae: 17.5758\n",
            "Epoch 81/500\n",
            "2/2 [==============================] - 0s 6ms/step - loss: 7.5117 - mae: 7.5117\n",
            "Epoch 82/500\n",
            "2/2 [==============================] - 0s 6ms/step - loss: 15.8922 - mae: 15.8922\n",
            "Epoch 83/500\n",
            "2/2 [==============================] - 0s 6ms/step - loss: 7.6278 - mae: 7.6278\n",
            "Epoch 84/500\n",
            "2/2 [==============================] - 0s 6ms/step - loss: 6.5203 - mae: 6.5203\n",
            "Epoch 85/500\n",
            "2/2 [==============================] - 0s 11ms/step - loss: 16.1193 - mae: 16.1193\n",
            "Epoch 86/500\n",
            "2/2 [==============================] - 0s 5ms/step - loss: 14.6959 - mae: 14.6959\n",
            "Epoch 87/500\n",
            "2/2 [==============================] - 0s 6ms/step - loss: 12.5790 - mae: 12.5790\n",
            "Epoch 88/500\n",
            "2/2 [==============================] - 0s 8ms/step - loss: 10.8140 - mae: 10.8140\n",
            "Epoch 89/500\n",
            "2/2 [==============================] - 0s 7ms/step - loss: 5.5627 - mae: 5.5627\n",
            "Epoch 90/500\n",
            "2/2 [==============================] - 0s 7ms/step - loss: 16.2413 - mae: 16.2413\n",
            "Epoch 91/500\n",
            "2/2 [==============================] - 0s 7ms/step - loss: 11.1226 - mae: 11.1226\n",
            "Epoch 92/500\n",
            "2/2 [==============================] - 0s 6ms/step - loss: 7.2933 - mae: 7.2933\n",
            "Epoch 93/500\n",
            "2/2 [==============================] - 0s 6ms/step - loss: 10.2955 - mae: 10.2955\n",
            "Epoch 94/500\n",
            "2/2 [==============================] - 0s 7ms/step - loss: 4.3243 - mae: 4.3243\n",
            "Epoch 95/500\n",
            "2/2 [==============================] - 0s 6ms/step - loss: 10.5605 - mae: 10.5605\n",
            "Epoch 96/500\n",
            "2/2 [==============================] - 0s 6ms/step - loss: 10.5580 - mae: 10.5580\n",
            "Epoch 97/500\n",
            "2/2 [==============================] - 0s 8ms/step - loss: 12.6917 - mae: 12.6917\n",
            "Epoch 98/500\n",
            "2/2 [==============================] - 0s 8ms/step - loss: 7.7545 - mae: 7.7545\n",
            "Epoch 99/500\n",
            "2/2 [==============================] - 0s 9ms/step - loss: 8.7928 - mae: 8.7928\n",
            "Epoch 100/500\n",
            "2/2 [==============================] - 0s 7ms/step - loss: 17.0113 - mae: 17.0113\n",
            "Epoch 101/500\n",
            "2/2 [==============================] - 0s 7ms/step - loss: 10.6523 - mae: 10.6523\n",
            "Epoch 102/500\n",
            "2/2 [==============================] - 0s 7ms/step - loss: 6.7553 - mae: 6.7553\n",
            "Epoch 103/500\n",
            "2/2 [==============================] - 0s 8ms/step - loss: 7.3080 - mae: 7.3080\n",
            "Epoch 104/500\n",
            "2/2 [==============================] - 0s 6ms/step - loss: 17.6110 - mae: 17.6110\n",
            "Epoch 105/500\n",
            "2/2 [==============================] - 0s 7ms/step - loss: 6.2934 - mae: 6.2934\n",
            "Epoch 106/500\n",
            "2/2 [==============================] - 0s 7ms/step - loss: 7.8158 - mae: 7.8158\n",
            "Epoch 107/500\n",
            "2/2 [==============================] - 0s 6ms/step - loss: 17.0180 - mae: 17.0180\n",
            "Epoch 108/500\n",
            "2/2 [==============================] - 0s 10ms/step - loss: 9.0802 - mae: 9.0802\n",
            "Epoch 109/500\n",
            "2/2 [==============================] - 0s 7ms/step - loss: 4.7811 - mae: 4.7811\n",
            "Epoch 110/500\n",
            "2/2 [==============================] - 0s 7ms/step - loss: 10.0859 - mae: 10.0859\n",
            "Epoch 111/500\n",
            "2/2 [==============================] - 0s 11ms/step - loss: 11.6201 - mae: 11.6201\n",
            "Epoch 112/500\n",
            "2/2 [==============================] - 0s 7ms/step - loss: 5.9852 - mae: 5.9852\n",
            "Epoch 113/500\n",
            "2/2 [==============================] - 0s 10ms/step - loss: 12.3714 - mae: 12.3714\n",
            "Epoch 114/500\n",
            "2/2 [==============================] - 0s 12ms/step - loss: 16.4223 - mae: 16.4223\n",
            "Epoch 115/500\n",
            "2/2 [==============================] - 0s 7ms/step - loss: 11.9396 - mae: 11.9396\n",
            "Epoch 116/500\n",
            "2/2 [==============================] - 0s 8ms/step - loss: 7.2126 - mae: 7.2126\n",
            "Epoch 117/500\n",
            "2/2 [==============================] - 0s 7ms/step - loss: 9.2048 - mae: 9.2048\n",
            "Epoch 118/500\n",
            "2/2 [==============================] - 0s 10ms/step - loss: 9.8435 - mae: 9.8435\n",
            "Epoch 119/500\n",
            "2/2 [==============================] - 0s 7ms/step - loss: 7.8926 - mae: 7.8926\n",
            "Epoch 120/500\n",
            "2/2 [==============================] - 0s 6ms/step - loss: 9.1273 - mae: 9.1273\n",
            "Epoch 121/500\n",
            "2/2 [==============================] - 0s 6ms/step - loss: 8.6847 - mae: 8.6847\n",
            "Epoch 122/500\n",
            "2/2 [==============================] - 0s 6ms/step - loss: 16.2253 - mae: 16.2253\n",
            "Epoch 123/500\n",
            "2/2 [==============================] - 0s 7ms/step - loss: 22.8154 - mae: 22.8154\n",
            "Epoch 124/500\n",
            "2/2 [==============================] - 0s 7ms/step - loss: 24.1065 - mae: 24.1065\n",
            "Epoch 125/500\n",
            "2/2 [==============================] - 0s 6ms/step - loss: 7.8987 - mae: 7.8987\n",
            "Epoch 126/500\n",
            "2/2 [==============================] - 0s 6ms/step - loss: 9.1694 - mae: 9.1694\n",
            "Epoch 127/500\n",
            "2/2 [==============================] - 0s 8ms/step - loss: 11.3721 - mae: 11.3721\n",
            "Epoch 128/500\n",
            "2/2 [==============================] - 0s 7ms/step - loss: 13.6423 - mae: 13.6423\n",
            "Epoch 129/500\n",
            "2/2 [==============================] - 0s 7ms/step - loss: 9.9271 - mae: 9.9271\n",
            "Epoch 130/500\n",
            "2/2 [==============================] - 0s 6ms/step - loss: 9.4683 - mae: 9.4683\n",
            "Epoch 131/500\n",
            "2/2 [==============================] - 0s 7ms/step - loss: 5.4564 - mae: 5.4564\n",
            "Epoch 132/500\n",
            "2/2 [==============================] - 0s 6ms/step - loss: 11.6831 - mae: 11.6831\n",
            "Epoch 133/500\n",
            "2/2 [==============================] - 0s 7ms/step - loss: 3.9078 - mae: 3.9078\n",
            "Epoch 134/500\n",
            "2/2 [==============================] - 0s 6ms/step - loss: 11.1949 - mae: 11.1949\n",
            "Epoch 135/500\n",
            "2/2 [==============================] - 0s 6ms/step - loss: 6.5637 - mae: 6.5637\n",
            "Epoch 136/500\n",
            "2/2 [==============================] - 0s 6ms/step - loss: 12.1517 - mae: 12.1517\n",
            "Epoch 137/500\n",
            "2/2 [==============================] - 0s 6ms/step - loss: 14.4368 - mae: 14.4368\n",
            "Epoch 138/500\n",
            "2/2 [==============================] - 0s 6ms/step - loss: 9.7466 - mae: 9.7466\n",
            "Epoch 139/500\n",
            "2/2 [==============================] - 0s 6ms/step - loss: 6.4760 - mae: 6.4760\n",
            "Epoch 140/500\n",
            "2/2 [==============================] - 0s 6ms/step - loss: 13.0215 - mae: 13.0215\n",
            "Epoch 141/500\n",
            "2/2 [==============================] - 0s 6ms/step - loss: 12.1116 - mae: 12.1116\n",
            "Epoch 142/500\n",
            "2/2 [==============================] - 0s 6ms/step - loss: 15.9875 - mae: 15.9875\n",
            "Epoch 143/500\n",
            "2/2 [==============================] - 0s 6ms/step - loss: 14.4910 - mae: 14.4910\n",
            "Epoch 144/500\n",
            "2/2 [==============================] - 0s 6ms/step - loss: 8.7387 - mae: 8.7387\n",
            "Epoch 145/500\n",
            "2/2 [==============================] - 0s 6ms/step - loss: 19.5204 - mae: 19.5204\n",
            "Epoch 146/500\n",
            "2/2 [==============================] - 0s 6ms/step - loss: 5.5805 - mae: 5.5805\n",
            "Epoch 147/500\n",
            "2/2 [==============================] - 0s 9ms/step - loss: 8.4971 - mae: 8.4971\n",
            "Epoch 148/500\n",
            "2/2 [==============================] - 0s 6ms/step - loss: 4.6036 - mae: 4.6036\n",
            "Epoch 149/500\n",
            "2/2 [==============================] - 0s 6ms/step - loss: 11.2328 - mae: 11.2328\n",
            "Epoch 150/500\n",
            "2/2 [==============================] - 0s 6ms/step - loss: 8.6679 - mae: 8.6679\n",
            "Epoch 151/500\n",
            "2/2 [==============================] - 0s 6ms/step - loss: 20.0042 - mae: 20.0042\n",
            "Epoch 152/500\n",
            "2/2 [==============================] - 0s 6ms/step - loss: 7.3770 - mae: 7.3770\n",
            "Epoch 153/500\n",
            "2/2 [==============================] - 0s 6ms/step - loss: 16.1376 - mae: 16.1376\n",
            "Epoch 154/500\n",
            "2/2 [==============================] - 0s 6ms/step - loss: 4.7222 - mae: 4.7222\n",
            "Epoch 155/500\n",
            "2/2 [==============================] - 0s 7ms/step - loss: 12.6433 - mae: 12.6433\n",
            "Epoch 156/500\n",
            "2/2 [==============================] - 0s 7ms/step - loss: 19.5834 - mae: 19.5834\n",
            "Epoch 157/500\n",
            "2/2 [==============================] - 0s 6ms/step - loss: 19.7783 - mae: 19.7783\n",
            "Epoch 158/500\n",
            "2/2 [==============================] - 0s 6ms/step - loss: 13.4156 - mae: 13.4156\n",
            "Epoch 159/500\n",
            "2/2 [==============================] - 0s 6ms/step - loss: 9.3574 - mae: 9.3574\n",
            "Epoch 160/500\n",
            "2/2 [==============================] - 0s 6ms/step - loss: 15.4333 - mae: 15.4333\n",
            "Epoch 161/500\n",
            "2/2 [==============================] - 0s 6ms/step - loss: 12.2225 - mae: 12.2225\n",
            "Epoch 162/500\n",
            "2/2 [==============================] - 0s 6ms/step - loss: 12.9846 - mae: 12.9846\n",
            "Epoch 163/500\n",
            "2/2 [==============================] - 0s 6ms/step - loss: 13.2161 - mae: 13.2161\n",
            "Epoch 164/500\n",
            "2/2 [==============================] - 0s 6ms/step - loss: 8.3416 - mae: 8.3416\n",
            "Epoch 165/500\n",
            "2/2 [==============================] - 0s 7ms/step - loss: 11.4588 - mae: 11.4588\n",
            "Epoch 166/500\n",
            "2/2 [==============================] - 0s 6ms/step - loss: 16.9334 - mae: 16.9334\n",
            "Epoch 167/500\n",
            "2/2 [==============================] - 0s 6ms/step - loss: 15.6935 - mae: 15.6935\n",
            "Epoch 168/500\n",
            "2/2 [==============================] - 0s 6ms/step - loss: 4.0062 - mae: 4.0062\n",
            "Epoch 169/500\n",
            "2/2 [==============================] - 0s 6ms/step - loss: 16.2821 - mae: 16.2821\n",
            "Epoch 170/500\n",
            "2/2 [==============================] - 0s 6ms/step - loss: 7.6587 - mae: 7.6587\n",
            "Epoch 171/500\n",
            "2/2 [==============================] - 0s 8ms/step - loss: 5.2689 - mae: 5.2689\n",
            "Epoch 172/500\n",
            "2/2 [==============================] - 0s 7ms/step - loss: 12.9914 - mae: 12.9914\n",
            "Epoch 173/500\n",
            "2/2 [==============================] - 0s 9ms/step - loss: 17.5514 - mae: 17.5514\n",
            "Epoch 174/500\n",
            "2/2 [==============================] - 0s 6ms/step - loss: 5.8446 - mae: 5.8446\n",
            "Epoch 175/500\n",
            "2/2 [==============================] - 0s 7ms/step - loss: 18.1343 - mae: 18.1343\n",
            "Epoch 176/500\n",
            "2/2 [==============================] - 0s 6ms/step - loss: 5.6547 - mae: 5.6547\n",
            "Epoch 177/500\n",
            "2/2 [==============================] - 0s 10ms/step - loss: 9.2326 - mae: 9.2326\n",
            "Epoch 178/500\n",
            "2/2 [==============================] - 0s 6ms/step - loss: 14.8053 - mae: 14.8053\n",
            "Epoch 179/500\n",
            "2/2 [==============================] - 0s 7ms/step - loss: 10.7950 - mae: 10.7950\n",
            "Epoch 180/500\n",
            "2/2 [==============================] - 0s 6ms/step - loss: 13.2062 - mae: 13.2062\n",
            "Epoch 181/500\n",
            "2/2 [==============================] - 0s 9ms/step - loss: 12.3451 - mae: 12.3451\n",
            "Epoch 182/500\n",
            "2/2 [==============================] - 0s 9ms/step - loss: 11.3629 - mae: 11.3629\n",
            "Epoch 183/500\n",
            "2/2 [==============================] - 0s 6ms/step - loss: 8.7658 - mae: 8.7658\n",
            "Epoch 184/500\n",
            "2/2 [==============================] - 0s 6ms/step - loss: 24.2253 - mae: 24.2253\n",
            "Epoch 185/500\n",
            "2/2 [==============================] - 0s 6ms/step - loss: 15.0923 - mae: 15.0923\n",
            "Epoch 186/500\n",
            "2/2 [==============================] - 0s 9ms/step - loss: 13.1804 - mae: 13.1804\n",
            "Epoch 187/500\n",
            "2/2 [==============================] - 0s 9ms/step - loss: 9.0353 - mae: 9.0353\n",
            "Epoch 188/500\n",
            "2/2 [==============================] - 0s 7ms/step - loss: 19.5130 - mae: 19.5130\n",
            "Epoch 189/500\n",
            "2/2 [==============================] - 0s 7ms/step - loss: 9.5177 - mae: 9.5177\n",
            "Epoch 190/500\n",
            "2/2 [==============================] - 0s 10ms/step - loss: 12.1803 - mae: 12.1803\n",
            "Epoch 191/500\n",
            "2/2 [==============================] - 0s 8ms/step - loss: 9.2030 - mae: 9.2030\n",
            "Epoch 192/500\n",
            "2/2 [==============================] - 0s 6ms/step - loss: 8.6099 - mae: 8.6099\n",
            "Epoch 193/500\n",
            "2/2 [==============================] - 0s 6ms/step - loss: 20.5629 - mae: 20.5629\n",
            "Epoch 194/500\n",
            "2/2 [==============================] - 0s 7ms/step - loss: 10.6205 - mae: 10.6205\n",
            "Epoch 195/500\n",
            "2/2 [==============================] - 0s 6ms/step - loss: 8.9971 - mae: 8.9971\n",
            "Epoch 196/500\n",
            "2/2 [==============================] - 0s 6ms/step - loss: 15.6243 - mae: 15.6243\n",
            "Epoch 197/500\n",
            "2/2 [==============================] - 0s 12ms/step - loss: 6.3567 - mae: 6.3567\n",
            "Epoch 198/500\n",
            "2/2 [==============================] - 0s 6ms/step - loss: 8.0046 - mae: 8.0046\n",
            "Epoch 199/500\n",
            "2/2 [==============================] - 0s 6ms/step - loss: 17.9852 - mae: 17.9852\n",
            "Epoch 200/500\n",
            "2/2 [==============================] - 0s 6ms/step - loss: 7.1102 - mae: 7.1102\n",
            "Epoch 201/500\n",
            "2/2 [==============================] - 0s 6ms/step - loss: 8.9427 - mae: 8.9427\n",
            "Epoch 202/500\n",
            "2/2 [==============================] - 0s 6ms/step - loss: 19.7851 - mae: 19.7851\n",
            "Epoch 203/500\n",
            "2/2 [==============================] - 0s 6ms/step - loss: 7.4370 - mae: 7.4370\n",
            "Epoch 204/500\n",
            "2/2 [==============================] - 0s 6ms/step - loss: 15.7410 - mae: 15.7410\n",
            "Epoch 205/500\n",
            "2/2 [==============================] - 0s 6ms/step - loss: 11.7972 - mae: 11.7972\n",
            "Epoch 206/500\n",
            "2/2 [==============================] - 0s 6ms/step - loss: 8.5776 - mae: 8.5776\n",
            "Epoch 207/500\n",
            "2/2 [==============================] - 0s 6ms/step - loss: 13.3246 - mae: 13.3246\n",
            "Epoch 208/500\n",
            "2/2 [==============================] - 0s 6ms/step - loss: 18.5484 - mae: 18.5484\n",
            "Epoch 209/500\n",
            "2/2 [==============================] - 0s 6ms/step - loss: 14.4759 - mae: 14.4759\n",
            "Epoch 210/500\n",
            "2/2 [==============================] - 0s 7ms/step - loss: 20.4995 - mae: 20.4995\n",
            "Epoch 211/500\n",
            "2/2 [==============================] - 0s 6ms/step - loss: 16.4606 - mae: 16.4606\n",
            "Epoch 212/500\n",
            "2/2 [==============================] - 0s 6ms/step - loss: 10.1796 - mae: 10.1796\n",
            "Epoch 213/500\n",
            "2/2 [==============================] - 0s 6ms/step - loss: 8.4695 - mae: 8.4695\n",
            "Epoch 214/500\n",
            "2/2 [==============================] - 0s 5ms/step - loss: 12.9203 - mae: 12.9203\n",
            "Epoch 215/500\n",
            "2/2 [==============================] - 0s 6ms/step - loss: 18.9087 - mae: 18.9087\n",
            "Epoch 216/500\n",
            "2/2 [==============================] - 0s 6ms/step - loss: 7.3608 - mae: 7.3608\n",
            "Epoch 217/500\n",
            "2/2 [==============================] - 0s 6ms/step - loss: 16.6640 - mae: 16.6640\n",
            "Epoch 218/500\n",
            "2/2 [==============================] - 0s 6ms/step - loss: 9.6808 - mae: 9.6808\n",
            "Epoch 219/500\n",
            "2/2 [==============================] - 0s 6ms/step - loss: 6.1947 - mae: 6.1947\n",
            "Epoch 220/500\n",
            "2/2 [==============================] - 0s 6ms/step - loss: 6.3314 - mae: 6.3314\n",
            "Epoch 221/500\n",
            "2/2 [==============================] - 0s 6ms/step - loss: 24.6973 - mae: 24.6973\n",
            "Epoch 222/500\n",
            "2/2 [==============================] - 0s 6ms/step - loss: 16.8491 - mae: 16.8491\n",
            "Epoch 223/500\n",
            "2/2 [==============================] - 0s 6ms/step - loss: 8.0202 - mae: 8.0202\n",
            "Epoch 224/500\n",
            "2/2 [==============================] - 0s 6ms/step - loss: 6.9273 - mae: 6.9273\n",
            "Epoch 225/500\n",
            "2/2 [==============================] - 0s 6ms/step - loss: 15.5171 - mae: 15.5171\n",
            "Epoch 226/500\n",
            "2/2 [==============================] - 0s 6ms/step - loss: 10.5066 - mae: 10.5066\n",
            "Epoch 227/500\n",
            "2/2 [==============================] - 0s 7ms/step - loss: 8.0365 - mae: 8.0365\n",
            "Epoch 228/500\n",
            "2/2 [==============================] - 0s 6ms/step - loss: 8.5979 - mae: 8.5979\n",
            "Epoch 229/500\n",
            "2/2 [==============================] - 0s 6ms/step - loss: 9.8430 - mae: 9.8430\n",
            "Epoch 230/500\n",
            "2/2 [==============================] - 0s 6ms/step - loss: 10.0068 - mae: 10.0068\n",
            "Epoch 231/500\n",
            "2/2 [==============================] - 0s 6ms/step - loss: 9.8194 - mae: 9.8194\n",
            "Epoch 232/500\n",
            "2/2 [==============================] - 0s 6ms/step - loss: 13.4095 - mae: 13.4095\n",
            "Epoch 233/500\n",
            "2/2 [==============================] - 0s 6ms/step - loss: 17.7788 - mae: 17.7788\n",
            "Epoch 234/500\n",
            "2/2 [==============================] - 0s 6ms/step - loss: 14.0902 - mae: 14.0902\n",
            "Epoch 235/500\n",
            "2/2 [==============================] - 0s 6ms/step - loss: 9.4531 - mae: 9.4531\n",
            "Epoch 236/500\n",
            "2/2 [==============================] - 0s 6ms/step - loss: 8.2664 - mae: 8.2664\n",
            "Epoch 237/500\n",
            "2/2 [==============================] - 0s 7ms/step - loss: 9.9768 - mae: 9.9768\n",
            "Epoch 238/500\n",
            "2/2 [==============================] - 0s 6ms/step - loss: 8.6860 - mae: 8.6860\n",
            "Epoch 239/500\n",
            "2/2 [==============================] - 0s 6ms/step - loss: 13.6580 - mae: 13.6580\n",
            "Epoch 240/500\n",
            "2/2 [==============================] - 0s 6ms/step - loss: 10.1304 - mae: 10.1304\n",
            "Epoch 241/500\n",
            "2/2 [==============================] - 0s 6ms/step - loss: 7.9974 - mae: 7.9974\n",
            "Epoch 242/500\n",
            "2/2 [==============================] - 0s 6ms/step - loss: 10.5824 - mae: 10.5824\n",
            "Epoch 243/500\n",
            "2/2 [==============================] - 0s 7ms/step - loss: 18.1554 - mae: 18.1554\n",
            "Epoch 244/500\n",
            "2/2 [==============================] - 0s 6ms/step - loss: 8.9893 - mae: 8.9893\n",
            "Epoch 245/500\n",
            "2/2 [==============================] - 0s 6ms/step - loss: 11.4687 - mae: 11.4687\n",
            "Epoch 246/500\n",
            "2/2 [==============================] - 0s 6ms/step - loss: 10.8916 - mae: 10.8916\n",
            "Epoch 247/500\n",
            "2/2 [==============================] - 0s 6ms/step - loss: 19.8595 - mae: 19.8595\n",
            "Epoch 248/500\n",
            "2/2 [==============================] - 0s 6ms/step - loss: 5.7470 - mae: 5.7470\n",
            "Epoch 249/500\n",
            "2/2 [==============================] - 0s 10ms/step - loss: 9.0059 - mae: 9.0059\n",
            "Epoch 250/500\n",
            "2/2 [==============================] - 0s 6ms/step - loss: 17.4423 - mae: 17.4423\n",
            "Epoch 251/500\n",
            "2/2 [==============================] - 0s 6ms/step - loss: 4.3709 - mae: 4.3709\n",
            "Epoch 252/500\n",
            "2/2 [==============================] - 0s 7ms/step - loss: 23.0317 - mae: 23.0317\n",
            "Epoch 253/500\n",
            "2/2 [==============================] - 0s 6ms/step - loss: 11.9254 - mae: 11.9254\n",
            "Epoch 254/500\n",
            "2/2 [==============================] - 0s 6ms/step - loss: 16.0506 - mae: 16.0506\n",
            "Epoch 255/500\n",
            "2/2 [==============================] - 0s 7ms/step - loss: 18.1189 - mae: 18.1189\n",
            "Epoch 256/500\n",
            "2/2 [==============================] - 0s 6ms/step - loss: 9.9198 - mae: 9.9198\n",
            "Epoch 257/500\n",
            "2/2 [==============================] - 0s 6ms/step - loss: 10.2661 - mae: 10.2661\n",
            "Epoch 258/500\n",
            "2/2 [==============================] - 0s 6ms/step - loss: 8.6814 - mae: 8.6814\n",
            "Epoch 259/500\n",
            "2/2 [==============================] - 0s 6ms/step - loss: 17.0656 - mae: 17.0656\n",
            "Epoch 260/500\n",
            "2/2 [==============================] - 0s 6ms/step - loss: 13.7658 - mae: 13.7658\n",
            "Epoch 261/500\n",
            "2/2 [==============================] - 0s 8ms/step - loss: 10.0018 - mae: 10.0018\n",
            "Epoch 262/500\n",
            "2/2 [==============================] - 0s 7ms/step - loss: 14.3388 - mae: 14.3388\n",
            "Epoch 263/500\n",
            "2/2 [==============================] - 0s 9ms/step - loss: 7.3667 - mae: 7.3667\n",
            "Epoch 264/500\n",
            "2/2 [==============================] - 0s 7ms/step - loss: 13.9292 - mae: 13.9292\n",
            "Epoch 265/500\n",
            "2/2 [==============================] - 0s 7ms/step - loss: 6.5667 - mae: 6.5667\n",
            "Epoch 266/500\n",
            "2/2 [==============================] - 0s 7ms/step - loss: 12.1045 - mae: 12.1045\n",
            "Epoch 267/500\n",
            "2/2 [==============================] - 0s 6ms/step - loss: 8.8161 - mae: 8.8161\n",
            "Epoch 268/500\n",
            "2/2 [==============================] - 0s 11ms/step - loss: 15.5479 - mae: 15.5479\n",
            "Epoch 269/500\n",
            "2/2 [==============================] - 0s 9ms/step - loss: 15.4603 - mae: 15.4603\n",
            "Epoch 270/500\n",
            "2/2 [==============================] - 0s 8ms/step - loss: 8.5406 - mae: 8.5406\n",
            "Epoch 271/500\n",
            "2/2 [==============================] - 0s 6ms/step - loss: 12.0214 - mae: 12.0214\n",
            "Epoch 272/500\n",
            "2/2 [==============================] - 0s 6ms/step - loss: 19.4938 - mae: 19.4938\n",
            "Epoch 273/500\n",
            "2/2 [==============================] - 0s 7ms/step - loss: 9.2463 - mae: 9.2463\n",
            "Epoch 274/500\n",
            "2/2 [==============================] - 0s 7ms/step - loss: 7.1438 - mae: 7.1438\n",
            "Epoch 275/500\n",
            "2/2 [==============================] - 0s 6ms/step - loss: 23.0317 - mae: 23.0317\n",
            "Epoch 276/500\n",
            "2/2 [==============================] - 0s 7ms/step - loss: 12.3534 - mae: 12.3534\n",
            "Epoch 277/500\n",
            "2/2 [==============================] - 0s 7ms/step - loss: 22.7719 - mae: 22.7719\n",
            "Epoch 278/500\n",
            "2/2 [==============================] - 0s 7ms/step - loss: 7.8476 - mae: 7.8476\n",
            "Epoch 279/500\n",
            "2/2 [==============================] - 0s 7ms/step - loss: 10.3746 - mae: 10.3746\n",
            "Epoch 280/500\n",
            "2/2 [==============================] - 0s 6ms/step - loss: 20.4485 - mae: 20.4485\n",
            "Epoch 281/500\n",
            "2/2 [==============================] - 0s 6ms/step - loss: 10.6303 - mae: 10.6303\n",
            "Epoch 282/500\n",
            "2/2 [==============================] - 0s 6ms/step - loss: 5.8919 - mae: 5.8919\n",
            "Epoch 283/500\n",
            "2/2 [==============================] - 0s 6ms/step - loss: 8.9722 - mae: 8.9722\n",
            "Epoch 284/500\n",
            "2/2 [==============================] - 0s 6ms/step - loss: 17.6213 - mae: 17.6213\n",
            "Epoch 285/500\n",
            "2/2 [==============================] - 0s 6ms/step - loss: 7.9864 - mae: 7.9864\n",
            "Epoch 286/500\n",
            "2/2 [==============================] - 0s 10ms/step - loss: 6.6695 - mae: 6.6695\n",
            "Epoch 287/500\n",
            "2/2 [==============================] - 0s 6ms/step - loss: 15.5114 - mae: 15.5114\n",
            "Epoch 288/500\n",
            "2/2 [==============================] - 0s 8ms/step - loss: 8.7589 - mae: 8.7589\n",
            "Epoch 289/500\n",
            "2/2 [==============================] - 0s 7ms/step - loss: 8.2719 - mae: 8.2719\n",
            "Epoch 290/500\n",
            "2/2 [==============================] - 0s 6ms/step - loss: 10.8948 - mae: 10.8948\n",
            "Epoch 291/500\n",
            "2/2 [==============================] - 0s 6ms/step - loss: 11.9231 - mae: 11.9231\n",
            "Epoch 292/500\n",
            "2/2 [==============================] - 0s 8ms/step - loss: 13.0048 - mae: 13.0048\n",
            "Epoch 293/500\n",
            "2/2 [==============================] - 0s 7ms/step - loss: 3.6205 - mae: 3.6205\n",
            "Epoch 294/500\n",
            "2/2 [==============================] - 0s 6ms/step - loss: 20.3883 - mae: 20.3883\n",
            "Epoch 295/500\n",
            "2/2 [==============================] - 0s 6ms/step - loss: 7.8434 - mae: 7.8434\n",
            "Epoch 296/500\n",
            "2/2 [==============================] - 0s 9ms/step - loss: 6.5647 - mae: 6.5647\n",
            "Epoch 297/500\n",
            "2/2 [==============================] - 0s 7ms/step - loss: 4.4993 - mae: 4.4993\n",
            "Epoch 298/500\n",
            "2/2 [==============================] - 0s 7ms/step - loss: 16.1049 - mae: 16.1049\n",
            "Epoch 299/500\n",
            "2/2 [==============================] - 0s 5ms/step - loss: 9.6395 - mae: 9.6395\n",
            "Epoch 300/500\n",
            "2/2 [==============================] - 0s 8ms/step - loss: 10.2801 - mae: 10.2801\n",
            "Epoch 301/500\n",
            "2/2 [==============================] - 0s 6ms/step - loss: 10.2942 - mae: 10.2942\n",
            "Epoch 302/500\n",
            "2/2 [==============================] - 0s 7ms/step - loss: 10.8204 - mae: 10.8204\n",
            "Epoch 303/500\n",
            "2/2 [==============================] - 0s 6ms/step - loss: 11.7693 - mae: 11.7693\n",
            "Epoch 304/500\n",
            "2/2 [==============================] - 0s 13ms/step - loss: 11.9697 - mae: 11.9697\n",
            "Epoch 305/500\n",
            "2/2 [==============================] - 0s 9ms/step - loss: 9.2732 - mae: 9.2732\n",
            "Epoch 306/500\n",
            "2/2 [==============================] - 0s 7ms/step - loss: 15.8571 - mae: 15.8571\n",
            "Epoch 307/500\n",
            "2/2 [==============================] - 0s 6ms/step - loss: 9.5664 - mae: 9.5664\n",
            "Epoch 308/500\n",
            "2/2 [==============================] - 0s 6ms/step - loss: 9.9042 - mae: 9.9042\n",
            "Epoch 309/500\n",
            "2/2 [==============================] - 0s 7ms/step - loss: 9.3304 - mae: 9.3304\n",
            "Epoch 310/500\n",
            "2/2 [==============================] - 0s 7ms/step - loss: 13.9146 - mae: 13.9146\n",
            "Epoch 311/500\n",
            "2/2 [==============================] - 0s 6ms/step - loss: 4.8197 - mae: 4.8197\n",
            "Epoch 312/500\n",
            "2/2 [==============================] - 0s 6ms/step - loss: 22.0333 - mae: 22.0333\n",
            "Epoch 313/500\n",
            "2/2 [==============================] - 0s 7ms/step - loss: 10.1337 - mae: 10.1337\n",
            "Epoch 314/500\n",
            "2/2 [==============================] - 0s 7ms/step - loss: 7.6125 - mae: 7.6125\n",
            "Epoch 315/500\n",
            "2/2 [==============================] - 0s 9ms/step - loss: 12.7595 - mae: 12.7595\n",
            "Epoch 316/500\n",
            "2/2 [==============================] - 0s 8ms/step - loss: 6.0340 - mae: 6.0340\n",
            "Epoch 317/500\n",
            "2/2 [==============================] - 0s 6ms/step - loss: 21.7293 - mae: 21.7293\n",
            "Epoch 318/500\n",
            "2/2 [==============================] - 0s 5ms/step - loss: 10.1609 - mae: 10.1609\n",
            "Epoch 319/500\n",
            "2/2 [==============================] - 0s 7ms/step - loss: 12.5000 - mae: 12.5000\n",
            "Epoch 320/500\n",
            "2/2 [==============================] - 0s 8ms/step - loss: 14.3129 - mae: 14.3129\n",
            "Epoch 321/500\n",
            "2/2 [==============================] - 0s 8ms/step - loss: 5.5767 - mae: 5.5767\n",
            "Epoch 322/500\n",
            "2/2 [==============================] - 0s 9ms/step - loss: 4.0436 - mae: 4.0436\n",
            "Epoch 323/500\n",
            "2/2 [==============================] - 0s 8ms/step - loss: 12.8449 - mae: 12.8449\n",
            "Epoch 324/500\n",
            "2/2 [==============================] - 0s 8ms/step - loss: 7.1096 - mae: 7.1096\n",
            "Epoch 325/500\n",
            "2/2 [==============================] - 0s 5ms/step - loss: 6.3110 - mae: 6.3110\n",
            "Epoch 326/500\n",
            "2/2 [==============================] - 0s 7ms/step - loss: 9.6537 - mae: 9.6537\n",
            "Epoch 327/500\n",
            "2/2 [==============================] - 0s 8ms/step - loss: 15.7756 - mae: 15.7756\n",
            "Epoch 328/500\n",
            "2/2 [==============================] - 0s 8ms/step - loss: 7.4675 - mae: 7.4675\n",
            "Epoch 329/500\n",
            "2/2 [==============================] - 0s 7ms/step - loss: 9.4121 - mae: 9.4121\n",
            "Epoch 330/500\n",
            "2/2 [==============================] - 0s 8ms/step - loss: 9.1472 - mae: 9.1472\n",
            "Epoch 331/500\n",
            "2/2 [==============================] - 0s 6ms/step - loss: 15.1838 - mae: 15.1838\n",
            "Epoch 332/500\n",
            "2/2 [==============================] - 0s 6ms/step - loss: 10.5842 - mae: 10.5842\n",
            "Epoch 333/500\n",
            "2/2 [==============================] - 0s 7ms/step - loss: 6.5090 - mae: 6.5090\n",
            "Epoch 334/500\n",
            "2/2 [==============================] - 0s 8ms/step - loss: 10.5663 - mae: 10.5663\n",
            "Epoch 335/500\n",
            "2/2 [==============================] - 0s 8ms/step - loss: 6.8842 - mae: 6.8842\n",
            "Epoch 336/500\n",
            "2/2 [==============================] - 0s 8ms/step - loss: 23.7596 - mae: 23.7596\n",
            "Epoch 337/500\n",
            "2/2 [==============================] - 0s 8ms/step - loss: 13.4480 - mae: 13.4480\n",
            "Epoch 338/500\n",
            "2/2 [==============================] - 0s 8ms/step - loss: 5.6372 - mae: 5.6372\n",
            "Epoch 339/500\n",
            "2/2 [==============================] - 0s 9ms/step - loss: 13.5164 - mae: 13.5164\n",
            "Epoch 340/500\n",
            "2/2 [==============================] - 0s 8ms/step - loss: 9.0649 - mae: 9.0649\n",
            "Epoch 341/500\n",
            "2/2 [==============================] - 0s 6ms/step - loss: 14.6214 - mae: 14.6214\n",
            "Epoch 342/500\n",
            "2/2 [==============================] - 0s 7ms/step - loss: 7.6039 - mae: 7.6039\n",
            "Epoch 343/500\n",
            "2/2 [==============================] - 0s 10ms/step - loss: 16.1089 - mae: 16.1089\n",
            "Epoch 344/500\n",
            "2/2 [==============================] - 0s 8ms/step - loss: 7.6725 - mae: 7.6725\n",
            "Epoch 345/500\n",
            "2/2 [==============================] - 0s 6ms/step - loss: 24.1744 - mae: 24.1744\n",
            "Epoch 346/500\n",
            "2/2 [==============================] - 0s 6ms/step - loss: 13.2535 - mae: 13.2535\n",
            "Epoch 347/500\n",
            "2/2 [==============================] - 0s 6ms/step - loss: 16.9096 - mae: 16.9096\n",
            "Epoch 348/500\n",
            "2/2 [==============================] - 0s 6ms/step - loss: 7.3044 - mae: 7.3044\n",
            "Epoch 349/500\n",
            "2/2 [==============================] - 0s 8ms/step - loss: 9.9834 - mae: 9.9834\n",
            "Epoch 350/500\n",
            "2/2 [==============================] - 0s 9ms/step - loss: 11.7161 - mae: 11.7161\n",
            "Epoch 351/500\n",
            "2/2 [==============================] - 0s 7ms/step - loss: 21.8869 - mae: 21.8869\n",
            "Epoch 352/500\n",
            "2/2 [==============================] - 0s 9ms/step - loss: 9.5841 - mae: 9.5841\n",
            "Epoch 353/500\n",
            "2/2 [==============================] - 0s 9ms/step - loss: 6.8178 - mae: 6.8178\n",
            "Epoch 354/500\n",
            "2/2 [==============================] - 0s 9ms/step - loss: 9.1303 - mae: 9.1303\n",
            "Epoch 355/500\n",
            "2/2 [==============================] - 0s 11ms/step - loss: 14.3477 - mae: 14.3477\n",
            "Epoch 356/500\n",
            "2/2 [==============================] - 0s 15ms/step - loss: 9.0121 - mae: 9.0121\n",
            "Epoch 357/500\n",
            "2/2 [==============================] - 0s 8ms/step - loss: 10.1376 - mae: 10.1376\n",
            "Epoch 358/500\n",
            "2/2 [==============================] - 0s 7ms/step - loss: 13.5753 - mae: 13.5753\n",
            "Epoch 359/500\n",
            "2/2 [==============================] - 0s 9ms/step - loss: 6.4922 - mae: 6.4922\n",
            "Epoch 360/500\n",
            "2/2 [==============================] - 0s 9ms/step - loss: 13.6487 - mae: 13.6487\n",
            "Epoch 361/500\n",
            "2/2 [==============================] - 0s 13ms/step - loss: 7.4349 - mae: 7.4349\n",
            "Epoch 362/500\n",
            "2/2 [==============================] - 0s 8ms/step - loss: 12.9718 - mae: 12.9718\n",
            "Epoch 363/500\n",
            "2/2 [==============================] - 0s 8ms/step - loss: 17.0660 - mae: 17.0660\n",
            "Epoch 364/500\n",
            "2/2 [==============================] - 0s 8ms/step - loss: 32.8642 - mae: 32.8642\n",
            "Epoch 365/500\n",
            "2/2 [==============================] - 0s 7ms/step - loss: 13.3908 - mae: 13.3908\n",
            "Epoch 366/500\n",
            "2/2 [==============================] - 0s 9ms/step - loss: 10.2188 - mae: 10.2188\n",
            "Epoch 367/500\n",
            "2/2 [==============================] - 0s 8ms/step - loss: 22.5431 - mae: 22.5431\n",
            "Epoch 368/500\n",
            "2/2 [==============================] - 0s 8ms/step - loss: 12.1599 - mae: 12.1599\n",
            "Epoch 369/500\n",
            "2/2 [==============================] - 0s 9ms/step - loss: 4.4755 - mae: 4.4755\n",
            "Epoch 370/500\n",
            "2/2 [==============================] - 0s 8ms/step - loss: 12.8335 - mae: 12.8335\n",
            "Epoch 371/500\n",
            "2/2 [==============================] - 0s 10ms/step - loss: 17.6502 - mae: 17.6502\n",
            "Epoch 372/500\n",
            "2/2 [==============================] - 0s 6ms/step - loss: 6.2916 - mae: 6.2916\n",
            "Epoch 373/500\n",
            "2/2 [==============================] - 0s 7ms/step - loss: 18.1144 - mae: 18.1144\n",
            "Epoch 374/500\n",
            "2/2 [==============================] - 0s 7ms/step - loss: 4.2378 - mae: 4.2378\n",
            "Epoch 375/500\n",
            "2/2 [==============================] - 0s 9ms/step - loss: 10.4204 - mae: 10.4204\n",
            "Epoch 376/500\n",
            "2/2 [==============================] - 0s 9ms/step - loss: 8.6603 - mae: 8.6603\n",
            "Epoch 377/500\n",
            "2/2 [==============================] - 0s 8ms/step - loss: 4.3980 - mae: 4.3980\n",
            "Epoch 378/500\n",
            "2/2 [==============================] - 0s 10ms/step - loss: 16.7145 - mae: 16.7145\n",
            "Epoch 379/500\n",
            "2/2 [==============================] - 0s 8ms/step - loss: 11.5286 - mae: 11.5286\n",
            "Epoch 380/500\n",
            "2/2 [==============================] - 0s 8ms/step - loss: 15.9715 - mae: 15.9715\n",
            "Epoch 381/500\n",
            "2/2 [==============================] - 0s 8ms/step - loss: 4.6571 - mae: 4.6571\n",
            "Epoch 382/500\n",
            "2/2 [==============================] - 0s 12ms/step - loss: 9.1765 - mae: 9.1765\n",
            "Epoch 383/500\n",
            "2/2 [==============================] - 0s 10ms/step - loss: 15.0100 - mae: 15.0100\n",
            "Epoch 384/500\n",
            "2/2 [==============================] - 0s 7ms/step - loss: 10.5101 - mae: 10.5101\n",
            "Epoch 385/500\n",
            "2/2 [==============================] - 0s 8ms/step - loss: 7.1314 - mae: 7.1314\n",
            "Epoch 386/500\n",
            "2/2 [==============================] - 0s 7ms/step - loss: 6.3737 - mae: 6.3737\n",
            "Epoch 387/500\n",
            "2/2 [==============================] - 0s 11ms/step - loss: 6.8283 - mae: 6.8283\n",
            "Epoch 388/500\n",
            "2/2 [==============================] - 0s 7ms/step - loss: 6.4671 - mae: 6.4671\n",
            "Epoch 389/500\n",
            "2/2 [==============================] - 0s 11ms/step - loss: 10.0324 - mae: 10.0324\n",
            "Epoch 390/500\n",
            "2/2 [==============================] - 0s 8ms/step - loss: 17.1155 - mae: 17.1155\n",
            "Epoch 391/500\n",
            "2/2 [==============================] - 0s 7ms/step - loss: 4.5741 - mae: 4.5741\n",
            "Epoch 392/500\n",
            "2/2 [==============================] - 0s 7ms/step - loss: 13.1262 - mae: 13.1262\n",
            "Epoch 393/500\n",
            "2/2 [==============================] - 0s 7ms/step - loss: 5.8562 - mae: 5.8562\n",
            "Epoch 394/500\n",
            "2/2 [==============================] - 0s 8ms/step - loss: 9.3443 - mae: 9.3443\n",
            "Epoch 395/500\n",
            "2/2 [==============================] - 0s 6ms/step - loss: 11.7567 - mae: 11.7567\n",
            "Epoch 396/500\n",
            "2/2 [==============================] - 0s 7ms/step - loss: 6.1013 - mae: 6.1013\n",
            "Epoch 397/500\n",
            "2/2 [==============================] - 0s 8ms/step - loss: 10.5677 - mae: 10.5677\n",
            "Epoch 398/500\n",
            "2/2 [==============================] - 0s 6ms/step - loss: 17.0560 - mae: 17.0560\n",
            "Epoch 399/500\n",
            "2/2 [==============================] - 0s 6ms/step - loss: 8.0145 - mae: 8.0145\n",
            "Epoch 400/500\n",
            "2/2 [==============================] - 0s 7ms/step - loss: 7.8391 - mae: 7.8391\n",
            "Epoch 401/500\n",
            "2/2 [==============================] - 0s 6ms/step - loss: 8.3803 - mae: 8.3803\n",
            "Epoch 402/500\n",
            "2/2 [==============================] - 0s 6ms/step - loss: 20.1246 - mae: 20.1246\n",
            "Epoch 403/500\n",
            "2/2 [==============================] - 0s 6ms/step - loss: 8.6583 - mae: 8.6583\n",
            "Epoch 404/500\n",
            "2/2 [==============================] - 0s 7ms/step - loss: 20.2658 - mae: 20.2658\n",
            "Epoch 405/500\n",
            "2/2 [==============================] - 0s 7ms/step - loss: 6.8494 - mae: 6.8494\n",
            "Epoch 406/500\n",
            "2/2 [==============================] - 0s 7ms/step - loss: 14.9805 - mae: 14.9805\n",
            "Epoch 407/500\n",
            "2/2 [==============================] - 0s 6ms/step - loss: 9.2980 - mae: 9.2980\n",
            "Epoch 408/500\n",
            "2/2 [==============================] - 0s 7ms/step - loss: 7.6509 - mae: 7.6509\n",
            "Epoch 409/500\n",
            "2/2 [==============================] - 0s 7ms/step - loss: 10.7045 - mae: 10.7045\n",
            "Epoch 410/500\n",
            "2/2 [==============================] - 0s 6ms/step - loss: 6.2744 - mae: 6.2744\n",
            "Epoch 411/500\n",
            "2/2 [==============================] - 0s 6ms/step - loss: 12.5163 - mae: 12.5163\n",
            "Epoch 412/500\n",
            "2/2 [==============================] - 0s 7ms/step - loss: 6.6054 - mae: 6.6054\n",
            "Epoch 413/500\n",
            "2/2 [==============================] - 0s 6ms/step - loss: 8.1934 - mae: 8.1934\n",
            "Epoch 414/500\n",
            "2/2 [==============================] - 0s 6ms/step - loss: 12.6908 - mae: 12.6908\n",
            "Epoch 415/500\n",
            "2/2 [==============================] - 0s 6ms/step - loss: 9.9971 - mae: 9.9971\n",
            "Epoch 416/500\n",
            "2/2 [==============================] - 0s 7ms/step - loss: 9.4943 - mae: 9.4943\n",
            "Epoch 417/500\n",
            "2/2 [==============================] - 0s 6ms/step - loss: 7.1967 - mae: 7.1967\n",
            "Epoch 418/500\n",
            "2/2 [==============================] - 0s 7ms/step - loss: 9.4341 - mae: 9.4341\n",
            "Epoch 419/500\n",
            "2/2 [==============================] - 0s 7ms/step - loss: 10.1756 - mae: 10.1756\n",
            "Epoch 420/500\n",
            "2/2 [==============================] - 0s 7ms/step - loss: 19.1603 - mae: 19.1603\n",
            "Epoch 421/500\n",
            "2/2 [==============================] - 0s 7ms/step - loss: 9.4784 - mae: 9.4784\n",
            "Epoch 422/500\n",
            "2/2 [==============================] - 0s 7ms/step - loss: 8.6421 - mae: 8.6421\n",
            "Epoch 423/500\n",
            "2/2 [==============================] - 0s 7ms/step - loss: 17.5031 - mae: 17.5031\n",
            "Epoch 424/500\n",
            "2/2 [==============================] - 0s 7ms/step - loss: 8.8781 - mae: 8.8781\n",
            "Epoch 425/500\n",
            "2/2 [==============================] - 0s 8ms/step - loss: 8.1382 - mae: 8.1382\n",
            "Epoch 426/500\n",
            "2/2 [==============================] - 0s 8ms/step - loss: 5.4233 - mae: 5.4233\n",
            "Epoch 427/500\n",
            "2/2 [==============================] - 0s 7ms/step - loss: 11.4473 - mae: 11.4473\n",
            "Epoch 428/500\n",
            "2/2 [==============================] - 0s 8ms/step - loss: 8.7780 - mae: 8.7780\n",
            "Epoch 429/500\n",
            "2/2 [==============================] - 0s 7ms/step - loss: 19.4589 - mae: 19.4589\n",
            "Epoch 430/500\n",
            "2/2 [==============================] - 0s 7ms/step - loss: 7.1867 - mae: 7.1867\n",
            "Epoch 431/500\n",
            "2/2 [==============================] - 0s 7ms/step - loss: 8.3062 - mae: 8.3062\n",
            "Epoch 432/500\n",
            "2/2 [==============================] - 0s 7ms/step - loss: 9.6259 - mae: 9.6259\n",
            "Epoch 433/500\n",
            "2/2 [==============================] - 0s 8ms/step - loss: 6.7131 - mae: 6.7131\n",
            "Epoch 434/500\n",
            "2/2 [==============================] - 0s 6ms/step - loss: 21.2672 - mae: 21.2672\n",
            "Epoch 435/500\n",
            "2/2 [==============================] - 0s 6ms/step - loss: 8.5553 - mae: 8.5553\n",
            "Epoch 436/500\n",
            "2/2 [==============================] - 0s 7ms/step - loss: 8.1414 - mae: 8.1414\n",
            "Epoch 437/500\n",
            "2/2 [==============================] - 0s 6ms/step - loss: 8.8131 - mae: 8.8131\n",
            "Epoch 438/500\n",
            "2/2 [==============================] - 0s 6ms/step - loss: 7.2346 - mae: 7.2346\n",
            "Epoch 439/500\n",
            "2/2 [==============================] - 0s 6ms/step - loss: 23.7760 - mae: 23.7760\n",
            "Epoch 440/500\n",
            "2/2 [==============================] - 0s 7ms/step - loss: 12.5254 - mae: 12.5254\n",
            "Epoch 441/500\n",
            "2/2 [==============================] - 0s 7ms/step - loss: 9.2240 - mae: 9.2240\n",
            "Epoch 442/500\n",
            "2/2 [==============================] - 0s 6ms/step - loss: 9.6083 - mae: 9.6083\n",
            "Epoch 443/500\n",
            "2/2 [==============================] - 0s 6ms/step - loss: 8.0249 - mae: 8.0249\n",
            "Epoch 444/500\n",
            "2/2 [==============================] - 0s 9ms/step - loss: 14.3558 - mae: 14.3558\n",
            "Epoch 445/500\n",
            "2/2 [==============================] - 0s 6ms/step - loss: 7.5420 - mae: 7.5420\n",
            "Epoch 446/500\n",
            "2/2 [==============================] - 0s 6ms/step - loss: 6.3247 - mae: 6.3247\n",
            "Epoch 447/500\n",
            "2/2 [==============================] - 0s 9ms/step - loss: 6.4047 - mae: 6.4047\n",
            "Epoch 448/500\n",
            "2/2 [==============================] - 0s 6ms/step - loss: 7.4365 - mae: 7.4365\n",
            "Epoch 449/500\n",
            "2/2 [==============================] - 0s 7ms/step - loss: 7.0392 - mae: 7.0392\n",
            "Epoch 450/500\n",
            "2/2 [==============================] - 0s 6ms/step - loss: 11.7288 - mae: 11.7288\n",
            "Epoch 451/500\n",
            "2/2 [==============================] - 0s 9ms/step - loss: 13.6531 - mae: 13.6531\n",
            "Epoch 452/500\n",
            "2/2 [==============================] - 0s 6ms/step - loss: 27.1517 - mae: 27.1517\n",
            "Epoch 453/500\n",
            "2/2 [==============================] - 0s 6ms/step - loss: 16.7927 - mae: 16.7927\n",
            "Epoch 454/500\n",
            "2/2 [==============================] - 0s 6ms/step - loss: 11.7173 - mae: 11.7173\n",
            "Epoch 455/500\n",
            "2/2 [==============================] - 0s 8ms/step - loss: 8.5069 - mae: 8.5069\n",
            "Epoch 456/500\n",
            "2/2 [==============================] - 0s 7ms/step - loss: 8.2175 - mae: 8.2175\n",
            "Epoch 457/500\n",
            "2/2 [==============================] - 0s 7ms/step - loss: 12.8307 - mae: 12.8307\n",
            "Epoch 458/500\n",
            "2/2 [==============================] - 0s 7ms/step - loss: 12.0333 - mae: 12.0333\n",
            "Epoch 459/500\n",
            "2/2 [==============================] - 0s 7ms/step - loss: 13.6396 - mae: 13.6396\n",
            "Epoch 460/500\n",
            "2/2 [==============================] - 0s 7ms/step - loss: 5.5927 - mae: 5.5927\n",
            "Epoch 461/500\n",
            "2/2 [==============================] - 0s 7ms/step - loss: 7.1944 - mae: 7.1944\n",
            "Epoch 462/500\n",
            "2/2 [==============================] - 0s 7ms/step - loss: 6.2024 - mae: 6.2024\n",
            "Epoch 463/500\n",
            "2/2 [==============================] - 0s 7ms/step - loss: 15.9793 - mae: 15.9793\n",
            "Epoch 464/500\n",
            "2/2 [==============================] - 0s 6ms/step - loss: 8.0746 - mae: 8.0746\n",
            "Epoch 465/500\n",
            "2/2 [==============================] - 0s 6ms/step - loss: 8.0556 - mae: 8.0556\n",
            "Epoch 466/500\n",
            "2/2 [==============================] - 0s 6ms/step - loss: 10.5098 - mae: 10.5098\n",
            "Epoch 467/500\n",
            "2/2 [==============================] - 0s 6ms/step - loss: 14.6434 - mae: 14.6434\n",
            "Epoch 468/500\n",
            "2/2 [==============================] - 0s 7ms/step - loss: 9.6092 - mae: 9.6092\n",
            "Epoch 469/500\n",
            "2/2 [==============================] - 0s 6ms/step - loss: 11.5057 - mae: 11.5057\n",
            "Epoch 470/500\n",
            "2/2 [==============================] - 0s 6ms/step - loss: 8.7637 - mae: 8.7637\n",
            "Epoch 471/500\n",
            "2/2 [==============================] - 0s 6ms/step - loss: 8.4934 - mae: 8.4934\n",
            "Epoch 472/500\n",
            "2/2 [==============================] - 0s 6ms/step - loss: 9.6995 - mae: 9.6995\n",
            "Epoch 473/500\n",
            "2/2 [==============================] - 0s 7ms/step - loss: 9.3239 - mae: 9.3239\n",
            "Epoch 474/500\n",
            "2/2 [==============================] - 0s 7ms/step - loss: 11.8008 - mae: 11.8008\n",
            "Epoch 475/500\n",
            "2/2 [==============================] - 0s 6ms/step - loss: 4.8171 - mae: 4.8171\n",
            "Epoch 476/500\n",
            "2/2 [==============================] - 0s 7ms/step - loss: 12.7265 - mae: 12.7265\n",
            "Epoch 477/500\n",
            "2/2 [==============================] - 0s 6ms/step - loss: 21.6021 - mae: 21.6021\n",
            "Epoch 478/500\n",
            "2/2 [==============================] - 0s 7ms/step - loss: 14.6885 - mae: 14.6885\n",
            "Epoch 479/500\n",
            "2/2 [==============================] - 0s 7ms/step - loss: 8.5752 - mae: 8.5752\n",
            "Epoch 480/500\n",
            "2/2 [==============================] - 0s 7ms/step - loss: 15.1216 - mae: 15.1216\n",
            "Epoch 481/500\n",
            "2/2 [==============================] - 0s 6ms/step - loss: 11.0619 - mae: 11.0619\n",
            "Epoch 482/500\n",
            "2/2 [==============================] - 0s 7ms/step - loss: 7.8782 - mae: 7.8782\n",
            "Epoch 483/500\n",
            "2/2 [==============================] - 0s 7ms/step - loss: 8.4961 - mae: 8.4961\n",
            "Epoch 484/500\n",
            "2/2 [==============================] - 0s 7ms/step - loss: 20.4540 - mae: 20.4540\n",
            "Epoch 485/500\n",
            "2/2 [==============================] - 0s 7ms/step - loss: 11.5003 - mae: 11.5003\n",
            "Epoch 486/500\n",
            "2/2 [==============================] - 0s 12ms/step - loss: 16.2656 - mae: 16.2656\n",
            "Epoch 487/500\n",
            "2/2 [==============================] - 0s 8ms/step - loss: 8.3896 - mae: 8.3896\n",
            "Epoch 488/500\n",
            "2/2 [==============================] - 0s 8ms/step - loss: 19.4532 - mae: 19.4532\n",
            "Epoch 489/500\n",
            "2/2 [==============================] - 0s 9ms/step - loss: 11.9345 - mae: 11.9345\n",
            "Epoch 490/500\n",
            "2/2 [==============================] - 0s 7ms/step - loss: 8.5621 - mae: 8.5621\n",
            "Epoch 491/500\n",
            "2/2 [==============================] - 0s 12ms/step - loss: 13.6688 - mae: 13.6688\n",
            "Epoch 492/500\n",
            "2/2 [==============================] - 0s 12ms/step - loss: 14.1067 - mae: 14.1067\n",
            "Epoch 493/500\n",
            "2/2 [==============================] - 0s 8ms/step - loss: 7.2647 - mae: 7.2647\n",
            "Epoch 494/500\n",
            "2/2 [==============================] - 0s 7ms/step - loss: 7.0432 - mae: 7.0432\n",
            "Epoch 495/500\n",
            "2/2 [==============================] - 0s 9ms/step - loss: 3.2709 - mae: 3.2709\n",
            "Epoch 496/500\n",
            "2/2 [==============================] - 0s 6ms/step - loss: 4.0875 - mae: 4.0875\n",
            "Epoch 497/500\n",
            "2/2 [==============================] - 0s 6ms/step - loss: 9.0748 - mae: 9.0748\n",
            "Epoch 498/500\n",
            "2/2 [==============================] - 0s 6ms/step - loss: 16.7858 - mae: 16.7858\n",
            "Epoch 499/500\n",
            "2/2 [==============================] - 0s 6ms/step - loss: 10.7468 - mae: 10.7468\n",
            "Epoch 500/500\n",
            "2/2 [==============================] - 0s 6ms/step - loss: 6.8242 - mae: 6.8242\n"
          ]
        },
        {
          "output_type": "execute_result",
          "data": {
            "text/plain": [
              "<keras.callbacks.History at 0x7aaed6251cc0>"
            ]
          },
          "metadata": {},
          "execution_count": 36
        }
      ]
    },
    {
      "cell_type": "code",
      "source": [
        "y_preds_3 = model_3.predict(x_test)\n",
        "plot_predictions(predictions=y_preds_3)"
      ],
      "metadata": {
        "colab": {
          "base_uri": "https://localhost:8080/",
          "height": 485
        },
        "id": "h-R6CtoUr_O1",
        "outputId": "73a81ae3-78e6-428b-9da8-eba29dc23b98"
      },
      "execution_count": 37,
      "outputs": [
        {
          "output_type": "stream",
          "name": "stdout",
          "text": [
            "1/1 [==============================] - 0s 84ms/step\n"
          ]
        },
        {
          "output_type": "display_data",
          "data": {
            "text/plain": [
              "<Figure size 1000x700 with 1 Axes>"
            ],
            "image/png": "[encoded data removed]"
          },
          "metadata": {}
        }
      ]
    },
    {
      "cell_type": "code",
      "source": [
        "mae_3 = mae(y_test, y_preds_3)\n",
        "mse_3 = mse(y_test, y_preds_3)\n",
        "mae_3, mse_3"
      ],
      "metadata": {
        "colab": {
          "base_uri": "https://localhost:8080/"
        },
        "id": "_T4QyncGsINU",
        "outputId": "8dbf5068-2cf3-4bf1-ea0c-82e21ad055d4"
      },
      "execution_count": 38,
      "outputs": [
        {
          "output_type": "execute_result",
          "data": {
            "text/plain": [
              "(<tf.Tensor: shape=(), dtype=float32, numpy=1.2650543>,\n",
              " <tf.Tensor: shape=(), dtype=float32, numpy=2.2146354>)"
            ]
          },
          "metadata": {},
          "execution_count": 38
        }
      ]
    },
    {
      "cell_type": "code",
      "source": [
        "import pandas as pd\n",
        "model_results = [['model_1', mae_1.numpy(), mse_1.numpy()],\n",
        "                 ['model_2', mae_2.numpy(), mse_2.numpy()],\n",
        "                 ['model_3', mae_3.numpy(), mse_3.numpy()]]\n",
        "all_results = pd.DataFrame(model_results, columns = ['model', 'mae', 'mse'])\n",
        "all_results"
      ],
      "metadata": {
        "colab": {
          "base_uri": "https://localhost:8080/",
          "height": 143
        },
        "id": "EfT570OjsXDy",
        "outputId": "92186c32-1c71-47f1-eee9-eed458b4432f"
      },
      "execution_count": 39,
      "outputs": [
        {
          "output_type": "execute_result",
          "data": {
            "text/plain": [
              "     model        mae         mse\n",
              "0  model_1  30.631287  948.725464\n",
              "1  model_2   4.383288   19.721087\n",
              "2  model_3   1.265054    2.214635"
            ],
            "text/html": [
              "\n",
              "\n",
              "  <div id=\"df-20472fc4-170e-4f08-bb3c-6ed90587064b\">\n",
              "    <div class=\"colab-df-container\">\n",
              "      <div>\n",
              "<style scoped>\n",
              "    .dataframe tbody tr th:only-of-type {\n",
              "        vertical-align: middle;\n",
              "    }\n",
              "\n",
              "    .dataframe tbody tr th {\n",
              "        vertical-align: top;\n",
              "    }\n",
              "\n",
              "    .dataframe thead th {\n",
              "        text-align: right;\n",
              "    }\n",
              "</style>\n",
              "<table border=\"1\" class=\"dataframe\">\n",
              "  <thead>\n",
              "    <tr style=\"text-align: right;\">\n",
              "      <th></th>\n",
              "      <th>model</th>\n",
              "      <th>mae</th>\n",
              "      <th>mse</th>\n",
              "    </tr>\n",
              "  </thead>\n",
              "  <tbody>\n",
              "    <tr>\n",
              "      <th>0</th>\n",
              "      <td>model_1</td>\n",
              "      <td>30.631287</td>\n",
              "      <td>948.725464</td>\n",
              "    </tr>\n",
              "    <tr>\n",
              "      <th>1</th>\n",
              "      <td>model_2</td>\n",
              "      <td>4.383288</td>\n",
              "      <td>19.721087</td>\n",
              "    </tr>\n",
              "    <tr>\n",
              "      <th>2</th>\n",
              "      <td>model_3</td>\n",
              "      <td>1.265054</td>\n",
              "      <td>2.214635</td>\n",
              "    </tr>\n",
              "  </tbody>\n",
              "</table>\n",
              "</div>\n",
              "      <button class=\"colab-df-convert\" onclick=\"convertToInteractive('df-20472fc4-170e-4f08-bb3c-6ed90587064b')\"\n",
              "              title=\"Convert this dataframe to an interactive table.\"\n",
              "              style=\"display:none;\">\n",
              "\n",
              "  <svg xmlns=\"http://www.w3.org/2000/svg\" height=\"24px\"viewBox=\"0 0 24 24\"\n",
              "       width=\"24px\">\n",
              "    <path d=\"M0 0h24v24H0V0z\" fill=\"none\"/>\n",
              "    <path d=\"M18.56 5.44l.94 2.06.94-2.06 2.06-.94-2.06-.94-.94-2.06-.94 2.06-2.06.94zm-11 1L8.5 8.5l.94-2.06 2.06-.94-2.06-.94L8.5 2.5l-.94 2.06-2.06.94zm10 10l.94 2.06.94-2.06 2.06-.94-2.06-.94-.94-2.06-.94 2.06-2.06.94z\"/><path d=\"M17.41 7.96l-1.37-1.37c-.4-.4-.92-.59-1.43-.59-.52 0-1.04.2-1.43.59L10.3 9.45l-7.72 7.72c-.78.78-.78 2.05 0 2.83L4 21.41c.39.39.9.59 1.41.59.51 0 1.02-.2 1.41-.59l7.78-7.78 2.81-2.81c.8-.78.8-2.07 0-2.86zM5.41 20L4 18.59l7.72-7.72 1.47 1.35L5.41 20z\"/>\n",
              "  </svg>\n",
              "      </button>\n",
              "\n",
              "\n",
              "\n",
              "    <div id=\"df-ba86d73b-b740-4bb7-a949-2e5257dbc03b\">\n",
              "      <button class=\"colab-df-quickchart\" onclick=\"quickchart('df-ba86d73b-b740-4bb7-a949-2e5257dbc03b')\"\n",
              "              title=\"Suggest charts.\"\n",
              "              style=\"display:none;\">\n",
              "\n",
              "<svg xmlns=\"http://www.w3.org/2000/svg\" height=\"24px\"viewBox=\"0 0 24 24\"\n",
              "     width=\"24px\">\n",
              "    <g>\n",
              "        <path d=\"M19 3H5c-1.1 0-2 .9-2 2v14c0 1.1.9 2 2 2h14c1.1 0 2-.9 2-2V5c0-1.1-.9-2-2-2zM9 17H7v-7h2v7zm4 0h-2V7h2v10zm4 0h-2v-4h2v4z\"/>\n",
              "    </g>\n",
              "</svg>\n",
              "      </button>\n",
              "    </div>\n",
              "\n",
              "<style>\n",
              "  .colab-df-quickchart {\n",
              "    background-color: #E8F0FE;\n",
              "    border: none;\n",
              "    border-radius: 50%;\n",
              "    cursor: pointer;\n",
              "    display: none;\n",
              "    fill: #1967D2;\n",
              "    height: 32px;\n",
              "    padding: 0 0 0 0;\n",
              "    width: 32px;\n",
              "  }\n",
              "\n",
              "  .colab-df-quickchart:hover {\n",
              "    background-color: #E2EBFA;\n",
              "    box-shadow: 0px 1px 2px rgba(60, 64, 67, 0.3), 0px 1px 3px 1px rgba(60, 64, 67, 0.15);\n",
              "    fill: #174EA6;\n",
              "  }\n",
              "\n",
              "  [theme=dark] .colab-df-quickchart {\n",
              "    background-color: #3B4455;\n",
              "    fill: #D2E3FC;\n",
              "  }\n",
              "\n",
              "  [theme=dark] .colab-df-quickchart:hover {\n",
              "    background-color: #434B5C;\n",
              "    box-shadow: 0px 1px 3px 1px rgba(0, 0, 0, 0.15);\n",
              "    filter: drop-shadow(0px 1px 2px rgba(0, 0, 0, 0.3));\n",
              "    fill: #FFFFFF;\n",
              "  }\n",
              "</style>\n",
              "\n",
              "    <script>\n",
              "      async function quickchart(key) {\n",
              "        const containerElement = document.querySelector('#' + key);\n",
              "        const charts = await google.colab.kernel.invokeFunction(\n",
              "            'suggestCharts', [key], {});\n",
              "      }\n",
              "    </script>\n",
              "\n",
              "      <script>\n",
              "\n",
              "function displayQuickchartButton(domScope) {\n",
              "  let quickchartButtonEl =\n",
              "    domScope.querySelector('#df-ba86d73b-b740-4bb7-a949-2e5257dbc03b button.colab-df-quickchart');\n",
              "  quickchartButtonEl.style.display =\n",
              "    google.colab.kernel.accessAllowed ? 'block' : 'none';\n",
              "}\n",
              "\n",
              "        displayQuickchartButton(document);\n",
              "      </script>\n",
              "      <style>\n",
              "    .colab-df-container {\n",
              "      display:flex;\n",
              "      flex-wrap:wrap;\n",
              "      gap: 12px;\n",
              "    }\n",
              "\n",
              "    .colab-df-convert {\n",
              "      background-color: #E8F0FE;\n",
              "      border: none;\n",
              "      border-radius: 50%;\n",
              "      cursor: pointer;\n",
              "      display: none;\n",
              "      fill: #1967D2;\n",
              "      height: 32px;\n",
              "      padding: 0 0 0 0;\n",
              "      width: 32px;\n",
              "    }\n",
              "\n",
              "    .colab-df-convert:hover {\n",
              "      background-color: #E2EBFA;\n",
              "      box-shadow: 0px 1px 2px rgba(60, 64, 67, 0.3), 0px 1px 3px 1px rgba(60, 64, 67, 0.15);\n",
              "      fill: #174EA6;\n",
              "    }\n",
              "\n",
              "    [theme=dark] .colab-df-convert {\n",
              "      background-color: #3B4455;\n",
              "      fill: #D2E3FC;\n",
              "    }\n",
              "\n",
              "    [theme=dark] .colab-df-convert:hover {\n",
              "      background-color: #434B5C;\n",
              "      box-shadow: 0px 1px 3px 1px rgba(0, 0, 0, 0.15);\n",
              "      filter: drop-shadow(0px 1px 2px rgba(0, 0, 0, 0.3));\n",
              "      fill: #FFFFFF;\n",
              "    }\n",
              "  </style>\n",
              "\n",
              "      <script>\n",
              "        const buttonEl =\n",
              "          document.querySelector('#df-20472fc4-170e-4f08-bb3c-6ed90587064b button.colab-df-convert');\n",
              "        buttonEl.style.display =\n",
              "          google.colab.kernel.accessAllowed ? 'block' : 'none';\n",
              "\n",
              "        async function convertToInteractive(key) {\n",
              "          const element = document.querySelector('#df-20472fc4-170e-4f08-bb3c-6ed90587064b');\n",
              "          const dataTable =\n",
              "            await google.colab.kernel.invokeFunction('convertToInteractive',\n",
              "                                                     [key], {});\n",
              "          if (!dataTable) return;\n",
              "\n",
              "          const docLinkHtml = 'Like what you see? Visit the ' +\n",
              "            '<a target=\"_blank\" href=https://colab.research.google.com/notebooks/data_table.ipynb>data table notebook</a>'\n",
              "            + ' to learn more about interactive tables.';\n",
              "          element.innerHTML = '';\n",
              "          dataTable['output_type'] = 'display_data';\n",
              "          await google.colab.output.renderOutput(dataTable, element);\n",
              "          const docLink = document.createElement('div');\n",
              "          docLink.innerHTML = docLinkHtml;\n",
              "          element.appendChild(docLink);\n",
              "        }\n",
              "      </script>\n",
              "    </div>\n",
              "  </div>\n"
            ]
          },
          "metadata": {},
          "execution_count": 39
        }
      ]
    },
    {
      "cell_type": "code",
      "source": [
        "model_3.summary()"
      ],
      "metadata": {
        "colab": {
          "base_uri": "https://localhost:8080/"
        },
        "id": "W309c34atWDU",
        "outputId": "7cca0a2e-985d-4e9b-d0b8-fd0c5558ae7e"
      },
      "execution_count": 40,
      "outputs": [
        {
          "output_type": "stream",
          "name": "stdout",
          "text": [
            "Model: \"sequential_5\"\n",
            "_________________________________________________________________\n",
            " Layer (type)                Output Shape              Param #   \n",
            "=================================================================\n",
            " dense_10 (Dense)            (None, 10)                20        \n",
            "                                                                 \n",
            " dense_11 (Dense)            (None, 1)                 11        \n",
            "                                                                 \n",
            "=================================================================\n",
            "Total params: 31\n",
            "Trainable params: 31\n",
            "Non-trainable params: 0\n",
            "_________________________________________________________________\n"
          ]
        }
      ]
    },
    {
      "cell_type": "code",
      "source": [
        "model_3.save(\"best_model_SavedModel_format\")"
      ],
      "metadata": {
        "id": "sRlOvs1wttYE",
        "colab": {
          "base_uri": "https://localhost:8080/"
        },
        "outputId": "0fe11fff-6c60-47ae-f75a-86c3008e8df8"
      },
      "execution_count": 41,
      "outputs": [
        {
          "output_type": "stream",
          "name": "stderr",
          "text": [
            "WARNING:absl:Found untraced functions such as _update_step_xla while saving (showing 1 of 1). These functions will not be directly callable after loading.\n"
          ]
        }
      ]
    },
    {
      "cell_type": "code",
      "source": [
        "tf.keras.models.load_model(\"best_model_SavedModel_format\")"
      ],
      "metadata": {
        "colab": {
          "base_uri": "https://localhost:8080/"
        },
        "id": "bPWUBVyjj0QO",
        "outputId": "221fa40d-c569-4ed7-ed58-9bbdc84503c6"
      },
      "execution_count": 42,
      "outputs": [
        {
          "output_type": "execute_result",
          "data": {
            "text/plain": [
              "<keras.engine.sequential.Sequential at 0x7aaed6713fd0>"
            ]
          },
          "metadata": {},
          "execution_count": 42
        }
      ]
    },
    {
      "cell_type": "code",
      "source": [
        "from google.colab import files\n",
        "files.download(\"best_model_SavedModel_format\")"
      ],
      "metadata": {
        "id": "fiCMvEYMlL_z",
        "colab": {
          "base_uri": "https://localhost:8080/",
          "height": 34
        },
        "outputId": "2e7583b0-1253-4232-a3a9-0c614f69d4be"
      },
      "execution_count": 43,
      "outputs": [
        {
          "output_type": "display_data",
          "data": {
            "text/plain": [
              "<IPython.core.display.Javascript object>"
            ],
            "application/javascript": [
              "\n",
              "    async function download(id, filename, size) {\n",
              "      if (!google.colab.kernel.accessAllowed) {\n",
              "        return;\n",
              "      }\n",
              "      const div = document.createElement('div');\n",
              "      const label = document.createElement('label');\n",
              "      label.textContent = `Downloading \"${filename}\": `;\n",
              "      div.appendChild(label);\n",
              "      const progress = document.createElement('progress');\n",
              "      progress.max = size;\n",
              "      div.appendChild(progress);\n",
              "      document.body.appendChild(div);\n",
              "\n",
              "      const buffers = [];\n",
              "      let downloaded = 0;\n",
              "\n",
              "      const channel = await google.colab.kernel.comms.open(id);\n",
              "      // Send a message to notify the kernel that we're ready.\n",
              "      channel.send({})\n",
              "\n",
              "      for await (const message of channel.messages) {\n",
              "        // Send a message to notify the kernel that we're ready.\n",
              "        channel.send({})\n",
              "        if (message.buffers) {\n",
              "          for (const buffer of message.buffers) {\n",
              "            buffers.push(buffer);\n",
              "            downloaded += buffer.byteLength;\n",
              "            progress.value = downloaded;\n",
              "          }\n",
              "        }\n",
              "      }\n",
              "      const blob = new Blob(buffers, {type: 'application/binary'});\n",
              "      const a = document.createElement('a');\n",
              "      a.href = window.URL.createObjectURL(blob);\n",
              "      a.download = filename;\n",
              "      div.appendChild(a);\n",
              "      a.click();\n",
              "      div.remove();\n",
              "    }\n",
              "  "
            ]
          },
          "metadata": {}
        },
        {
          "output_type": "display_data",
          "data": {
            "text/plain": [
              "<IPython.core.display.Javascript object>"
            ],
            "application/javascript": [
              "download(\"download_079672f2-3f07-41e2-96a6-728d4eb8e9f8\", \"best_model_SavedModel_format\", 4096)"
            ]
          },
          "metadata": {}
        }
      ]
    },
    {
      "cell_type": "code",
      "source": [
        "!cp /content/best_model_SavedModel_format /content/drive/MyDrive/"
      ],
      "metadata": {
        "colab": {
          "base_uri": "https://localhost:8080/"
        },
        "id": "DpEukLIWE8O-",
        "outputId": "70273d5b-1aad-4633-d00b-b96252d022fa"
      },
      "execution_count": 44,
      "outputs": [
        {
          "output_type": "stream",
          "name": "stdout",
          "text": [
            "cp: -r not specified; omitting directory '/content/best_model_SavedModel_format'\n"
          ]
        }
      ]
    },
    {
      "cell_type": "code",
      "source": [],
      "metadata": {
        "id": "CUqNECuPGlou"
      },
      "execution_count": 44,
      "outputs": []
    }
  ]
}
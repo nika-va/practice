{
  "nbformat": 4,
  "nbformat_minor": 0,
  "metadata": {
    "colab": {
      "provenance": [],
      "authorship_tag": "ABX9TyNXKR2AFgzYVBskyCeHigaG",
      "include_colab_link": true
    },
    "kernelspec": {
      "name": "python3",
      "display_name": "Python 3"
    },
    "language_info": {
      "name": "python"
    }
  },
  "cells": [
    {
      "cell_type": "markdown",
      "metadata": {
        "id": "view-in-github",
        "colab_type": "text"
      },
      "source": [
        "<a href=\"https://colab.research.google.com/github/nika-va/practice/blob/main/04_transfer_learning_part_1.ipynb\" target=\"_parent\"><img src=\"https://colab.research.google.com/assets/colab-badge.svg\" alt=\"Open In Colab\"/></a>"
      ]
    },
    {
      "cell_type": "code",
      "source": [
        "!nvidia-smi"
      ],
      "metadata": {
        "colab": {
          "base_uri": "https://localhost:8080/"
        },
        "id": "CUb2JaLrH4by",
        "outputId": "29e3665a-af7f-419b-c0b0-4525c34c8f1a"
      },
      "execution_count": 1,
      "outputs": [
        {
          "output_type": "stream",
          "name": "stdout",
          "text": [
            "/bin/bash: line 1: nvidia-smi: command not found\n"
          ]
        }
      ]
    },
    {
      "cell_type": "code",
      "execution_count": 2,
      "metadata": {
        "colab": {
          "base_uri": "https://localhost:8080/"
        },
        "id": "LSK4bQ1pGA8w",
        "outputId": "07b11507-bc52-4d6e-92a0-d13855c231e3"
      },
      "outputs": [
        {
          "output_type": "stream",
          "name": "stdout",
          "text": [
            "--2023-09-24 14:07:23--  https://storage.googleapis.com/ztm_tf_course/food_vision/10_food_classes_10_percent.zip\n",
            "Resolving storage.googleapis.com (storage.googleapis.com)... 142.251.2.207, 2607:f8b0:4023:c0d::cf, 2607:f8b0:4023:c06::cf, ...\n",
            "Connecting to storage.googleapis.com (storage.googleapis.com)|142.251.2.207|:443... connected.\n",
            "HTTP request sent, awaiting response... 200 OK\n",
            "Length: 168546183 (161M) [application/zip]\n",
            "Saving to: ‘10_food_classes_10_percent.zip’\n",
            "\n",
            "10_food_classes_10_ 100%[===================>] 160.74M   222MB/s    in 0.7s    \n",
            "\n",
            "2023-09-24 14:07:24 (222 MB/s) - ‘10_food_classes_10_percent.zip’ saved [168546183/168546183]\n",
            "\n"
          ]
        }
      ],
      "source": [
        "import zipfile\n",
        "\n",
        "!wget https://storage.googleapis.com/ztm_tf_course/food_vision/10_food_classes_10_percent.zip\n",
        "zip_red = zipfile.ZipFile('10_food_classes_10_percent.zip')\n",
        "zip_red.extractall()\n",
        "zip_red.close()"
      ]
    },
    {
      "cell_type": "code",
      "source": [
        "import os\n",
        "for dir_path, dir_names, dir_files in os.walk('/content/10_food_classes_10_percent'):\n",
        "  print(f' In {dir_path}, there are {len(dir_names)} directories, and {len(dir_files)} images')"
      ],
      "metadata": {
        "colab": {
          "base_uri": "https://localhost:8080/"
        },
        "id": "LzZdBnufIw-O",
        "outputId": "587a8b35-e6df-4122-b4f7-96c38370bd28"
      },
      "execution_count": 3,
      "outputs": [
        {
          "output_type": "stream",
          "name": "stdout",
          "text": [
            " In /content/10_food_classes_10_percent, there are 2 directories, and 0 images\n",
            " In /content/10_food_classes_10_percent/test, there are 10 directories, and 0 images\n",
            " In /content/10_food_classes_10_percent/test/hamburger, there are 0 directories, and 250 images\n",
            " In /content/10_food_classes_10_percent/test/grilled_salmon, there are 0 directories, and 250 images\n",
            " In /content/10_food_classes_10_percent/test/ice_cream, there are 0 directories, and 250 images\n",
            " In /content/10_food_classes_10_percent/test/fried_rice, there are 0 directories, and 250 images\n",
            " In /content/10_food_classes_10_percent/test/chicken_curry, there are 0 directories, and 250 images\n",
            " In /content/10_food_classes_10_percent/test/ramen, there are 0 directories, and 250 images\n",
            " In /content/10_food_classes_10_percent/test/pizza, there are 0 directories, and 250 images\n",
            " In /content/10_food_classes_10_percent/test/steak, there are 0 directories, and 250 images\n",
            " In /content/10_food_classes_10_percent/test/chicken_wings, there are 0 directories, and 250 images\n",
            " In /content/10_food_classes_10_percent/test/sushi, there are 0 directories, and 250 images\n",
            " In /content/10_food_classes_10_percent/train, there are 10 directories, and 0 images\n",
            " In /content/10_food_classes_10_percent/train/hamburger, there are 0 directories, and 75 images\n",
            " In /content/10_food_classes_10_percent/train/grilled_salmon, there are 0 directories, and 75 images\n",
            " In /content/10_food_classes_10_percent/train/ice_cream, there are 0 directories, and 75 images\n",
            " In /content/10_food_classes_10_percent/train/fried_rice, there are 0 directories, and 75 images\n",
            " In /content/10_food_classes_10_percent/train/chicken_curry, there are 0 directories, and 75 images\n",
            " In /content/10_food_classes_10_percent/train/ramen, there are 0 directories, and 75 images\n",
            " In /content/10_food_classes_10_percent/train/pizza, there are 0 directories, and 75 images\n",
            " In /content/10_food_classes_10_percent/train/steak, there are 0 directories, and 75 images\n",
            " In /content/10_food_classes_10_percent/train/chicken_wings, there are 0 directories, and 75 images\n",
            " In /content/10_food_classes_10_percent/train/sushi, there are 0 directories, and 75 images\n"
          ]
        }
      ]
    },
    {
      "cell_type": "code",
      "source": [
        "from tensorflow.keras.preprocessing.image import ImageDataGenerator\n",
        "\n",
        "IMAGE_SHAPE = (224, 224)\n",
        "BATCH_SIZE = 32\n",
        "\n",
        "train_dir = '10_food_classes_10_percent/train/'\n",
        "test_dir = '10_food_classes_10_percent/test/'\n",
        "train_datagen = ImageDataGenerator(rescale=1/255.)\n",
        "test_datagen = ImageDataGenerator(rescale=1/255.)\n",
        "\n",
        "train_data_10_percent = train_datagen.flow_from_directory(train_dir,\n",
        "                                                          target_size=IMAGE_SHAPE,\n",
        "                                                          batch_size=BATCH_SIZE,\n",
        "                                                          class_mode='categorical')\n",
        "test_data_10_percent = test_datagen.flow_from_directory(test_dir,\n",
        "                                                        target_size=IMAGE_SHAPE,\n",
        "                                                        batch_size=BATCH_SIZE,\n",
        "                                                        class_mode='categorical')"
      ],
      "metadata": {
        "colab": {
          "base_uri": "https://localhost:8080/"
        },
        "id": "VPy8MP2sJQZA",
        "outputId": "671883a7-87ea-45f6-fd30-708f92da056f"
      },
      "execution_count": 4,
      "outputs": [
        {
          "output_type": "stream",
          "name": "stdout",
          "text": [
            "Found 750 images belonging to 10 classes.\n",
            "Found 2500 images belonging to 10 classes.\n"
          ]
        }
      ]
    },
    {
      "cell_type": "code",
      "source": [
        "import datetime\n",
        "import tensorflow as tf\n",
        "\n",
        "def create_tensorboard_callback(dir_name, experiment_name):\n",
        "  log_dir = dir_name +\"/\"+ experiment_name +'/'+ datetime.datetime.now().strftime('%Y%m%d')\n",
        "  tensorboard_callback = tf.keras.callbacks.TensorBoard(log_dir=log_dir)\n",
        "  print(f'Saving TensorBoard log files to: {log_dir}')\n",
        "  return tensorboard_callback"
      ],
      "metadata": {
        "id": "BCkidpNeMdZ9"
      },
      "execution_count": 5,
      "outputs": []
    },
    {
      "cell_type": "code",
      "source": [
        "import tensorflow_hub as hub\n",
        "from tensorflow.keras import layers"
      ],
      "metadata": {
        "id": "vdrfgnY2OVHG"
      },
      "execution_count": 6,
      "outputs": []
    },
    {
      "cell_type": "code",
      "source": [
        "resnet_url = 'https://tfhub.dev/google/imagenet/resnet_v2_50/feature_vector/5'\n",
        "efficientnet_url = 'https://tfhub.dev/tensorflow/efficientnet/b0/feature-vector/1'\n",
        "\n",
        "\n",
        "def create_model(model_url, num_classes=10):\n",
        "  feature_extraction_layer = hub.KerasLayer(model_url,\n",
        "                                           trainable=False,\n",
        "                                           name = 'feature_extraction_layer',\n",
        "                                           input_shape=IMAGE_SHAPE+(3,))\n",
        "  model = tf.keras.Sequential([\n",
        "      feature_extraction_layer,\n",
        "      layers.Dense(num_classes, activation='softmax', name='output_layer')\n",
        "  ])\n",
        "  return model"
      ],
      "metadata": {
        "id": "lc48uA_QT3B5"
      },
      "execution_count": 7,
      "outputs": []
    },
    {
      "cell_type": "code",
      "source": [
        "resnet_model = create_model(resnet_url,\n",
        "                            num_classes = train_data_10_percent.num_classes)"
      ],
      "metadata": {
        "id": "-fC-fJ55cijP"
      },
      "execution_count": 8,
      "outputs": []
    },
    {
      "cell_type": "code",
      "source": [
        "resnet_model.compile(loss='categorical_crossentropy',\n",
        "                     optimizer=tf.keras.optimizers.Adam(),\n",
        "                     metrics='accuracy')"
      ],
      "metadata": {
        "id": "Q0o1QTwec28A"
      },
      "execution_count": 9,
      "outputs": []
    },
    {
      "cell_type": "code",
      "source": [
        "tensorboard = create_tensorboard_callback('tensorflow_hub','resnet_50v2' )\n",
        "resnet_model.fit(train_data_10_percent,\n",
        "                 epochs=5,\n",
        "                 steps_per_epoch=len(train_data_10_percent),\n",
        "                 validation_data=test_data_10_percent,\n",
        "                 validation_steps=len(test_data_10_percent),\n",
        "                 callbacks=tensorboard)"
      ],
      "metadata": {
        "colab": {
          "base_uri": "https://localhost:8080/"
        },
        "id": "7k4vzGz9c3QP",
        "outputId": "7cbbd93e-1c0b-4764-d4ed-51ba2604093c"
      },
      "execution_count": null,
      "outputs": [
        {
          "output_type": "stream",
          "name": "stdout",
          "text": [
            "Saving TensorBoard log files to: tensorflow_hub/resnet_50v2/20230924\n",
            "Epoch 1/5\n",
            "24/24 [==============================] - ETA: 0s - loss: 1.9372 - accuracy: 0.3520"
          ]
        }
      ]
    },
    {
      "cell_type": "code",
      "source": [],
      "metadata": {
        "id": "mLakv7qnfrXR"
      },
      "execution_count": null,
      "outputs": []
    },
    {
      "cell_type": "code",
      "source": [],
      "metadata": {
        "id": "dVIKkH3OeziW"
      },
      "execution_count": null,
      "outputs": []
    }
  ]
}
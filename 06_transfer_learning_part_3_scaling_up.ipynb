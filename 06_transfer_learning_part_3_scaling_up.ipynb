{
  "cells": [
    {
      "cell_type": "markdown",
      "metadata": {
        "id": "view-in-github",
        "colab_type": "text"
      },
      "source": [
        "<a href=\"https://colab.research.google.com/github/nika-va/practice/blob/main/06_transfer_learning_part_3_scaling_up.ipynb\" target=\"_parent\"><img src=\"https://colab.research.google.com/assets/colab-badge.svg\" alt=\"Open In Colab\"/></a>"
      ]
    },
    {
      "cell_type": "code",
      "execution_count": 1,
      "metadata": {
        "colab": {
          "base_uri": "https://localhost:8080/"
        },
        "id": "dZDyxr3KkUhf",
        "outputId": "c383441c-4c6c-4882-e744-a5dbacb90cd9"
      },
      "outputs": [
        {
          "output_type": "stream",
          "name": "stdout",
          "text": [
            "Thu Oct  5 17:03:20 2023       \n",
            "+-----------------------------------------------------------------------------+\n",
            "| NVIDIA-SMI 525.105.17   Driver Version: 525.105.17   CUDA Version: 12.0     |\n",
            "|-------------------------------+----------------------+----------------------+\n",
            "| GPU  Name        Persistence-M| Bus-Id        Disp.A | Volatile Uncorr. ECC |\n",
            "| Fan  Temp  Perf  Pwr:Usage/Cap|         Memory-Usage | GPU-Util  Compute M. |\n",
            "|                               |                      |               MIG M. |\n",
            "|===============================+======================+======================|\n",
            "|   0  Tesla T4            Off  | 00000000:00:04.0 Off |                    0 |\n",
            "| N/A   59C    P8    10W /  70W |      0MiB / 15360MiB |      0%      Default |\n",
            "|                               |                      |                  N/A |\n",
            "+-------------------------------+----------------------+----------------------+\n",
            "                                                                               \n",
            "+-----------------------------------------------------------------------------+\n",
            "| Processes:                                                                  |\n",
            "|  GPU   GI   CI        PID   Type   Process name                  GPU Memory |\n",
            "|        ID   ID                                                   Usage      |\n",
            "|=============================================================================|\n",
            "|  No running processes found                                                 |\n",
            "+-----------------------------------------------------------------------------+\n"
          ]
        }
      ],
      "source": [
        "!nvidia-smi"
      ]
    },
    {
      "cell_type": "code",
      "execution_count": 2,
      "metadata": {
        "colab": {
          "base_uri": "https://localhost:8080/"
        },
        "id": "g_uuqjwOlC5f",
        "outputId": "82979b18-4a1e-43eb-a969-db1b7b30caec"
      },
      "outputs": [
        {
          "output_type": "stream",
          "name": "stdout",
          "text": [
            "--2023-10-05 17:03:20--  https://raw.githubusercontent.com/mrdbourke/tensorflow-deep-learning/main/extras/helper_functions.py\n",
            "Resolving raw.githubusercontent.com (raw.githubusercontent.com)... 185.199.110.133, 185.199.108.133, 185.199.111.133, ...\n",
            "Connecting to raw.githubusercontent.com (raw.githubusercontent.com)|185.199.110.133|:443... connected.\n",
            "HTTP request sent, awaiting response... 200 OK\n",
            "Length: 10246 (10K) [text/plain]\n",
            "Saving to: ‘helper_functions.py’\n",
            "\n",
            "\rhelper_functions.py   0%[                    ]       0  --.-KB/s               \rhelper_functions.py 100%[===================>]  10.01K  --.-KB/s    in 0s      \n",
            "\n",
            "2023-10-05 17:03:20 (94.5 MB/s) - ‘helper_functions.py’ saved [10246/10246]\n",
            "\n"
          ]
        }
      ],
      "source": [
        "!wget https://raw.githubusercontent.com/mrdbourke/tensorflow-deep-learning/main/extras/helper_functions.py"
      ]
    },
    {
      "cell_type": "code",
      "execution_count": 3,
      "metadata": {
        "id": "UWu7FL5_ldCa"
      },
      "outputs": [],
      "source": [
        "from helper_functions import create_tensorboard_callback, plot_loss_curves, unzip_data, compare_historys, walk_through_dir"
      ]
    },
    {
      "cell_type": "code",
      "execution_count": 4,
      "metadata": {
        "colab": {
          "base_uri": "https://localhost:8080/"
        },
        "id": "q_elV9H3l3xO",
        "outputId": "c3a28c03-4843-406e-ac17-ef2b22766dad"
      },
      "outputs": [
        {
          "output_type": "stream",
          "name": "stdout",
          "text": [
            "--2023-10-05 17:03:24--  https://storage.googleapis.com/ztm_tf_course/food_vision/101_food_classes_10_percent.zip\n",
            "Resolving storage.googleapis.com (storage.googleapis.com)... 64.233.170.207, 142.251.175.207, 74.125.24.207, ...\n",
            "Connecting to storage.googleapis.com (storage.googleapis.com)|64.233.170.207|:443... connected.\n",
            "HTTP request sent, awaiting response... 200 OK\n",
            "Length: 1625420029 (1.5G) [application/zip]\n",
            "Saving to: ‘101_food_classes_10_percent.zip’\n",
            "\n",
            "101_food_classes_10 100%[===================>]   1.51G  22.4MB/s    in 72s     \n",
            "\n",
            "2023-10-05 17:04:36 (21.6 MB/s) - ‘101_food_classes_10_percent.zip’ saved [1625420029/1625420029]\n",
            "\n"
          ]
        }
      ],
      "source": [
        "!wget https://storage.googleapis.com/ztm_tf_course/food_vision/101_food_classes_10_percent.zip\n",
        "unzip_data('101_food_classes_10_percent.zip')"
      ]
    },
    {
      "cell_type": "code",
      "execution_count": 5,
      "metadata": {
        "id": "ndGsrhwDmb33"
      },
      "outputs": [],
      "source": [
        "train_dir = '101_food_classes_10_percent/train'\n",
        "test_dir = '101_food_classes_10_percent/test'"
      ]
    },
    {
      "cell_type": "code",
      "execution_count": 6,
      "metadata": {
        "id": "C6KcreOUnInc"
      },
      "outputs": [],
      "source": [
        "# walk_through_dir('101_food_classes_10_percent')"
      ]
    },
    {
      "cell_type": "code",
      "execution_count": 7,
      "metadata": {
        "colab": {
          "base_uri": "https://localhost:8080/"
        },
        "id": "9P3eczionW7h",
        "outputId": "b8b3ffca-cc05-4b03-92c1-0375875fe37b"
      },
      "outputs": [
        {
          "output_type": "stream",
          "name": "stdout",
          "text": [
            "Found 7575 files belonging to 101 classes.\n",
            "Found 25250 files belonging to 101 classes.\n"
          ]
        }
      ],
      "source": [
        "import tensorflow as tf\n",
        "IMG_SIZE = (224, 224)\n",
        "BATCH_SIZE = 32\n",
        "train_data_all_10_percent = tf.keras.preprocessing.image_dataset_from_directory(train_dir,\n",
        "                                                                                label_mode='categorical',\n",
        "                                                                                batch_size=BATCH_SIZE,\n",
        "                                                                                image_size=IMG_SIZE)\n",
        "test_data_all_10_percent = tf.keras.preprocessing.image_dataset_from_directory(test_dir,\n",
        "                                                                                label_mode='categorical',\n",
        "                                                                                batch_size=BATCH_SIZE,\n",
        "                                                                                image_size=IMG_SIZE,\n",
        "                                                                                shuffle=False)"
      ]
    },
    {
      "cell_type": "code",
      "execution_count": 8,
      "metadata": {
        "id": "55iU6CQFob1j"
      },
      "outputs": [],
      "source": [
        "checkpoint_path = 'food101_checkpoint/checkpoint.ckpt'\n",
        "checkpoint = tf.keras.callbacks.ModelCheckpoint(filepath=checkpoint_path,\n",
        "                                                save_weights_only=True,\n",
        "                                                monitor='val_accuracy',\n",
        "                                                save_best_only=True)"
      ]
    },
    {
      "cell_type": "code",
      "execution_count": 9,
      "metadata": {
        "id": "kV42D6EqqXMv"
      },
      "outputs": [],
      "source": [
        "import tensorflow as tf\n",
        "data_augmentation = tf.keras.Sequential([\n",
        "    # tf.keras.layers.Rescaling(1/255.),\n",
        "    tf.keras.layers.RandomFlip('horizontal'),\n",
        "    tf.keras.layers.RandomRotation(0.2),\n",
        "    tf.keras.layers.RandomHeight(0.2),\n",
        "    tf.keras.layers.RandomWidth(0.2),\n",
        "    tf.keras.layers.RandomZoom(0.2)\n",
        "], name='data_augmentation')"
      ]
    },
    {
      "cell_type": "code",
      "execution_count": 10,
      "metadata": {
        "id": "zpN6S4aWsKcF",
        "colab": {
          "base_uri": "https://localhost:8080/"
        },
        "outputId": "966fc8b4-0fdd-44f9-df24-d8ee12d85219"
      },
      "outputs": [
        {
          "output_type": "stream",
          "name": "stdout",
          "text": [
            "Downloading data from https://storage.googleapis.com/keras-applications/efficientnetb0_notop.h5\n",
            "16705208/16705208 [==============================] - 2s 0us/step\n"
          ]
        }
      ],
      "source": [
        "from keras.src.engine.sequential import training\n",
        "base_model = tf.keras.applications.EfficientNetB0(include_top=False)\n",
        "base_model.trainable = False\n",
        "\n",
        "inputs = tf.keras.Input(shape=(224, 224, 3), name='input_layer')\n",
        "x = data_augmentation(inputs)\n",
        "x = base_model(x, training=False)\n",
        "x = tf.keras.layers.GlobalAveragePooling2D()(x)\n",
        "outputs = tf.keras.layers.Dense(101, activation='softmax', name='output_layer')(x)\n",
        "\n",
        "food_model = tf.keras.Model(inputs, outputs)\n",
        "\n",
        "food_model.compile(loss='categorical_crossentropy',\n",
        "                   optimizer=tf.keras.optimizers.Adam(),\n",
        "                   metrics='accuracy')"
      ]
    },
    {
      "cell_type": "code",
      "execution_count": 11,
      "metadata": {
        "colab": {
          "base_uri": "https://localhost:8080/"
        },
        "id": "0UiMzqUCxrpC",
        "outputId": "e6a40183-11db-4c53-c318-0249662551df"
      },
      "outputs": [
        {
          "output_type": "stream",
          "name": "stdout",
          "text": [
            "Model: \"model\"\n",
            "_________________________________________________________________\n",
            " Layer (type)                Output Shape              Param #   \n",
            "=================================================================\n",
            " input_layer (InputLayer)    [(None, 224, 224, 3)]     0         \n",
            "                                                                 \n",
            " data_augmentation (Sequent  (None, None, None, 3)     0         \n",
            " ial)                                                            \n",
            "                                                                 \n",
            " efficientnetb0 (Functional  (None, None, None, 1280   4049571   \n",
            " )                           )                                   \n",
            "                                                                 \n",
            " global_average_pooling2d (  (None, 1280)              0         \n",
            " GlobalAveragePooling2D)                                         \n",
            "                                                                 \n",
            " output_layer (Dense)        (None, 101)               129381    \n",
            "                                                                 \n",
            "=================================================================\n",
            "Total params: 4178952 (15.94 MB)\n",
            "Trainable params: 129381 (505.39 KB)\n",
            "Non-trainable params: 4049571 (15.45 MB)\n",
            "_________________________________________________________________\n"
          ]
        }
      ],
      "source": [
        "food_model.summary()"
      ]
    },
    {
      "cell_type": "code",
      "execution_count": 12,
      "metadata": {
        "colab": {
          "base_uri": "https://localhost:8080/"
        },
        "id": "_jWlzgI1tX3u",
        "outputId": "eff7800a-29de-4bca-8b47-58ea9d3d2fcd"
      },
      "outputs": [
        {
          "output_type": "stream",
          "name": "stdout",
          "text": [
            "Epoch 1/5\n",
            "237/237 [==============================] - 160s 611ms/step - loss: 3.3572 - accuracy: 0.2789 - val_loss: 2.3026 - val_accuracy: 0.4796\n",
            "Epoch 2/5\n",
            "237/237 [==============================] - 120s 507ms/step - loss: 2.1992 - accuracy: 0.4954 - val_loss: 1.8812 - val_accuracy: 0.5331\n",
            "Epoch 3/5\n",
            "237/237 [==============================] - 110s 464ms/step - loss: 1.8095 - accuracy: 0.5686 - val_loss: 1.7170 - val_accuracy: 0.5575\n",
            "Epoch 4/5\n",
            "237/237 [==============================] - 114s 480ms/step - loss: 1.6066 - accuracy: 0.6121 - val_loss: 1.6418 - val_accuracy: 0.5683\n",
            "Epoch 5/5\n",
            "237/237 [==============================] - 103s 433ms/step - loss: 1.4334 - accuracy: 0.6506 - val_loss: 1.5968 - val_accuracy: 0.5770\n"
          ]
        }
      ],
      "source": [
        "food_model_history = food_model.fit(train_data_all_10_percent,\n",
        "                                    epochs=5,\n",
        "                                    validation_data=test_data_all_10_percent,\n",
        "                                    validation_split=int(0.15*len(test_data_all_10_percent)),\n",
        "                                    callbacks=checkpoint)"
      ]
    },
    {
      "cell_type": "code",
      "execution_count": 13,
      "metadata": {
        "colab": {
          "base_uri": "https://localhost:8080/"
        },
        "id": "pcFVWvVdyueL",
        "outputId": "dcfe4649-0d39-49e9-8e57-ff0630c5a89e"
      },
      "outputs": [
        {
          "output_type": "stream",
          "name": "stdout",
          "text": [
            "790/790 [==============================] - 57s 72ms/step - loss: 1.5968 - accuracy: 0.5770\n"
          ]
        },
        {
          "output_type": "execute_result",
          "data": {
            "text/plain": [
              "[1.5967624187469482, 0.5770297050476074]"
            ]
          },
          "metadata": {},
          "execution_count": 13
        }
      ],
      "source": [
        "food_model_results = food_model.evaluate(test_data_all_10_percent)\n",
        "food_model_results"
      ]
    },
    {
      "cell_type": "code",
      "execution_count": 16,
      "metadata": {
        "colab": {
          "base_uri": "https://localhost:8080/",
          "height": 927
        },
        "id": "yg0o0KZT4qhk",
        "outputId": "1fdcdcb0-969f-4d4f-aa38-2d5c6e532c54"
      },
      "outputs": [
        {
          "output_type": "display_data",
          "data": {
            "text/plain": [
              "<Figure size 640x480 with 1 Axes>"
            ],
            "image/png": "[encoded data removed]"
          },
          "metadata": {}
        },
        {
          "output_type": "display_data",
          "data": {
            "text/plain": [
              "<Figure size 640x480 with 1 Axes>"
            ],
            "image/png": "[encoded data removed]"
          },
          "metadata": {}
        }
      ],
      "source": [
        "plot_loss_curves(food_model_history)"
      ]
    },
    {
      "cell_type": "code",
      "source": [
        "# Fine-tuning\n",
        "\n",
        "base_model.trainable = True\n",
        "\n",
        "for layer in base_model.layers[:-5]:\n",
        "  layer.trainable = False\n",
        "\n",
        "food_model.compile(loss='categorical_crossentropy',\n",
        "                   optimizer=tf.keras.optimizers.Adam(learning_rate=0.0001),\n",
        "                   metrics='accuracy')"
      ],
      "metadata": {
        "id": "4djIRY_o3Ewm"
      },
      "execution_count": 34,
      "outputs": []
    },
    {
      "cell_type": "code",
      "source": [
        "fine_tuned_food_model_history = food_model.fit(train_data_all_10_percent,\n",
        "                                               epochs=5,\n",
        "                                               validation_data=test_data_all_10_percent,\n",
        "                                               validation_split=int(0.15*len(test_data_all_10_percent)))"
      ],
      "metadata": {
        "colab": {
          "base_uri": "https://localhost:8080/"
        },
        "id": "G4hfuHEA3dRC",
        "outputId": "2af149c4-0519-40bb-9107-afd5ae32523f"
      },
      "execution_count": 36,
      "outputs": [
        {
          "output_type": "stream",
          "name": "stdout",
          "text": [
            "Epoch 1/5\n",
            "237/237 [==============================] - 106s 419ms/step - loss: 1.2011 - accuracy: 0.6869 - val_loss: 1.5260 - val_accuracy: 0.5901\n",
            "Epoch 2/5\n",
            "237/237 [==============================] - 97s 408ms/step - loss: 1.0854 - accuracy: 0.7083 - val_loss: 1.5152 - val_accuracy: 0.5929\n",
            "Epoch 3/5\n",
            "237/237 [==============================] - 93s 389ms/step - loss: 1.0083 - accuracy: 0.7317 - val_loss: 1.5319 - val_accuracy: 0.5910\n",
            "Epoch 4/5\n",
            "237/237 [==============================] - 93s 391ms/step - loss: 0.9514 - accuracy: 0.7415 - val_loss: 1.5055 - val_accuracy: 0.5979\n",
            "Epoch 5/5\n",
            "237/237 [==============================] - 92s 387ms/step - loss: 0.8785 - accuracy: 0.7626 - val_loss: 1.5124 - val_accuracy: 0.5971\n"
          ]
        }
      ]
    },
    {
      "cell_type": "code",
      "source": [],
      "metadata": {
        "id": "FLbyX1YE6ORy"
      },
      "execution_count": null,
      "outputs": []
    }
  ],
  "metadata": {
    "accelerator": "GPU",
    "colab": {
      "provenance": [],
      "authorship_tag": "ABX9TyP+FbLc8/TYBDmlHUn0cMKp",
      "include_colab_link": true
    },
    "kernelspec": {
      "display_name": "Python 3",
      "name": "python3"
    },
    "language_info": {
      "name": "python"
    }
  },
  "nbformat": 4,
  "nbformat_minor": 0
}
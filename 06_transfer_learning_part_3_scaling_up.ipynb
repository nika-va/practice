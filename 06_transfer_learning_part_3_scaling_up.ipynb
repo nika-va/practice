{
  "cells": [
    {
      "cell_type": "markdown",
      "metadata": {
        "id": "view-in-github",
        "colab_type": "text"
      },
      "source": [
        "<a href=\"https://colab.research.google.com/github/nika-va/practice/blob/main/06_transfer_learning_part_3_scaling_up.ipynb\" target=\"_parent\"><img src=\"https://colab.research.google.com/assets/colab-badge.svg\" alt=\"Open In Colab\"/></a>"
      ]
    },
    {
      "cell_type": "code",
      "execution_count": 1,
      "metadata": {
        "colab": {
          "base_uri": "https://localhost:8080/"
        },
        "id": "dZDyxr3KkUhf",
        "outputId": "25415f7e-2b5e-4482-c182-b8d2b4c36432"
      },
      "outputs": [
        {
          "output_type": "stream",
          "name": "stdout",
          "text": [
            "Fri Oct  6 11:05:19 2023       \n",
            "+-----------------------------------------------------------------------------+\n",
            "| NVIDIA-SMI 525.105.17   Driver Version: 525.105.17   CUDA Version: 12.0     |\n",
            "|-------------------------------+----------------------+----------------------+\n",
            "| GPU  Name        Persistence-M| Bus-Id        Disp.A | Volatile Uncorr. ECC |\n",
            "| Fan  Temp  Perf  Pwr:Usage/Cap|         Memory-Usage | GPU-Util  Compute M. |\n",
            "|                               |                      |               MIG M. |\n",
            "|===============================+======================+======================|\n",
            "|   0  Tesla T4            Off  | 00000000:00:04.0 Off |                    0 |\n",
            "| N/A   57C    P8    10W /  70W |      0MiB / 15360MiB |      0%      Default |\n",
            "|                               |                      |                  N/A |\n",
            "+-------------------------------+----------------------+----------------------+\n",
            "                                                                               \n",
            "+-----------------------------------------------------------------------------+\n",
            "| Processes:                                                                  |\n",
            "|  GPU   GI   CI        PID   Type   Process name                  GPU Memory |\n",
            "|        ID   ID                                                   Usage      |\n",
            "|=============================================================================|\n",
            "|  No running processes found                                                 |\n",
            "+-----------------------------------------------------------------------------+\n"
          ]
        }
      ],
      "source": [
        "!nvidia-smi"
      ]
    },
    {
      "cell_type": "code",
      "execution_count": 2,
      "metadata": {
        "colab": {
          "base_uri": "https://localhost:8080/"
        },
        "id": "g_uuqjwOlC5f",
        "outputId": "4999c9aa-6cb7-4223-8330-b1aa9a794cb3"
      },
      "outputs": [
        {
          "output_type": "stream",
          "name": "stdout",
          "text": [
            "--2023-10-06 11:05:19--  https://raw.githubusercontent.com/mrdbourke/tensorflow-deep-learning/main/extras/helper_functions.py\n",
            "Resolving raw.githubusercontent.com (raw.githubusercontent.com)... 185.199.110.133, 185.199.109.133, 185.199.111.133, ...\n",
            "Connecting to raw.githubusercontent.com (raw.githubusercontent.com)|185.199.110.133|:443... connected.\n",
            "HTTP request sent, awaiting response... 200 OK\n",
            "Length: 10246 (10K) [text/plain]\n",
            "Saving to: ‘helper_functions.py’\n",
            "\n",
            "helper_functions.py 100%[===================>]  10.01K  --.-KB/s    in 0s      \n",
            "\n",
            "2023-10-06 11:05:19 (102 MB/s) - ‘helper_functions.py’ saved [10246/10246]\n",
            "\n"
          ]
        }
      ],
      "source": [
        "!wget https://raw.githubusercontent.com/mrdbourke/tensorflow-deep-learning/main/extras/helper_functions.py"
      ]
    },
    {
      "cell_type": "code",
      "execution_count": 3,
      "metadata": {
        "id": "UWu7FL5_ldCa"
      },
      "outputs": [],
      "source": [
        "from helper_functions import create_tensorboard_callback, plot_loss_curves, unzip_data, compare_historys, walk_through_dir"
      ]
    },
    {
      "cell_type": "code",
      "execution_count": 4,
      "metadata": {
        "colab": {
          "base_uri": "https://localhost:8080/"
        },
        "id": "q_elV9H3l3xO",
        "outputId": "e88d4dac-2c56-4962-9554-63322df7e925"
      },
      "outputs": [
        {
          "output_type": "stream",
          "name": "stdout",
          "text": [
            "--2023-10-06 11:05:23--  https://storage.googleapis.com/ztm_tf_course/food_vision/101_food_classes_10_percent.zip\n",
            "Resolving storage.googleapis.com (storage.googleapis.com)... 74.125.201.207, 74.125.202.207, 74.125.69.207, ...\n",
            "Connecting to storage.googleapis.com (storage.googleapis.com)|74.125.201.207|:443... connected.\n",
            "HTTP request sent, awaiting response... 200 OK\n",
            "Length: 1625420029 (1.5G) [application/zip]\n",
            "Saving to: ‘101_food_classes_10_percent.zip’\n",
            "\n",
            "101_food_classes_10 100%[===================>]   1.51G   215MB/s    in 9.8s    \n",
            "\n",
            "2023-10-06 11:05:33 (158 MB/s) - ‘101_food_classes_10_percent.zip’ saved [1625420029/1625420029]\n",
            "\n"
          ]
        }
      ],
      "source": [
        "!wget https://storage.googleapis.com/ztm_tf_course/food_vision/101_food_classes_10_percent.zip\n",
        "unzip_data('101_food_classes_10_percent.zip')"
      ]
    },
    {
      "cell_type": "code",
      "execution_count": 5,
      "metadata": {
        "id": "ndGsrhwDmb33"
      },
      "outputs": [],
      "source": [
        "train_dir = '101_food_classes_10_percent/train'\n",
        "test_dir = '101_food_classes_10_percent/test'"
      ]
    },
    {
      "cell_type": "code",
      "execution_count": 6,
      "metadata": {
        "id": "C6KcreOUnInc"
      },
      "outputs": [],
      "source": [
        "# walk_through_dir('101_food_classes_10_percent')"
      ]
    },
    {
      "cell_type": "code",
      "execution_count": 7,
      "metadata": {
        "colab": {
          "base_uri": "https://localhost:8080/"
        },
        "id": "9P3eczionW7h",
        "outputId": "bcfb1130-f4ab-4a17-a35f-0e9c9438cba5"
      },
      "outputs": [
        {
          "output_type": "stream",
          "name": "stdout",
          "text": [
            "Found 7575 files belonging to 101 classes.\n",
            "Found 25250 files belonging to 101 classes.\n"
          ]
        }
      ],
      "source": [
        "import tensorflow as tf\n",
        "IMG_SIZE = (224, 224)\n",
        "BATCH_SIZE = 32\n",
        "train_data_all_10_percent = tf.keras.preprocessing.image_dataset_from_directory(train_dir,\n",
        "                                                                                label_mode='categorical',\n",
        "                                                                                batch_size=BATCH_SIZE,\n",
        "                                                                                image_size=IMG_SIZE)\n",
        "test_data_all_10_percent = tf.keras.preprocessing.image_dataset_from_directory(test_dir,\n",
        "                                                                                label_mode='categorical',\n",
        "                                                                                batch_size=BATCH_SIZE,\n",
        "                                                                                image_size=IMG_SIZE,\n",
        "                                                                                shuffle=False)"
      ]
    },
    {
      "cell_type": "code",
      "execution_count": 8,
      "metadata": {
        "id": "55iU6CQFob1j"
      },
      "outputs": [],
      "source": [
        "checkpoint_path = 'food101_checkpoint/checkpoint.ckpt'\n",
        "checkpoint = tf.keras.callbacks.ModelCheckpoint(filepath=checkpoint_path,\n",
        "                                                save_weights_only=True,\n",
        "                                                monitor='val_accuracy',\n",
        "                                                save_best_only=True)"
      ]
    },
    {
      "cell_type": "code",
      "execution_count": 9,
      "metadata": {
        "id": "kV42D6EqqXMv"
      },
      "outputs": [],
      "source": [
        "import tensorflow as tf\n",
        "data_augmentation = tf.keras.Sequential([\n",
        "    # tf.keras.layers.Rescaling(1/255.),\n",
        "    tf.keras.layers.RandomFlip('horizontal'),\n",
        "    tf.keras.layers.RandomRotation(0.2),\n",
        "    tf.keras.layers.RandomHeight(0.2),\n",
        "    tf.keras.layers.RandomWidth(0.2),\n",
        "    tf.keras.layers.RandomZoom(0.2)\n",
        "], name='data_augmentation')"
      ]
    },
    {
      "cell_type": "code",
      "execution_count": 10,
      "metadata": {
        "id": "zpN6S4aWsKcF",
        "colab": {
          "base_uri": "https://localhost:8080/"
        },
        "outputId": "8095c43d-dc86-467f-8e38-4aeff8ad1da2"
      },
      "outputs": [
        {
          "output_type": "stream",
          "name": "stdout",
          "text": [
            "Downloading data from https://storage.googleapis.com/keras-applications/efficientnetb0_notop.h5\n",
            "16705208/16705208 [==============================] - 0s 0us/step\n"
          ]
        }
      ],
      "source": [
        "from keras.src.engine.sequential import training\n",
        "base_model = tf.keras.applications.EfficientNetB0(include_top=False)\n",
        "base_model.trainable = False\n",
        "\n",
        "inputs = tf.keras.Input(shape=(224, 224, 3), name='input_layer')\n",
        "x = data_augmentation(inputs)\n",
        "x = base_model(x, training=False)\n",
        "x = tf.keras.layers.GlobalAveragePooling2D()(x)\n",
        "outputs = tf.keras.layers.Dense(101, activation='softmax', name='output_layer')(x)\n",
        "\n",
        "food_model = tf.keras.Model(inputs, outputs)\n",
        "\n",
        "food_model.compile(loss='categorical_crossentropy',\n",
        "                   optimizer=tf.keras.optimizers.Adam(),\n",
        "                   metrics='accuracy')"
      ]
    },
    {
      "cell_type": "code",
      "execution_count": 11,
      "metadata": {
        "colab": {
          "base_uri": "https://localhost:8080/"
        },
        "id": "0UiMzqUCxrpC",
        "outputId": "9386ffc7-81d0-4719-e53a-aac4010f1d18"
      },
      "outputs": [
        {
          "output_type": "stream",
          "name": "stdout",
          "text": [
            "Model: \"model\"\n",
            "_________________________________________________________________\n",
            " Layer (type)                Output Shape              Param #   \n",
            "=================================================================\n",
            " input_layer (InputLayer)    [(None, 224, 224, 3)]     0         \n",
            "                                                                 \n",
            " data_augmentation (Sequent  (None, None, None, 3)     0         \n",
            " ial)                                                            \n",
            "                                                                 \n",
            " efficientnetb0 (Functional  (None, None, None, 1280   4049571   \n",
            " )                           )                                   \n",
            "                                                                 \n",
            " global_average_pooling2d (  (None, 1280)              0         \n",
            " GlobalAveragePooling2D)                                         \n",
            "                                                                 \n",
            " output_layer (Dense)        (None, 101)               129381    \n",
            "                                                                 \n",
            "=================================================================\n",
            "Total params: 4178952 (15.94 MB)\n",
            "Trainable params: 129381 (505.39 KB)\n",
            "Non-trainable params: 4049571 (15.45 MB)\n",
            "_________________________________________________________________\n"
          ]
        }
      ],
      "source": [
        "food_model.summary()"
      ]
    },
    {
      "cell_type": "code",
      "execution_count": 12,
      "metadata": {
        "colab": {
          "base_uri": "https://localhost:8080/"
        },
        "id": "_jWlzgI1tX3u",
        "outputId": "da274e27-6ca9-4134-a0fe-c6a4046319e3"
      },
      "outputs": [
        {
          "output_type": "stream",
          "name": "stdout",
          "text": [
            "Epoch 1/5\n",
            "237/237 [==============================] - 165s 627ms/step - loss: 3.3781 - accuracy: 0.2718 - val_loss: 2.3097 - val_accuracy: 0.4777\n",
            "Epoch 2/5\n",
            "237/237 [==============================] - 123s 519ms/step - loss: 2.2035 - accuracy: 0.4969 - val_loss: 1.8854 - val_accuracy: 0.5369\n",
            "Epoch 3/5\n",
            "237/237 [==============================] - 113s 477ms/step - loss: 1.8248 - accuracy: 0.5646 - val_loss: 1.7159 - val_accuracy: 0.5627\n",
            "Epoch 4/5\n",
            "237/237 [==============================] - 106s 445ms/step - loss: 1.6089 - accuracy: 0.6100 - val_loss: 1.6422 - val_accuracy: 0.5714\n",
            "Epoch 5/5\n",
            "237/237 [==============================] - 103s 436ms/step - loss: 1.4555 - accuracy: 0.6461 - val_loss: 1.5974 - val_accuracy: 0.5781\n"
          ]
        }
      ],
      "source": [
        "food_model_history = food_model.fit(train_data_all_10_percent,\n",
        "                                    epochs=5,\n",
        "                                    validation_data=test_data_all_10_percent,\n",
        "                                    validation_split=int(0.15*len(test_data_all_10_percent)),\n",
        "                                    callbacks=checkpoint)"
      ]
    },
    {
      "cell_type": "code",
      "execution_count": 13,
      "metadata": {
        "colab": {
          "base_uri": "https://localhost:8080/"
        },
        "id": "pcFVWvVdyueL",
        "outputId": "a1ab0d94-cdfd-422c-9107-5fd779c6859f"
      },
      "outputs": [
        {
          "output_type": "stream",
          "name": "stdout",
          "text": [
            "790/790 [==============================] - 58s 73ms/step - loss: 1.5974 - accuracy: 0.5781\n"
          ]
        },
        {
          "output_type": "execute_result",
          "data": {
            "text/plain": [
              "[1.5974162817001343, 0.5781385898590088]"
            ]
          },
          "metadata": {},
          "execution_count": 13
        }
      ],
      "source": [
        "food_model_results = food_model.evaluate(test_data_all_10_percent)\n",
        "food_model_results"
      ]
    },
    {
      "cell_type": "code",
      "execution_count": 14,
      "metadata": {
        "colab": {
          "base_uri": "https://localhost:8080/",
          "height": 927
        },
        "id": "yg0o0KZT4qhk",
        "outputId": "2605ff6e-d57e-40fa-b6d2-3118b9c3d5d0"
      },
      "outputs": [
        {
          "output_type": "display_data",
          "data": {
            "text/plain": [
              "<Figure size 640x480 with 1 Axes>"
            ],
            "image/png": "[encoded data removed]"
          },
          "metadata": {}
        },
        {
          "output_type": "display_data",
          "data": {
            "text/plain": [
              "<Figure size 640x480 with 1 Axes>"
            ],
            "image/png": "[encoded data removed]"
          },
          "metadata": {}
        }
      ],
      "source": [
        "plot_loss_curves(food_model_history)"
      ]
    },
    {
      "cell_type": "code",
      "source": [
        "# Fine-tuning\n",
        "\n",
        "base_model.trainable = True\n",
        "\n",
        "for layer in base_model.layers[:-5]:\n",
        "  layer.trainable = False\n",
        "\n",
        "food_model.compile(loss='categorical_crossentropy',\n",
        "                   optimizer=tf.keras.optimizers.Adam(learning_rate=0.0001),\n",
        "                   metrics='accuracy')"
      ],
      "metadata": {
        "id": "4djIRY_o3Ewm"
      },
      "execution_count": 15,
      "outputs": []
    },
    {
      "cell_type": "code",
      "source": [
        "fine_tuned_food_model_history = food_model.fit(train_data_all_10_percent,\n",
        "                                               epochs=5,\n",
        "                                               validation_data=test_data_all_10_percent,\n",
        "                                               validation_split=int(0.15*len(test_data_all_10_percent)))"
      ],
      "metadata": {
        "colab": {
          "base_uri": "https://localhost:8080/"
        },
        "id": "G4hfuHEA3dRC",
        "outputId": "51a76994-3be0-478f-a363-d282f9bd9874"
      },
      "execution_count": 16,
      "outputs": [
        {
          "output_type": "stream",
          "name": "stdout",
          "text": [
            "Epoch 1/5\n",
            "237/237 [==============================] - 116s 445ms/step - loss: 1.2130 - accuracy: 0.6809 - val_loss: 1.5251 - val_accuracy: 0.5892\n",
            "Epoch 2/5\n",
            "237/237 [==============================] - 101s 424ms/step - loss: 1.1006 - accuracy: 0.7069 - val_loss: 1.5150 - val_accuracy: 0.5933\n",
            "Epoch 3/5\n",
            "237/237 [==============================] - 98s 413ms/step - loss: 1.0224 - accuracy: 0.7287 - val_loss: 1.5028 - val_accuracy: 0.5968\n",
            "Epoch 4/5\n",
            "237/237 [==============================] - 97s 410ms/step - loss: 0.9535 - accuracy: 0.7448 - val_loss: 1.5151 - val_accuracy: 0.5946\n",
            "Epoch 5/5\n",
            "237/237 [==============================] - 93s 393ms/step - loss: 0.8891 - accuracy: 0.7578 - val_loss: 1.5119 - val_accuracy: 0.5973\n"
          ]
        }
      ]
    },
    {
      "cell_type": "code",
      "source": [
        "food_model.evaluate(test_data_all_10_percent)"
      ],
      "metadata": {
        "id": "tJGybN4zxyGD",
        "outputId": "386d6124-b77f-4d1b-8531-aba15393a601",
        "colab": {
          "base_uri": "https://localhost:8080/"
        }
      },
      "execution_count": 23,
      "outputs": [
        {
          "output_type": "stream",
          "name": "stdout",
          "text": [
            "790/790 [==============================] - 62s 79ms/step - loss: 1.5119 - accuracy: 0.5973\n"
          ]
        },
        {
          "output_type": "execute_result",
          "data": {
            "text/plain": [
              "[1.5119106769561768, 0.5973465442657471]"
            ]
          },
          "metadata": {},
          "execution_count": 23
        }
      ]
    },
    {
      "cell_type": "code",
      "source": [
        "food_model.save('drive/MyDrive/101_food_classes_model')"
      ],
      "metadata": {
        "id": "FLbyX1YE6ORy"
      },
      "execution_count": 21,
      "outputs": []
    },
    {
      "cell_type": "code",
      "source": [
        "loaded_model = tf.keras.models.load_model('drive/MyDrive/101_food_classes_model')"
      ],
      "metadata": {
        "id": "5swdfj2Dv6Fy"
      },
      "execution_count": 22,
      "outputs": []
    },
    {
      "cell_type": "code",
      "source": [
        "loaded_model_results = loaded_model.evaluate(test_data_all_10_percent)\n",
        "loaded_model_results"
      ],
      "metadata": {
        "id": "-HO4UZIhxt9t",
        "outputId": "b39b9a0c-90bf-4c41-c9ac-13347ae9cc85",
        "colab": {
          "base_uri": "https://localhost:8080/"
        }
      },
      "execution_count": 25,
      "outputs": [
        {
          "output_type": "stream",
          "name": "stdout",
          "text": [
            "790/790 [==============================] - 61s 77ms/step - loss: 1.5119 - accuracy: 0.5973\n"
          ]
        },
        {
          "output_type": "execute_result",
          "data": {
            "text/plain": [
              "[1.5119106769561768, 0.5973465442657471]"
            ]
          },
          "metadata": {},
          "execution_count": 25
        }
      ]
    },
    {
      "cell_type": "code",
      "source": [
        "import tensorflow as tf"
      ],
      "metadata": {
        "id": "PQAitsT9yh0W"
      },
      "execution_count": 26,
      "outputs": []
    },
    {
      "cell_type": "code",
      "source": [],
      "metadata": {
        "id": "vRCIYCn9zlv2"
      },
      "execution_count": null,
      "outputs": []
    }
  ],
  "metadata": {
    "accelerator": "GPU",
    "colab": {
      "provenance": [],
      "include_colab_link": true
    },
    "kernelspec": {
      "display_name": "Python 3",
      "name": "python3"
    },
    "language_info": {
      "name": "python"
    }
  },
  "nbformat": 4,
  "nbformat_minor": 0
}